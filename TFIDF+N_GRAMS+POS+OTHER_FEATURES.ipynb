{
  "nbformat": 4,
  "nbformat_minor": 0,
  "metadata": {
    "colab": {
      "name": "TFIDF+N_GRAMS+POS+OTHER_FEATURES.ipynb",
      "provenance": [],
      "collapsed_sections": [],
      "toc_visible": true
    },
    "kernelspec": {
      "display_name": "Python 3",
      "name": "python3"
    }
  },
  "cells": [
    {
      "cell_type": "markdown",
      "metadata": {
        "id": "XlAXg84FIV-Z"
      },
      "source": [
        "<a href=\"https://colab.research.google.com/github/sergiobm3/ESI_MachineLearning/blob/NLP/TFIDF%2BN_GRAMS%2BPOS%2BOTHER_FEATURES.ipynb\" target=\"_parent\"><img src=\"https://colab.research.google.com/assets/colab-badge.svg\" alt=\"Open In Colab\"/></a>\r\n",
        "\r\n",
        "# 0. Introduction\r\n",
        "\r\n",
        "In this notebook we will work with the following configuration when doing vectorization: **TFIDF + N-grams + POS Tagging + Other features**\r\n",
        "\r\n",
        "The objective of this notebook is to classify the tweets *(pre-processed)* by applying various classification algorithms to the vectorized data."
      ]
    },
    {
      "cell_type": "markdown",
      "metadata": {
        "id": "WWfELsYzIaqq"
      },
      "source": [
        "## Libraries"
      ]
    },
    {
      "cell_type": "code",
      "metadata": {
        "id": "EmNVisjhv2oV"
      },
      "source": [
        "import io\n",
        "import pandas as pd\n",
        "from google.colab import files\n",
        "import re\n",
        "import numpy as np\n",
        "\n",
        "from ast import literal_eval\n",
        "import nltk\n",
        "from sklearn.utils.multiclass import unique_labels\n",
        "from sklearn.feature_extraction.text import TfidfVectorizer\n",
        "from sklearn.feature_selection import SelectKBest, chi2, f_regression, mutual_info_classif\n",
        "from sklearn.model_selection import train_test_split\n",
        "\n",
        "from sklearn.neighbors import KNeighborsClassifier\n",
        "from sklearn.naive_bayes import GaussianNB, MultinomialNB, BernoulliNB, ComplementNB\n",
        "from sklearn.metrics import confusion_matrix\n",
        "import matplotlib.pyplot as plt\n",
        "from sklearn.metrics import accuracy_score\n",
        "from sklearn.metrics import classification_report\n",
        "\n",
        "from nltk.tokenize.treebank import TreebankWordDetokenizer"
      ],
      "execution_count": null,
      "outputs": []
    },
    {
      "cell_type": "markdown",
      "metadata": {
        "id": "d9-uS5d_dJZE"
      },
      "source": [
        "## 1. Loading Data\r\n",
        "\r\n",
        "We start by loading the data file that contains the preprocessing tweets with which the study will work. The file format to upload is CSV.\r\n",
        "\r\n",
        "For this purpose, you must have the *preprocessed_data.csv* file loaded in this notebook."
      ]
    },
    {
      "cell_type": "code",
      "metadata": {
        "colab": {
          "resources": {
            "http://localhost:8080/nbextensions/google.colab/files.js": {
              "data": "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",
              "ok": true,
              "headers": [
                [
                  "content-type",
                  "application/javascript"
                ]
              ],
              "status": 200,
              "status_text": ""
            }
          },
          "base_uri": "https://localhost:8080/",
          "height": 491
        },
        "id": "s7muMGF_CQve",
        "outputId": "98ec8e66-f8df-4d3a-ecd9-2acd32275c91"
      },
      "source": [
        "df = pd.read_csv('./prepocessed_data.csv', sep=',')\n",
        "\n",
        "with_e = []\n",
        "without_e = []\n",
        "for i in range(0,len(df)):\n",
        "  without_e.append(literal_eval(df.iloc[i]['preprocessing_without_emoticons']))\n",
        "  with_e.append(literal_eval(df.iloc[i]['preprocessing_with_emoticons']))\n",
        "\n",
        "df['preprocessing_without_emoticons'] = without_e\n",
        "df['preprocessing_with_emoticons'] = with_e\n",
        "df = df.drop(columns=['Unnamed: 0'])\n",
        "df"
      ],
      "execution_count": null,
      "outputs": [
        {
          "output_type": "display_data",
          "data": {
            "text/html": [
              "\n",
              "     <input type=\"file\" id=\"files-fe595d4b-5c60-46af-9032-0c876ca69866\" name=\"files[]\" multiple disabled\n",
              "        style=\"border:none\" />\n",
              "     <output id=\"result-fe595d4b-5c60-46af-9032-0c876ca69866\">\n",
              "      Upload widget is only available when the cell has been executed in the\n",
              "      current browser session. Please rerun this cell to enable.\n",
              "      </output>\n",
              "      <script src=\"/nbextensions/google.colab/files.js\"></script> "
            ],
            "text/plain": [
              "<IPython.core.display.HTML object>"
            ]
          },
          "metadata": {
            "tags": []
          }
        },
        {
          "output_type": "stream",
          "text": [
            "Saving prepocessed_data.csv to prepocessed_data.csv\n",
            "User uploaded file \"prepocessed_data.csv\" with length 5410993 bytes\n"
          ],
          "name": "stdout"
        },
        {
          "output_type": "execute_result",
          "data": {
            "text/html": [
              "<div>\n",
              "<style scoped>\n",
              "    .dataframe tbody tr th:only-of-type {\n",
              "        vertical-align: middle;\n",
              "    }\n",
              "\n",
              "    .dataframe tbody tr th {\n",
              "        vertical-align: top;\n",
              "    }\n",
              "\n",
              "    .dataframe thead th {\n",
              "        text-align: right;\n",
              "    }\n",
              "</style>\n",
              "<table border=\"1\" class=\"dataframe\">\n",
              "  <thead>\n",
              "    <tr style=\"text-align: right;\">\n",
              "      <th></th>\n",
              "      <th>preprocessing_without_emoticons</th>\n",
              "      <th>preprocessing_with_emoticons</th>\n",
              "      <th>class</th>\n",
              "    </tr>\n",
              "  </thead>\n",
              "  <tbody>\n",
              "    <tr>\n",
              "      <th>0</th>\n",
              "      <td>[a, a, woman, you, should, not, complain, abou...</td>\n",
              "      <td>[a, a, woman, you, should, not, complain, abou...</td>\n",
              "      <td>2</td>\n",
              "    </tr>\n",
              "    <tr>\n",
              "      <th>1</th>\n",
              "      <td>[boy, day, cold, tea, down, bad, for, coffin, ...</td>\n",
              "      <td>[boy, day, cold, tea, down, bad, for, coffin, ...</td>\n",
              "      <td>1</td>\n",
              "    </tr>\n",
              "    <tr>\n",
              "      <th>2</th>\n",
              "      <td>[dawn, you, ever, fuck, a, bitch, and, she, st...</td>\n",
              "      <td>[dawn, !, !, !, you, ever, fuck, a, bitch, and...</td>\n",
              "      <td>1</td>\n",
              "    </tr>\n",
              "    <tr>\n",
              "      <th>3</th>\n",
              "      <td>[she, look, like, a, tranny]</td>\n",
              "      <td>[she, look, like, a, tranny]</td>\n",
              "      <td>1</td>\n",
              "    </tr>\n",
              "    <tr>\n",
              "      <th>4</th>\n",
              "      <td>[the, shit, you, hear, about, me, might, be, t...</td>\n",
              "      <td>[the, shit, you, hear, about, me, might, be, t...</td>\n",
              "      <td>1</td>\n",
              "    </tr>\n",
              "    <tr>\n",
              "      <th>...</th>\n",
              "      <td>...</td>\n",
              "      <td>...</td>\n",
              "      <td>...</td>\n",
              "    </tr>\n",
              "    <tr>\n",
              "      <th>24778</th>\n",
              "      <td>[you, a, mutual, in, lie, right, his, to, is, ...</td>\n",
              "      <td>[you, a, mutual, in, lie, right, !, his, of, i...</td>\n",
              "      <td>1</td>\n",
              "    </tr>\n",
              "    <tr>\n",
              "      <th>24779</th>\n",
              "      <td>[you, have, gone, and, broke, the, wrong, hear...</td>\n",
              "      <td>[you, have, gone, and, broke, the, wrong, hear...</td>\n",
              "      <td>2</td>\n",
              "    </tr>\n",
              "    <tr>\n",
              "      <th>24780</th>\n",
              "      <td>[young, buck, anna, eat, dat, nigh, like, i, a...</td>\n",
              "      <td>[young, buck, anna, eat, !, !, dat, nigh, like...</td>\n",
              "      <td>1</td>\n",
              "    </tr>\n",
              "    <tr>\n",
              "      <th>24781</th>\n",
              "      <td>[you, got, wild, bitch, telling, you, lie]</td>\n",
              "      <td>[you, got, wild, bitch, telling, you, lie]</td>\n",
              "      <td>1</td>\n",
              "    </tr>\n",
              "    <tr>\n",
              "      <th>24782</th>\n",
              "      <td>[ruffled, near, eleven, dahlia, beautiful, col...</td>\n",
              "      <td>[ruffled, near, eleven, dahlia, beautiful, col...</td>\n",
              "      <td>2</td>\n",
              "    </tr>\n",
              "  </tbody>\n",
              "</table>\n",
              "<p>24783 rows × 3 columns</p>\n",
              "</div>"
            ],
            "text/plain": [
              "                         preprocessing_without_emoticons  ... class\n",
              "0      [a, a, woman, you, should, not, complain, abou...  ...     2\n",
              "1      [boy, day, cold, tea, down, bad, for, coffin, ...  ...     1\n",
              "2      [dawn, you, ever, fuck, a, bitch, and, she, st...  ...     1\n",
              "3                           [she, look, like, a, tranny]  ...     1\n",
              "4      [the, shit, you, hear, about, me, might, be, t...  ...     1\n",
              "...                                                  ...  ...   ...\n",
              "24778  [you, a, mutual, in, lie, right, his, to, is, ...  ...     1\n",
              "24779  [you, have, gone, and, broke, the, wrong, hear...  ...     2\n",
              "24780  [young, buck, anna, eat, dat, nigh, like, i, a...  ...     1\n",
              "24781         [you, got, wild, bitch, telling, you, lie]  ...     1\n",
              "24782  [ruffled, near, eleven, dahlia, beautiful, col...  ...     2\n",
              "\n",
              "[24783 rows x 3 columns]"
            ]
          },
          "metadata": {
            "tags": []
          },
          "execution_count": 2
        }
      ]
    },
    {
      "cell_type": "markdown",
      "metadata": {
        "id": "Tgzs8N1rF3A_"
      },
      "source": [
        "# 2. Vectorization\r\n",
        "\r\n",
        "When the tweets are preprocessed, we can start to obtain information from them.\r\n",
        "\r\n",
        "The goal of this section is to obtain a dataframe with all the information which will be used for the next one, in order to classify the tweets.\r\n"
      ]
    },
    {
      "cell_type": "markdown",
      "metadata": {
        "id": "8GVpS8gYsH7K"
      },
      "source": [
        "## TFIDF + N-grams\n",
        "\n",
        "In order to start using TFIDF, we will first have to create a TFIDFVectorizer.\n",
        "\n",
        "With Tfidfvectorizer you compute the word counts, idf and tf-idf values all at once. Three steps at once"
      ]
    },
    {
      "cell_type": "code",
      "metadata": {
        "id": "IZSByAr09npl"
      },
      "source": [
        "def identity_tokenizer(text):\n",
        "    return text\n",
        "\n",
        "vectorizer = TfidfVectorizer(tokenizer = identity_tokenizer,min_df=0.01, ngram_range= (1,3),lowercase=False)\n",
        "X_TFIDF = vectorizer.fit_transform(df['preprocessing_without_emoticons'])\n",
        "X_TFIDF"
      ],
      "execution_count": null,
      "outputs": []
    },
    {
      "cell_type": "markdown",
      "metadata": {
        "id": "g8MCwiYsQSFv"
      },
      "source": [
        "## POS tagging"
      ]
    },
    {
      "cell_type": "code",
      "metadata": {
        "id": "vVRaxFG2OM6E"
      },
      "source": [
        "nltk.download('averaged_perceptron_tagger')\n",
        "\n",
        "list_POS = []\n",
        "for tweet in df['preprocessing_without_emoticons']:\n",
        "  sentence = []\n",
        "  for sent in nltk.pos_tag(tweet):\n",
        "    sentence.append(sent[1])\n",
        "  list_POS.append(sentence)\n",
        "list_POS"
      ],
      "execution_count": null,
      "outputs": []
    },
    {
      "cell_type": "code",
      "metadata": {
        "id": "wowVOLH2Om_8"
      },
      "source": [
        "df['POS'] = list_POS"
      ],
      "execution_count": null,
      "outputs": []
    },
    {
      "cell_type": "code",
      "metadata": {
        "id": "5ucMnjMKOxOc"
      },
      "source": [
        "def detokenize(tokens):\n",
        "  return TreebankWordDetokenizer().detokenize(tokens)"
      ],
      "execution_count": null,
      "outputs": []
    },
    {
      "cell_type": "code",
      "metadata": {
        "id": "u_UktJaZO2vq"
      },
      "source": [
        "df['detokenized_POS'] = df['POS'].apply(detokenize)"
      ],
      "execution_count": null,
      "outputs": []
    },
    {
      "cell_type": "code",
      "metadata": {
        "id": "NKI20JEvPRUj"
      },
      "source": [
        "POSvectorizer = TfidfVectorizer(min_df=1)\n",
        "X_POS = POSvectorizer.fit_transform(df['detokenized_POS'])"
      ],
      "execution_count": null,
      "outputs": []
    },
    {
      "cell_type": "markdown",
      "metadata": {
        "id": "zdUCApcRvo6a"
      },
      "source": [
        "## Destokenizador\n",
        "\n",
        "To do the other features, we have chosen to put back all the tokens that make a sentence. We think that this will make the development of this process easier."
      ]
    },
    {
      "cell_type": "code",
      "metadata": {
        "id": "_-qfJa4BSbkk"
      },
      "source": [
        "df['tweets_detokenize_with_emoticon'] = df['preprocessing_with_emoticons'].apply(detokenize)"
      ],
      "execution_count": null,
      "outputs": []
    },
    {
      "cell_type": "code",
      "metadata": {
        "id": "dbEaqu8lSm2W",
        "colab": {
          "base_uri": "https://localhost:8080/"
        },
        "outputId": "53f010bc-f19e-4cf4-e705-6323bb36f8c2"
      },
      "source": [
        "df['tweets_detokenize_with_emoticon']"
      ],
      "execution_count": null,
      "outputs": [
        {
          "output_type": "execute_result",
          "data": {
            "text/plain": [
              "0        a a woman you should not complain about cleani...\n",
              "1        boy day cold tea down bad for coffin dat he in...\n",
              "2        dawn!!! you ever fuck a bitch and she start to...\n",
              "3                                   she look like a tranny\n",
              "4        the shit you hear about me might be true or it...\n",
              "                               ...                        \n",
              "24778    you a mutual in lie right! his of is trash now...\n",
              "24779    you have gone and broke the wrong heart baby a...\n",
              "24780    young buck anna eat!! dat nigh like i aunt fuc...\n",
              "24781                   you got wild bitch telling you lie\n",
              "24782    ruffled near eleven dahlia beautiful color com...\n",
              "Name: tweets_detokenize_with_emoticon, Length: 24783, dtype: object"
            ]
          },
          "metadata": {
            "tags": []
          },
          "execution_count": 12
        }
      ]
    },
    {
      "cell_type": "markdown",
      "metadata": {
        "id": "Nx6cUzm7DVTC"
      },
      "source": [
        "###Sentiment analisis\r\n",
        "\r\n",
        "Thanks to sentiment analysis we will identify and extract subjective characteristics from the tweets to be analyzed. To carry out this task, the VADER library will be used. VADER will return the following values:\r\n",
        "\r\n",
        "- Pos: The probability that the sentiment is positive.\r\n",
        "- Neu: The probability that the sentiment is neutral.\r\n",
        "- Neg: The probability that the sentiment is negative.\r\n",
        "- Compound: The normalized composite score that calculates the sum of all the scores, takes a value between -1 and 1."
      ]
    },
    {
      "cell_type": "code",
      "metadata": {
        "id": "6BBmKRofxEjP",
        "colab": {
          "base_uri": "https://localhost:8080/"
        },
        "outputId": "ff68064a-8865-4358-b9ff-88b53630bc79"
      },
      "source": [
        "nltk.download('vader_lexicon')\n",
        "from nltk.sentiment.vader import SentimentIntensityAnalyzer\n",
        "\n",
        "sentiment_analyzer  = SentimentIntensityAnalyzer() \n",
        "\n",
        "negative = []\n",
        "positive = []\n",
        "neutral = []\n",
        "compound = []\n",
        "\n",
        "for tweet in df['tweets_detokenize_with_emoticon']:\n",
        "  sentiment = sentiment_analyzer.polarity_scores(tweet)\n",
        "  negative.append(sentiment['neg'])\n",
        "  positive.append(sentiment['pos'])\n",
        "  neutral.append(sentiment['neu'])\n",
        "  compound.append(sentiment['compound'])\n",
        "  #aux_negative = []\n",
        "  #aux_positive = []\n",
        "  #aux_neutral = []\n",
        "  #aux_compound = []\n",
        "  #sentiment = sentiment_analyzer.polarity_scores(tweet)\n",
        "  #aux_negative.append(sentiment['neg'])\n",
        "#  aux_positive.append(sentiment['pos'])\n",
        "#  aux_neutral.append(sentiment['neu'])\n",
        "#  aux_compound.append(sentiment['compound'])\n",
        "#  negative.append(aux_negative)\n",
        "#  positive.append(aux_positive)\n",
        "#  neutral.append(aux_neutral)\n",
        "#  compound.append(aux_compound)\n"
      ],
      "execution_count": null,
      "outputs": [
        {
          "output_type": "stream",
          "text": [
            "[nltk_data] Downloading package vader_lexicon to /root/nltk_data...\n",
            "[nltk_data]   Package vader_lexicon is already up-to-date!\n"
          ],
          "name": "stdout"
        }
      ]
    },
    {
      "cell_type": "markdown",
      "metadata": {
        "id": "dJ0wpMGUGx05"
      },
      "source": [
        "For example, this is a graphical representation of the sentiment analysis from a tweet."
      ]
    },
    {
      "cell_type": "code",
      "metadata": {
        "colab": {
          "base_uri": "https://localhost:8080/",
          "height": 126
        },
        "id": "y03QoQk1GxZJ",
        "outputId": "9bd8b48e-f54b-494a-cd1b-ec06943f4fca"
      },
      "source": [
        "import seaborn as sns\r\n",
        "sns.set(rc={'figure.figsize':(30,1)})\r\n",
        "def visualise_sentiments(data):\r\n",
        "  sns.heatmap(pd.DataFrame(data).set_index(\"Sentence\").T,center=0, annot=True, cmap = \"PiYG\")\r\n",
        "\r\n",
        "sentence = tweets_detokenize_with_emoticon[2]\r\n",
        "visualise_sentiments({\r\n",
        "    \"Sentence\":[\"SENTENCE\"] + sentence.split(),\r\n",
        "    \"Sentiment\":[sentiment_analyzer.polarity_scores(sentence)[\"compound\"]] + [sentiment_analyzer.polarity_scores(word)[\"compound\"] for word in sentence.split()]\r\n",
        "})"
      ],
      "execution_count": null,
      "outputs": [
        {
          "output_type": "display_data",
          "data": {
            "image/png": "[encoded data removed]",
            "text/plain": [
              "<Figure size 2160x72 with 2 Axes>"
            ]
          },
          "metadata": {
            "tags": []
          }
        }
      ]
    },
    {
      "cell_type": "markdown",
      "metadata": {
        "id": "JZLdOQhFcOvK"
      },
      "source": [
        "### Number  of  words & sentences\r\n",
        "\r\n",
        "To calculate the number of words and sentences that each tweet has, we have decided to use the original tweet, without preprocessing, since we think that it is more significant in this aspect than the already processed tweet, which removes words."
      ]
    },
    {
      "cell_type": "code",
      "metadata": {
        "id": "7KqnLVj-cQqG",
        "colab": {
          "base_uri": "https://localhost:8080/"
        },
        "outputId": "ca0770a4-0d9d-40e2-e0fd-d3117cd53158"
      },
      "source": [
        "from nltk.tokenize import word_tokenize\r\n",
        "nltk.download('punkt')\r\n",
        "listNumberWords = []\r\n",
        "\r\n",
        "for tweet in tweets_detokenize_with_emoticon: #I think this should be about the original tweet\r\n",
        "  aux = []\r\n",
        "  words = word_tokenize(tweet)\r\n",
        "  num_words = len(words)\r\n",
        "  aux.append(num_words)\r\n",
        "  listNumberWords.append(aux)"
      ],
      "execution_count": null,
      "outputs": [
        {
          "output_type": "stream",
          "text": [
            "[nltk_data] Downloading package punkt to /root/nltk_data...\n",
            "[nltk_data]   Unzipping tokenizers/punkt.zip.\n"
          ],
          "name": "stdout"
        }
      ]
    },
    {
      "cell_type": "code",
      "metadata": {
        "id": "TdIVJa5WcXN7"
      },
      "source": [
        "from nltk.tokenize import sent_tokenize\r\n",
        "\r\n",
        "listNumberSentences = []\r\n",
        "\r\n",
        "for i in tweets_detokenize_with_emoticon:\r\n",
        "  aux = []\r\n",
        "  sentences = sent_tokenize(i)\r\n",
        "  num_sentences = len(sentences)\r\n",
        "  aux.append(num_sentences)\r\n",
        "  listNumberSentences.append(aux)"
      ],
      "execution_count": null,
      "outputs": []
    },
    {
      "cell_type": "markdown",
      "metadata": {
        "id": "9GYyiZ-5Tpli"
      },
      "source": [
        "##Concatenate"
      ]
    },
    {
      "cell_type": "code",
      "metadata": {
        "id": "8Y9GEv2q9-gJ",
        "colab": {
          "base_uri": "https://localhost:8080/"
        },
        "outputId": "708ae189-d8af-4361-9122-aca759b9e89c"
      },
      "source": [
        "X = np.concatenate([X_TFIDF.toarray(), X_POS.toarray()],axis=1)\n",
        "X.shape\n",
        "X = np.column_stack((X,negative,positive,neutral,compound,listNumberWords,listNumberSentences))\n",
        "X.shape"
      ],
      "execution_count": null,
      "outputs": [
        {
          "output_type": "execute_result",
          "data": {
            "text/plain": [
              "(24783, 261)"
            ]
          },
          "metadata": {
            "tags": []
          },
          "execution_count": 35
        }
      ]
    },
    {
      "cell_type": "markdown",
      "metadata": {
        "id": "sQdcA4w20MBg"
      },
      "source": [
        "# 3. Select features\r\n",
        "\r\n",
        "We have created a new dataset where we have put the characteristics with which we will work from now on. With this dataset, feature selection will be made."
      ]
    },
    {
      "cell_type": "markdown",
      "metadata": {
        "id": "gocub6yRH9aT"
      },
      "source": [
        "To carry out the selection of characteristics, the selectKBest function will be used. You will have to pass it the number of \"top\" characteristics that it will choose from the existing ones. As each column is a different word and in our problem we are asked to eliminate 70% of the words, we will only have 30% of our vocabulary."
      ]
    },
    {
      "cell_type": "code",
      "metadata": {
        "id": "m4up7NfD3vHd"
      },
      "source": [
        "# Create features and target variable for Classification problem\r\n",
        "X_clf = X\r\n",
        "y_clf = df['class'] # Target variable: class\r\n",
        "n_k = round(X.shape[1] * 0.3)\r\n",
        "\r\n",
        "best = SelectKBest(score_func = mutual_info_classif, k = n_k)\r\n",
        "\r\n",
        "X = best.fit_transform(X_clf, y_clf)\r\n",
        "print(\"Shape: \",X.shape)\r\n",
        "\r\n",
        "selected = best.get_support(indices=True)\r\n",
        "selected"
      ],
      "execution_count": null,
      "outputs": []
    },
    {
      "cell_type": "markdown",
      "metadata": {
        "id": "5Edva7WWDNqc"
      },
      "source": [
        "# 4. Classification algorithm"
      ]
    },
    {
      "cell_type": "markdown",
      "metadata": {
        "id": "SlDscKqkW0Hh"
      },
      "source": [
        "## Single Validation"
      ]
    },
    {
      "cell_type": "markdown",
      "metadata": {
        "id": "dMJo5M92nfjo"
      },
      "source": [
        "Once we know the three characteristics with which we are going to work, it is time to separate the dataset records in the training part and the test part. The test part will be made up of 30% of the tweets."
      ]
    },
    {
      "cell_type": "code",
      "metadata": {
        "id": "mAl6R5KfDLH0"
      },
      "source": [
        "X_train, X_test, y_train, y_test = train_test_split(X_new, y_clf, test_size=0.3, random_state=0)"
      ],
      "execution_count": null,
      "outputs": []
    },
    {
      "cell_type": "markdown",
      "metadata": {
        "id": "Xj-T0YFK95v7"
      },
      "source": [
        "## Model Execution\n",
        "\n"
      ]
    },
    {
      "cell_type": "code",
      "metadata": {
        "id": "NX9gtCEszUi0"
      },
      "source": [
        "def plot_confusion_matrix(y_true, y_pred, classes,\n",
        "                          normalize=False,\n",
        "                          title=None,\n",
        "                          cmap=plt.cm.Blues):\n",
        "    \"\"\"\n",
        "    This function prints and plots the confusion matrix.\n",
        "    Normalization can be applied by setting `normalize=True`.\n",
        "    \"\"\"\n",
        "    if not title:\n",
        "        if normalize:\n",
        "            title = 'Normalized confusion matrix'\n",
        "        else:\n",
        "            title = 'Confusion matrix, without normalization'\n",
        "\n",
        "    # Compute confusion matrix\n",
        "    cm = confusion_matrix(y_true, y_pred)\n",
        "    # Only use the labels that appear in the data\n",
        "    classes = classes[unique_labels(y_true, y_pred)]\n",
        "    if normalize:\n",
        "        cm = cm.astype('float') / cm.sum(axis=1)[:, np.newaxis]\n",
        "        print(\"Normalized confusion matrix\")\n",
        "    else:\n",
        "        print('Confusion matrix, without normalization')\n",
        "\n",
        "    print(cm)\n",
        "\n",
        "    fig, ax = plt.subplots()\n",
        "    im = ax.imshow(cm, interpolation='nearest', cmap=cmap)\n",
        "    ax.figure.colorbar(im, ax=ax)\n",
        "    # We want to show all ticks...\n",
        "    ax.set(xticks=np.arange(cm.shape[1]),\n",
        "           yticks=np.arange(cm.shape[0]),\n",
        "           # ... and label them with the respective list entries\n",
        "           xticklabels=classes, yticklabels=classes,\n",
        "           title=title,\n",
        "           ylabel='True label',\n",
        "           xlabel='Predicted label')\n",
        "\n",
        "    # Rotate the tick labels and set their alignment.\n",
        "    plt.setp(ax.get_xticklabels(), rotation=45, ha=\"right\",\n",
        "             rotation_mode=\"anchor\")\n",
        "\n",
        "    # Loop over data dimensions and create text annotations.\n",
        "    fmt = '.2f' if normalize else 'd'\n",
        "    thresh = cm.max() / 2.\n",
        "    for i in range(cm.shape[0]):\n",
        "        for j in range(cm.shape[1]):\n",
        "            ax.text(j, i, format(cm[i, j], fmt),\n",
        "                    ha=\"center\", va=\"center\",\n",
        "                    color=\"white\" if cm[i, j] > thresh else \"black\")\n",
        "    fig.tight_layout()\n",
        "    return ax"
      ],
      "execution_count": null,
      "outputs": []
    },
    {
      "cell_type": "markdown",
      "metadata": {
        "id": "fOSRwOnZ1ZdF"
      },
      "source": [
        "### K-nearest neighbors algorithm\r\n",
        "\r\n",
        "With this algorithm we are going to classify the tweets depending on the tweets closest to the one to be predicted."
      ]
    },
    {
      "cell_type": "code",
      "metadata": {
        "cellView": "both",
        "colab": {
          "base_uri": "https://localhost:8080/"
        },
        "id": "CT-gjUX1S9Em",
        "outputId": "745a4994-a0fe-4b79-9825-0b5d9bc5c0f5"
      },
      "source": [
        "# Number of closest tweets that you will consult.\n",
        "n_neighbors = 25\n",
        "weights = 'distance'\n",
        "knn = KNeighborsClassifier(n_neighbors= n_neighbors, weights=weights) \n",
        "# Fit and predict\n",
        "knn.fit(X = X_train, y = y_train)\n",
        "y_pred = knn.predict(X = X_test)\n",
        "acc = accuracy_score(y_test, y_pred)\n",
        "print ('Acc', acc)"
      ],
      "execution_count": null,
      "outputs": [
        {
          "output_type": "stream",
          "text": [
            "Acc 0.843039677202421\n"
          ],
          "name": "stdout"
        }
      ]
    },
    {
      "cell_type": "markdown",
      "metadata": {
        "id": "onIoRvD449nH"
      },
      "source": [
        "Finally, we obtain the Confusion Matrix"
      ]
    },
    {
      "cell_type": "markdown",
      "metadata": {
        "id": "AASXGRAUsgzE"
      },
      "source": [
        "**Confusion Matrix**"
      ]
    },
    {
      "cell_type": "code",
      "metadata": {
        "colab": {
          "base_uri": "https://localhost:8080/",
          "height": 384
        },
        "id": "jNM0HVdLzVz-",
        "outputId": "817997c0-39fd-4dfd-fa9d-af5893ebfa54"
      },
      "source": [
        "plot_confusion_matrix(y_test, y_pred, classes=unique_labels(y_test, y_pred), normalize=True,\n",
        "                      title='Confusion matrix')\n",
        "  "
      ],
      "execution_count": null,
      "outputs": [
        {
          "output_type": "stream",
          "text": [
            "Normalized confusion matrix\n",
            "[[4.21545667e-02 6.51053864e-01 3.06791569e-01]\n",
            " [2.43605359e-03 9.30920480e-01 6.66434662e-02]\n",
            " [7.93021412e-04 2.85487708e-01 7.13719270e-01]]\n"
          ],
          "name": "stdout"
        },
        {
          "output_type": "execute_result",
          "data": {
            "text/plain": [
              "<matplotlib.axes._subplots.AxesSubplot at 0x7fede9cf2ac8>"
            ]
          },
          "metadata": {
            "tags": []
          },
          "execution_count": 77
        },
        {
          "output_type": "display_data",
          "data": {
            "image/png": "[encoded data removed]",
            "text/plain": [
              "<Figure size 432x288 with 2 Axes>"
            ]
          },
          "metadata": {
            "tags": [],
            "needs_background": "light"
          }
        }
      ]
    },
    {
      "cell_type": "markdown",
      "metadata": {
        "id": "gfyWcte295Gv"
      },
      "source": [
        "**Classification Report**"
      ]
    },
    {
      "cell_type": "code",
      "metadata": {
        "id": "rgQ2cNiyUgYW",
        "colab": {
          "base_uri": "https://localhost:8080/"
        },
        "outputId": "e8288317-ac1d-4ef1-8968-cc5ab232e7cc"
      },
      "source": [
        "print(classification_report(y_test, y_pred))"
      ],
      "execution_count": null,
      "outputs": [
        {
          "output_type": "stream",
          "text": [
            "              precision    recall  f1-score   support\n",
            "\n",
            "           0       0.55      0.04      0.08       427\n",
            "           1       0.89      0.93      0.91      5747\n",
            "           2       0.64      0.71      0.67      1261\n",
            "\n",
            "    accuracy                           0.84      7435\n",
            "   macro avg       0.69      0.56      0.55      7435\n",
            "weighted avg       0.83      0.84      0.82      7435\n",
            "\n"
          ],
          "name": "stdout"
        }
      ]
    },
    {
      "cell_type": "markdown",
      "metadata": {
        "id": "WyQXR3mt1N5u"
      },
      "source": [
        "### Naive Bayes algorithm\r\n",
        "\r\n",
        "This algorithm is based on Bayes' Theorem. A Naive Bayes classifier assumes that the presence of a particular feature in a class is unrelated to the presence of any other feature."
      ]
    },
    {
      "cell_type": "code",
      "metadata": {
        "colab": {
          "base_uri": "https://localhost:8080/"
        },
        "id": "UJmkC4fL3E7I",
        "outputId": "f357c3c4-2fae-4e0e-c77d-709d0faa1fa8"
      },
      "source": [
        "#GaussianNB, MultinomialNB, BernoulliNB, ComplementNB\r\n",
        "clf = BernoulliNB() # Classifier chosen\r\n",
        "clf.fit(X_train.toarray(), y_train)\r\n",
        "y_pred = clf.predict( X = X_test)\r\n",
        "acc = accuracy_score(y_test, y_pred)\r\n",
        "print ('Acc', acc)"
      ],
      "execution_count": null,
      "outputs": [
        {
          "output_type": "stream",
          "text": [
            "Acc 0.8886348352387357\n"
          ],
          "name": "stdout"
        }
      ]
    },
    {
      "cell_type": "markdown",
      "metadata": {
        "id": "J7KWnUeBsYXP"
      },
      "source": [
        "**Confusion Matrix**"
      ]
    },
    {
      "cell_type": "code",
      "metadata": {
        "colab": {
          "base_uri": "https://localhost:8080/",
          "height": 384
        },
        "id": "4KIW7w_y3Sq4",
        "outputId": "21e5efd8-c725-4e37-de48-ddc0b99dc1f5"
      },
      "source": [
        "plot_confusion_matrix(y_test, y_pred , classes = unique_labels(y_test, y_pred), normalize=True,\r\n",
        "                      title='Normalized confusion matrix')"
      ],
      "execution_count": null,
      "outputs": [
        {
          "output_type": "stream",
          "text": [
            "Normalized confusion matrix\n",
            "[[0.19203747 0.69086651 0.11709602]\n",
            " [0.00783017 0.97372542 0.01844441]\n",
            " [0.00872324 0.25455987 0.73671689]]\n"
          ],
          "name": "stdout"
        },
        {
          "output_type": "execute_result",
          "data": {
            "text/plain": [
              "<matplotlib.axes._subplots.AxesSubplot at 0x7fede9d39390>"
            ]
          },
          "metadata": {
            "tags": []
          },
          "execution_count": 47
        },
        {
          "output_type": "display_data",
          "data": {
            "image/png": "[encoded data removed]",
            "text/plain": [
              "<Figure size 432x288 with 2 Axes>"
            ]
          },
          "metadata": {
            "tags": [],
            "needs_background": "light"
          }
        }
      ]
    },
    {
      "cell_type": "markdown",
      "metadata": {
        "id": "adVNsjDy9_lh"
      },
      "source": [
        "**Classification Report**"
      ]
    },
    {
      "cell_type": "code",
      "metadata": {
        "id": "Qyyox8l9Xi9j",
        "colab": {
          "base_uri": "https://localhost:8080/"
        },
        "outputId": "5cc3bcd9-bb6b-43aa-c698-3e6186ac4ff0"
      },
      "source": [
        "print(classification_report(y_test, y_pred))"
      ],
      "execution_count": null,
      "outputs": [
        {
          "output_type": "stream",
          "text": [
            "              precision    recall  f1-score   support\n",
            "\n",
            "           0       0.59      0.19      0.29       427\n",
            "           1       0.90      0.97      0.94      5747\n",
            "           2       0.86      0.74      0.79      1261\n",
            "\n",
            "    accuracy                           0.89      7435\n",
            "   macro avg       0.78      0.63      0.67      7435\n",
            "weighted avg       0.88      0.89      0.87      7435\n",
            "\n"
          ],
          "name": "stdout"
        }
      ]
    },
    {
      "cell_type": "markdown",
      "metadata": {
        "id": "RdqdGsShwPtU"
      },
      "source": [
        "### Cross validation."
      ]
    },
    {
      "cell_type": "code",
      "metadata": {
        "id": "wmuV8NM8tTx0"
      },
      "source": [
        "from sklearn.model_selection import ShuffleSplit\r\n",
        "\r\n",
        "rs = ShuffleSplit(n_splits=5, test_size=.3, random_state=0, train_size=0.7)\r\n",
        "\r\n",
        "# Number of closest tweets that you will consult.\r\n",
        "n_neighbors = 3\r\n",
        "weights = 'distance'\r\n",
        "knn = KNeighborsClassifier(n_neighbors= n_neighbors, weights=weights) \r\n",
        "cont = 0;\r\n",
        "for train_index, test_index in rs.split(X_new):\r\n",
        "  rs.get_n_splits()\r\n",
        "  print(\"TRAIN[\",cont,\"]:\", train_index, \"TEST[\",cont,\"]:\", test_index)\r\n",
        "  X_train, X_test = X[train_index], X[test_index]\r\n",
        "  y_train, y_test = y_clf[train_index], y_clf[test_index]\r\n",
        "  # Fit and predict\r\n",
        "  knn.fit(X = X_train, y = y_train)\r\n",
        "  y_pred = knn.predict(X = X_test.toarray())\r\n",
        "  acc = accuracy_score(y_test, y_pred)\r\n",
        "  print ('Acc', acc)\r\n",
        "  cont = cont +1\r\n",
        "  title = 'Confusion matrix ' + str(cont)\r\n",
        "  plot_confusion_matrix(y_test, y_pred, classes=target_name, normalize=True,\r\n",
        "                      title=title)\r\n",
        "  print(classification_report(y_test, y_pred))"
      ],
      "execution_count": null,
      "outputs": []
    },
    {
      "cell_type": "code",
      "metadata": {
        "id": "9QoWSN7fCaLy"
      },
      "source": [
        "from sklearn.model_selection import KFold\r\n",
        "from sklearn.model_selection import ShuffleSplit\r\n",
        "\r\n",
        "rs = ShuffleSplit(n_splits=5, test_size=.3, random_state=0, train_size=0.7)\r\n",
        "\r\n",
        "cont = 0;\r\n",
        "for train_index, test_index in rs.split(X_new):\r\n",
        "  rs.get_n_splits()\r\n",
        "  print(\"TRAIN[\",cont,\"]:\", train_index, \"TEST[\",cont,\"]:\", test_index)\r\n",
        "  X_train, X_test = X[train_index], X[test_index]\r\n",
        "  y_train, y_test = y_clf[train_index], y_clf[test_index]\r\n",
        "  # Fit and predict\r\n",
        "  #GaussianNB, MultinomialNB, BernoulliNB, ComplementNB\r\n",
        "  clf = BernoulliNB() # Classifier chosen\r\n",
        "  clf.fit(X_train.toarray(), y_train)\r\n",
        "  y_pred = clf.predict(X_test.toarray())\r\n",
        "  acc = accuracy_score(y_test, y_pred)\r\n",
        "  print ('Acc', acc)\r\n",
        "  cont = cont +1\r\n",
        "  title = 'Confusion matrix ' + str(cont)\r\n",
        "  plot_confusion_matrix(y_test, y_pred, classes=target_name, normalize=True,\r\n",
        "                      title=title)\r\n",
        "  print(classification_report(y_test, y_pred))"
      ],
      "execution_count": null,
      "outputs": []
    },
    {
      "cell_type": "markdown",
      "metadata": {
        "id": "YxzQici8RpSe"
      },
      "source": [
        "Once we have identified the best parameterization we will go on to make an execution of the model and we will graph its results."
      ]
    }
  ]
}
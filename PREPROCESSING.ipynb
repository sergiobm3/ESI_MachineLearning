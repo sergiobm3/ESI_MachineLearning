{
  "nbformat": 4,
  "nbformat_minor": 0,
  "metadata": {
    "colab": {
      "name": "PREPROCESSING.ipynb",
      "provenance": [],
      "collapsed_sections": [],
      "toc_visible": true
    },
    "kernelspec": {
      "display_name": "Python 3",
      "name": "python3"
    }
  },
  "cells": [
    {
      "cell_type": "markdown",
      "metadata": {
        "id": "uIKabJAeqFMt"
      },
      "source": [
        "<a href=\"https://colab.research.google.com/github/sergiobm3/ESI_MachineLearning/blob/NLP/PREPROCESSING.ipynb\" target=\"_parent\"><img src=\"https://colab.research.google.com/assets/colab-badge.svg\" alt=\"Open In Colab\"/></a>\n",
        "\n",
        "# 0. Introduction\n",
        "\n",
        "Before starting to work with the data, it is important to preprocess it, so that later we can use this data more efficiently.\n",
        "\n",
        "Our recommendation is that you do not try to run the notebook, because the **Correct Wrong Words** section involves a fairly high execution time. That is why we provide in a CSV the result of executing this notebook, with name *preprocessed_data.csv*"
      ]
    },
    {
      "cell_type": "markdown",
      "metadata": {
        "id": "Geh597RQHtSq"
      },
      "source": [
        "## Libraries"
      ]
    },
    {
      "cell_type": "code",
      "metadata": {
        "id": "EmNVisjhv2oV",
        "colab": {
          "base_uri": "https://localhost:8080/"
        },
        "outputId": "f7607de1-dacf-4ba2-a657-3ffb7b34e45b"
      },
      "source": [
        "import io\n",
        "import pandas as pd\n",
        "from google.colab import files\n",
        "import re\n",
        "\n",
        "# Libraries for natural language processing\n",
        "import nltk\n",
        "\n",
        "# Libraries for tweets\n",
        "!pip install tweet-preprocessor\n",
        "import preprocessor as p\n",
        "from nltk.tokenize import TweetTokenizer\n",
        "\n",
        "# Libraries for correct wrong words\n",
        "from collections import Counter\n",
        "\n",
        "# Libraries for emoticons\n",
        "!pip install emoji\n",
        "from emoji import UNICODE_EMOJI\n",
        "\n",
        "# Libraries for stopwords\n",
        "from nltk.corpus import stopwords\n",
        "\n",
        "# Libraries for lemmatizer\n",
        "from nltk.stem import WordNetLemmatizer\n",
        "\n",
        "#For tweets\n",
        "nltk.download('punkt')\n",
        "\n",
        "# For stopwords\n",
        "nltk.download('stopwords')\n",
        "\n",
        "# For lemmatizer\n",
        "nltk.download('wordnet')"
      ],
      "execution_count": null,
      "outputs": [
        {
          "output_type": "stream",
          "text": [
            "Requirement already satisfied: tweet-preprocessor in /usr/local/lib/python3.6/dist-packages (0.6.0)\n",
            "Requirement already satisfied: emoji in /usr/local/lib/python3.6/dist-packages (0.6.0)\n",
            "[nltk_data] Downloading package punkt to /root/nltk_data...\n",
            "[nltk_data]   Unzipping tokenizers/punkt.zip.\n",
            "[nltk_data] Downloading package stopwords to /root/nltk_data...\n",
            "[nltk_data]   Unzipping corpora/stopwords.zip.\n",
            "[nltk_data] Downloading package wordnet to /root/nltk_data...\n",
            "[nltk_data]   Unzipping corpora/wordnet.zip.\n"
          ],
          "name": "stdout"
        },
        {
          "output_type": "execute_result",
          "data": {
            "text/plain": [
              "True"
            ]
          },
          "metadata": {
            "tags": []
          },
          "execution_count": 3
        }
      ]
    },
    {
      "cell_type": "markdown",
      "metadata": {
        "id": "d9-uS5d_dJZE"
      },
      "source": [
        "# 1. Loading Data\r\n",
        "\r\n",
        "We start by loading the data file that contains the tweets with which the study will work. The file format to upload is CSV.\r\n",
        "\r\n",
        "You must have the *labeled_data.csv* file loaded to run this piece of code."
      ]
    },
    {
      "cell_type": "code",
      "metadata": {
        "id": "EOKu2vdT6qH2",
        "colab": {
          "base_uri": "https://localhost:8080/",
          "height": 424
        },
        "outputId": "6dfd39d7-aa6d-4a36-f9a6-448d220c1b6e"
      },
      "source": [
        "df = pd.read_csv('./labeled_data.csv', sep=',')\r\n",
        "df"
      ],
      "execution_count": null,
      "outputs": [
        {
          "output_type": "execute_result",
          "data": {
            "text/html": [
              "<div>\n",
              "<style scoped>\n",
              "    .dataframe tbody tr th:only-of-type {\n",
              "        vertical-align: middle;\n",
              "    }\n",
              "\n",
              "    .dataframe tbody tr th {\n",
              "        vertical-align: top;\n",
              "    }\n",
              "\n",
              "    .dataframe thead th {\n",
              "        text-align: right;\n",
              "    }\n",
              "</style>\n",
              "<table border=\"1\" class=\"dataframe\">\n",
              "  <thead>\n",
              "    <tr style=\"text-align: right;\">\n",
              "      <th></th>\n",
              "      <th>Unnamed: 0</th>\n",
              "      <th>count</th>\n",
              "      <th>hate_speech</th>\n",
              "      <th>offensive_language</th>\n",
              "      <th>neither</th>\n",
              "      <th>class</th>\n",
              "      <th>tweet</th>\n",
              "    </tr>\n",
              "  </thead>\n",
              "  <tbody>\n",
              "    <tr>\n",
              "      <th>0</th>\n",
              "      <td>0</td>\n",
              "      <td>3</td>\n",
              "      <td>0</td>\n",
              "      <td>0</td>\n",
              "      <td>3</td>\n",
              "      <td>2</td>\n",
              "      <td>!!! RT @mayasolovely: As a woman you shouldn't...</td>\n",
              "    </tr>\n",
              "    <tr>\n",
              "      <th>1</th>\n",
              "      <td>1</td>\n",
              "      <td>3</td>\n",
              "      <td>0</td>\n",
              "      <td>3</td>\n",
              "      <td>0</td>\n",
              "      <td>1</td>\n",
              "      <td>!!!!! RT @mleew17: boy dats cold...tyga dwn ba...</td>\n",
              "    </tr>\n",
              "    <tr>\n",
              "      <th>2</th>\n",
              "      <td>2</td>\n",
              "      <td>3</td>\n",
              "      <td>0</td>\n",
              "      <td>3</td>\n",
              "      <td>0</td>\n",
              "      <td>1</td>\n",
              "      <td>!!!!!!! RT @UrKindOfBrand Dawg!!!! RT @80sbaby...</td>\n",
              "    </tr>\n",
              "    <tr>\n",
              "      <th>3</th>\n",
              "      <td>3</td>\n",
              "      <td>3</td>\n",
              "      <td>0</td>\n",
              "      <td>2</td>\n",
              "      <td>1</td>\n",
              "      <td>1</td>\n",
              "      <td>!!!!!!!!! RT @C_G_Anderson: @viva_based she lo...</td>\n",
              "    </tr>\n",
              "    <tr>\n",
              "      <th>4</th>\n",
              "      <td>4</td>\n",
              "      <td>6</td>\n",
              "      <td>0</td>\n",
              "      <td>6</td>\n",
              "      <td>0</td>\n",
              "      <td>1</td>\n",
              "      <td>!!!!!!!!!!!!! RT @ShenikaRoberts: The shit you...</td>\n",
              "    </tr>\n",
              "    <tr>\n",
              "      <th>...</th>\n",
              "      <td>...</td>\n",
              "      <td>...</td>\n",
              "      <td>...</td>\n",
              "      <td>...</td>\n",
              "      <td>...</td>\n",
              "      <td>...</td>\n",
              "      <td>...</td>\n",
              "    </tr>\n",
              "    <tr>\n",
              "      <th>24778</th>\n",
              "      <td>25291</td>\n",
              "      <td>3</td>\n",
              "      <td>0</td>\n",
              "      <td>2</td>\n",
              "      <td>1</td>\n",
              "      <td>1</td>\n",
              "      <td>you's a muthaf***in lie &amp;#8220;@LifeAsKing: @2...</td>\n",
              "    </tr>\n",
              "    <tr>\n",
              "      <th>24779</th>\n",
              "      <td>25292</td>\n",
              "      <td>3</td>\n",
              "      <td>0</td>\n",
              "      <td>1</td>\n",
              "      <td>2</td>\n",
              "      <td>2</td>\n",
              "      <td>you've gone and broke the wrong heart baby, an...</td>\n",
              "    </tr>\n",
              "    <tr>\n",
              "      <th>24780</th>\n",
              "      <td>25294</td>\n",
              "      <td>3</td>\n",
              "      <td>0</td>\n",
              "      <td>3</td>\n",
              "      <td>0</td>\n",
              "      <td>1</td>\n",
              "      <td>young buck wanna eat!!.. dat nigguh like I ain...</td>\n",
              "    </tr>\n",
              "    <tr>\n",
              "      <th>24781</th>\n",
              "      <td>25295</td>\n",
              "      <td>6</td>\n",
              "      <td>0</td>\n",
              "      <td>6</td>\n",
              "      <td>0</td>\n",
              "      <td>1</td>\n",
              "      <td>youu got wild bitches tellin you lies</td>\n",
              "    </tr>\n",
              "    <tr>\n",
              "      <th>24782</th>\n",
              "      <td>25296</td>\n",
              "      <td>3</td>\n",
              "      <td>0</td>\n",
              "      <td>0</td>\n",
              "      <td>3</td>\n",
              "      <td>2</td>\n",
              "      <td>~~Ruffled | Ntac Eileen Dahlia - Beautiful col...</td>\n",
              "    </tr>\n",
              "  </tbody>\n",
              "</table>\n",
              "<p>24783 rows × 7 columns</p>\n",
              "</div>"
            ],
            "text/plain": [
              "       Unnamed: 0  ...                                              tweet\n",
              "0               0  ...  !!! RT @mayasolovely: As a woman you shouldn't...\n",
              "1               1  ...  !!!!! RT @mleew17: boy dats cold...tyga dwn ba...\n",
              "2               2  ...  !!!!!!! RT @UrKindOfBrand Dawg!!!! RT @80sbaby...\n",
              "3               3  ...  !!!!!!!!! RT @C_G_Anderson: @viva_based she lo...\n",
              "4               4  ...  !!!!!!!!!!!!! RT @ShenikaRoberts: The shit you...\n",
              "...           ...  ...                                                ...\n",
              "24778       25291  ...  you's a muthaf***in lie &#8220;@LifeAsKing: @2...\n",
              "24779       25292  ...  you've gone and broke the wrong heart baby, an...\n",
              "24780       25294  ...  young buck wanna eat!!.. dat nigguh like I ain...\n",
              "24781       25295  ...              youu got wild bitches tellin you lies\n",
              "24782       25296  ...  ~~Ruffled | Ntac Eileen Dahlia - Beautiful col...\n",
              "\n",
              "[24783 rows x 7 columns]"
            ]
          },
          "metadata": {
            "tags": []
          },
          "execution_count": 9
        }
      ]
    },
    {
      "cell_type": "markdown",
      "metadata": {
        "id": "PkiEwhzbelrP"
      },
      "source": [
        "# 2. Preprocessing\r\n",
        "\r\n",
        "Before starting, it is necessary to preprocess the tweet field of the dataset that is provided to us, in order to work in a more efficient and accurate way."
      ]
    },
    {
      "cell_type": "markdown",
      "metadata": {
        "id": "upQTMV99GXCZ"
      },
      "source": [
        "## Remove unuseful data\r\n",
        "\r\n",
        "Some symbols that do not provide information have been eliminated."
      ]
    },
    {
      "cell_type": "code",
      "metadata": {
        "id": "ojY36_VFHlH3"
      },
      "source": [
        "def cleanUnusefulData(sentence):\n",
        "  sentence = sentence.translate(str.maketrans('', '', pattern))\n",
        "  return sentence\n",
        "\n",
        "def removeUnusefulExclamation(sentence):\n",
        "  if sentence[0] == '!':\n",
        "    sentence = removeUnusefulExclamation(sentence[1:])\n",
        "  else:\n",
        "    return sentence\n",
        "  return sentence\n",
        "\n",
        "clean_tweet = []\n",
        "for t in range(0,len(df)):\n",
        "  tweet = df.iloc[t]['tweet']\n",
        "  tweet = removeUnusefulExclamation(tweet)\n",
        "  clean_tweet.append(tweet)\n",
        "\n",
        "df['clean_tweet'] = clean_tweet\n"
      ],
      "execution_count": null,
      "outputs": []
    },
    {
      "cell_type": "markdown",
      "metadata": {
        "id": "HJJYq7h4au0L"
      },
      "source": [
        "## Replace emoticons\r\n",
        "\r\n",
        "We replace the emoticons with words that resemble what they want to express. You must upload the emoticons.txt file.\r\n",
        "\r\n",
        "In our dataframe a column will be maintained that if it contains the tweets with their emoticons, the reason is that we think that perhaps in the future they can be used and provide information."
      ]
    },
    {
      "cell_type": "code",
      "metadata": {
        "colab": {
          "base_uri": "https://localhost:8080/"
        },
        "id": "rbx33glitktw",
        "outputId": "eaa38d92-0d47-4c92-ce32-a40c4cf985f0"
      },
      "source": [
        "dict_emoticons = {}\n",
        "with open('emoticons.txt') as f:\n",
        "    for linea in f:\n",
        "      info = linea.split(\",\")\n",
        "      emoticon_code = info[0]\n",
        "      emoticon_word = info[2]\n",
        "      dict_emoticons[emoticon_code] = emoticon_word[:len(emoticon_word)-1]\n",
        "print(dict_emoticons)\n",
        "\n",
        "def replaceEmoticon(word):\n",
        "  if word in dict_emoticons:\n",
        "    word = word.replace(str(word),dict_emoticons[word])\n",
        "  return word\n",
        "\n",
        "def replaceUnknownEmoticon(word):\n",
        "  m = re.match(r\"\\\\[u][A-Za-z0-9]*\",word)\n",
        "  if m is not None:\n",
        "    word = \"\"\n",
        "  return word"
      ],
      "execution_count": null,
      "outputs": [
        {
          "output_type": "stream",
          "text": [
            "{'😀': 'smile', '😁': 'smile', '😂': 'laugh', '😃': 'smile', '😄': 'smile', '😆': 'smile', '😉': 'wink', '😊': 'smile', '😒': 'unamused', '😕': 'confused', '😗': 'kiss', '😘': 'kiss', '😙': 'kiss', '😚': 'kiss', '😞': 'dissapointed', '😟': 'worried', '😠': 'angry', '😡': 'angry', '😢': 'sad', '😨': 'frightened', '😪': 'sleepy', '😫': 'tired', '😭': 'sad', '😮': 'surprised', '😯': 'surprised', '😱': 'frightened', '😲': 'astonished', '😳': 'flushed', '😴': 'sleepy', '😵': 'confused', '😶': 'quiet', '🤐': 'quiet', '🤒': 'ill', '🤔': 'thoughtful', '🤡': 'clown', '🤢': 'sucks', '🤣': 'laugh', '\\U0001f92c': 'angry', '\\U0001f92e': 'sucks', '\\U0001f92f': 'astonished', '🍑': 'ass', '🍒': 'tits', '🍌': 'dick', '🍆': 'dick', '👉': 'finger', '👌': 'ok'}\n"
          ],
          "name": "stdout"
        }
      ]
    },
    {
      "cell_type": "markdown",
      "metadata": {
        "id": "iKzmvKruZiOc"
      },
      "source": [
        "## Remove contractions\r\n",
        " \r\n",
        "A dictionary containing the most common contractions has been implemented, to return instead the \"expanded form\" of expressing them."
      ]
    },
    {
      "cell_type": "code",
      "metadata": {
        "id": "nG2J7JPHZqIO"
      },
      "source": [
        "dict_contractions = {'aren\\'t':'are not', 'can\\'t':'can not', 'couldn\\'t':'could not', 'didn\\'t':'did not', 'don\\'t':'do not', 'doesn\\'t':'does not', 'hadn\\'t':'had not',\n",
        "                       'haven\\'t':'have not', 'he\\'s':'he is', 'he\\'ll':'he will', 'he\\'d':'he would', 'here\\'s':'here is', 'i\\'m':'i am', 'i\\'ve':'i have', 'i\\'ll':'i will',\n",
        "                       'i\\'d':'i would', 'isn\\'t':'is not','it\\'s':'it is', 'it\\'ll':'it will', 'mustn\\'t':'must not', 'she\\'s':'she is', 'she\\'ll':'she will', 'she\\'d':'she would',\n",
        "                       'shouldn\\'t':'should not', 'that\\'s':'that is', 'there\\'s':'there is', 'they\\'re':'they are', 'they\\'ve':'they have', 'they\\'ll':'they will', 'they\\'d':'they would',\n",
        "                       'they\\'d':'they had', 'wasn\\'t':'was not', 'we\\'re':'we are', 'we\\'re':'we are', 'we\\'ve':'we have', 'we\\'ll':'we will', 'we\\'d':'we would', 'weren\\'t':'were not', 'what\\'s':'what is',\n",
        "                       'where\\'s':'where is', 'who\\'s':'who is', 'who\\'ll':'who will', 'won\\'t':'will not', 'wouldn\\'t':'would not', 'you\\'re': 'you are', 'you\\'ve': 'you have', \n",
        "                       'you\\'ll':'you will', 'you\\'d':'you would', 'y\\'all': 'you all', 'could\\'ve': 'could have', 'hasn\\'t': 'has not', 'let\\'s': 'let us'}\n",
        "\n",
        "def remove_contractions(word):\n",
        "  return word.replace(word,dict_contractions[word])\n",
        "  \n",
        "def is_remove_contractions(word):\n",
        "  if word in dict_contractions:\n",
        "    return True    \n",
        "  else:\n",
        "    return False"
      ],
      "execution_count": null,
      "outputs": []
    },
    {
      "cell_type": "markdown",
      "metadata": {
        "id": "jBPUWLdKSckv"
      },
      "source": [
        "## Executing preprocessing\r\n",
        "\r\n",
        "All the functions defined above will be executed. And other preprocessing steps that have not needed to be defined in a separate function, such as deleting all capital letters."
      ]
    },
    {
      "cell_type": "code",
      "metadata": {
        "id": "UNDh43SCZeG2"
      },
      "source": [
        "# We create a new dataframe to save result in different columns\n",
        "df_result = pd.DataFrame()"
      ],
      "execution_count": null,
      "outputs": []
    },
    {
      "cell_type": "code",
      "metadata": {
        "colab": {
          "base_uri": "https://localhost:8080/",
          "height": 470
        },
        "id": "U7cE8FWj3SQX",
        "outputId": "f2af3a0e-e03e-4e25-9b6b-4bdae8852e82"
      },
      "source": [
        "pattern = \"\\\"#$%&'()*+, -./:;<=>?@[\\]^_`{|}~“”…»’!\"\n",
        "p.set_options(p.OPT.EMOJI, p.OPT.URL,p.OPT.HASHTAG, p.OPT.MENTION, p.OPT.SMILEY, p.OPT.ESCAPE_CHAR, p.OPT.RESERVED, p.OPT.NUMBER)\n",
        "tknzr = TweetTokenizer(strip_handles=True, reduce_len=True)\n",
        "\n",
        "###### EXECUTING PREPROCESSING WITHOUT EMOTICONS ######\n",
        "\n",
        "# Each sentence of tweet\n",
        "sentences = []\n",
        "for tweet in df['clean_tweet']:\n",
        "    result = tknzr.tokenize(tweet)\n",
        "    list_token = []\n",
        "    for word in result:\n",
        "      # Change emoticon for text\n",
        "      token = replaceEmoticon(word)\n",
        "      token = replaceUnknownEmoticon(token.encode('unicode-escape').decode('ASCII'))\n",
        "\n",
        "      if token == \"\": \n",
        "        pass\n",
        "      else: token = token.encode('ASCII').decode('unicode-escape')\n",
        "\n",
        "      # Clean hashtag and mentions\n",
        "      token = p.clean(token)\n",
        "\n",
        "      # Remove the capital letters, if the word is not capitalized entirely.\n",
        "      token = token.lower()\n",
        "\n",
        "      if is_remove_contractions(token): # Remove contractions\n",
        "        token = remove_contractions(token)\n",
        "        token = token.split(\" \")\n",
        "        list_token.append(token[0])\n",
        "        list_token.append(token[1])\n",
        "      else: # Clean unuseful data (\",_,...)\n",
        "        token = cleanUnusefulData(token)\n",
        "        if(token is not \"\"):\n",
        "          list_token.append(token)\n",
        "      \n",
        "    sentences.append(list_token)\n",
        "\n",
        "df_result['preprocessing_without_emoticons'] = sentences\n",
        "df_result"
      ],
      "execution_count": null,
      "outputs": [
        {
          "output_type": "stream",
          "text": [
            "Requirement already satisfied: tweet-preprocessor in /usr/local/lib/python3.6/dist-packages (0.6.0)\n",
            "[nltk_data] Downloading package punkt to /root/nltk_data...\n",
            "[nltk_data]   Package punkt is already up-to-date!\n"
          ],
          "name": "stdout"
        },
        {
          "output_type": "execute_result",
          "data": {
            "text/html": [
              "<div>\n",
              "<style scoped>\n",
              "    .dataframe tbody tr th:only-of-type {\n",
              "        vertical-align: middle;\n",
              "    }\n",
              "\n",
              "    .dataframe tbody tr th {\n",
              "        vertical-align: top;\n",
              "    }\n",
              "\n",
              "    .dataframe thead th {\n",
              "        text-align: right;\n",
              "    }\n",
              "</style>\n",
              "<table border=\"1\" class=\"dataframe\">\n",
              "  <thead>\n",
              "    <tr style=\"text-align: right;\">\n",
              "      <th></th>\n",
              "      <th>preprocessing_without_emoticons</th>\n",
              "    </tr>\n",
              "  </thead>\n",
              "  <tbody>\n",
              "    <tr>\n",
              "      <th>0</th>\n",
              "      <td>[as, a, woman, you, should, not, complain, abo...</td>\n",
              "    </tr>\n",
              "    <tr>\n",
              "      <th>1</th>\n",
              "      <td>[boy, dats, cold, tyga, dwn, bad, for, cuffin,...</td>\n",
              "    </tr>\n",
              "    <tr>\n",
              "      <th>2</th>\n",
              "      <td>[dawg, you, ever, fuck, a, bitch, and, she, st...</td>\n",
              "    </tr>\n",
              "    <tr>\n",
              "      <th>3</th>\n",
              "      <td>[she, look, like, a, tranny]</td>\n",
              "    </tr>\n",
              "    <tr>\n",
              "      <th>4</th>\n",
              "      <td>[the, shit, you, hear, about, me, might, be, t...</td>\n",
              "    </tr>\n",
              "    <tr>\n",
              "      <th>...</th>\n",
              "      <td>...</td>\n",
              "    </tr>\n",
              "    <tr>\n",
              "      <th>24778</th>\n",
              "      <td>[yous, a, muthaf, in, lie, right, his, tl, is,...</td>\n",
              "    </tr>\n",
              "    <tr>\n",
              "      <th>24779</th>\n",
              "      <td>[you, have, gone, and, broke, the, wrong, hear...</td>\n",
              "    </tr>\n",
              "    <tr>\n",
              "      <th>24780</th>\n",
              "      <td>[young, buck, wanna, eat, dat, nigguh, like, i...</td>\n",
              "    </tr>\n",
              "    <tr>\n",
              "      <th>24781</th>\n",
              "      <td>[youu, got, wild, bitches, tellin, you, lies]</td>\n",
              "    </tr>\n",
              "    <tr>\n",
              "      <th>24782</th>\n",
              "      <td>[ruffled, ntac, eileen, dahlia, beautiful, col...</td>\n",
              "    </tr>\n",
              "  </tbody>\n",
              "</table>\n",
              "<p>24783 rows × 1 columns</p>\n",
              "</div>"
            ],
            "text/plain": [
              "                         preprocessing_without_emoticons\n",
              "0      [as, a, woman, you, should, not, complain, abo...\n",
              "1      [boy, dats, cold, tyga, dwn, bad, for, cuffin,...\n",
              "2      [dawg, you, ever, fuck, a, bitch, and, she, st...\n",
              "3                           [she, look, like, a, tranny]\n",
              "4      [the, shit, you, hear, about, me, might, be, t...\n",
              "...                                                  ...\n",
              "24778  [yous, a, muthaf, in, lie, right, his, tl, is,...\n",
              "24779  [you, have, gone, and, broke, the, wrong, hear...\n",
              "24780  [young, buck, wanna, eat, dat, nigguh, like, i...\n",
              "24781      [youu, got, wild, bitches, tellin, you, lies]\n",
              "24782  [ruffled, ntac, eileen, dahlia, beautiful, col...\n",
              "\n",
              "[24783 rows x 1 columns]"
            ]
          },
          "metadata": {
            "tags": []
          },
          "execution_count": 33
        }
      ]
    },
    {
      "cell_type": "markdown",
      "metadata": {
        "id": "2myUpc0qvrJ0"
      },
      "source": [
        "We include an additional column with emoticons and the '!' since we have seen that it is given importance in Vader's sentiment analysis"
      ]
    },
    {
      "cell_type": "code",
      "metadata": {
        "colab": {
          "base_uri": "https://localhost:8080/",
          "height": 419
        },
        "id": "bL0yXSiLUNpr",
        "outputId": "e3e70c87-448e-4c81-910e-e96e17e94af8"
      },
      "source": [
        "###### EXECUTING PREPROCESSING WITH EMOTICONS ######\n",
        "\n",
        "pattern = \"\\\"#$%&'()*+, -./:;<=>?@[\\]^_`{|}~“”…»’\"\n",
        "p.set_options(p.OPT.URL,p.OPT.HASHTAG, p.OPT.MENTION, p.OPT.SMILEY, p.OPT.ESCAPE_CHAR, p.OPT.RESERVED, p.OPT.NUMBER)\n",
        "\n",
        "# Each sentence of tweet\n",
        "sentences = []\n",
        "for tweet in df['clean_tweet']:\n",
        "    result = tknzr.tokenize(tweet)\n",
        "    list_token = []\n",
        "    for word in result:\n",
        "      # Change emoticon for text\n",
        "      token = p.clean(word)\n",
        "      token = replaceUnknownEmoticon(token.encode('unicode-escape').decode('ASCII'))\n",
        "\n",
        "      if token == \"\":\n",
        "        pass\n",
        "      else: token = token.encode('ASCII').decode('unicode-escape')\n",
        "\n",
        "      # Remove the capital letters, if the word is not capitalized entirely.\n",
        "      if not token.isupper():\n",
        "        token = token.lower()\n",
        "      if token.isupper() and len(token)==1:\n",
        "        token = token.lower()\n",
        "\n",
        "      if is_remove_contractions(token): # Remove contractions\n",
        "        token = remove_contractions(token)\n",
        "        token = token.split(\" \")\n",
        "        list_token.append(token[0])\n",
        "        list_token.append(token[1])\n",
        "      else: # Clean unuseful data (\",_,...)\n",
        "        token = cleanUnusefulData(token)\n",
        "        if(token is not \"\"):\n",
        "          list_token.append(token)\n",
        "    \n",
        "    sentences.append(list_token)\n",
        "\n",
        "df_result['preprocessing_with_emoticons'] = sentences\n",
        "df_result"
      ],
      "execution_count": null,
      "outputs": [
        {
          "output_type": "execute_result",
          "data": {
            "text/html": [
              "<div>\n",
              "<style scoped>\n",
              "    .dataframe tbody tr th:only-of-type {\n",
              "        vertical-align: middle;\n",
              "    }\n",
              "\n",
              "    .dataframe tbody tr th {\n",
              "        vertical-align: top;\n",
              "    }\n",
              "\n",
              "    .dataframe thead th {\n",
              "        text-align: right;\n",
              "    }\n",
              "</style>\n",
              "<table border=\"1\" class=\"dataframe\">\n",
              "  <thead>\n",
              "    <tr style=\"text-align: right;\">\n",
              "      <th></th>\n",
              "      <th>preprocessing_without_emoticons</th>\n",
              "      <th>preprocessing_with_emoticons</th>\n",
              "    </tr>\n",
              "  </thead>\n",
              "  <tbody>\n",
              "    <tr>\n",
              "      <th>0</th>\n",
              "      <td>[as, a, woman, you, should, not, complain, abo...</td>\n",
              "      <td>[as, a, woman, you, should, not, complain, abo...</td>\n",
              "    </tr>\n",
              "    <tr>\n",
              "      <th>1</th>\n",
              "      <td>[boy, dats, cold, tyga, dwn, bad, for, cuffin,...</td>\n",
              "      <td>[boy, dats, cold, tyga, dwn, bad, for, cuffin,...</td>\n",
              "    </tr>\n",
              "    <tr>\n",
              "      <th>2</th>\n",
              "      <td>[dawg, you, ever, fuck, a, bitch, and, she, st...</td>\n",
              "      <td>[dawg, !, !, !, you, ever, fuck, a, bitch, and...</td>\n",
              "    </tr>\n",
              "    <tr>\n",
              "      <th>3</th>\n",
              "      <td>[she, look, like, a, tranny]</td>\n",
              "      <td>[she, look, like, a, tranny]</td>\n",
              "    </tr>\n",
              "    <tr>\n",
              "      <th>4</th>\n",
              "      <td>[the, shit, you, hear, about, me, might, be, t...</td>\n",
              "      <td>[the, shit, you, hear, about, me, might, be, t...</td>\n",
              "    </tr>\n",
              "    <tr>\n",
              "      <th>...</th>\n",
              "      <td>...</td>\n",
              "      <td>...</td>\n",
              "    </tr>\n",
              "    <tr>\n",
              "      <th>24778</th>\n",
              "      <td>[yous, a, muthaf, in, lie, right, his, tl, is,...</td>\n",
              "      <td>[yous, a, muthaf, in, lie, right, !, his, TL, ...</td>\n",
              "    </tr>\n",
              "    <tr>\n",
              "      <th>24779</th>\n",
              "      <td>[you, have, gone, and, broke, the, wrong, hear...</td>\n",
              "      <td>[you, have, gone, and, broke, the, wrong, hear...</td>\n",
              "    </tr>\n",
              "    <tr>\n",
              "      <th>24780</th>\n",
              "      <td>[young, buck, wanna, eat, dat, nigguh, like, i...</td>\n",
              "      <td>[young, buck, wanna, eat, !, !, dat, nigguh, l...</td>\n",
              "    </tr>\n",
              "    <tr>\n",
              "      <th>24781</th>\n",
              "      <td>[youu, got, wild, bitches, tellin, you, lies]</td>\n",
              "      <td>[youu, got, wild, bitches, tellin, you, lies]</td>\n",
              "    </tr>\n",
              "    <tr>\n",
              "      <th>24782</th>\n",
              "      <td>[ruffled, ntac, eileen, dahlia, beautiful, col...</td>\n",
              "      <td>[ruffled, ntac, eileen, dahlia, beautiful, col...</td>\n",
              "    </tr>\n",
              "  </tbody>\n",
              "</table>\n",
              "<p>24783 rows × 2 columns</p>\n",
              "</div>"
            ],
            "text/plain": [
              "                         preprocessing_without_emoticons                       preprocessing_with_emoticons\n",
              "0      [as, a, woman, you, should, not, complain, abo...  [as, a, woman, you, should, not, complain, abo...\n",
              "1      [boy, dats, cold, tyga, dwn, bad, for, cuffin,...  [boy, dats, cold, tyga, dwn, bad, for, cuffin,...\n",
              "2      [dawg, you, ever, fuck, a, bitch, and, she, st...  [dawg, !, !, !, you, ever, fuck, a, bitch, and...\n",
              "3                           [she, look, like, a, tranny]                       [she, look, like, a, tranny]\n",
              "4      [the, shit, you, hear, about, me, might, be, t...  [the, shit, you, hear, about, me, might, be, t...\n",
              "...                                                  ...                                                ...\n",
              "24778  [yous, a, muthaf, in, lie, right, his, tl, is,...  [yous, a, muthaf, in, lie, right, !, his, TL, ...\n",
              "24779  [you, have, gone, and, broke, the, wrong, hear...  [you, have, gone, and, broke, the, wrong, hear...\n",
              "24780  [young, buck, wanna, eat, dat, nigguh, like, i...  [young, buck, wanna, eat, !, !, dat, nigguh, l...\n",
              "24781      [youu, got, wild, bitches, tellin, you, lies]      [youu, got, wild, bitches, tellin, you, lies]\n",
              "24782  [ruffled, ntac, eileen, dahlia, beautiful, col...  [ruffled, ntac, eileen, dahlia, beautiful, col...\n",
              "\n",
              "[24783 rows x 2 columns]"
            ]
          },
          "metadata": {
            "tags": []
          },
          "execution_count": 34
        }
      ]
    },
    {
      "cell_type": "markdown",
      "metadata": {
        "id": "yF_y0149mnHV"
      },
      "source": [
        "## Correct Wrong Words\r\n",
        "\r\n",
        "With the following functions it is possible to implement a word corrector, which will use the big.txt file to correct the words of the tweets. Therefore, the big.txt file needs to be loaded."
      ]
    },
    {
      "cell_type": "code",
      "metadata": {
        "id": "6eApcrBROZn_"
      },
      "source": [
        "def words(text): return re.findall(r'\\w+', text.lower())\n",
        "\n",
        "WORDS = Counter(words(open('big.txt').read()))\n",
        "\n",
        "def P(word, N=sum(WORDS.values())): \n",
        "    \"Probability of `word`.\"\n",
        "    return WORDS[word] / N\n",
        "\n",
        "def correction(word): \n",
        "    \"Most probable spelling correction for word.\"\n",
        "    return max(candidates(word), key=P)\n",
        "\n",
        "def candidates(word): \n",
        "    \"Generate possible spelling corrections for word.\"\n",
        "    return (known([word]) or known(edits1(word)) or known(edits2(word)) or [word])\n",
        "\n",
        "def known(words): \n",
        "    \"The subset of `words` that appear in the dictionary of WORDS.\"\n",
        "    return set(w for w in words if w in WORDS)\n",
        "\n",
        "def edits1(word):\n",
        "    \"All edits that are one edit away from `word`.\"\n",
        "    letters    = 'abcdefghijklmnopqrstuvwxyz'\n",
        "    splits     = [(word[:i], word[i:])    for i in range(len(word) + 1)]\n",
        "    deletes    = [L + R[1:]               for L, R in splits if R]\n",
        "    transposes = [L + R[1] + R[0] + R[2:] for L, R in splits if len(R)>1]\n",
        "    replaces   = [L + c + R[1:]           for L, R in splits if R for c in letters]\n",
        "    inserts    = [L + c + R               for L, R in splits for c in letters]\n",
        "    return set(deletes + transposes + replaces + inserts)\n",
        "\n",
        "def edits2(word): \n",
        "    \"All edits that are two edits away from `word`.\"\n",
        "    return (e2 for e1 in edits1(word) for e2 in edits1(e1))"
      ],
      "execution_count": null,
      "outputs": []
    },
    {
      "cell_type": "code",
      "metadata": {
        "id": "gmhjtJ-A-eIc",
        "colab": {
          "base_uri": "https://localhost:8080/"
        },
        "outputId": "4c044865-e1f5-49d2-df2d-de79bc9d4dd0"
      },
      "source": [
        "def is_emoji(s):\n",
        "    count = 0\n",
        "    for emoji in UNICODE_EMOJI:\n",
        "        count += s.count(emoji)\n",
        "        if count > 1:\n",
        "            return False\n",
        "    return bool(count)"
      ],
      "execution_count": null,
      "outputs": [
        {
          "output_type": "stream",
          "text": [
            "Requirement already satisfied: emoji in /usr/local/lib/python3.6/dist-packages (0.6.0)\n"
          ],
          "name": "stdout"
        }
      ]
    },
    {
      "cell_type": "code",
      "metadata": {
        "id": "aPYVGm9QDn8U",
        "colab": {
          "base_uri": "https://localhost:8080/"
        },
        "outputId": "36096a08-73c0-4d0d-b43f-d6643e476c07"
      },
      "source": [
        "bad_words = []\n",
        "with open('bad_words.txt') as f:\n",
        "    for linea in f:\n",
        "      bad_words.append(linea[:len(linea)-1])\n",
        "print(bad_words)"
      ],
      "execution_count": null,
      "outputs": [
        {
          "output_type": "stream",
          "text": [
            "['2g1c', '2 girls 1 cup', 'acrotomophilia', 'alabama hot pocket', 'alaskan pipeline', 'anal', 'anilingus', 'anus', 'apeshit', 'arsehole', 'ass', 'asshole', 'assmunch', 'auto erotic', 'autoerotic', 'babeland', 'baby batter', 'baby juice', 'ball gag', 'ball gravy', 'ball kicking', 'ball licking', 'ball sack', 'ball sucking', 'bangbros', 'bangbus', 'bareback', 'barely legal', 'barenaked', 'bastard', 'bastardo', 'bastinado', 'bbw', 'bdsm', 'beaner', 'beaners', 'beaver cleaver', 'beaver lips', 'beastiality', 'bestiality', 'big black', 'big breasts', 'big knockers', 'big tits', 'bimbos', 'birdlock', 'bitch', 'bitches', 'black cock', 'blonde action', 'blonde on blonde action', 'blowjob', 'blow job', 'blow your load', 'blue waffle', 'blumpkin', 'bollocks', 'bondage', 'boner', 'boob', 'boobs', 'booty call', 'brown showers', 'brunette action', 'bukkake', 'bulldyke', 'bullet vibe', 'bullshit', 'bung hole', 'bunghole', 'busty', 'butt', 'buttcheeks', 'butthole', 'camel toe', 'camgirl', 'camslut', 'camwhore', 'carpet muncher', 'carpetmuncher', 'chocolate rosebuds', 'cialis', 'circlejerk', 'cleveland steamer', 'clit', 'clitoris', 'clover clamps', 'clusterfuck', 'cock', 'cocks', 'coprolagnia', 'coprophilia', 'cornhole', 'coon', 'coons', 'creampie', 'cum', 'cumming', 'cumshot', 'cumshots', 'cunnilingus', 'cunt', 'darkie', 'date rape', 'daterape', 'deep throat', 'deepthroat', 'dendrophilia', 'dick', 'dildo', 'dingleberry', 'dingleberries', 'dirty pillows', 'dirty sanchez', 'doggie style', 'doggiestyle', 'doggy style', 'doggystyle', 'dog style', 'dolcett', 'domination', 'dominatrix', 'dommes', 'donkey punch', 'double dong', 'double penetration', 'dp action', 'dry hump', 'dvda', 'eat my ass', 'ecchi', 'ejaculation', 'erotic', 'erotism', 'escort', 'eunuch', 'fag', 'faggot', 'fecal', 'felch', 'fellatio', 'feltch', 'female squirting', 'femdom', 'figging', 'fingerbang', 'fingering', 'fisting', 'foot fetish', 'footjob', 'frotting', 'fuck', 'fuck buttons', 'fuckin', 'fucking', 'fucktards', 'fudge packer', 'fudgepacker', 'futanari', 'gangbang', 'gang bang', 'gay sex', 'genitals', 'giant cock', 'girl on', 'girl on top', 'girls gone wild', 'goatcx', 'goatse', 'god damn', 'gokkun', 'golden shower', 'goodpoop', 'goo girl', 'goregasm', 'grope', 'group sex', 'g-spot', 'guro', 'hand job', 'handjob', 'hard core', 'hardcore', 'hentai', 'homoerotic', 'honkey', 'hooker', 'horny', 'hot carl', 'hot chick', 'how to kill', 'how to murder', 'huge fat', 'humping', 'incest', 'intercourse', 'jack off', 'jail bait', 'jailbait', 'jelly donut', 'jerk off', 'jigaboo', 'jiggaboo', 'jiggerboo', 'jizz', 'juggs', 'kike', 'kinbaku', 'kinkster', 'kinky', 'knobbing', 'leather restraint', 'leather straight jacket', 'lemon party', 'livesex', 'lolita', 'lovemaking', 'make me come', 'male squirting', 'masturbate', 'masturbating', 'masturbation', 'menage a trois', 'milf', 'missionary position', 'mong', 'motherfucker', 'mound of venus', 'mr hands', 'muff diver', 'muffdiving', 'nambla', 'nawashi', 'negro', 'neonazi', 'nigga', 'nigger', 'nig nog', 'nimphomania', 'nipple', 'nipples', 'nsfw', 'nsfw images', 'nude', 'nudity', 'nutten', 'nympho', 'nymphomania', 'octopussy', 'omorashi', 'one cup two girls', 'one guy one jar', 'orgasm', 'orgy', 'paedophile', 'paki', 'panties', 'panty', 'pedobear', 'pedophile', 'pegging', 'penis', 'phone sex', 'piece of shit', 'pikey', 'pissing', 'piss pig', 'pisspig', 'playboy', 'pleasure chest', 'pole smoker', 'ponyplay', 'poof', 'poon', 'poontang', 'punany', 'poop chute', 'poopchute', 'porn', 'porno', 'pornography', 'prince albert piercing', 'pthc', 'pubes', 'pussy', 'queaf', 'queef', 'quim', 'raghead', 'raging boner', 'rape', 'raping', 'rapist', 'rectum', 'reverse cowgirl', 'rimjob', 'rimming', 'rosy palm', 'rosy palm and her 5 sisters', 'rusty trombone', 'sadism', 'santorum', 'scat', 'schlong', 'scissoring', 'semen', 'sex', 'sexcam', 'sexo', 'sexy', 'sexual', 'sexually', 'sexuality', 'shaved beaver', 'shaved pussy', 'shemale', 'shibari', 'shit', 'shitblimp', 'shitty', 'shota', 'shrimping', 'skeet', 'slanteye', 'slut', 's&m', 'smut', 'snatch', 'snowballing', 'sodomize', 'sodomy', 'spastic', 'spic', 'splooge', 'splooge moose', 'spooge', 'spread legs', 'spunk', 'strap on', 'strapon', 'strappado', 'strip club', 'style doggy', 'suck', 'sucks', 'suicide girls', 'sultry women', 'swastika', 'swinger', 'tainted love', 'taste my', 'tea bagging', 'threesome', 'throating', 'thumbzilla', 'tied up', 'tight white', 'tit', 'tits', 'titties', 'titty', 'tongue in a', 'topless', 'tosser', 'towelhead', 'tranny', 'tribadism', 'tub girl', 'tubgirl', 'tushy', 'twat', 'twink', 'twinkie', 'two girls one cup', 'undressing', 'upskirt', 'urethra play', 'urophilia', 'vagina', 'venus mound', 'viagra', 'vibrator', 'violet wand', 'vorarephilia', 'voyeur', 'voyeurweb', 'voyuer', 'vulva', 'wank', 'wetback', 'wet dream', 'white power', 'whore', 'worldsex', 'wrapping men', 'wrinkled starfish', 'xx', 'xxx', 'yaoi', 'yellow showers', 'yiffy', 'zoophilia', '🖕']\n"
          ],
          "name": "stdout"
        }
      ]
    },
    {
      "cell_type": "markdown",
      "metadata": {
        "id": "OdMw6OHGwQGD"
      },
      "source": [
        "⚠️⚠️ **¡¡¡ HIGH EXECUTION TIME !!!** ⚠️⚠️\r\n",
        "\r\n",
        "Using the following piece of code, we correct all the words in the tweets. However, the execution time is approximately 30 minutes. "
      ]
    },
    {
      "cell_type": "code",
      "metadata": {
        "id": "BolJxLejKgS-"
      },
      "source": [
        "df_correct_words = pd.DataFrame(columns=['preprocessing_with_emoticons','preprocessing_without_emoticons'])"
      ],
      "execution_count": null,
      "outputs": []
    },
    {
      "cell_type": "code",
      "metadata": {
        "id": "2QWxXroVpTJX"
      },
      "source": [
        "########## ⚠️ HIGH EXECUTION TIME ⚠️ ##########\r\n",
        "\r\n",
        "listTweetsWithout = []\r\n",
        "for i in range(0,len(df_result['preprocessing_without_emoticons'])):\r\n",
        "  listTweet = []\r\n",
        "  for j in range(0,len(df_result['preprocessing_without_emoticons'][i])):\r\n",
        "    if df_result['preprocessing_without_emoticons'][i][j] not in bad_words:\r\n",
        "      listTweet.append(correction(str(df_result['preprocessing_without_emoticons'][i][j])))\r\n",
        "    else:\r\n",
        "      listTweet.append(df_result['preprocessing_without_emoticons'][i][j])\r\n",
        "  listTweetsWithout.append(listTweet)\r\n",
        "\r\n",
        "df_correct_words['preprocessing_without_emoticons'] = listTweetsWithout"
      ],
      "execution_count": null,
      "outputs": []
    },
    {
      "cell_type": "code",
      "metadata": {
        "id": "b5LXU9uZKkOb"
      },
      "source": [
        "########## ⚠️ HIGH EXECUTION TIME ⚠️ ##########\n",
        "listTweetsWith = []\n",
        "for i in range(0,len(df_result['preprocessing_with_emoticons'])):\n",
        "  listTweet = []\n",
        "  for j in range(0,len(df_result['preprocessing_with_emoticons'][i])):\n",
        "    if df_result['preprocessing_with_emoticons'][i][j] not in bad_words:\n",
        "      if is_emoji(str(df_result['preprocessing_with_emoticons'][i][j])) or df_result['preprocessing_with_emoticons'][i][j]=='!':\n",
        "        listTweet.append(str(df_result['preprocessing_with_emoticons'][i][j]))\n",
        "      else:\n",
        "        listTweet.append(correction(str(df_result['preprocessing_with_emoticons'][i][j])))\n",
        "    else:\n",
        "      listTweet.append(df_result['preprocessing_with_emoticons'][i][j])\n",
        "  listTweetsWith.append(listTweet)\n",
        "\n",
        "\n",
        "df_correct_words['preprocessing_with_emoticons'] = listTweetsWith"
      ],
      "execution_count": null,
      "outputs": []
    },
    {
      "cell_type": "code",
      "metadata": {
        "id": "agrpdeRxKVpx"
      },
      "source": [
        "df_correct_words"
      ],
      "execution_count": null,
      "outputs": []
    },
    {
      "cell_type": "markdown",
      "metadata": {
        "id": "crP8yKzBb_Sf"
      },
      "source": [
        "## Stop words\r\n",
        "\r\n",
        "A stop word is a word in common use, which does not provide information. It does not influence when expressing feelings of hatred. Therefore, we eliminate them."
      ]
    },
    {
      "cell_type": "code",
      "metadata": {
        "colab": {
          "base_uri": "https://localhost:8080/",
          "height": 453
        },
        "id": "bDa7pArf-yj8",
        "outputId": "e41fe535-cf46-45d2-d001-fcb071113328"
      },
      "source": [
        "english_stops = set(stopwords.words('english'))\n",
        "clear_sent_emoticon = []\n",
        "clear_sent_not_emoticon = []\n",
        "for tweet in range(0,len(df_result['preprocessing_with_emoticons'])):\n",
        "  clear_sent_emoticon.append([word for word in df_correct_words['preprocessing_with_emoticons'][tweet] if word not in english_stops]) \n",
        "  clear_sent_not_emoticon.append([word for word in df_correct_words['preprocessing_without_emoticons'][tweet] if word not in english_stops]) \n",
        "\n",
        "df_result['preprocessing_with_emoticons'] = clear_sent_emoticon\n",
        "df_result['preprocessing_without_emoticons'] = clear_sent_not_emoticon\n",
        "df_result"
      ],
      "execution_count": null,
      "outputs": [
        {
          "output_type": "stream",
          "text": [
            "[nltk_data] Downloading package stopwords to /root/nltk_data...\n",
            "[nltk_data]   Package stopwords is already up-to-date!\n"
          ],
          "name": "stdout"
        },
        {
          "output_type": "execute_result",
          "data": {
            "text/html": [
              "<div>\n",
              "<style scoped>\n",
              "    .dataframe tbody tr th:only-of-type {\n",
              "        vertical-align: middle;\n",
              "    }\n",
              "\n",
              "    .dataframe tbody tr th {\n",
              "        vertical-align: top;\n",
              "    }\n",
              "\n",
              "    .dataframe thead th {\n",
              "        text-align: right;\n",
              "    }\n",
              "</style>\n",
              "<table border=\"1\" class=\"dataframe\">\n",
              "  <thead>\n",
              "    <tr style=\"text-align: right;\">\n",
              "      <th></th>\n",
              "      <th>preprocessing_without_emoticons</th>\n",
              "      <th>preprocessing_with_emoticons</th>\n",
              "    </tr>\n",
              "  </thead>\n",
              "  <tbody>\n",
              "    <tr>\n",
              "      <th>0</th>\n",
              "      <td>[woman, complain, cleaning, house, man, always...</td>\n",
              "      <td>[woman, complain, cleaning, house, man, always...</td>\n",
              "    </tr>\n",
              "    <tr>\n",
              "      <th>1</th>\n",
              "      <td>[boy, days, cold, tea, bad, coffin, dat, st, p...</td>\n",
              "      <td>[boy, days, cold, tea, bad, coffin, dat, st, p...</td>\n",
              "    </tr>\n",
              "    <tr>\n",
              "      <th>2</th>\n",
              "      <td>[dawn, ever, fuck, bitch, start, cry, confused...</td>\n",
              "      <td>[dawn, !, !, !, ever, fuck, bitch, start, cry,...</td>\n",
              "    </tr>\n",
              "    <tr>\n",
              "      <th>3</th>\n",
              "      <td>[look, like, tranny]</td>\n",
              "      <td>[look, like, tranny]</td>\n",
              "    </tr>\n",
              "    <tr>\n",
              "      <th>4</th>\n",
              "      <td>[shit, hear, might, true, might, baker, bitch,...</td>\n",
              "      <td>[shit, hear, might, true, might, baker, bitch,...</td>\n",
              "    </tr>\n",
              "    <tr>\n",
              "      <th>...</th>\n",
              "      <td>...</td>\n",
              "      <td>...</td>\n",
              "    </tr>\n",
              "    <tr>\n",
              "      <th>24778</th>\n",
              "      <td>[mutual, lie, right, trash, mine, bible, scrip...</td>\n",
              "      <td>[mutual, lie, right, !, trash, mine, bible, sc...</td>\n",
              "    </tr>\n",
              "    <tr>\n",
              "      <th>24779</th>\n",
              "      <td>[gone, broke, wrong, heart, baby, drove, redne...</td>\n",
              "      <td>[gone, broke, wrong, heart, baby, drove, redne...</td>\n",
              "    </tr>\n",
              "    <tr>\n",
              "      <th>24780</th>\n",
              "      <td>[young, buck, anna, eat, dat, nigh, like, aunt...</td>\n",
              "      <td>[young, buck, anna, eat, !, !, dat, nigh, like...</td>\n",
              "    </tr>\n",
              "    <tr>\n",
              "      <th>24781</th>\n",
              "      <td>[got, wild, bitches, telling, lies]</td>\n",
              "      <td>[got, wild, bitches, telling, lies]</td>\n",
              "    </tr>\n",
              "    <tr>\n",
              "      <th>24782</th>\n",
              "      <td>[ruffled, near, eleven, dahlia, beautiful, col...</td>\n",
              "      <td>[ruffled, near, eleven, dahlia, beautiful, col...</td>\n",
              "    </tr>\n",
              "  </tbody>\n",
              "</table>\n",
              "<p>24783 rows × 2 columns</p>\n",
              "</div>"
            ],
            "text/plain": [
              "                         preprocessing_without_emoticons                       preprocessing_with_emoticons\n",
              "0      [woman, complain, cleaning, house, man, always...  [woman, complain, cleaning, house, man, always...\n",
              "1      [boy, days, cold, tea, bad, coffin, dat, st, p...  [boy, days, cold, tea, bad, coffin, dat, st, p...\n",
              "2      [dawn, ever, fuck, bitch, start, cry, confused...  [dawn, !, !, !, ever, fuck, bitch, start, cry,...\n",
              "3                                   [look, like, tranny]                               [look, like, tranny]\n",
              "4      [shit, hear, might, true, might, baker, bitch,...  [shit, hear, might, true, might, baker, bitch,...\n",
              "...                                                  ...                                                ...\n",
              "24778  [mutual, lie, right, trash, mine, bible, scrip...  [mutual, lie, right, !, trash, mine, bible, sc...\n",
              "24779  [gone, broke, wrong, heart, baby, drove, redne...  [gone, broke, wrong, heart, baby, drove, redne...\n",
              "24780  [young, buck, anna, eat, dat, nigh, like, aunt...  [young, buck, anna, eat, !, !, dat, nigh, like...\n",
              "24781                [got, wild, bitches, telling, lies]                [got, wild, bitches, telling, lies]\n",
              "24782  [ruffled, near, eleven, dahlia, beautiful, col...  [ruffled, near, eleven, dahlia, beautiful, col...\n",
              "\n",
              "[24783 rows x 2 columns]"
            ]
          },
          "metadata": {
            "tags": []
          },
          "execution_count": 41
        }
      ]
    },
    {
      "cell_type": "markdown",
      "metadata": {
        "id": "i0yT0SulgVli"
      },
      "source": [
        "## Lemmatize all terms\r\n",
        "\r\n",
        "With lemmatization we group the inflected forms of the different words so that they can be analyzed as a single element."
      ]
    },
    {
      "cell_type": "code",
      "metadata": {
        "colab": {
          "base_uri": "https://localhost:8080/",
          "height": 453
        },
        "id": "0kMOZqUvlZ_N",
        "outputId": "788be63d-467e-438d-9fb7-eb2c30567b54"
      },
      "source": [
        "lemmatizer = WordNetLemmatizer()\n",
        "clear_sent_emoticon = []\n",
        "clear_sent_not_emoticon = []\n",
        "for tweet in range(0,len(df_result['preprocessing_with_emoticons'])):\n",
        "  clear_sent_emoticon.append([lemmatizer.lemmatize(word) for word in df_correct_words['preprocessing_with_emoticons'][tweet]])\n",
        "  clear_sent_not_emoticon.append([lemmatizer.lemmatize(word) for word in df_correct_words['preprocessing_without_emoticons'][tweet]])\n",
        "\n",
        "df_result['preprocessing_with_emoticons'] = clear_sent_emoticon\n",
        "df_result['preprocessing_without_emoticons'] = clear_sent_not_emoticon\n",
        "df_result"
      ],
      "execution_count": null,
      "outputs": [
        {
          "output_type": "stream",
          "text": [
            "[nltk_data] Downloading package wordnet to /root/nltk_data...\n",
            "[nltk_data]   Unzipping corpora/wordnet.zip.\n"
          ],
          "name": "stdout"
        },
        {
          "output_type": "execute_result",
          "data": {
            "text/html": [
              "<div>\n",
              "<style scoped>\n",
              "    .dataframe tbody tr th:only-of-type {\n",
              "        vertical-align: middle;\n",
              "    }\n",
              "\n",
              "    .dataframe tbody tr th {\n",
              "        vertical-align: top;\n",
              "    }\n",
              "\n",
              "    .dataframe thead th {\n",
              "        text-align: right;\n",
              "    }\n",
              "</style>\n",
              "<table border=\"1\" class=\"dataframe\">\n",
              "  <thead>\n",
              "    <tr style=\"text-align: right;\">\n",
              "      <th></th>\n",
              "      <th>preprocessing_without_emoticons</th>\n",
              "      <th>preprocessing_with_emoticons</th>\n",
              "    </tr>\n",
              "  </thead>\n",
              "  <tbody>\n",
              "    <tr>\n",
              "      <th>0</th>\n",
              "      <td>[a, a, woman, you, should, not, complain, abou...</td>\n",
              "      <td>[a, a, woman, you, should, not, complain, abou...</td>\n",
              "    </tr>\n",
              "    <tr>\n",
              "      <th>1</th>\n",
              "      <td>[boy, day, cold, tea, down, bad, for, coffin, ...</td>\n",
              "      <td>[boy, day, cold, tea, down, bad, for, coffin, ...</td>\n",
              "    </tr>\n",
              "    <tr>\n",
              "      <th>2</th>\n",
              "      <td>[dawn, you, ever, fuck, a, bitch, and, she, st...</td>\n",
              "      <td>[dawn, !, !, !, you, ever, fuck, a, bitch, and...</td>\n",
              "    </tr>\n",
              "    <tr>\n",
              "      <th>3</th>\n",
              "      <td>[she, look, like, a, tranny]</td>\n",
              "      <td>[she, look, like, a, tranny]</td>\n",
              "    </tr>\n",
              "    <tr>\n",
              "      <th>4</th>\n",
              "      <td>[the, shit, you, hear, about, me, might, be, t...</td>\n",
              "      <td>[the, shit, you, hear, about, me, might, be, t...</td>\n",
              "    </tr>\n",
              "    <tr>\n",
              "      <th>...</th>\n",
              "      <td>...</td>\n",
              "      <td>...</td>\n",
              "    </tr>\n",
              "    <tr>\n",
              "      <th>24778</th>\n",
              "      <td>[you, a, mutual, in, lie, right, his, to, is, ...</td>\n",
              "      <td>[you, a, mutual, in, lie, right, !, his, of, i...</td>\n",
              "    </tr>\n",
              "    <tr>\n",
              "      <th>24779</th>\n",
              "      <td>[you, have, gone, and, broke, the, wrong, hear...</td>\n",
              "      <td>[you, have, gone, and, broke, the, wrong, hear...</td>\n",
              "    </tr>\n",
              "    <tr>\n",
              "      <th>24780</th>\n",
              "      <td>[young, buck, anna, eat, dat, nigh, like, i, a...</td>\n",
              "      <td>[young, buck, anna, eat, !, !, dat, nigh, like...</td>\n",
              "    </tr>\n",
              "    <tr>\n",
              "      <th>24781</th>\n",
              "      <td>[you, got, wild, bitch, telling, you, lie]</td>\n",
              "      <td>[you, got, wild, bitch, telling, you, lie]</td>\n",
              "    </tr>\n",
              "    <tr>\n",
              "      <th>24782</th>\n",
              "      <td>[ruffled, near, eleven, dahlia, beautiful, col...</td>\n",
              "      <td>[ruffled, near, eleven, dahlia, beautiful, col...</td>\n",
              "    </tr>\n",
              "  </tbody>\n",
              "</table>\n",
              "<p>24783 rows × 2 columns</p>\n",
              "</div>"
            ],
            "text/plain": [
              "                         preprocessing_without_emoticons                       preprocessing_with_emoticons\n",
              "0      [a, a, woman, you, should, not, complain, abou...  [a, a, woman, you, should, not, complain, abou...\n",
              "1      [boy, day, cold, tea, down, bad, for, coffin, ...  [boy, day, cold, tea, down, bad, for, coffin, ...\n",
              "2      [dawn, you, ever, fuck, a, bitch, and, she, st...  [dawn, !, !, !, you, ever, fuck, a, bitch, and...\n",
              "3                           [she, look, like, a, tranny]                       [she, look, like, a, tranny]\n",
              "4      [the, shit, you, hear, about, me, might, be, t...  [the, shit, you, hear, about, me, might, be, t...\n",
              "...                                                  ...                                                ...\n",
              "24778  [you, a, mutual, in, lie, right, his, to, is, ...  [you, a, mutual, in, lie, right, !, his, of, i...\n",
              "24779  [you, have, gone, and, broke, the, wrong, hear...  [you, have, gone, and, broke, the, wrong, hear...\n",
              "24780  [young, buck, anna, eat, dat, nigh, like, i, a...  [young, buck, anna, eat, !, !, dat, nigh, like...\n",
              "24781         [you, got, wild, bitch, telling, you, lie]         [you, got, wild, bitch, telling, you, lie]\n",
              "24782  [ruffled, near, eleven, dahlia, beautiful, col...  [ruffled, near, eleven, dahlia, beautiful, col...\n",
              "\n",
              "[24783 rows x 2 columns]"
            ]
          },
          "metadata": {
            "tags": []
          },
          "execution_count": 42
        }
      ]
    },
    {
      "cell_type": "markdown",
      "metadata": {
        "id": "qXtA6JkEK6ik"
      },
      "source": [
        "# 3. Export the data"
      ]
    },
    {
      "cell_type": "markdown",
      "metadata": {
        "id": "nMGC-RzQwbQY"
      },
      "source": [
        "Finally we save the preprocessed information in a csv to work more comfortably in another notebook."
      ]
    },
    {
      "cell_type": "code",
      "metadata": {
        "id": "4pVXkV1OZSqX"
      },
      "source": [
        "df_result['class'] = df['class']\n",
        "df_result.to_csv(\"prepocessed_data.csv\")"
      ],
      "execution_count": null,
      "outputs": []
    }
  ]
}
{
  "nbformat": 4,
  "nbformat_minor": 0,
  "metadata": {
    "colab": {
      "name": "SSJ: Task2 Cambio de plan",
      "provenance": [],
      "collapsed_sections": [],
      "toc_visible": true
    },
    "kernelspec": {
      "display_name": "Python 3",
      "name": "python3"
    }
  },
  "cells": [
    {
      "cell_type": "markdown",
      "metadata": {
        "id": "view-in-github"
      },
      "source": [
        "<a href=\"https://colab.research.google.com/github/sergiobm3/ESI_MachineLearning/blob/NLP/SSJ_Task2_Natural_Language_Processing.ipynb\" target=\"_parent\"><img src=\"https://colab.research.google.com/assets/colab-badge.svg\" alt=\"Open In Colab\"/></a>"
      ]
    },
    {
      "cell_type": "markdown",
      "metadata": {
        "id": "uIKabJAeqFMt"
      },
      "source": [
        "\n",
        "\n",
        "> We are the SSJ team and this is our work about natural language processing.\n",
        "\n",
        "---"
      ]
    },
    {
      "cell_type": "code",
      "metadata": {
        "id": "EmNVisjhv2oV"
      },
      "source": [
        "import io\n",
        "import pandas as pd\n",
        "from google.colab import files\n",
        "import re"
      ],
      "execution_count": null,
      "outputs": []
    },
    {
      "cell_type": "markdown",
      "metadata": {
        "id": "d9-uS5d_dJZE"
      },
      "source": [
        "## 0. Loading Data\r\n",
        "\r\n",
        "We start by loading the data file that contains the tweets with which the study will work. The file format to upload is CSV.\r\n",
        "\r\n",
        "For this purpose, we use some commands provided by Google Colab itself to access files on our computer."
      ]
    },
    {
      "cell_type": "code",
      "metadata": {
        "colab": {
          "resources": {
            "http://localhost:8080/nbextensions/google.colab/files.js": {
              "data": "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",
              "ok": true,
              "headers": [
                [
                  "content-type",
                  "application/javascript"
                ]
              ],
              "status": 200,
              "status_text": "OK"
            }
          },
          "base_uri": "https://localhost:8080/",
          "height": 498
        },
        "id": "s7muMGF_CQve",
        "outputId": "5463d00f-9501-4808-d70e-c627be1bef13"
      },
      "source": [
        "uploaded = files.upload()\n",
        "\n",
        "for fn in uploaded.keys():\n",
        "  print('User uploaded file \"{name}\" with length {length} bytes'.format(\n",
        "      name=fn, length=len(uploaded[fn])))\n",
        "  df = pd.read_csv(io.StringIO(uploaded[fn].decode('utf-8')),sep=',')\n",
        "\n",
        "df"
      ],
      "execution_count": null,
      "outputs": [
        {
          "output_type": "display_data",
          "data": {
            "text/html": [
              "\n",
              "     <input type=\"file\" id=\"files-10b24ad1-1942-490a-bda8-b88f8349623c\" name=\"files[]\" multiple disabled\n",
              "        style=\"border:none\" />\n",
              "     <output id=\"result-10b24ad1-1942-490a-bda8-b88f8349623c\">\n",
              "      Upload widget is only available when the cell has been executed in the\n",
              "      current browser session. Please rerun this cell to enable.\n",
              "      </output>\n",
              "      <script src=\"/nbextensions/google.colab/files.js\"></script> "
            ],
            "text/plain": [
              "<IPython.core.display.HTML object>"
            ]
          },
          "metadata": {
            "tags": []
          }
        },
        {
          "output_type": "stream",
          "text": [
            "Saving labeled_data.csv to labeled_data (1).csv\n",
            "User uploaded file \"labeled_data.csv\" with length 2546446 bytes\n"
          ],
          "name": "stdout"
        },
        {
          "output_type": "execute_result",
          "data": {
            "text/html": [
              "<div>\n",
              "<style scoped>\n",
              "    .dataframe tbody tr th:only-of-type {\n",
              "        vertical-align: middle;\n",
              "    }\n",
              "\n",
              "    .dataframe tbody tr th {\n",
              "        vertical-align: top;\n",
              "    }\n",
              "\n",
              "    .dataframe thead th {\n",
              "        text-align: right;\n",
              "    }\n",
              "</style>\n",
              "<table border=\"1\" class=\"dataframe\">\n",
              "  <thead>\n",
              "    <tr style=\"text-align: right;\">\n",
              "      <th></th>\n",
              "      <th>Unnamed: 0</th>\n",
              "      <th>count</th>\n",
              "      <th>hate_speech</th>\n",
              "      <th>offensive_language</th>\n",
              "      <th>neither</th>\n",
              "      <th>class</th>\n",
              "      <th>tweet</th>\n",
              "    </tr>\n",
              "  </thead>\n",
              "  <tbody>\n",
              "    <tr>\n",
              "      <th>0</th>\n",
              "      <td>0</td>\n",
              "      <td>3</td>\n",
              "      <td>0</td>\n",
              "      <td>0</td>\n",
              "      <td>3</td>\n",
              "      <td>2</td>\n",
              "      <td>!!! RT @mayasolovely: As a woman you shouldn't...</td>\n",
              "    </tr>\n",
              "    <tr>\n",
              "      <th>1</th>\n",
              "      <td>1</td>\n",
              "      <td>3</td>\n",
              "      <td>0</td>\n",
              "      <td>3</td>\n",
              "      <td>0</td>\n",
              "      <td>1</td>\n",
              "      <td>!!!!! RT @mleew17: boy dats cold...tyga dwn ba...</td>\n",
              "    </tr>\n",
              "    <tr>\n",
              "      <th>2</th>\n",
              "      <td>2</td>\n",
              "      <td>3</td>\n",
              "      <td>0</td>\n",
              "      <td>3</td>\n",
              "      <td>0</td>\n",
              "      <td>1</td>\n",
              "      <td>!!!!!!! RT @UrKindOfBrand Dawg!!!! RT @80sbaby...</td>\n",
              "    </tr>\n",
              "    <tr>\n",
              "      <th>3</th>\n",
              "      <td>3</td>\n",
              "      <td>3</td>\n",
              "      <td>0</td>\n",
              "      <td>2</td>\n",
              "      <td>1</td>\n",
              "      <td>1</td>\n",
              "      <td>!!!!!!!!! RT @C_G_Anderson: @viva_based she lo...</td>\n",
              "    </tr>\n",
              "    <tr>\n",
              "      <th>4</th>\n",
              "      <td>4</td>\n",
              "      <td>6</td>\n",
              "      <td>0</td>\n",
              "      <td>6</td>\n",
              "      <td>0</td>\n",
              "      <td>1</td>\n",
              "      <td>!!!!!!!!!!!!! RT @ShenikaRoberts: The shit you...</td>\n",
              "    </tr>\n",
              "    <tr>\n",
              "      <th>...</th>\n",
              "      <td>...</td>\n",
              "      <td>...</td>\n",
              "      <td>...</td>\n",
              "      <td>...</td>\n",
              "      <td>...</td>\n",
              "      <td>...</td>\n",
              "      <td>...</td>\n",
              "    </tr>\n",
              "    <tr>\n",
              "      <th>24778</th>\n",
              "      <td>25291</td>\n",
              "      <td>3</td>\n",
              "      <td>0</td>\n",
              "      <td>2</td>\n",
              "      <td>1</td>\n",
              "      <td>1</td>\n",
              "      <td>you's a muthaf***in lie &amp;#8220;@LifeAsKing: @2...</td>\n",
              "    </tr>\n",
              "    <tr>\n",
              "      <th>24779</th>\n",
              "      <td>25292</td>\n",
              "      <td>3</td>\n",
              "      <td>0</td>\n",
              "      <td>1</td>\n",
              "      <td>2</td>\n",
              "      <td>2</td>\n",
              "      <td>you've gone and broke the wrong heart baby, an...</td>\n",
              "    </tr>\n",
              "    <tr>\n",
              "      <th>24780</th>\n",
              "      <td>25294</td>\n",
              "      <td>3</td>\n",
              "      <td>0</td>\n",
              "      <td>3</td>\n",
              "      <td>0</td>\n",
              "      <td>1</td>\n",
              "      <td>young buck wanna eat!!.. dat nigguh like I ain...</td>\n",
              "    </tr>\n",
              "    <tr>\n",
              "      <th>24781</th>\n",
              "      <td>25295</td>\n",
              "      <td>6</td>\n",
              "      <td>0</td>\n",
              "      <td>6</td>\n",
              "      <td>0</td>\n",
              "      <td>1</td>\n",
              "      <td>youu got wild bitches tellin you lies</td>\n",
              "    </tr>\n",
              "    <tr>\n",
              "      <th>24782</th>\n",
              "      <td>25296</td>\n",
              "      <td>3</td>\n",
              "      <td>0</td>\n",
              "      <td>0</td>\n",
              "      <td>3</td>\n",
              "      <td>2</td>\n",
              "      <td>~~Ruffled | Ntac Eileen Dahlia - Beautiful col...</td>\n",
              "    </tr>\n",
              "  </tbody>\n",
              "</table>\n",
              "<p>24783 rows × 7 columns</p>\n",
              "</div>"
            ],
            "text/plain": [
              "       Unnamed: 0  ...                                              tweet\n",
              "0               0  ...  !!! RT @mayasolovely: As a woman you shouldn't...\n",
              "1               1  ...  !!!!! RT @mleew17: boy dats cold...tyga dwn ba...\n",
              "2               2  ...  !!!!!!! RT @UrKindOfBrand Dawg!!!! RT @80sbaby...\n",
              "3               3  ...  !!!!!!!!! RT @C_G_Anderson: @viva_based she lo...\n",
              "4               4  ...  !!!!!!!!!!!!! RT @ShenikaRoberts: The shit you...\n",
              "...           ...  ...                                                ...\n",
              "24778       25291  ...  you's a muthaf***in lie &#8220;@LifeAsKing: @2...\n",
              "24779       25292  ...  you've gone and broke the wrong heart baby, an...\n",
              "24780       25294  ...  young buck wanna eat!!.. dat nigguh like I ain...\n",
              "24781       25295  ...              youu got wild bitches tellin you lies\n",
              "24782       25296  ...  ~~Ruffled | Ntac Eileen Dahlia - Beautiful col...\n",
              "\n",
              "[24783 rows x 7 columns]"
            ]
          },
          "metadata": {
            "tags": []
          },
          "execution_count": 41
        }
      ]
    },
    {
      "cell_type": "markdown",
      "metadata": {
        "id": "WUYtzK1fykzw"
      },
      "source": [
        "3 classes: 0 --> hate speech, 1 --> offensive language, 2 --> neither"
      ]
    },
    {
      "cell_type": "markdown",
      "metadata": {
        "id": "PkiEwhzbelrP"
      },
      "source": [
        "# 1. Preprocessing\r\n",
        "\r\n",
        "Before starting, it is necessary to preprocess the tweet field of the dataset that is provided to us, in order to work in a more efficient and accurate way."
      ]
    },
    {
      "cell_type": "markdown",
      "metadata": {
        "id": "upQTMV99GXCZ"
      },
      "source": [
        "## Remove unuseful data\r\n",
        "\r\n",
        "Some symbols that do not provide information have been eliminated."
      ]
    },
    {
      "cell_type": "code",
      "metadata": {
        "id": "ojY36_VFHlH3"
      },
      "source": [
        "pattern = \"\\\"#$%&'()*+, -./:;<=>?@[\\]^_`{|}~“”…»’\"\n",
        "\n",
        "def cleanUnusefulData(sentence):\n",
        "  sentence = sentence.translate(str.maketrans('', '', pattern))\n",
        "  return sentence\n",
        "\n",
        "def removeUnusefulExclamation(sentence):\n",
        "  if sentence[0] == '!':\n",
        "    sentence = removeUnusefulExclamation(sentence[1:])\n",
        "  else:\n",
        "    return sentence\n",
        "  return sentence\n",
        "\n",
        "clean_tweet = []\n",
        "for t in range(0,len(df)):\n",
        "  tweet = df.iloc[t]['tweet']\n",
        "  tweet = removeUnusefulExclamation(tweet)\n",
        "  clean_tweet.append(tweet)\n",
        "\n",
        "df['clean_tweet'] = clean_tweet\n"
      ],
      "execution_count": null,
      "outputs": []
    },
    {
      "cell_type": "markdown",
      "metadata": {
        "id": "HJJYq7h4au0L"
      },
      "source": [
        "## Replace emoticons\r\n",
        "\r\n",
        "We replace the emoticons with words that resemble what they want to express. You must upload the emoticons.txt file."
      ]
    },
    {
      "cell_type": "code",
      "metadata": {
        "colab": {
          "base_uri": "https://localhost:8080/"
        },
        "id": "rbx33glitktw",
        "outputId": "1c1a3a90-fb4c-41b4-98ba-fc03b2ec9c36"
      },
      "source": [
        "dict_emoticons = {}\n",
        "with open('emoticons.txt') as f:\n",
        "    for linea in f:\n",
        "      info = linea.split(\",\")\n",
        "      emoticon_code = info[0]\n",
        "      emoticon_word = info[2]\n",
        "      dict_emoticons[emoticon_code] = emoticon_word[:len(emoticon_word)-1]\n",
        "print(dict_emoticons)\n",
        "\n",
        "def replaceEmoticon(word):\n",
        "  if word in dict_emoticons:\n",
        "    word = word.replace(str(word),dict_emoticons[word])\n",
        "  return word\n",
        "\n",
        "def replaceUnknownEmoticon(word):\n",
        "  m = re.match(r\"\\\\[u][A-Za-z0-9]*\",word)\n",
        "  if m is not None:\n",
        "    word = \"\"\n",
        "  return word"
      ],
      "execution_count": null,
      "outputs": [
        {
          "output_type": "stream",
          "text": [
            "{'😀': 'smile', '😁': 'smile', '😂': 'laugh', '😃': 'smile', '😄': 'smile', '😆': 'smile', '😉': 'wink', '😊': 'smile', '😒': 'unamused', '😕': 'confused', '😗': 'kiss', '😘': 'kiss', '😙': 'kiss', '😚': 'kiss', '😞': 'dissapointed', '😟': 'worried', '😠': 'angry', '😡': 'angry', '😢': 'sad', '😨': 'frightened', '😪': 'sleepy', '😫': 'tired', '😭': 'sad', '😮': 'surprised', '😯': 'surprised', '😱': 'frightened', '😲': 'astonished', '😳': 'flushed', '😴': 'sleepy', '😵': 'confused', '😶': 'quiet', '🤐': 'quiet', '🤒': 'ill', '🤔': 'thoughtful', '🤡': 'clown', '🤢': 'sucks', '🤣': 'laugh', '\\U0001f92c': 'angry', '\\U0001f92e': 'sucks', '\\U0001f92f': 'astonished'}\n"
          ],
          "name": "stdout"
        }
      ]
    },
    {
      "cell_type": "markdown",
      "metadata": {
        "id": "iKzmvKruZiOc"
      },
      "source": [
        "## Remove contractions\r\n",
        " \r\n",
        "A dictionary containing the most common contractions has been implemented, to return instead the \"expanded form\" of expressing them."
      ]
    },
    {
      "cell_type": "code",
      "metadata": {
        "id": "nG2J7JPHZqIO"
      },
      "source": [
        "dict_contractions = {'aren\\'t':'are not', 'can\\'t':'can not', 'couldn\\'t':'could not', 'didn\\'t':'did not', 'don\\'t':'do not', 'doesn\\'t':'does not', 'hadn\\'t':'had not',\n",
        "                       'haven\\'t':'have not', 'he\\'s':'he is', 'he\\'ll':'he will', 'he\\'d':'he would', 'here\\'s':'here is', 'i\\'m':'i am', 'i\\'ve':'i have', 'i\\'ll':'i will',\n",
        "                       'i\\'d':'i would', 'isn\\'t':'is not','it\\'s':'it is', 'it\\'ll':'it will', 'mustn\\'t':'must not', 'she\\'s':'she is', 'she\\'ll':'she will', 'she\\'d':'she would',\n",
        "                       'shouldn\\'t':'should not', 'that\\'s':'that is', 'there\\'s':'there is', 'they\\'re':'they are', 'they\\'ve':'they have', 'they\\'ll':'they will', 'they\\'d':'they would',\n",
        "                       'they\\'d':'they had', 'wasn\\'t':'was not', 'we\\'re':'we are', 'we\\'re':'we are', 'we\\'ve':'we have', 'we\\'ll':'we will', 'we\\'d':'we would', 'weren\\'t':'were not', 'what\\'s':'what is',\n",
        "                       'where\\'s':'where is', 'who\\'s':'who is', 'who\\'ll':'who will', 'won\\'t':'will not', 'wouldn\\'t':'would not', 'you\\'re': 'you are', 'you\\'ve': 'you have', \n",
        "                       'you\\'ll':'you will', 'you\\'d':'you would', 'y\\'all': 'you all', 'could\\'ve': 'could have', 'hasn\\'t': 'has not', 'let\\'s': 'let us'}\n",
        "\n",
        "def remove_contractions(word):\n",
        "  return word.replace(word,dict_contractions[word])\n",
        "  \n",
        "def is_remove_contractions(word):\n",
        "  if word in dict_contractions:\n",
        "    return True    \n",
        "  else:\n",
        "    return False"
      ],
      "execution_count": null,
      "outputs": []
    },
    {
      "cell_type": "markdown",
      "metadata": {
        "id": "jBPUWLdKSckv"
      },
      "source": [
        "## Executing preprocessing\r\n",
        "\r\n",
        "All the functions defined above will be executed. And other preprocessing steps that have not needed to be defined in a separate function, such as deleting all capital letters."
      ]
    },
    {
      "cell_type": "code",
      "metadata": {
        "id": "UNDh43SCZeG2"
      },
      "source": [
        "# We create a new dataframe to save result in different columns\n",
        "df_result = pd.DataFrame()"
      ],
      "execution_count": null,
      "outputs": []
    },
    {
      "cell_type": "code",
      "metadata": {
        "colab": {
          "base_uri": "https://localhost:8080/",
          "height": 478
        },
        "id": "U7cE8FWj3SQX",
        "outputId": "070f7f45-0628-4982-cd9f-484fe4534119"
      },
      "source": [
        "!pip install tweet-preprocessor\n",
        "\n",
        "import preprocessor as p\n",
        "import nltk\n",
        "nltk.download('punkt')\n",
        "from nltk.tokenize import TweetTokenizer\n",
        "\n",
        "p.set_options(p.OPT.EMOJI, p.OPT.URL,p.OPT.HASHTAG, p.OPT.MENTION, p.OPT.SMILEY, p.OPT.ESCAPE_CHAR, p.OPT.RESERVED, p.OPT.NUMBER)\n",
        "tknzr = TweetTokenizer(strip_handles=True, reduce_len=True)\n",
        "\n",
        "###### EXECUTING PREPROCESSING WITHOUT EMOTICONS ######\n",
        "\n",
        "# Each sentence of tweet\n",
        "sentences = []\n",
        "for tweet in df['clean_tweet']:\n",
        "    result = tknzr.tokenize(tweet)\n",
        "    list_token = []\n",
        "    for word in result:\n",
        "      # Change emoticon for text\n",
        "      token = replaceEmoticon(word)\n",
        "      token = replaceUnknownEmoticon(token.encode('unicode-escape').decode('ASCII'))\n",
        "\n",
        "      if token == \"\": \n",
        "        pass\n",
        "      else: token = token.encode('ASCII').decode('unicode-escape')\n",
        "\n",
        "      # Clean hashtag and mentions\n",
        "      token = p.clean(token)\n",
        "\n",
        "      # Remove the capital letters, if the word is not capitalized entirely.\n",
        "      if not token.isupper():\n",
        "        token = token.lower()\n",
        "      if token.isupper() and len(token)==1:\n",
        "        token = token.lower()\n",
        "\n",
        "      if is_remove_contractions(token): # Remove contractions\n",
        "        token = remove_contractions(token)\n",
        "        token = token.split(\" \")\n",
        "        list_token.append(token[0])\n",
        "        list_token.append(token[1])\n",
        "      else: # Clean unuseful data (\",_,...)\n",
        "        token = cleanUnusefulData(token)\n",
        "        if(token is not \"\"):\n",
        "          list_token.append(token)\n",
        "      \n",
        "    sentences.append(list_token)\n",
        "\n",
        "df_result['preprocessing_without_emoticons'] = sentences\n",
        "df_result"
      ],
      "execution_count": null,
      "outputs": [
        {
          "output_type": "stream",
          "text": [
            "Requirement already satisfied: tweet-preprocessor in /usr/local/lib/python3.6/dist-packages (0.6.0)\n",
            "[nltk_data] Downloading package punkt to /root/nltk_data...\n",
            "[nltk_data]   Package punkt is already up-to-date!\n"
          ],
          "name": "stdout"
        },
        {
          "output_type": "execute_result",
          "data": {
            "text/html": [
              "<div>\n",
              "<style scoped>\n",
              "    .dataframe tbody tr th:only-of-type {\n",
              "        vertical-align: middle;\n",
              "    }\n",
              "\n",
              "    .dataframe tbody tr th {\n",
              "        vertical-align: top;\n",
              "    }\n",
              "\n",
              "    .dataframe thead th {\n",
              "        text-align: right;\n",
              "    }\n",
              "</style>\n",
              "<table border=\"1\" class=\"dataframe\">\n",
              "  <thead>\n",
              "    <tr style=\"text-align: right;\">\n",
              "      <th></th>\n",
              "      <th>preprocessing_without_emoticons</th>\n",
              "    </tr>\n",
              "  </thead>\n",
              "  <tbody>\n",
              "    <tr>\n",
              "      <th>0</th>\n",
              "      <td>[as, a, woman, you, should, not, complain, abo...</td>\n",
              "    </tr>\n",
              "    <tr>\n",
              "      <th>1</th>\n",
              "      <td>[boy, dats, cold, tyga, dwn, bad, for, cuffin,...</td>\n",
              "    </tr>\n",
              "    <tr>\n",
              "      <th>2</th>\n",
              "      <td>[dawg, !, !, !, you, ever, fuck, a, bitch, and...</td>\n",
              "    </tr>\n",
              "    <tr>\n",
              "      <th>3</th>\n",
              "      <td>[she, look, like, a, tranny]</td>\n",
              "    </tr>\n",
              "    <tr>\n",
              "      <th>4</th>\n",
              "      <td>[the, shit, you, hear, about, me, might, be, t...</td>\n",
              "    </tr>\n",
              "    <tr>\n",
              "      <th>...</th>\n",
              "      <td>...</td>\n",
              "    </tr>\n",
              "    <tr>\n",
              "      <th>24778</th>\n",
              "      <td>[yous, a, muthaf, in, lie, right, !, his, TL, ...</td>\n",
              "    </tr>\n",
              "    <tr>\n",
              "      <th>24779</th>\n",
              "      <td>[you, have, gone, and, broke, the, wrong, hear...</td>\n",
              "    </tr>\n",
              "    <tr>\n",
              "      <th>24780</th>\n",
              "      <td>[young, buck, wanna, eat, !, !, dat, nigguh, l...</td>\n",
              "    </tr>\n",
              "    <tr>\n",
              "      <th>24781</th>\n",
              "      <td>[youu, got, wild, bitches, tellin, you, lies]</td>\n",
              "    </tr>\n",
              "    <tr>\n",
              "      <th>24782</th>\n",
              "      <td>[ruffled, ntac, eileen, dahlia, beautiful, col...</td>\n",
              "    </tr>\n",
              "  </tbody>\n",
              "</table>\n",
              "<p>24783 rows × 1 columns</p>\n",
              "</div>"
            ],
            "text/plain": [
              "                         preprocessing_without_emoticons\n",
              "0      [as, a, woman, you, should, not, complain, abo...\n",
              "1      [boy, dats, cold, tyga, dwn, bad, for, cuffin,...\n",
              "2      [dawg, !, !, !, you, ever, fuck, a, bitch, and...\n",
              "3                           [she, look, like, a, tranny]\n",
              "4      [the, shit, you, hear, about, me, might, be, t...\n",
              "...                                                  ...\n",
              "24778  [yous, a, muthaf, in, lie, right, !, his, TL, ...\n",
              "24779  [you, have, gone, and, broke, the, wrong, hear...\n",
              "24780  [young, buck, wanna, eat, !, !, dat, nigguh, l...\n",
              "24781      [youu, got, wild, bitches, tellin, you, lies]\n",
              "24782  [ruffled, ntac, eileen, dahlia, beautiful, col...\n",
              "\n",
              "[24783 rows x 1 columns]"
            ]
          },
          "metadata": {
            "tags": []
          },
          "execution_count": 46
        }
      ]
    },
    {
      "cell_type": "code",
      "metadata": {
        "colab": {
          "base_uri": "https://localhost:8080/",
          "height": 424
        },
        "id": "bL0yXSiLUNpr",
        "outputId": "004050f5-c607-44d6-f8c2-61f9915a368b"
      },
      "source": [
        "###### EXECUTING PREPROCESSING WITH EMOTICONS ######\n",
        "\n",
        "# Each sentence of tweet\n",
        "sentences = []\n",
        "for tweet in df['clean_tweet']:\n",
        "    result = tknzr.tokenize(tweet)\n",
        "    list_token = []\n",
        "    for word in result:\n",
        "      # Change emoticon for text\n",
        "      token = p.clean(word)\n",
        "      token = replaceUnknownEmoticon(token.encode('unicode-escape').decode('ASCII'))\n",
        "\n",
        "      if token == \"\":\n",
        "        pass\n",
        "      else: token = token.encode('ASCII').decode('unicode-escape')\n",
        "\n",
        "      # Remove the capital letters, if the word is not capitalized entirely.\n",
        "      if not token.isupper():\n",
        "        token = token.lower()\n",
        "      if token.isupper() and len(token)==1:\n",
        "        token = token.lower()\n",
        "\n",
        "      if is_remove_contractions(token): # Remove contractions\n",
        "        token = remove_contractions(token)\n",
        "        token = token.split(\" \")\n",
        "        list_token.append(token[0])\n",
        "        list_token.append(token[1])\n",
        "      else: # Clean unuseful data (\",_,...)\n",
        "        token = cleanUnusefulData(token)\n",
        "        if(token is not \"\"):\n",
        "          list_token.append(token)\n",
        "    \n",
        "    sentences.append(list_token)\n",
        "\n",
        "df_result['preprocessing_with_emoticons'] = sentences\n",
        "df_result"
      ],
      "execution_count": null,
      "outputs": [
        {
          "output_type": "execute_result",
          "data": {
            "text/html": [
              "<div>\n",
              "<style scoped>\n",
              "    .dataframe tbody tr th:only-of-type {\n",
              "        vertical-align: middle;\n",
              "    }\n",
              "\n",
              "    .dataframe tbody tr th {\n",
              "        vertical-align: top;\n",
              "    }\n",
              "\n",
              "    .dataframe thead th {\n",
              "        text-align: right;\n",
              "    }\n",
              "</style>\n",
              "<table border=\"1\" class=\"dataframe\">\n",
              "  <thead>\n",
              "    <tr style=\"text-align: right;\">\n",
              "      <th></th>\n",
              "      <th>preprocessing_without_emoticons</th>\n",
              "      <th>preprocessing_with_emoticons</th>\n",
              "    </tr>\n",
              "  </thead>\n",
              "  <tbody>\n",
              "    <tr>\n",
              "      <th>0</th>\n",
              "      <td>[as, a, woman, you, should, not, complain, abo...</td>\n",
              "      <td>[as, a, woman, you, should, not, complain, abo...</td>\n",
              "    </tr>\n",
              "    <tr>\n",
              "      <th>1</th>\n",
              "      <td>[boy, dats, cold, tyga, dwn, bad, for, cuffin,...</td>\n",
              "      <td>[boy, dats, cold, tyga, dwn, bad, for, cuffin,...</td>\n",
              "    </tr>\n",
              "    <tr>\n",
              "      <th>2</th>\n",
              "      <td>[dawg, !, !, !, you, ever, fuck, a, bitch, and...</td>\n",
              "      <td>[dawg, !, !, !, you, ever, fuck, a, bitch, and...</td>\n",
              "    </tr>\n",
              "    <tr>\n",
              "      <th>3</th>\n",
              "      <td>[she, look, like, a, tranny]</td>\n",
              "      <td>[she, look, like, a, tranny]</td>\n",
              "    </tr>\n",
              "    <tr>\n",
              "      <th>4</th>\n",
              "      <td>[the, shit, you, hear, about, me, might, be, t...</td>\n",
              "      <td>[the, shit, you, hear, about, me, might, be, t...</td>\n",
              "    </tr>\n",
              "    <tr>\n",
              "      <th>...</th>\n",
              "      <td>...</td>\n",
              "      <td>...</td>\n",
              "    </tr>\n",
              "    <tr>\n",
              "      <th>24778</th>\n",
              "      <td>[yous, a, muthaf, in, lie, right, !, his, TL, ...</td>\n",
              "      <td>[yous, a, muthaf, in, lie, right, !, his, TL, ...</td>\n",
              "    </tr>\n",
              "    <tr>\n",
              "      <th>24779</th>\n",
              "      <td>[you, have, gone, and, broke, the, wrong, hear...</td>\n",
              "      <td>[you, have, gone, and, broke, the, wrong, hear...</td>\n",
              "    </tr>\n",
              "    <tr>\n",
              "      <th>24780</th>\n",
              "      <td>[young, buck, wanna, eat, !, !, dat, nigguh, l...</td>\n",
              "      <td>[young, buck, wanna, eat, !, !, dat, nigguh, l...</td>\n",
              "    </tr>\n",
              "    <tr>\n",
              "      <th>24781</th>\n",
              "      <td>[youu, got, wild, bitches, tellin, you, lies]</td>\n",
              "      <td>[youu, got, wild, bitches, tellin, you, lies]</td>\n",
              "    </tr>\n",
              "    <tr>\n",
              "      <th>24782</th>\n",
              "      <td>[ruffled, ntac, eileen, dahlia, beautiful, col...</td>\n",
              "      <td>[ruffled, ntac, eileen, dahlia, beautiful, col...</td>\n",
              "    </tr>\n",
              "  </tbody>\n",
              "</table>\n",
              "<p>24783 rows × 2 columns</p>\n",
              "</div>"
            ],
            "text/plain": [
              "                         preprocessing_without_emoticons                       preprocessing_with_emoticons\n",
              "0      [as, a, woman, you, should, not, complain, abo...  [as, a, woman, you, should, not, complain, abo...\n",
              "1      [boy, dats, cold, tyga, dwn, bad, for, cuffin,...  [boy, dats, cold, tyga, dwn, bad, for, cuffin,...\n",
              "2      [dawg, !, !, !, you, ever, fuck, a, bitch, and...  [dawg, !, !, !, you, ever, fuck, a, bitch, and...\n",
              "3                           [she, look, like, a, tranny]                       [she, look, like, a, tranny]\n",
              "4      [the, shit, you, hear, about, me, might, be, t...  [the, shit, you, hear, about, me, might, be, t...\n",
              "...                                                  ...                                                ...\n",
              "24778  [yous, a, muthaf, in, lie, right, !, his, TL, ...  [yous, a, muthaf, in, lie, right, !, his, TL, ...\n",
              "24779  [you, have, gone, and, broke, the, wrong, hear...  [you, have, gone, and, broke, the, wrong, hear...\n",
              "24780  [young, buck, wanna, eat, !, !, dat, nigguh, l...  [young, buck, wanna, eat, !, !, dat, nigguh, l...\n",
              "24781      [youu, got, wild, bitches, tellin, you, lies]      [youu, got, wild, bitches, tellin, you, lies]\n",
              "24782  [ruffled, ntac, eileen, dahlia, beautiful, col...  [ruffled, ntac, eileen, dahlia, beautiful, col...\n",
              "\n",
              "[24783 rows x 2 columns]"
            ]
          },
          "metadata": {
            "tags": []
          },
          "execution_count": 47
        }
      ]
    },
    {
      "cell_type": "markdown",
      "metadata": {
        "id": "yF_y0149mnHV"
      },
      "source": [
        "## Correct Wrong Words\r\n",
        "\r\n",
        "With the following functions it is possible to implement a word corrector, which will use the big.txt file to correct the words of the tweets. Therefore, the big.txt file needs to be loaded."
      ]
    },
    {
      "cell_type": "code",
      "metadata": {
        "id": "6eApcrBROZn_"
      },
      "source": [
        "import re\n",
        "from collections import Counter\n",
        "\n",
        "def words(text): return re.findall(r'\\w+', text.lower())\n",
        "\n",
        "WORDS = Counter(words(open('big.txt').read()))\n",
        "\n",
        "def P(word, N=sum(WORDS.values())): \n",
        "    \"Probability of `word`.\"\n",
        "    return WORDS[word] / N\n",
        "\n",
        "def correction(word): \n",
        "    \"Most probable spelling correction for word.\"\n",
        "    return max(candidates(word), key=P)\n",
        "\n",
        "def candidates(word): \n",
        "    \"Generate possible spelling corrections for word.\"\n",
        "    return (known([word]) or known(edits1(word)) or known(edits2(word)) or [word])\n",
        "\n",
        "def known(words): \n",
        "    \"The subset of `words` that appear in the dictionary of WORDS.\"\n",
        "    return set(w for w in words if w in WORDS)\n",
        "\n",
        "def edits1(word):\n",
        "    \"All edits that are one edit away from `word`.\"\n",
        "    letters    = 'abcdefghijklmnopqrstuvwxyz'\n",
        "    splits     = [(word[:i], word[i:])    for i in range(len(word) + 1)]\n",
        "    deletes    = [L + R[1:]               for L, R in splits if R]\n",
        "    transposes = [L + R[1] + R[0] + R[2:] for L, R in splits if len(R)>1]\n",
        "    replaces   = [L + c + R[1:]           for L, R in splits if R for c in letters]\n",
        "    inserts    = [L + c + R               for L, R in splits for c in letters]\n",
        "    return set(deletes + transposes + replaces + inserts)\n",
        "\n",
        "def edits2(word): \n",
        "    \"All edits that are two edits away from `word`.\"\n",
        "    return (e2 for e1 in edits1(word) for e2 in edits1(e1))"
      ],
      "execution_count": null,
      "outputs": []
    },
    {
      "cell_type": "markdown",
      "metadata": {
        "id": "OdMw6OHGwQGD"
      },
      "source": [
        "⚠️⚠️ **¡¡¡ NO EXECUTE !!!** ⚠️⚠️\r\n",
        "\r\n",
        "Using the following piece of code, we correct all the words in the tweets. However, the execution time is approximately 30 minutes. \r\n",
        "\r\n",
        "Therefore, we have provided the resulting CSV separately. You can run it in the following part of code."
      ]
    },
    {
      "cell_type": "code",
      "metadata": {
        "id": "2QWxXroVpTJX"
      },
      "source": [
        "########## ⚠️ HIGH EXECUTION TIME ⚠️ ##########\r\n",
        "df_correct_words = pd.DataFrame(columns=['preprocessing_with_emoticons','preprocessing_without_emoticons'])\r\n",
        "\r\n",
        "listaTweetsWithout = []\r\n",
        "for i in range(0,len(df_result['preprocessing_without_emoticons'])):\r\n",
        "  listaTweet = []\r\n",
        "  for j in range(0,len(df_result['preprocessing_without_emoticons'][i])):\r\n",
        "    listaTweet.append(correction(df_result['preprocessing_without_emoticons'][i][j]))\r\n",
        "  listaTweetsWithout.append(listaTweet)\r\n",
        "\r\n",
        "listaTweetsWith = []\r\n",
        "for i in range(0,len(df_result['preprocessing_with_emoticons'])):\r\n",
        "  listaTweet = []\r\n",
        "  for j in range(0,len(df_result['preprocessing_with_emoticons'][i])):\r\n",
        "    listaTweet.append(correction(df_result['preprocessing_with_emoticons'][i][j]))\r\n",
        "  listaTweetsWith.append(listaTweet)\r\n",
        "\r\n",
        "df_correct_words['preprocessing_without_emoticons'] = listaTweetsWithout\r\n",
        "df_correct_words['preprocessing_with_emoticons'] = listaTweetsWith\r\n",
        "df_correct_words\r\n",
        "\r\n",
        "df_correct_words.to_csv('df_correct_words.csv')\r\n",
        "################################################"
      ],
      "execution_count": null,
      "outputs": []
    },
    {
      "cell_type": "markdown",
      "metadata": {
        "id": "f-RP4uw3wixA"
      },
      "source": [
        "✔️✔️ **EXECUTE THIS** ✔️✔️\r\n",
        "\r\n",
        "You need to have the file *df_correct_words.csv* uploaded"
      ]
    },
    {
      "cell_type": "code",
      "metadata": {
        "id": "8kVom6fPjYWG",
        "colab": {
          "base_uri": "https://localhost:8080/",
          "height": 424
        },
        "outputId": "32956bc8-a84d-4162-b2ac-b5ab01ec8005"
      },
      "source": [
        "pd.read_csv('df_correct_words.csv', sep=',', index_col=0)"
      ],
      "execution_count": null,
      "outputs": [
        {
          "output_type": "execute_result",
          "data": {
            "text/html": [
              "<div>\n",
              "<style scoped>\n",
              "    .dataframe tbody tr th:only-of-type {\n",
              "        vertical-align: middle;\n",
              "    }\n",
              "\n",
              "    .dataframe tbody tr th {\n",
              "        vertical-align: top;\n",
              "    }\n",
              "\n",
              "    .dataframe thead th {\n",
              "        text-align: right;\n",
              "    }\n",
              "</style>\n",
              "<table border=\"1\" class=\"dataframe\">\n",
              "  <thead>\n",
              "    <tr style=\"text-align: right;\">\n",
              "      <th></th>\n",
              "      <th>preprocessing_with_emoticons</th>\n",
              "      <th>preprocessing_without_emoticons</th>\n",
              "    </tr>\n",
              "  </thead>\n",
              "  <tbody>\n",
              "    <tr>\n",
              "      <th>0</th>\n",
              "      <td>['as', 'a', 'woman', 'you', 'should', 'not', '...</td>\n",
              "      <td>['as', 'a', 'woman', 'you', 'should', 'not', '...</td>\n",
              "    </tr>\n",
              "    <tr>\n",
              "      <th>1</th>\n",
              "      <td>['boy', 'days', 'cold', 'tea', 'down', 'bad', ...</td>\n",
              "      <td>['boy', 'days', 'cold', 'tea', 'down', 'bad', ...</td>\n",
              "    </tr>\n",
              "    <tr>\n",
              "      <th>2</th>\n",
              "      <td>['dawn', 'a', 'a', 'a', 'you', 'ever', 'fuck',...</td>\n",
              "      <td>['dawn', 'a', 'a', 'a', 'you', 'ever', 'fuck',...</td>\n",
              "    </tr>\n",
              "    <tr>\n",
              "      <th>3</th>\n",
              "      <td>['she', 'look', 'like', 'a', 'tyranny']</td>\n",
              "      <td>['she', 'look', 'like', 'a', 'tyranny']</td>\n",
              "    </tr>\n",
              "    <tr>\n",
              "      <th>4</th>\n",
              "      <td>['the', 'shit', 'you', 'hear', 'about', 'me', ...</td>\n",
              "      <td>['the', 'shit', 'you', 'hear', 'about', 'me', ...</td>\n",
              "    </tr>\n",
              "    <tr>\n",
              "      <th>...</th>\n",
              "      <td>...</td>\n",
              "      <td>...</td>\n",
              "    </tr>\n",
              "    <tr>\n",
              "      <th>24778</th>\n",
              "      <td>['you', 'a', 'mutual', 'in', 'lie', 'right', '...</td>\n",
              "      <td>['you', 'a', 'mutual', 'in', 'lie', 'right', '...</td>\n",
              "    </tr>\n",
              "    <tr>\n",
              "      <th>24779</th>\n",
              "      <td>['you', 'have', 'gone', 'and', 'broke', 'the',...</td>\n",
              "      <td>['you', 'have', 'gone', 'and', 'broke', 'the',...</td>\n",
              "    </tr>\n",
              "    <tr>\n",
              "      <th>24780</th>\n",
              "      <td>['young', 'buck', 'anna', 'eat', 'a', 'a', 'da...</td>\n",
              "      <td>['young', 'buck', 'anna', 'eat', 'a', 'a', 'da...</td>\n",
              "    </tr>\n",
              "    <tr>\n",
              "      <th>24781</th>\n",
              "      <td>['you', 'got', 'wild', 'birches', 'telling', '...</td>\n",
              "      <td>['you', 'got', 'wild', 'birches', 'telling', '...</td>\n",
              "    </tr>\n",
              "    <tr>\n",
              "      <th>24782</th>\n",
              "      <td>['ruffled', 'near', 'eleven', 'dahlia', 'beaut...</td>\n",
              "      <td>['ruffled', 'near', 'eleven', 'dahlia', 'beaut...</td>\n",
              "    </tr>\n",
              "  </tbody>\n",
              "</table>\n",
              "<p>24783 rows × 2 columns</p>\n",
              "</div>"
            ],
            "text/plain": [
              "                            preprocessing_with_emoticons                    preprocessing_without_emoticons\n",
              "0      ['as', 'a', 'woman', 'you', 'should', 'not', '...  ['as', 'a', 'woman', 'you', 'should', 'not', '...\n",
              "1      ['boy', 'days', 'cold', 'tea', 'down', 'bad', ...  ['boy', 'days', 'cold', 'tea', 'down', 'bad', ...\n",
              "2      ['dawn', 'a', 'a', 'a', 'you', 'ever', 'fuck',...  ['dawn', 'a', 'a', 'a', 'you', 'ever', 'fuck',...\n",
              "3                ['she', 'look', 'like', 'a', 'tyranny']            ['she', 'look', 'like', 'a', 'tyranny']\n",
              "4      ['the', 'shit', 'you', 'hear', 'about', 'me', ...  ['the', 'shit', 'you', 'hear', 'about', 'me', ...\n",
              "...                                                  ...                                                ...\n",
              "24778  ['you', 'a', 'mutual', 'in', 'lie', 'right', '...  ['you', 'a', 'mutual', 'in', 'lie', 'right', '...\n",
              "24779  ['you', 'have', 'gone', 'and', 'broke', 'the',...  ['you', 'have', 'gone', 'and', 'broke', 'the',...\n",
              "24780  ['young', 'buck', 'anna', 'eat', 'a', 'a', 'da...  ['young', 'buck', 'anna', 'eat', 'a', 'a', 'da...\n",
              "24781  ['you', 'got', 'wild', 'birches', 'telling', '...  ['you', 'got', 'wild', 'birches', 'telling', '...\n",
              "24782  ['ruffled', 'near', 'eleven', 'dahlia', 'beaut...  ['ruffled', 'near', 'eleven', 'dahlia', 'beaut...\n",
              "\n",
              "[24783 rows x 2 columns]"
            ]
          },
          "metadata": {
            "tags": []
          },
          "execution_count": 51
        }
      ]
    },
    {
      "cell_type": "markdown",
      "metadata": {
        "id": "crP8yKzBb_Sf"
      },
      "source": [
        "## Stop words\r\n",
        "\r\n",
        "A stop word is a word in common use, which does not provide information. It does not influence when expressing feelings of hatred. Therefore, we eliminate them."
      ]
    },
    {
      "cell_type": "code",
      "metadata": {
        "colab": {
          "base_uri": "https://localhost:8080/",
          "height": 460
        },
        "id": "bDa7pArf-yj8",
        "outputId": "e53afa22-230b-4857-b453-e8d331ad0ec5"
      },
      "source": [
        "nltk.download('stopwords')\n",
        "from nltk.corpus import stopwords\n",
        "\n",
        "english_stops = set(stopwords.words('english'))\n",
        "clear_sent_emoticon = []\n",
        "clear_sent_not_emoticon = []\n",
        "for tweet in range(0,len(df_result['preprocessing_with_emoticons'])):\n",
        "  clear_sent_emoticon.append([word for word in df_result['preprocessing_with_emoticons'][tweet] if word not in english_stops]) \n",
        "  clear_sent_not_emoticon.append([word for word in df_result['preprocessing_without_emoticons'][tweet] if word not in english_stops]) \n",
        "\n",
        "df_result['preprocessing_with_emoticons'] = clear_sent_emoticon\n",
        "df_result['preprocessing_without_emoticons'] = clear_sent_not_emoticon\n",
        "df_result"
      ],
      "execution_count": null,
      "outputs": [
        {
          "output_type": "stream",
          "text": [
            "[nltk_data] Downloading package stopwords to /root/nltk_data...\n",
            "[nltk_data]   Package stopwords is already up-to-date!\n"
          ],
          "name": "stdout"
        },
        {
          "output_type": "execute_result",
          "data": {
            "text/html": [
              "<div>\n",
              "<style scoped>\n",
              "    .dataframe tbody tr th:only-of-type {\n",
              "        vertical-align: middle;\n",
              "    }\n",
              "\n",
              "    .dataframe tbody tr th {\n",
              "        vertical-align: top;\n",
              "    }\n",
              "\n",
              "    .dataframe thead th {\n",
              "        text-align: right;\n",
              "    }\n",
              "</style>\n",
              "<table border=\"1\" class=\"dataframe\">\n",
              "  <thead>\n",
              "    <tr style=\"text-align: right;\">\n",
              "      <th></th>\n",
              "      <th>preprocessing_without_emoticons</th>\n",
              "      <th>preprocessing_with_emoticons</th>\n",
              "    </tr>\n",
              "  </thead>\n",
              "  <tbody>\n",
              "    <tr>\n",
              "      <th>0</th>\n",
              "      <td>[woman, complain, cleaning, house, man, always...</td>\n",
              "      <td>[woman, complain, cleaning, house, man, always...</td>\n",
              "    </tr>\n",
              "    <tr>\n",
              "      <th>1</th>\n",
              "      <td>[boy, dats, cold, tyga, dwn, bad, cuffin, dat,...</td>\n",
              "      <td>[boy, dats, cold, tyga, dwn, bad, cuffin, dat,...</td>\n",
              "    </tr>\n",
              "    <tr>\n",
              "      <th>2</th>\n",
              "      <td>[dawg, !, !, !, ever, fuck, bitch, start, cry,...</td>\n",
              "      <td>[dawg, !, !, !, ever, fuck, bitch, start, cry,...</td>\n",
              "    </tr>\n",
              "    <tr>\n",
              "      <th>3</th>\n",
              "      <td>[look, like, tranny]</td>\n",
              "      <td>[look, like, tranny]</td>\n",
              "    </tr>\n",
              "    <tr>\n",
              "      <th>4</th>\n",
              "      <td>[shit, hear, might, true, might, faker, bitch,...</td>\n",
              "      <td>[shit, hear, might, true, might, faker, bitch,...</td>\n",
              "    </tr>\n",
              "    <tr>\n",
              "      <th>...</th>\n",
              "      <td>...</td>\n",
              "      <td>...</td>\n",
              "    </tr>\n",
              "    <tr>\n",
              "      <th>24778</th>\n",
              "      <td>[yous, muthaf, lie, right, !, TL, trash, mine,...</td>\n",
              "      <td>[yous, muthaf, lie, right, !, TL, trash, mine,...</td>\n",
              "    </tr>\n",
              "    <tr>\n",
              "      <th>24779</th>\n",
              "      <td>[gone, broke, wrong, heart, baby, drove, redne...</td>\n",
              "      <td>[gone, broke, wrong, heart, baby, drove, redne...</td>\n",
              "    </tr>\n",
              "    <tr>\n",
              "      <th>24780</th>\n",
              "      <td>[young, buck, wanna, eat, !, !, dat, nigguh, l...</td>\n",
              "      <td>[young, buck, wanna, eat, !, !, dat, nigguh, l...</td>\n",
              "    </tr>\n",
              "    <tr>\n",
              "      <th>24781</th>\n",
              "      <td>[youu, got, wild, bitches, tellin, lies]</td>\n",
              "      <td>[youu, got, wild, bitches, tellin, lies]</td>\n",
              "    </tr>\n",
              "    <tr>\n",
              "      <th>24782</th>\n",
              "      <td>[ruffled, ntac, eileen, dahlia, beautiful, col...</td>\n",
              "      <td>[ruffled, ntac, eileen, dahlia, beautiful, col...</td>\n",
              "    </tr>\n",
              "  </tbody>\n",
              "</table>\n",
              "<p>24783 rows × 2 columns</p>\n",
              "</div>"
            ],
            "text/plain": [
              "                         preprocessing_without_emoticons                       preprocessing_with_emoticons\n",
              "0      [woman, complain, cleaning, house, man, always...  [woman, complain, cleaning, house, man, always...\n",
              "1      [boy, dats, cold, tyga, dwn, bad, cuffin, dat,...  [boy, dats, cold, tyga, dwn, bad, cuffin, dat,...\n",
              "2      [dawg, !, !, !, ever, fuck, bitch, start, cry,...  [dawg, !, !, !, ever, fuck, bitch, start, cry,...\n",
              "3                                   [look, like, tranny]                               [look, like, tranny]\n",
              "4      [shit, hear, might, true, might, faker, bitch,...  [shit, hear, might, true, might, faker, bitch,...\n",
              "...                                                  ...                                                ...\n",
              "24778  [yous, muthaf, lie, right, !, TL, trash, mine,...  [yous, muthaf, lie, right, !, TL, trash, mine,...\n",
              "24779  [gone, broke, wrong, heart, baby, drove, redne...  [gone, broke, wrong, heart, baby, drove, redne...\n",
              "24780  [young, buck, wanna, eat, !, !, dat, nigguh, l...  [young, buck, wanna, eat, !, !, dat, nigguh, l...\n",
              "24781           [youu, got, wild, bitches, tellin, lies]           [youu, got, wild, bitches, tellin, lies]\n",
              "24782  [ruffled, ntac, eileen, dahlia, beautiful, col...  [ruffled, ntac, eileen, dahlia, beautiful, col...\n",
              "\n",
              "[24783 rows x 2 columns]"
            ]
          },
          "metadata": {
            "tags": []
          },
          "execution_count": 52
        }
      ]
    },
    {
      "cell_type": "markdown",
      "metadata": {
        "id": "i0yT0SulgVli"
      },
      "source": [
        "## Lemmatize all terms\r\n",
        "\r\n",
        "With lemmatization we group the inflected forms of the different words so that they can be analyzed as a single element."
      ]
    },
    {
      "cell_type": "code",
      "metadata": {
        "colab": {
          "base_uri": "https://localhost:8080/",
          "height": 460
        },
        "id": "0kMOZqUvlZ_N",
        "outputId": "c3ddc9e9-57c4-4ed2-dd05-db66d54881e1"
      },
      "source": [
        "nltk.download('wordnet')\n",
        "from nltk.stem import WordNetLemmatizer\n",
        "\n",
        "lemmatizer = WordNetLemmatizer()\n",
        "clear_sent_emoticon = []\n",
        "clear_sent_not_emoticon = []\n",
        "for tweet in range(0,len(df_result['preprocessing_with_emoticons'])):\n",
        "  clear_sent_emoticon.append([lemmatizer.lemmatize(word) for word in df_result['preprocessing_with_emoticons'][tweet]])\n",
        "  clear_sent_not_emoticon.append([lemmatizer.lemmatize(word) for word in df_result['preprocessing_without_emoticons'][tweet]])\n",
        "\n",
        "df_result['preprocessing_with_emoticons'] = clear_sent_emoticon\n",
        "df_result['preprocessing_without_emoticons'] = clear_sent_not_emoticon\n",
        "df_result"
      ],
      "execution_count": null,
      "outputs": [
        {
          "output_type": "stream",
          "text": [
            "[nltk_data] Downloading package wordnet to /root/nltk_data...\n",
            "[nltk_data]   Package wordnet is already up-to-date!\n"
          ],
          "name": "stdout"
        },
        {
          "output_type": "execute_result",
          "data": {
            "text/html": [
              "<div>\n",
              "<style scoped>\n",
              "    .dataframe tbody tr th:only-of-type {\n",
              "        vertical-align: middle;\n",
              "    }\n",
              "\n",
              "    .dataframe tbody tr th {\n",
              "        vertical-align: top;\n",
              "    }\n",
              "\n",
              "    .dataframe thead th {\n",
              "        text-align: right;\n",
              "    }\n",
              "</style>\n",
              "<table border=\"1\" class=\"dataframe\">\n",
              "  <thead>\n",
              "    <tr style=\"text-align: right;\">\n",
              "      <th></th>\n",
              "      <th>preprocessing_without_emoticons</th>\n",
              "      <th>preprocessing_with_emoticons</th>\n",
              "    </tr>\n",
              "  </thead>\n",
              "  <tbody>\n",
              "    <tr>\n",
              "      <th>0</th>\n",
              "      <td>[woman, complain, cleaning, house, man, always...</td>\n",
              "      <td>[woman, complain, cleaning, house, man, always...</td>\n",
              "    </tr>\n",
              "    <tr>\n",
              "      <th>1</th>\n",
              "      <td>[boy, dat, cold, tyga, dwn, bad, cuffin, dat, ...</td>\n",
              "      <td>[boy, dat, cold, tyga, dwn, bad, cuffin, dat, ...</td>\n",
              "    </tr>\n",
              "    <tr>\n",
              "      <th>2</th>\n",
              "      <td>[dawg, !, !, !, ever, fuck, bitch, start, cry,...</td>\n",
              "      <td>[dawg, !, !, !, ever, fuck, bitch, start, cry,...</td>\n",
              "    </tr>\n",
              "    <tr>\n",
              "      <th>3</th>\n",
              "      <td>[look, like, tranny]</td>\n",
              "      <td>[look, like, tranny]</td>\n",
              "    </tr>\n",
              "    <tr>\n",
              "      <th>4</th>\n",
              "      <td>[shit, hear, might, true, might, faker, bitch,...</td>\n",
              "      <td>[shit, hear, might, true, might, faker, bitch,...</td>\n",
              "    </tr>\n",
              "    <tr>\n",
              "      <th>...</th>\n",
              "      <td>...</td>\n",
              "      <td>...</td>\n",
              "    </tr>\n",
              "    <tr>\n",
              "      <th>24778</th>\n",
              "      <td>[yous, muthaf, lie, right, !, TL, trash, mine,...</td>\n",
              "      <td>[yous, muthaf, lie, right, !, TL, trash, mine,...</td>\n",
              "    </tr>\n",
              "    <tr>\n",
              "      <th>24779</th>\n",
              "      <td>[gone, broke, wrong, heart, baby, drove, redne...</td>\n",
              "      <td>[gone, broke, wrong, heart, baby, drove, redne...</td>\n",
              "    </tr>\n",
              "    <tr>\n",
              "      <th>24780</th>\n",
              "      <td>[young, buck, wanna, eat, !, !, dat, nigguh, l...</td>\n",
              "      <td>[young, buck, wanna, eat, !, !, dat, nigguh, l...</td>\n",
              "    </tr>\n",
              "    <tr>\n",
              "      <th>24781</th>\n",
              "      <td>[youu, got, wild, bitch, tellin, lie]</td>\n",
              "      <td>[youu, got, wild, bitch, tellin, lie]</td>\n",
              "    </tr>\n",
              "    <tr>\n",
              "      <th>24782</th>\n",
              "      <td>[ruffled, ntac, eileen, dahlia, beautiful, col...</td>\n",
              "      <td>[ruffled, ntac, eileen, dahlia, beautiful, col...</td>\n",
              "    </tr>\n",
              "  </tbody>\n",
              "</table>\n",
              "<p>24783 rows × 2 columns</p>\n",
              "</div>"
            ],
            "text/plain": [
              "                         preprocessing_without_emoticons                       preprocessing_with_emoticons\n",
              "0      [woman, complain, cleaning, house, man, always...  [woman, complain, cleaning, house, man, always...\n",
              "1      [boy, dat, cold, tyga, dwn, bad, cuffin, dat, ...  [boy, dat, cold, tyga, dwn, bad, cuffin, dat, ...\n",
              "2      [dawg, !, !, !, ever, fuck, bitch, start, cry,...  [dawg, !, !, !, ever, fuck, bitch, start, cry,...\n",
              "3                                   [look, like, tranny]                               [look, like, tranny]\n",
              "4      [shit, hear, might, true, might, faker, bitch,...  [shit, hear, might, true, might, faker, bitch,...\n",
              "...                                                  ...                                                ...\n",
              "24778  [yous, muthaf, lie, right, !, TL, trash, mine,...  [yous, muthaf, lie, right, !, TL, trash, mine,...\n",
              "24779  [gone, broke, wrong, heart, baby, drove, redne...  [gone, broke, wrong, heart, baby, drove, redne...\n",
              "24780  [young, buck, wanna, eat, !, !, dat, nigguh, l...  [young, buck, wanna, eat, !, !, dat, nigguh, l...\n",
              "24781              [youu, got, wild, bitch, tellin, lie]              [youu, got, wild, bitch, tellin, lie]\n",
              "24782  [ruffled, ntac, eileen, dahlia, beautiful, col...  [ruffled, ntac, eileen, dahlia, beautiful, col...\n",
              "\n",
              "[24783 rows x 2 columns]"
            ]
          },
          "metadata": {
            "tags": []
          },
          "execution_count": 53
        }
      ]
    },
    {
      "cell_type": "markdown",
      "metadata": {
        "id": "Tgzs8N1rF3A_"
      },
      "source": [
        "# 2. Vectorization\r\n",
        "\r\n",
        "When the tweets are preprocessed, we can start to obtain information from them.\r\n",
        "\r\n",
        "The goal of this section is to obtain a dataframe with all the information which will be used for the next one, in order to classify the tweets.\r\n"
      ]
    },
    {
      "cell_type": "markdown",
      "metadata": {
        "id": "zdUCApcRvo6a"
      },
      "source": [
        "## Destokenizador\n",
        "\n",
        "To do the vectorization, we have chosen to put back all the tokens that make a sentence. We think that this will make the development of this process easier."
      ]
    },
    {
      "cell_type": "code",
      "metadata": {
        "id": "T6Qh7RLCvn8w",
        "colab": {
          "base_uri": "https://localhost:8080/",
          "height": 583
        },
        "outputId": "e77f1e62-9162-445c-b977-38243672767f"
      },
      "source": [
        "from nltk.tokenize.treebank import TreebankWordDetokenizer\n",
        "\n",
        "tweets_detokenize_with_emoticon = []\n",
        "tweets_detokenize_without_emoticon = []\n",
        "\n",
        "for i in range(0,len(df_result)):\n",
        "  tweets_detokenize_with_emoticon.append( TreebankWordDetokenizer().detokenize(df_result.iloc[i]['preprocessing_with_emoticons']))\n",
        "  tweets_detokenize_without_emoticon.append( TreebankWordDetokenizer().detokenize(df_result.iloc[i]['preprocessing_without_emoticons']))\n",
        "\n",
        "df_result['detokenization_with_emoticons'] = tweets_detokenize_with_emoticon\n",
        "df_result['detokenization_without_emoticons'] = tweets_detokenize_without_emoticon\n",
        "df_result"
      ],
      "execution_count": null,
      "outputs": [
        {
          "output_type": "execute_result",
          "data": {
            "text/html": [
              "<div>\n",
              "<style scoped>\n",
              "    .dataframe tbody tr th:only-of-type {\n",
              "        vertical-align: middle;\n",
              "    }\n",
              "\n",
              "    .dataframe tbody tr th {\n",
              "        vertical-align: top;\n",
              "    }\n",
              "\n",
              "    .dataframe thead th {\n",
              "        text-align: right;\n",
              "    }\n",
              "</style>\n",
              "<table border=\"1\" class=\"dataframe\">\n",
              "  <thead>\n",
              "    <tr style=\"text-align: right;\">\n",
              "      <th></th>\n",
              "      <th>preprocessing_without_emoticons</th>\n",
              "      <th>preprocessing_with_emoticons</th>\n",
              "      <th>detokenization_with_emoticons</th>\n",
              "      <th>detokenization_without_emoticons</th>\n",
              "    </tr>\n",
              "  </thead>\n",
              "  <tbody>\n",
              "    <tr>\n",
              "      <th>0</th>\n",
              "      <td>[woman, complain, cleaning, house, man, always...</td>\n",
              "      <td>[woman, complain, cleaning, house, man, always...</td>\n",
              "      <td>woman complain cleaning house man always take ...</td>\n",
              "      <td>woman complain cleaning house man always take ...</td>\n",
              "    </tr>\n",
              "    <tr>\n",
              "      <th>1</th>\n",
              "      <td>[boy, dat, cold, tyga, dwn, bad, cuffin, dat, ...</td>\n",
              "      <td>[boy, dat, cold, tyga, dwn, bad, cuffin, dat, ...</td>\n",
              "      <td>boy dat cold tyga dwn bad cuffin dat hoe st pl...</td>\n",
              "      <td>boy dat cold tyga dwn bad cuffin dat hoe st pl...</td>\n",
              "    </tr>\n",
              "    <tr>\n",
              "      <th>2</th>\n",
              "      <td>[dawg, !, !, !, ever, fuck, bitch, start, cry,...</td>\n",
              "      <td>[dawg, !, !, !, ever, fuck, bitch, start, cry,...</td>\n",
              "      <td>dawg!!! ever fuck bitch start cry confused shit</td>\n",
              "      <td>dawg!!! ever fuck bitch start cry confused shit</td>\n",
              "    </tr>\n",
              "    <tr>\n",
              "      <th>3</th>\n",
              "      <td>[look, like, tranny]</td>\n",
              "      <td>[look, like, tranny]</td>\n",
              "      <td>look like tranny</td>\n",
              "      <td>look like tranny</td>\n",
              "    </tr>\n",
              "    <tr>\n",
              "      <th>4</th>\n",
              "      <td>[shit, hear, might, true, might, faker, bitch,...</td>\n",
              "      <td>[shit, hear, might, true, might, faker, bitch,...</td>\n",
              "      <td>shit hear might true might faker bitch told ya</td>\n",
              "      <td>shit hear might true might faker bitch told ya</td>\n",
              "    </tr>\n",
              "    <tr>\n",
              "      <th>...</th>\n",
              "      <td>...</td>\n",
              "      <td>...</td>\n",
              "      <td>...</td>\n",
              "      <td>...</td>\n",
              "    </tr>\n",
              "    <tr>\n",
              "      <th>24778</th>\n",
              "      <td>[yous, muthaf, lie, right, !, TL, trash, mine,...</td>\n",
              "      <td>[yous, muthaf, lie, right, !, TL, trash, mine,...</td>\n",
              "      <td>yous muthaf lie right! TL trash mine bible scr...</td>\n",
              "      <td>yous muthaf lie right! TL trash mine bible scr...</td>\n",
              "    </tr>\n",
              "    <tr>\n",
              "      <th>24779</th>\n",
              "      <td>[gone, broke, wrong, heart, baby, drove, redne...</td>\n",
              "      <td>[gone, broke, wrong, heart, baby, drove, redne...</td>\n",
              "      <td>gone broke wrong heart baby drove redneck crazy</td>\n",
              "      <td>gone broke wrong heart baby drove redneck crazy</td>\n",
              "    </tr>\n",
              "    <tr>\n",
              "      <th>24780</th>\n",
              "      <td>[young, buck, wanna, eat, !, !, dat, nigguh, l...</td>\n",
              "      <td>[young, buck, wanna, eat, !, !, dat, nigguh, l...</td>\n",
              "      <td>young buck wanna eat!! dat nigguh like aint fu...</td>\n",
              "      <td>young buck wanna eat!! dat nigguh like aint fu...</td>\n",
              "    </tr>\n",
              "    <tr>\n",
              "      <th>24781</th>\n",
              "      <td>[youu, got, wild, bitch, tellin, lie]</td>\n",
              "      <td>[youu, got, wild, bitch, tellin, lie]</td>\n",
              "      <td>youu got wild bitch tellin lie</td>\n",
              "      <td>youu got wild bitch tellin lie</td>\n",
              "    </tr>\n",
              "    <tr>\n",
              "      <th>24782</th>\n",
              "      <td>[ruffled, ntac, eileen, dahlia, beautiful, col...</td>\n",
              "      <td>[ruffled, ntac, eileen, dahlia, beautiful, col...</td>\n",
              "      <td>ruffled ntac eileen dahlia beautiful color com...</td>\n",
              "      <td>ruffled ntac eileen dahlia beautiful color com...</td>\n",
              "    </tr>\n",
              "  </tbody>\n",
              "</table>\n",
              "<p>24783 rows × 4 columns</p>\n",
              "</div>"
            ],
            "text/plain": [
              "                         preprocessing_without_emoticons  ...                   detokenization_without_emoticons\n",
              "0      [woman, complain, cleaning, house, man, always...  ...  woman complain cleaning house man always take ...\n",
              "1      [boy, dat, cold, tyga, dwn, bad, cuffin, dat, ...  ...  boy dat cold tyga dwn bad cuffin dat hoe st pl...\n",
              "2      [dawg, !, !, !, ever, fuck, bitch, start, cry,...  ...    dawg!!! ever fuck bitch start cry confused shit\n",
              "3                                   [look, like, tranny]  ...                                   look like tranny\n",
              "4      [shit, hear, might, true, might, faker, bitch,...  ...     shit hear might true might faker bitch told ya\n",
              "...                                                  ...  ...                                                ...\n",
              "24778  [yous, muthaf, lie, right, !, TL, trash, mine,...  ...  yous muthaf lie right! TL trash mine bible scr...\n",
              "24779  [gone, broke, wrong, heart, baby, drove, redne...  ...    gone broke wrong heart baby drove redneck crazy\n",
              "24780  [young, buck, wanna, eat, !, !, dat, nigguh, l...  ...  young buck wanna eat!! dat nigguh like aint fu...\n",
              "24781              [youu, got, wild, bitch, tellin, lie]  ...                     youu got wild bitch tellin lie\n",
              "24782  [ruffled, ntac, eileen, dahlia, beautiful, col...  ...  ruffled ntac eileen dahlia beautiful color com...\n",
              "\n",
              "[24783 rows x 4 columns]"
            ]
          },
          "metadata": {
            "tags": []
          },
          "execution_count": 54
        }
      ]
    },
    {
      "cell_type": "markdown",
      "metadata": {
        "id": "8GVpS8gYsH7K"
      },
      "source": [
        "## TFIDF\n",
        "\n",
        "In order to start using TFIDF, we will first have to create a TFIDFVectorizer.\n",
        "\n",
        "With Tfidfvectorizer you compute the word counts, idf and tf-idf values all at once. Three steps at once"
      ]
    },
    {
      "cell_type": "code",
      "metadata": {
        "id": "IZSByAr09npl"
      },
      "source": [
        "from sklearn.feature_extraction.text import TfidfVectorizer\n",
        "\n",
        "vectorizer = TfidfVectorizer(min_df=1, ngram_range=(1,2))\n",
        "\n",
        "X = vectorizer.fit_transform(tweets_detokenize_without_emoticon)\n",
        "#Y = vectorizer.fit_transform(tweets_detokenize_with_emoticon)"
      ],
      "execution_count": null,
      "outputs": []
    },
    {
      "cell_type": "markdown",
      "metadata": {
        "id": "mxr1y6PXqw4P"
      },
      "source": [
        "This is the TFIDF of the first tweet of the CSV file (whitout emoticons)."
      ]
    },
    {
      "cell_type": "code",
      "metadata": {
        "colab": {
          "base_uri": "https://localhost:8080/"
        },
        "id": "Ayq505_VqwRM",
        "outputId": "d5fbddd7-a237-4b18-94f6-5d4b7f6eacaf"
      },
      "source": [
        "print(df_result['detokenization_without_emoticons'][0])\r\n",
        "print(X[0])"
      ],
      "execution_count": null,
      "outputs": [
        {
          "output_type": "stream",
          "text": [
            "woman complain cleaning house man always take trash\n",
            "  (0, 105323)\t0.27098208089269676\n",
            "  (0, 2566)\t0.31449637364443767\n",
            "  (0, 67894)\t0.3272234883970231\n",
            "  (0, 52975)\t0.3272234883970231\n",
            "  (0, 20348)\t0.31449637364443767\n",
            "  (0, 21746)\t0.3272234883970231\n",
            "  (0, 120531)\t0.31449637364443767\n",
            "  (0, 111102)\t0.12870864546435629\n",
            "  (0, 105155)\t0.16811602350929325\n",
            "  (0, 2412)\t0.1721106342423441\n",
            "  (0, 67888)\t0.151553210732432\n",
            "  (0, 52929)\t0.19595342100502908\n",
            "  (0, 20347)\t0.28790060280466584\n",
            "  (0, 21738)\t0.24328483117070612\n",
            "  (0, 120496)\t0.17529347505063608\n"
          ],
          "name": "stdout"
        }
      ]
    },
    {
      "cell_type": "markdown",
      "metadata": {
        "id": "JiR_BJBK0XmT"
      },
      "source": [
        "We are going to calculate the TFIDF of both the tweets without emoticons and those that keep them, and we will save them in our dataset."
      ]
    },
    {
      "cell_type": "code",
      "metadata": {
        "id": "onhuqoNznEyK"
      },
      "source": [
        "listaTFIDFWithout = []\r\n",
        "\r\n",
        "for i in range(0,len(df_result)):\r\n",
        "  listaTFIDFWithout.append(X[i].toarray())\r\n",
        "\r\n",
        "df_result['TDIDF_without_emoticons'] = listaTFIDFWithout\r\n"
      ],
      "execution_count": null,
      "outputs": []
    },
    {
      "cell_type": "code",
      "metadata": {
        "id": "xNWnbC3cpR_6"
      },
      "source": [
        "listaTFIDFWith = [] ##### OJO: AQUÍ ME HA PETADO DOS VECES POR RAM!!!! :(\r\n",
        "\r\n",
        "for i in range(0,len(df_result)):\r\n",
        "  listaTFIDFWith.append(Y[i].toarray())\r\n",
        "\r\n",
        "df_result['TDIDF_with_emoticons'] = listaTFIDFWith"
      ],
      "execution_count": null,
      "outputs": []
    },
    {
      "cell_type": "code",
      "metadata": {
        "id": "aZMXhwAWoxVQ",
        "colab": {
          "base_uri": "https://localhost:8080/",
          "height": 617
        },
        "outputId": "9203d263-5f3b-49b9-c7fb-90cdba90fd22"
      },
      "source": [
        "df_result"
      ],
      "execution_count": null,
      "outputs": [
        {
          "output_type": "execute_result",
          "data": {
            "text/html": [
              "<div>\n",
              "<style scoped>\n",
              "    .dataframe tbody tr th:only-of-type {\n",
              "        vertical-align: middle;\n",
              "    }\n",
              "\n",
              "    .dataframe tbody tr th {\n",
              "        vertical-align: top;\n",
              "    }\n",
              "\n",
              "    .dataframe thead th {\n",
              "        text-align: right;\n",
              "    }\n",
              "</style>\n",
              "<table border=\"1\" class=\"dataframe\">\n",
              "  <thead>\n",
              "    <tr style=\"text-align: right;\">\n",
              "      <th></th>\n",
              "      <th>preprocessing_without_emoticons</th>\n",
              "      <th>preprocessing_with_emoticons</th>\n",
              "      <th>detokenization_with_emoticons</th>\n",
              "      <th>detokenization_without_emoticons</th>\n",
              "      <th>TDIDF_without_emoticons</th>\n",
              "    </tr>\n",
              "  </thead>\n",
              "  <tbody>\n",
              "    <tr>\n",
              "      <th>0</th>\n",
              "      <td>[woman, complain, cleaning, house, man, always...</td>\n",
              "      <td>[woman, complain, cleaning, house, man, always...</td>\n",
              "      <td>woman complain cleaning house man always take ...</td>\n",
              "      <td>woman complain cleaning house man always take ...</td>\n",
              "      <td>[[0.0, 0.0, 0.0, 0.0, 0.0, 0.0, 0.0, 0.0, 0.0,...</td>\n",
              "    </tr>\n",
              "    <tr>\n",
              "      <th>1</th>\n",
              "      <td>[boy, dat, cold, tyga, dwn, bad, cuffin, dat, ...</td>\n",
              "      <td>[boy, dat, cold, tyga, dwn, bad, cuffin, dat, ...</td>\n",
              "      <td>boy dat cold tyga dwn bad cuffin dat hoe st pl...</td>\n",
              "      <td>boy dat cold tyga dwn bad cuffin dat hoe st pl...</td>\n",
              "      <td>[[0.0, 0.0, 0.0, 0.0, 0.0, 0.0, 0.0, 0.0, 0.0,...</td>\n",
              "    </tr>\n",
              "    <tr>\n",
              "      <th>2</th>\n",
              "      <td>[dawg, !, !, !, ever, fuck, bitch, start, cry,...</td>\n",
              "      <td>[dawg, !, !, !, ever, fuck, bitch, start, cry,...</td>\n",
              "      <td>dawg!!! ever fuck bitch start cry confused shit</td>\n",
              "      <td>dawg!!! ever fuck bitch start cry confused shit</td>\n",
              "      <td>[[0.0, 0.0, 0.0, 0.0, 0.0, 0.0, 0.0, 0.0, 0.0,...</td>\n",
              "    </tr>\n",
              "    <tr>\n",
              "      <th>3</th>\n",
              "      <td>[look, like, tranny]</td>\n",
              "      <td>[look, like, tranny]</td>\n",
              "      <td>look like tranny</td>\n",
              "      <td>look like tranny</td>\n",
              "      <td>[[0.0, 0.0, 0.0, 0.0, 0.0, 0.0, 0.0, 0.0, 0.0,...</td>\n",
              "    </tr>\n",
              "    <tr>\n",
              "      <th>4</th>\n",
              "      <td>[shit, hear, might, true, might, faker, bitch,...</td>\n",
              "      <td>[shit, hear, might, true, might, faker, bitch,...</td>\n",
              "      <td>shit hear might true might faker bitch told ya</td>\n",
              "      <td>shit hear might true might faker bitch told ya</td>\n",
              "      <td>[[0.0, 0.0, 0.0, 0.0, 0.0, 0.0, 0.0, 0.0, 0.0,...</td>\n",
              "    </tr>\n",
              "    <tr>\n",
              "      <th>...</th>\n",
              "      <td>...</td>\n",
              "      <td>...</td>\n",
              "      <td>...</td>\n",
              "      <td>...</td>\n",
              "      <td>...</td>\n",
              "    </tr>\n",
              "    <tr>\n",
              "      <th>24778</th>\n",
              "      <td>[yous, muthaf, lie, right, !, TL, trash, mine,...</td>\n",
              "      <td>[yous, muthaf, lie, right, !, TL, trash, mine,...</td>\n",
              "      <td>yous muthaf lie right! TL trash mine bible scr...</td>\n",
              "      <td>yous muthaf lie right! TL trash mine bible scr...</td>\n",
              "      <td>[[0.0, 0.0, 0.0, 0.0, 0.0, 0.0, 0.0, 0.0, 0.0,...</td>\n",
              "    </tr>\n",
              "    <tr>\n",
              "      <th>24779</th>\n",
              "      <td>[gone, broke, wrong, heart, baby, drove, redne...</td>\n",
              "      <td>[gone, broke, wrong, heart, baby, drove, redne...</td>\n",
              "      <td>gone broke wrong heart baby drove redneck crazy</td>\n",
              "      <td>gone broke wrong heart baby drove redneck crazy</td>\n",
              "      <td>[[0.0, 0.0, 0.0, 0.0, 0.0, 0.0, 0.0, 0.0, 0.0,...</td>\n",
              "    </tr>\n",
              "    <tr>\n",
              "      <th>24780</th>\n",
              "      <td>[young, buck, wanna, eat, !, !, dat, nigguh, l...</td>\n",
              "      <td>[young, buck, wanna, eat, !, !, dat, nigguh, l...</td>\n",
              "      <td>young buck wanna eat!! dat nigguh like aint fu...</td>\n",
              "      <td>young buck wanna eat!! dat nigguh like aint fu...</td>\n",
              "      <td>[[0.0, 0.0, 0.0, 0.0, 0.0, 0.0, 0.0, 0.0, 0.0,...</td>\n",
              "    </tr>\n",
              "    <tr>\n",
              "      <th>24781</th>\n",
              "      <td>[youu, got, wild, bitch, tellin, lie]</td>\n",
              "      <td>[youu, got, wild, bitch, tellin, lie]</td>\n",
              "      <td>youu got wild bitch tellin lie</td>\n",
              "      <td>youu got wild bitch tellin lie</td>\n",
              "      <td>[[0.0, 0.0, 0.0, 0.0, 0.0, 0.0, 0.0, 0.0, 0.0,...</td>\n",
              "    </tr>\n",
              "    <tr>\n",
              "      <th>24782</th>\n",
              "      <td>[ruffled, ntac, eileen, dahlia, beautiful, col...</td>\n",
              "      <td>[ruffled, ntac, eileen, dahlia, beautiful, col...</td>\n",
              "      <td>ruffled ntac eileen dahlia beautiful color com...</td>\n",
              "      <td>ruffled ntac eileen dahlia beautiful color com...</td>\n",
              "      <td>[[0.0, 0.0, 0.0, 0.0, 0.0, 0.0, 0.0, 0.0, 0.0,...</td>\n",
              "    </tr>\n",
              "  </tbody>\n",
              "</table>\n",
              "<p>24783 rows × 5 columns</p>\n",
              "</div>"
            ],
            "text/plain": [
              "                         preprocessing_without_emoticons  ...                            TDIDF_without_emoticons\n",
              "0      [woman, complain, cleaning, house, man, always...  ...  [[0.0, 0.0, 0.0, 0.0, 0.0, 0.0, 0.0, 0.0, 0.0,...\n",
              "1      [boy, dat, cold, tyga, dwn, bad, cuffin, dat, ...  ...  [[0.0, 0.0, 0.0, 0.0, 0.0, 0.0, 0.0, 0.0, 0.0,...\n",
              "2      [dawg, !, !, !, ever, fuck, bitch, start, cry,...  ...  [[0.0, 0.0, 0.0, 0.0, 0.0, 0.0, 0.0, 0.0, 0.0,...\n",
              "3                                   [look, like, tranny]  ...  [[0.0, 0.0, 0.0, 0.0, 0.0, 0.0, 0.0, 0.0, 0.0,...\n",
              "4      [shit, hear, might, true, might, faker, bitch,...  ...  [[0.0, 0.0, 0.0, 0.0, 0.0, 0.0, 0.0, 0.0, 0.0,...\n",
              "...                                                  ...  ...                                                ...\n",
              "24778  [yous, muthaf, lie, right, !, TL, trash, mine,...  ...  [[0.0, 0.0, 0.0, 0.0, 0.0, 0.0, 0.0, 0.0, 0.0,...\n",
              "24779  [gone, broke, wrong, heart, baby, drove, redne...  ...  [[0.0, 0.0, 0.0, 0.0, 0.0, 0.0, 0.0, 0.0, 0.0,...\n",
              "24780  [young, buck, wanna, eat, !, !, dat, nigguh, l...  ...  [[0.0, 0.0, 0.0, 0.0, 0.0, 0.0, 0.0, 0.0, 0.0,...\n",
              "24781              [youu, got, wild, bitch, tellin, lie]  ...  [[0.0, 0.0, 0.0, 0.0, 0.0, 0.0, 0.0, 0.0, 0.0,...\n",
              "24782  [ruffled, ntac, eileen, dahlia, beautiful, col...  ...  [[0.0, 0.0, 0.0, 0.0, 0.0, 0.0, 0.0, 0.0, 0.0,...\n",
              "\n",
              "[24783 rows x 5 columns]"
            ]
          },
          "metadata": {
            "tags": []
          },
          "execution_count": 15
        }
      ]
    },
    {
      "cell_type": "markdown",
      "metadata": {
        "id": "S79rQ91nBa8g"
      },
      "source": [
        "## TFIDF + N-grams\r\n",
        "\r\n",
        "⚠️⚠️ **¡¡¡ NO EXECUTE !!!** ⚠️⚠️\r\n",
        "\r\n",
        "Using the following piece of code, we calculate the n-grams with range (1, 3) of each tweet. But the execution time is very high.\r\n",
        "\r\n",
        "Therefore, we have provided the resulting CSV separately. You can run it in the following part of code."
      ]
    },
    {
      "cell_type": "code",
      "metadata": {
        "id": "fNrRwin-LM4T"
      },
      "source": [
        "########## ⚠️ HIGH EXECUTION TIME ⚠️ ##########\n",
        "vectorizer = TfidfVectorizer(ngram_range=(1, 3), min_df=1)\n",
        "list_valuesX = df['detokenization_with_emoticons']\n",
        "list_valuesY = df['detokenization_without_emoticons']\n",
        "\n",
        "X = vectorizer.fit_transform(list_valuesX)\n",
        "\n",
        "Y = vectorizer.fit_transform(list_valuesY)\n",
        "\n",
        "df_ngrams = pd.DataFrame(columns=['ngrams_with_emoticons','ngrams_without_emoticons'])\n",
        "\n",
        "listaNGRAMSWithout = []\n",
        "\n",
        "for i in range(0,len(df)):\n",
        "    listaNGRAMSWithout.append(X[i].toarray())\n",
        "\n",
        "df_ngrams['ngrams_with_emoticons'] = listaNGRAMSWithout\n",
        "\n",
        "listaNGRAMSWith = []\n",
        "\n",
        "for i in range(0,len(df)):\n",
        "    listaNGRAMSWith.append(Y[i].toarray())\n",
        "\n",
        "df_ngrams['ngrams_without_emoticons'] = listaNGRAMSWith\n",
        "\n",
        "df_ngrams.to_csv('df_ngrams')\n",
        "################################################"
      ],
      "execution_count": null,
      "outputs": []
    },
    {
      "cell_type": "markdown",
      "metadata": {
        "id": "WLrAXucNwD4-"
      },
      "source": [
        "✔️✔️ **EXECUTE THIS** ✔️✔️\r\n",
        "\r\n",
        "You need to have the file *df_ngrams.csv* uploaded"
      ]
    },
    {
      "cell_type": "code",
      "metadata": {
        "id": "A17uKu4mFnBm",
        "colab": {
          "base_uri": "https://localhost:8080/",
          "height": 617
        },
        "outputId": "9c14dadb-dca4-4d3f-990a-43fccc62f112"
      },
      "source": [
        "df_ngrams = pd.read_csv('df_ngrams.csv')\r\n",
        "df_result['ngrams_with_emoticons'] = df_ngrams['ngrams_with_emoticons']\r\n",
        "df_result['ngrams_without_emoticons'] = df_ngrams['ngrams_without_emoticons']\r\n",
        "df_result"
      ],
      "execution_count": null,
      "outputs": [
        {
          "output_type": "execute_result",
          "data": {
            "text/html": [
              "<div>\n",
              "<style scoped>\n",
              "    .dataframe tbody tr th:only-of-type {\n",
              "        vertical-align: middle;\n",
              "    }\n",
              "\n",
              "    .dataframe tbody tr th {\n",
              "        vertical-align: top;\n",
              "    }\n",
              "\n",
              "    .dataframe thead th {\n",
              "        text-align: right;\n",
              "    }\n",
              "</style>\n",
              "<table border=\"1\" class=\"dataframe\">\n",
              "  <thead>\n",
              "    <tr style=\"text-align: right;\">\n",
              "      <th></th>\n",
              "      <th>preprocessing_without_emoticons</th>\n",
              "      <th>preprocessing_with_emoticons</th>\n",
              "      <th>detokenization_with_emoticons</th>\n",
              "      <th>detokenization_without_emoticons</th>\n",
              "      <th>TDIDF_without_emoticons</th>\n",
              "      <th>TDIDF_with_emoticons</th>\n",
              "      <th>ngrams_with_emoticons</th>\n",
              "      <th>ngrams_without_emoticons</th>\n",
              "    </tr>\n",
              "  </thead>\n",
              "  <tbody>\n",
              "    <tr>\n",
              "      <th>0</th>\n",
              "      <td>[woman, complain, cleaning, house, man, always...</td>\n",
              "      <td>[woman, complain, cleaning, house, man, always...</td>\n",
              "      <td>woman complain cleaning house man always take ...</td>\n",
              "      <td>woman complain cleaning house man always take ...</td>\n",
              "      <td>[[0.0, 0.0, 0.0, 0.0, 0.0, 0.0, 0.0, 0.0, 0.0,...</td>\n",
              "      <td>[[0.0, 0.0, 0.0, 0.0, 0.0, 0.0, 0.0, 0.0, 0.0,...</td>\n",
              "      <td>[[0. 0. 0. ... 0. 0. 0.]]</td>\n",
              "      <td>[[0. 0. 0. ... 0. 0. 0.]]</td>\n",
              "    </tr>\n",
              "    <tr>\n",
              "      <th>1</th>\n",
              "      <td>[boy, dat, cold, tyga, dwn, bad, cuffin, dat, ...</td>\n",
              "      <td>[boy, dat, cold, tyga, dwn, bad, cuffin, dat, ...</td>\n",
              "      <td>boy dat cold tyga dwn bad cuffin dat hoe st pl...</td>\n",
              "      <td>boy dat cold tyga dwn bad cuffin dat hoe st pl...</td>\n",
              "      <td>[[0.0, 0.0, 0.0, 0.0, 0.0, 0.0, 0.0, 0.0, 0.0,...</td>\n",
              "      <td>[[0.0, 0.0, 0.0, 0.0, 0.0, 0.0, 0.0, 0.0, 0.0,...</td>\n",
              "      <td>[[0. 0. 0. ... 0. 0. 0.]]</td>\n",
              "      <td>[[0. 0. 0. ... 0. 0. 0.]]</td>\n",
              "    </tr>\n",
              "    <tr>\n",
              "      <th>2</th>\n",
              "      <td>[dawg, !, !, !, ever, fuck, bitch, start, cry,...</td>\n",
              "      <td>[dawg, !, !, !, ever, fuck, bitch, start, cry,...</td>\n",
              "      <td>dawg!!! ever fuck bitch start cry confused shit</td>\n",
              "      <td>dawg!!! ever fuck bitch start cry confused shit</td>\n",
              "      <td>[[0.0, 0.0, 0.0, 0.0, 0.0, 0.0, 0.0, 0.0, 0.0,...</td>\n",
              "      <td>[[0.0, 0.0, 0.0, 0.0, 0.0, 0.0, 0.0, 0.0, 0.0,...</td>\n",
              "      <td>[[0. 0. 0. ... 0. 0. 0.]]</td>\n",
              "      <td>[[0. 0. 0. ... 0. 0. 0.]]</td>\n",
              "    </tr>\n",
              "    <tr>\n",
              "      <th>3</th>\n",
              "      <td>[look, like, tranny]</td>\n",
              "      <td>[look, like, tranny]</td>\n",
              "      <td>look like tranny</td>\n",
              "      <td>look like tranny</td>\n",
              "      <td>[[0.0, 0.0, 0.0, 0.0, 0.0, 0.0, 0.0, 0.0, 0.0,...</td>\n",
              "      <td>[[0.0, 0.0, 0.0, 0.0, 0.0, 0.0, 0.0, 0.0, 0.0,...</td>\n",
              "      <td>[[0. 0. 0. ... 0. 0. 0.]]</td>\n",
              "      <td>[[0. 0. 0. ... 0. 0. 0.]]</td>\n",
              "    </tr>\n",
              "    <tr>\n",
              "      <th>4</th>\n",
              "      <td>[shit, hear, might, true, might, faker, bitch,...</td>\n",
              "      <td>[shit, hear, might, true, might, faker, bitch,...</td>\n",
              "      <td>shit hear might true might faker bitch told ya</td>\n",
              "      <td>shit hear might true might faker bitch told ya</td>\n",
              "      <td>[[0.0, 0.0, 0.0, 0.0, 0.0, 0.0, 0.0, 0.0, 0.0,...</td>\n",
              "      <td>[[0.0, 0.0, 0.0, 0.0, 0.0, 0.0, 0.0, 0.0, 0.0,...</td>\n",
              "      <td>[[0. 0. 0. ... 0. 0. 0.]]</td>\n",
              "      <td>[[0. 0. 0. ... 0. 0. 0.]]</td>\n",
              "    </tr>\n",
              "    <tr>\n",
              "      <th>...</th>\n",
              "      <td>...</td>\n",
              "      <td>...</td>\n",
              "      <td>...</td>\n",
              "      <td>...</td>\n",
              "      <td>...</td>\n",
              "      <td>...</td>\n",
              "      <td>...</td>\n",
              "      <td>...</td>\n",
              "    </tr>\n",
              "    <tr>\n",
              "      <th>24778</th>\n",
              "      <td>[yous, muthaf, lie, right, !, TL, trash, mine,...</td>\n",
              "      <td>[yous, muthaf, lie, right, !, TL, trash, mine,...</td>\n",
              "      <td>yous muthaf lie right! TL trash mine bible scr...</td>\n",
              "      <td>yous muthaf lie right! TL trash mine bible scr...</td>\n",
              "      <td>[[0.0, 0.0, 0.0, 0.0, 0.0, 0.0, 0.0, 0.0, 0.0,...</td>\n",
              "      <td>[[0.0, 0.0, 0.0, 0.0, 0.0, 0.0, 0.0, 0.0, 0.0,...</td>\n",
              "      <td>[[0. 0. 0. ... 0. 0. 0.]]</td>\n",
              "      <td>[[0. 0. 0. ... 0. 0. 0.]]</td>\n",
              "    </tr>\n",
              "    <tr>\n",
              "      <th>24779</th>\n",
              "      <td>[gone, broke, wrong, heart, baby, drove, redne...</td>\n",
              "      <td>[gone, broke, wrong, heart, baby, drove, redne...</td>\n",
              "      <td>gone broke wrong heart baby drove redneck crazy</td>\n",
              "      <td>gone broke wrong heart baby drove redneck crazy</td>\n",
              "      <td>[[0.0, 0.0, 0.0, 0.0, 0.0, 0.0, 0.0, 0.0, 0.0,...</td>\n",
              "      <td>[[0.0, 0.0, 0.0, 0.0, 0.0, 0.0, 0.0, 0.0, 0.0,...</td>\n",
              "      <td>[[0. 0. 0. ... 0. 0. 0.]]</td>\n",
              "      <td>[[0. 0. 0. ... 0. 0. 0.]]</td>\n",
              "    </tr>\n",
              "    <tr>\n",
              "      <th>24780</th>\n",
              "      <td>[young, buck, wanna, eat, !, !, dat, nigguh, l...</td>\n",
              "      <td>[young, buck, wanna, eat, !, !, dat, nigguh, l...</td>\n",
              "      <td>young buck wanna eat!! dat nigguh like aint fu...</td>\n",
              "      <td>young buck wanna eat!! dat nigguh like aint fu...</td>\n",
              "      <td>[[0.0, 0.0, 0.0, 0.0, 0.0, 0.0, 0.0, 0.0, 0.0,...</td>\n",
              "      <td>[[0.0, 0.0, 0.0, 0.0, 0.0, 0.0, 0.0, 0.0, 0.0,...</td>\n",
              "      <td>[[0. 0. 0. ... 0. 0. 0.]]</td>\n",
              "      <td>[[0. 0. 0. ... 0. 0. 0.]]</td>\n",
              "    </tr>\n",
              "    <tr>\n",
              "      <th>24781</th>\n",
              "      <td>[youu, got, wild, bitch, tellin, lie]</td>\n",
              "      <td>[youu, got, wild, bitch, tellin, lie]</td>\n",
              "      <td>youu got wild bitch tellin lie</td>\n",
              "      <td>youu got wild bitch tellin lie</td>\n",
              "      <td>[[0.0, 0.0, 0.0, 0.0, 0.0, 0.0, 0.0, 0.0, 0.0,...</td>\n",
              "      <td>[[0.0, 0.0, 0.0, 0.0, 0.0, 0.0, 0.0, 0.0, 0.0,...</td>\n",
              "      <td>[[0. 0. 0. ... 0. 0. 0.]]</td>\n",
              "      <td>[[0. 0. 0. ... 0. 0. 0.]]</td>\n",
              "    </tr>\n",
              "    <tr>\n",
              "      <th>24782</th>\n",
              "      <td>[ruffled, ntac, eileen, dahlia, beautiful, col...</td>\n",
              "      <td>[ruffled, ntac, eileen, dahlia, beautiful, col...</td>\n",
              "      <td>ruffled ntac eileen dahlia beautiful color com...</td>\n",
              "      <td>ruffled ntac eileen dahlia beautiful color com...</td>\n",
              "      <td>[[0.0, 0.0, 0.0, 0.0, 0.0, 0.0, 0.0, 0.0, 0.0,...</td>\n",
              "      <td>[[0.0, 0.0, 0.0, 0.0, 0.0, 0.0, 0.0, 0.0, 0.0,...</td>\n",
              "      <td>[[0. 0. 0. ... 0. 0. 0.]]</td>\n",
              "      <td>[[0. 0. 0. ... 0. 0. 0.]]</td>\n",
              "    </tr>\n",
              "  </tbody>\n",
              "</table>\n",
              "<p>24783 rows × 8 columns</p>\n",
              "</div>"
            ],
            "text/plain": [
              "                         preprocessing_without_emoticons  ...   ngrams_without_emoticons\n",
              "0      [woman, complain, cleaning, house, man, always...  ...  [[0. 0. 0. ... 0. 0. 0.]]\n",
              "1      [boy, dat, cold, tyga, dwn, bad, cuffin, dat, ...  ...  [[0. 0. 0. ... 0. 0. 0.]]\n",
              "2      [dawg, !, !, !, ever, fuck, bitch, start, cry,...  ...  [[0. 0. 0. ... 0. 0. 0.]]\n",
              "3                                   [look, like, tranny]  ...  [[0. 0. 0. ... 0. 0. 0.]]\n",
              "4      [shit, hear, might, true, might, faker, bitch,...  ...  [[0. 0. 0. ... 0. 0. 0.]]\n",
              "...                                                  ...  ...                        ...\n",
              "24778  [yous, muthaf, lie, right, !, TL, trash, mine,...  ...  [[0. 0. 0. ... 0. 0. 0.]]\n",
              "24779  [gone, broke, wrong, heart, baby, drove, redne...  ...  [[0. 0. 0. ... 0. 0. 0.]]\n",
              "24780  [young, buck, wanna, eat, !, !, dat, nigguh, l...  ...  [[0. 0. 0. ... 0. 0. 0.]]\n",
              "24781              [youu, got, wild, bitch, tellin, lie]  ...  [[0. 0. 0. ... 0. 0. 0.]]\n",
              "24782  [ruffled, ntac, eileen, dahlia, beautiful, col...  ...  [[0. 0. 0. ... 0. 0. 0.]]\n",
              "\n",
              "[24783 rows x 8 columns]"
            ]
          },
          "metadata": {
            "tags": []
          },
          "execution_count": 20
        }
      ]
    },
    {
      "cell_type": "markdown",
      "metadata": {
        "id": "zBw3Q0uDw135"
      },
      "source": [
        "## TFIDF + N-grams + POS tagging\r\n",
        "\r\n",
        "Through POS tagging, we assign each word its corresponding grammatical category."
      ]
    },
    {
      "cell_type": "code",
      "metadata": {
        "id": "ce3qeqgIGMUv",
        "colab": {
          "base_uri": "https://localhost:8080/"
        },
        "outputId": "36c2fbb1-8aaf-4a56-9427-7a9e787f36f4"
      },
      "source": [
        "nltk.download('averaged_perceptron_tagger')\n",
        "\n",
        "listaTweets = []\n",
        "for tweet in df_result['preprocessing_without_emoticons']:\n",
        "  listaTweets.append(nltk.pos_tag(tweet))\n",
        "\n",
        "df_result['POS'] = listaTweets\n",
        "df_result['POS']"
      ],
      "execution_count": null,
      "outputs": [
        {
          "output_type": "stream",
          "text": [
            "[nltk_data] Downloading package averaged_perceptron_tagger to\n",
            "[nltk_data]     /root/nltk_data...\n",
            "[nltk_data]   Unzipping taggers/averaged_perceptron_tagger.zip.\n"
          ],
          "name": "stdout"
        },
        {
          "output_type": "execute_result",
          "data": {
            "text/plain": [
              "0        [(woman, NN), (complain, VB), (cleaning, NN), ...\n",
              "1        [(boy, NN), (dat, NN), (cold, JJ), (tyga, NN),...\n",
              "2        [(dawg, NN), (!, .), (!, .), (!, .), (ever, RB...\n",
              "3                   [(look, NN), (like, IN), (tranny, NN)]\n",
              "4        [(shit, NNS), (hear, JJ), (might, MD), (true, ...\n",
              "                               ...                        \n",
              "24778    [(yous, JJ), (muthaf, NNS), (lie, RB), (right,...\n",
              "24779    [(gone, VBN), (broke, VBD), (wrong, JJ), (hear...\n",
              "24780    [(young, JJ), (buck, NN), (wanna, JJ), (eat, N...\n",
              "24781    [(youu, NN), (got, VBD), (wild, JJ), (bitch, N...\n",
              "24782    [(ruffled, VBN), (ntac, RB), (eileen, JJ), (da...\n",
              "Name: POS, Length: 24783, dtype: object"
            ]
          },
          "metadata": {
            "tags": []
          },
          "execution_count": 16
        }
      ]
    },
    {
      "cell_type": "markdown",
      "metadata": {
        "id": "eMaQkneZxAB-"
      },
      "source": [
        "## TFIDF + N-grams + POS tagging + Other features"
      ]
    },
    {
      "cell_type": "markdown",
      "metadata": {
        "id": "JZLdOQhFcOvK"
      },
      "source": [
        "### Number  of  words & sentences\r\n",
        "\r\n",
        "To calculate the number of words and sentences that each tweet has, we have decided to use the original tweet, without preprocessing, since we think that it is more significant in this aspect than the already processed tweet, which removes words."
      ]
    },
    {
      "cell_type": "code",
      "metadata": {
        "id": "7KqnLVj-cQqG",
        "colab": {
          "base_uri": "https://localhost:8080/"
        },
        "outputId": "23a86a2c-bb14-4e75-e3d4-9ea14c2fae59"
      },
      "source": [
        "from nltk.tokenize import word_tokenize\r\n",
        "\r\n",
        "listNumberWords = []\r\n",
        "\r\n",
        "for i in range(0,len(df['tweet'])):\r\n",
        "  words = word_tokenize(df['tweet'][i])\r\n",
        "  num_words = len(words)\r\n",
        "  listNumberWords.append(num_words)\r\n",
        "\r\n",
        "df_result['number_of_words'] = listNumberWords \r\n",
        "df_result['number_of_words']\r\n"
      ],
      "execution_count": null,
      "outputs": [
        {
          "output_type": "execute_result",
          "data": {
            "text/plain": [
              "0        34\n",
              "1        26\n",
              "2        35\n",
              "3        20\n",
              "4        43\n",
              "         ..\n",
              "24778    39\n",
              "24779    15\n",
              "24780    17\n",
              "24781     7\n",
              "24782    25\n",
              "Name: number_of_words, Length: 24783, dtype: int64"
            ]
          },
          "metadata": {
            "tags": []
          },
          "execution_count": 17
        }
      ]
    },
    {
      "cell_type": "code",
      "metadata": {
        "id": "TdIVJa5WcXN7",
        "colab": {
          "base_uri": "https://localhost:8080/"
        },
        "outputId": "ec650ec8-2b73-474e-9f65-b420f67fa258"
      },
      "source": [
        "from nltk.tokenize import sent_tokenize\r\n",
        "\r\n",
        "listNumberSentences = []\r\n",
        "\r\n",
        "for i in range(0,len(df['tweet'])):\r\n",
        "  sentences = sent_tokenize(df['tweet'][i])\r\n",
        "  num_sentences = len(sentences)\r\n",
        "  listNumberSentences.append(num_sentences)\r\n",
        "\r\n",
        "df_result['number_of_sentences'] = listNumberSentences\r\n",
        "df_result['number_of_sentences']"
      ],
      "execution_count": null,
      "outputs": [
        {
          "output_type": "execute_result",
          "data": {
            "text/plain": [
              "0        3\n",
              "1        3\n",
              "2        4\n",
              "3        2\n",
              "4        2\n",
              "        ..\n",
              "24778    4\n",
              "24779    1\n",
              "24780    2\n",
              "24781    1\n",
              "24782    2\n",
              "Name: number_of_sentences, Length: 24783, dtype: int64"
            ]
          },
          "metadata": {
            "tags": []
          },
          "execution_count": 18
        }
      ]
    },
    {
      "cell_type": "markdown",
      "metadata": {
        "id": "LXJ0H30rbmUk"
      },
      "source": [
        "### Hatred n-gram dictionary\r\n",
        "\r\n",
        "⚠️⚠️ ¡¡¡ NO EXECUTE !!! ⚠️⚠️\r\n",
        "\r\n",
        "Using the following piece of code, we NO SE QUE PONER. But the execution time is very high.\r\n",
        "\r\n",
        "Therefore, we have provided the resulting CSV separately. You can run it in the following part of code."
      ]
    },
    {
      "cell_type": "code",
      "metadata": {
        "id": "jLaOGq2xnbM8"
      },
      "source": [
        "########## ⚠️ HIGH EXECUTION TIME ⚠️ ##########\n",
        "values = []\n",
        "for x in range(0,len(df_result)):\n",
        "  sentence = df_result.iloc[x]['detokenization_without_emoji']\n",
        "  n = 0\n",
        "  value = 0\n",
        "  \n",
        "  for i in range(0,len(hatredDF)):\n",
        "    pattern = hatredDF.iloc[i]['ngram']\n",
        "    result = re.match(pattern,sentence)\n",
        "    if result is not None:\n",
        "      n += 1\n",
        "      value += float(hatredDF.iloc[i]['prophate'])\n",
        "  if n != 0:\n",
        "    value = value / n\n",
        "  values.append(value)\n",
        "  print(\"{} and {}\".format(value,len(values)))\n",
        "\n",
        "df_result['hatred_ngrams'] = values\n",
        "# Coto dice que falta un to_csv, pero... si ya lo estamos metiendo en el df result el values, que mas da no?\n",
        "################################################"
      ],
      "execution_count": null,
      "outputs": []
    },
    {
      "cell_type": "markdown",
      "metadata": {
        "id": "mtYfPVSN097s"
      },
      "source": [
        "✔️✔️ EXECUTE THIS ✔️✔️\r\n",
        "\r\n",
        "You need to have the file *hatred_ngrams.csv* uploaded\r\n"
      ]
    },
    {
      "cell_type": "code",
      "metadata": {
        "id": "fSqV6W12024A",
        "colab": {
          "base_uri": "https://localhost:8080/",
          "height": 625
        },
        "outputId": "e271732e-7aa9-43fd-f822-cb851f6aacbe"
      },
      "source": [
        "hatredDF = pd.read_csv('hatred_ngrams.csv')\r\n",
        "df_result['hatred_ngrams'] = hatredDF['hatred_ngrams']\r\n",
        "df_result.head()"
      ],
      "execution_count": null,
      "outputs": [
        {
          "output_type": "execute_result",
          "data": {
            "text/html": [
              "<div>\n",
              "<style scoped>\n",
              "    .dataframe tbody tr th:only-of-type {\n",
              "        vertical-align: middle;\n",
              "    }\n",
              "\n",
              "    .dataframe tbody tr th {\n",
              "        vertical-align: top;\n",
              "    }\n",
              "\n",
              "    .dataframe thead th {\n",
              "        text-align: right;\n",
              "    }\n",
              "</style>\n",
              "<table border=\"1\" class=\"dataframe\">\n",
              "  <thead>\n",
              "    <tr style=\"text-align: right;\">\n",
              "      <th></th>\n",
              "      <th>preprocessing_without_emoticons</th>\n",
              "      <th>preprocessing_with_emoticons</th>\n",
              "      <th>detokenization_with_emoticons</th>\n",
              "      <th>detokenization_without_emoticons</th>\n",
              "      <th>TDIDF_without_emoticons</th>\n",
              "      <th>POS</th>\n",
              "      <th>number_of_words</th>\n",
              "      <th>number_of_sentences</th>\n",
              "      <th>hatred_ngrams</th>\n",
              "    </tr>\n",
              "  </thead>\n",
              "  <tbody>\n",
              "    <tr>\n",
              "      <th>0</th>\n",
              "      <td>[woman, complain, cleaning, house, man, always...</td>\n",
              "      <td>[woman, complain, cleaning, house, man, always...</td>\n",
              "      <td>woman complain cleaning house man always take ...</td>\n",
              "      <td>woman complain cleaning house man always take ...</td>\n",
              "      <td>[[0.0, 0.0, 0.0, 0.0, 0.0, 0.0, 0.0, 0.0, 0.0,...</td>\n",
              "      <td>[(woman, NN), (complain, VB), (cleaning, NN), ...</td>\n",
              "      <td>34</td>\n",
              "      <td>3</td>\n",
              "      <td>0.0</td>\n",
              "    </tr>\n",
              "    <tr>\n",
              "      <th>1</th>\n",
              "      <td>[boy, dat, cold, tyga, dwn, bad, cuffin, dat, ...</td>\n",
              "      <td>[boy, dat, cold, tyga, dwn, bad, cuffin, dat, ...</td>\n",
              "      <td>boy dat cold tyga dwn bad cuffin dat hoe st pl...</td>\n",
              "      <td>boy dat cold tyga dwn bad cuffin dat hoe st pl...</td>\n",
              "      <td>[[0.0, 0.0, 0.0, 0.0, 0.0, 0.0, 0.0, 0.0, 0.0,...</td>\n",
              "      <td>[(boy, NN), (dat, NN), (cold, JJ), (tyga, NN),...</td>\n",
              "      <td>26</td>\n",
              "      <td>3</td>\n",
              "      <td>0.0</td>\n",
              "    </tr>\n",
              "    <tr>\n",
              "      <th>2</th>\n",
              "      <td>[dawg, !, !, !, ever, fuck, bitch, start, cry,...</td>\n",
              "      <td>[dawg, !, !, !, ever, fuck, bitch, start, cry,...</td>\n",
              "      <td>dawg!!! ever fuck bitch start cry confused shit</td>\n",
              "      <td>dawg!!! ever fuck bitch start cry confused shit</td>\n",
              "      <td>[[0.0, 0.0, 0.0, 0.0, 0.0, 0.0, 0.0, 0.0, 0.0,...</td>\n",
              "      <td>[(dawg, NN), (!, .), (!, .), (!, .), (ever, RB...</td>\n",
              "      <td>35</td>\n",
              "      <td>4</td>\n",
              "      <td>0.0</td>\n",
              "    </tr>\n",
              "    <tr>\n",
              "      <th>3</th>\n",
              "      <td>[look, like, tranny]</td>\n",
              "      <td>[look, like, tranny]</td>\n",
              "      <td>look like tranny</td>\n",
              "      <td>look like tranny</td>\n",
              "      <td>[[0.0, 0.0, 0.0, 0.0, 0.0, 0.0, 0.0, 0.0, 0.0,...</td>\n",
              "      <td>[(look, NN), (like, IN), (tranny, NN)]</td>\n",
              "      <td>20</td>\n",
              "      <td>2</td>\n",
              "      <td>0.0</td>\n",
              "    </tr>\n",
              "    <tr>\n",
              "      <th>4</th>\n",
              "      <td>[shit, hear, might, true, might, faker, bitch,...</td>\n",
              "      <td>[shit, hear, might, true, might, faker, bitch,...</td>\n",
              "      <td>shit hear might true might faker bitch told ya</td>\n",
              "      <td>shit hear might true might faker bitch told ya</td>\n",
              "      <td>[[0.0, 0.0, 0.0, 0.0, 0.0, 0.0, 0.0, 0.0, 0.0,...</td>\n",
              "      <td>[(shit, NNS), (hear, JJ), (might, MD), (true, ...</td>\n",
              "      <td>43</td>\n",
              "      <td>2</td>\n",
              "      <td>0.0</td>\n",
              "    </tr>\n",
              "  </tbody>\n",
              "</table>\n",
              "</div>"
            ],
            "text/plain": [
              "                     preprocessing_without_emoticons  ... hatred_ngrams\n",
              "0  [woman, complain, cleaning, house, man, always...  ...           0.0\n",
              "1  [boy, dat, cold, tyga, dwn, bad, cuffin, dat, ...  ...           0.0\n",
              "2  [dawg, !, !, !, ever, fuck, bitch, start, cry,...  ...           0.0\n",
              "3                               [look, like, tranny]  ...           0.0\n",
              "4  [shit, hear, might, true, might, faker, bitch,...  ...           0.0\n",
              "\n",
              "[5 rows x 9 columns]"
            ]
          },
          "metadata": {
            "tags": []
          },
          "execution_count": 20
        }
      ]
    },
    {
      "cell_type": "markdown",
      "metadata": {
        "id": "Nx6cUzm7DVTC"
      },
      "source": [
        "###Sentiment analisis\r\n",
        "\r\n",
        "Thanks to sentiment analysis we will identify and extract subjective characteristics from the tweets to be analyzed. To carry out this task, the VADER library will be used. VADER will return the following values:\r\n",
        "\r\n",
        "- Pos: The probability that the sentiment is positive.\r\n",
        "- Neu: The probability that the sentiment is neutral.\r\n",
        "- Neg: The probability that the sentiment is negative.\r\n",
        "- Compound: The normalized composite score that calculates the sum of all the scores, takes a value between -1 and 1."
      ]
    },
    {
      "cell_type": "code",
      "metadata": {
        "id": "6BBmKRofxEjP",
        "colab": {
          "base_uri": "https://localhost:8080/",
          "height": 680
        },
        "outputId": "63bd9b6c-5857-4301-f25f-c1a520f6e6e6"
      },
      "source": [
        "nltk.download('vader_lexicon')\n",
        "from nltk.sentiment.vader import SentimentIntensityAnalyzer\n",
        "\n",
        "sentiment_analyzer  = SentimentIntensityAnalyzer() \n",
        "\n",
        "negative = []\n",
        "positive = []\n",
        "neutral = []\n",
        "compound = []\n",
        "\n",
        "for tweet in df_result['detokenization_with_emoticons']:\n",
        "  sentiment = sentiment_analyzer.polarity_scores(tweet)\n",
        "  negative.append(sentiment['neg'])\n",
        "  positive.append(sentiment['pos'])\n",
        "  neutral.append(sentiment['neu'])\n",
        "  compound.append(sentiment['compound'])\n",
        "\n",
        "df_result['Negative'] = negative\n",
        "df_result['Positive'] = positive\n",
        "df_result['Neutral'] = neutral\n",
        "df_result['Compound'] = compound\n",
        "df_result.head()"
      ],
      "execution_count": null,
      "outputs": [
        {
          "output_type": "stream",
          "text": [
            "[nltk_data] Downloading package vader_lexicon to /root/nltk_data...\n"
          ],
          "name": "stdout"
        },
        {
          "output_type": "stream",
          "text": [
            "/usr/local/lib/python3.6/dist-packages/nltk/twitter/__init__.py:20: UserWarning: The twython library has not been installed. Some functionality from the twitter package will not be available.\n",
            "  warnings.warn(\"The twython library has not been installed. \"\n"
          ],
          "name": "stderr"
        },
        {
          "output_type": "execute_result",
          "data": {
            "text/html": [
              "<div>\n",
              "<style scoped>\n",
              "    .dataframe tbody tr th:only-of-type {\n",
              "        vertical-align: middle;\n",
              "    }\n",
              "\n",
              "    .dataframe tbody tr th {\n",
              "        vertical-align: top;\n",
              "    }\n",
              "\n",
              "    .dataframe thead th {\n",
              "        text-align: right;\n",
              "    }\n",
              "</style>\n",
              "<table border=\"1\" class=\"dataframe\">\n",
              "  <thead>\n",
              "    <tr style=\"text-align: right;\">\n",
              "      <th></th>\n",
              "      <th>preprocessing_without_emoticons</th>\n",
              "      <th>preprocessing_with_emoticons</th>\n",
              "      <th>detokenization_with_emoticons</th>\n",
              "      <th>detokenization_without_emoticons</th>\n",
              "      <th>TDIDF_without_emoticons</th>\n",
              "      <th>POS</th>\n",
              "      <th>number_of_words</th>\n",
              "      <th>number_of_sentences</th>\n",
              "      <th>hatred_ngrams</th>\n",
              "      <th>Negative</th>\n",
              "      <th>Positive</th>\n",
              "      <th>Neutral</th>\n",
              "      <th>Compound</th>\n",
              "    </tr>\n",
              "  </thead>\n",
              "  <tbody>\n",
              "    <tr>\n",
              "      <th>0</th>\n",
              "      <td>[woman, complain, cleaning, house, man, always...</td>\n",
              "      <td>[woman, complain, cleaning, house, man, always...</td>\n",
              "      <td>woman complain cleaning house man always take ...</td>\n",
              "      <td>woman complain cleaning house man always take ...</td>\n",
              "      <td>[[0.0, 0.0, 0.0, 0.0, 0.0, 0.0, 0.0, 0.0, 0.0,...</td>\n",
              "      <td>[(woman, NN), (complain, VB), (cleaning, NN), ...</td>\n",
              "      <td>34</td>\n",
              "      <td>3</td>\n",
              "      <td>0.0</td>\n",
              "      <td>0.263</td>\n",
              "      <td>0.000</td>\n",
              "      <td>0.737</td>\n",
              "      <td>-0.3612</td>\n",
              "    </tr>\n",
              "    <tr>\n",
              "      <th>1</th>\n",
              "      <td>[boy, dat, cold, tyga, dwn, bad, cuffin, dat, ...</td>\n",
              "      <td>[boy, dat, cold, tyga, dwn, bad, cuffin, dat, ...</td>\n",
              "      <td>boy dat cold tyga dwn bad cuffin dat hoe st pl...</td>\n",
              "      <td>boy dat cold tyga dwn bad cuffin dat hoe st pl...</td>\n",
              "      <td>[[0.0, 0.0, 0.0, 0.0, 0.0, 0.0, 0.0, 0.0, 0.0,...</td>\n",
              "      <td>[(boy, NN), (dat, NN), (cold, JJ), (tyga, NN),...</td>\n",
              "      <td>26</td>\n",
              "      <td>3</td>\n",
              "      <td>0.0</td>\n",
              "      <td>0.290</td>\n",
              "      <td>0.000</td>\n",
              "      <td>0.710</td>\n",
              "      <td>-0.6229</td>\n",
              "    </tr>\n",
              "    <tr>\n",
              "      <th>2</th>\n",
              "      <td>[dawg, !, !, !, ever, fuck, bitch, start, cry,...</td>\n",
              "      <td>[dawg, !, !, !, ever, fuck, bitch, start, cry,...</td>\n",
              "      <td>dawg!!! ever fuck bitch start cry confused shit</td>\n",
              "      <td>dawg!!! ever fuck bitch start cry confused shit</td>\n",
              "      <td>[[0.0, 0.0, 0.0, 0.0, 0.0, 0.0, 0.0, 0.0, 0.0,...</td>\n",
              "      <td>[(dawg, NN), (!, .), (!, .), (!, .), (ever, RB...</td>\n",
              "      <td>35</td>\n",
              "      <td>4</td>\n",
              "      <td>0.0</td>\n",
              "      <td>0.851</td>\n",
              "      <td>0.000</td>\n",
              "      <td>0.149</td>\n",
              "      <td>-0.9530</td>\n",
              "    </tr>\n",
              "    <tr>\n",
              "      <th>3</th>\n",
              "      <td>[look, like, tranny]</td>\n",
              "      <td>[look, like, tranny]</td>\n",
              "      <td>look like tranny</td>\n",
              "      <td>look like tranny</td>\n",
              "      <td>[[0.0, 0.0, 0.0, 0.0, 0.0, 0.0, 0.0, 0.0, 0.0,...</td>\n",
              "      <td>[(look, NN), (like, IN), (tranny, NN)]</td>\n",
              "      <td>20</td>\n",
              "      <td>2</td>\n",
              "      <td>0.0</td>\n",
              "      <td>0.000</td>\n",
              "      <td>0.556</td>\n",
              "      <td>0.444</td>\n",
              "      <td>0.3612</td>\n",
              "    </tr>\n",
              "    <tr>\n",
              "      <th>4</th>\n",
              "      <td>[shit, hear, might, true, might, faker, bitch,...</td>\n",
              "      <td>[shit, hear, might, true, might, faker, bitch,...</td>\n",
              "      <td>shit hear might true might faker bitch told ya</td>\n",
              "      <td>shit hear might true might faker bitch told ya</td>\n",
              "      <td>[[0.0, 0.0, 0.0, 0.0, 0.0, 0.0, 0.0, 0.0, 0.0,...</td>\n",
              "      <td>[(shit, NNS), (hear, JJ), (might, MD), (true, ...</td>\n",
              "      <td>43</td>\n",
              "      <td>2</td>\n",
              "      <td>0.0</td>\n",
              "      <td>0.457</td>\n",
              "      <td>0.173</td>\n",
              "      <td>0.370</td>\n",
              "      <td>-0.6808</td>\n",
              "    </tr>\n",
              "  </tbody>\n",
              "</table>\n",
              "</div>"
            ],
            "text/plain": [
              "                     preprocessing_without_emoticons  ... Compound\n",
              "0  [woman, complain, cleaning, house, man, always...  ...  -0.3612\n",
              "1  [boy, dat, cold, tyga, dwn, bad, cuffin, dat, ...  ...  -0.6229\n",
              "2  [dawg, !, !, !, ever, fuck, bitch, start, cry,...  ...  -0.9530\n",
              "3                               [look, like, tranny]  ...   0.3612\n",
              "4  [shit, hear, might, true, might, faker, bitch,...  ...  -0.6808\n",
              "\n",
              "[5 rows x 13 columns]"
            ]
          },
          "metadata": {
            "tags": []
          },
          "execution_count": 21
        }
      ]
    },
    {
      "cell_type": "markdown",
      "metadata": {
        "id": "dJ0wpMGUGx05"
      },
      "source": [
        "For example, this is a graphical representation of the sentiment analysis from a tweet."
      ]
    },
    {
      "cell_type": "code",
      "metadata": {
        "colab": {
          "base_uri": "https://localhost:8080/",
          "height": 98
        },
        "id": "y03QoQk1GxZJ",
        "outputId": "1d3dbf54-9736-4556-d2f8-5b8ee0118653"
      },
      "source": [
        "import seaborn as sns\r\n",
        "sns.set(rc={'figure.figsize':(30,1)})\r\n",
        "def visualise_sentiments(data):\r\n",
        "  sns.heatmap(pd.DataFrame(data).set_index(\"Sentence\").T,center=0, annot=True, cmap = \"PiYG\")\r\n",
        "\r\n",
        "sentence = df_result['detokenization_with_emoticons'][2]\r\n",
        "visualise_sentiments({\r\n",
        "    \"Sentence\":[\"SENTENCE\"] + sentence.split(),\r\n",
        "    \"Sentiment\":[sentiment_analyzer.polarity_scores(sentence)[\"compound\"]] + [sentiment_analyzer.polarity_scores(word)[\"compound\"] for word in sentence.split()]\r\n",
        "})"
      ],
      "execution_count": null,
      "outputs": [
        {
          "output_type": "display_data",
          "data": {
            "image/png": "[encoded data removed]",
            "text/plain": [
              "<Figure size 2160x72 with 2 Axes>"
            ]
          },
          "metadata": {
            "tags": []
          }
        }
      ]
    },
    {
      "cell_type": "markdown",
      "metadata": {
        "id": "sQdcA4w20MBg"
      },
      "source": [
        "# 3. Select features\r\n",
        "\r\n",
        "We have created a new dataset where we have put the characteristics with which we will work from now on. With this dataset, feature selection will be made."
      ]
    },
    {
      "cell_type": "code",
      "metadata": {
        "id": "giDNUtSI0qj7",
        "colab": {
          "base_uri": "https://localhost:8080/",
          "height": 594
        },
        "outputId": "ba90ca3f-995d-4da4-a4a6-60d24b160b86"
      },
      "source": [
        "# We create a new dataframe to save result in different columns\r\n",
        "df_features = pd.DataFrame()\r\n",
        "\r\n",
        "df_features['tweet'] = df['tweet']\r\n",
        "df_features['tweets_detokenize_without_emoticons'] = df_result['detokenization_without_emoticons']\r\n",
        "#df_features['tfidf'] = df_result['tfidf'] ¿QUÉ VA A PASAR CON ESTA COLUMNA?\r\n",
        "#df_features['n-grams'] = df_result['n-grams'] ¿QUÉ VA A PASAR CON ESTA COLUMNA?\r\n",
        "df_features['number_of_words'] = df_result['number_of_words']\r\n",
        "df_features['number_of_sentences'] = df_result['number_of_sentences']\r\n",
        "df_features['Negative'] = df_result['Negative']\r\n",
        "df_features['Positive'] = df_result['Positive']\r\n",
        "df_features['Neutral'] = df_result['Neutral']\r\n",
        "df_features['Compound'] = df_result['Compound']\r\n",
        "df_features['class'] = df['class']\r\n",
        "df_features"
      ],
      "execution_count": null,
      "outputs": [
        {
          "output_type": "error",
          "ename": "KeyError",
          "evalue": "ignored",
          "traceback": [
            "\u001b[0;31m---------------------------------------------------------------------------\u001b[0m",
            "\u001b[0;31mKeyError\u001b[0m                                  Traceback (most recent call last)",
            "\u001b[0;32m/usr/local/lib/python3.6/dist-packages/pandas/core/indexes/base.py\u001b[0m in \u001b[0;36mget_loc\u001b[0;34m(self, key, method, tolerance)\u001b[0m\n\u001b[1;32m   2897\u001b[0m             \u001b[0;32mtry\u001b[0m\u001b[0;34m:\u001b[0m\u001b[0;34m\u001b[0m\u001b[0;34m\u001b[0m\u001b[0m\n\u001b[0;32m-> 2898\u001b[0;31m                 \u001b[0;32mreturn\u001b[0m \u001b[0mself\u001b[0m\u001b[0;34m.\u001b[0m\u001b[0m_engine\u001b[0m\u001b[0;34m.\u001b[0m\u001b[0mget_loc\u001b[0m\u001b[0;34m(\u001b[0m\u001b[0mcasted_key\u001b[0m\u001b[0;34m)\u001b[0m\u001b[0;34m\u001b[0m\u001b[0;34m\u001b[0m\u001b[0m\n\u001b[0m\u001b[1;32m   2899\u001b[0m             \u001b[0;32mexcept\u001b[0m \u001b[0mKeyError\u001b[0m \u001b[0;32mas\u001b[0m \u001b[0merr\u001b[0m\u001b[0;34m:\u001b[0m\u001b[0;34m\u001b[0m\u001b[0;34m\u001b[0m\u001b[0m\n",
            "\u001b[0;32mpandas/_libs/index.pyx\u001b[0m in \u001b[0;36mpandas._libs.index.IndexEngine.get_loc\u001b[0;34m()\u001b[0m\n",
            "\u001b[0;32mpandas/_libs/index.pyx\u001b[0m in \u001b[0;36mpandas._libs.index.IndexEngine.get_loc\u001b[0;34m()\u001b[0m\n",
            "\u001b[0;32mpandas/_libs/hashtable_class_helper.pxi\u001b[0m in \u001b[0;36mpandas._libs.hashtable.PyObjectHashTable.get_item\u001b[0;34m()\u001b[0m\n",
            "\u001b[0;32mpandas/_libs/hashtable_class_helper.pxi\u001b[0m in \u001b[0;36mpandas._libs.hashtable.PyObjectHashTable.get_item\u001b[0;34m()\u001b[0m\n",
            "\u001b[0;31mKeyError\u001b[0m: 'number_of_words'",
            "\nThe above exception was the direct cause of the following exception:\n",
            "\u001b[0;31mKeyError\u001b[0m                                  Traceback (most recent call last)",
            "\u001b[0;32m<ipython-input-76-f16ca579975a>\u001b[0m in \u001b[0;36m<module>\u001b[0;34m()\u001b[0m\n\u001b[1;32m      6\u001b[0m \u001b[0;31m#df_features['tfidf'] = df_result['tfidf'] ¿QUÉ VA A PASAR CON ESTA COLUMNA?\u001b[0m\u001b[0;34m\u001b[0m\u001b[0;34m\u001b[0m\u001b[0;34m\u001b[0m\u001b[0m\n\u001b[1;32m      7\u001b[0m \u001b[0;31m#df_features['n-grams'] = df_result['n-grams'] ¿QUÉ VA A PASAR CON ESTA COLUMNA?\u001b[0m\u001b[0;34m\u001b[0m\u001b[0;34m\u001b[0m\u001b[0;34m\u001b[0m\u001b[0m\n\u001b[0;32m----> 8\u001b[0;31m \u001b[0mdf_features\u001b[0m\u001b[0;34m[\u001b[0m\u001b[0;34m'number_of_words'\u001b[0m\u001b[0;34m]\u001b[0m \u001b[0;34m=\u001b[0m \u001b[0mdf_result\u001b[0m\u001b[0;34m[\u001b[0m\u001b[0;34m'number_of_words'\u001b[0m\u001b[0;34m]\u001b[0m\u001b[0;34m\u001b[0m\u001b[0;34m\u001b[0m\u001b[0m\n\u001b[0m\u001b[1;32m      9\u001b[0m \u001b[0mdf_features\u001b[0m\u001b[0;34m[\u001b[0m\u001b[0;34m'number_of_sentences'\u001b[0m\u001b[0;34m]\u001b[0m \u001b[0;34m=\u001b[0m \u001b[0mdf_result\u001b[0m\u001b[0;34m[\u001b[0m\u001b[0;34m'number_of_sentences'\u001b[0m\u001b[0;34m]\u001b[0m\u001b[0;34m\u001b[0m\u001b[0;34m\u001b[0m\u001b[0m\n\u001b[1;32m     10\u001b[0m \u001b[0mdf_features\u001b[0m\u001b[0;34m[\u001b[0m\u001b[0;34m'Negative'\u001b[0m\u001b[0;34m]\u001b[0m \u001b[0;34m=\u001b[0m \u001b[0mdf_result\u001b[0m\u001b[0;34m[\u001b[0m\u001b[0;34m'Negative'\u001b[0m\u001b[0;34m]\u001b[0m\u001b[0;34m\u001b[0m\u001b[0;34m\u001b[0m\u001b[0m\n",
            "\u001b[0;32m/usr/local/lib/python3.6/dist-packages/pandas/core/frame.py\u001b[0m in \u001b[0;36m__getitem__\u001b[0;34m(self, key)\u001b[0m\n\u001b[1;32m   2904\u001b[0m             \u001b[0;32mif\u001b[0m \u001b[0mself\u001b[0m\u001b[0;34m.\u001b[0m\u001b[0mcolumns\u001b[0m\u001b[0;34m.\u001b[0m\u001b[0mnlevels\u001b[0m \u001b[0;34m>\u001b[0m \u001b[0;36m1\u001b[0m\u001b[0;34m:\u001b[0m\u001b[0;34m\u001b[0m\u001b[0;34m\u001b[0m\u001b[0m\n\u001b[1;32m   2905\u001b[0m                 \u001b[0;32mreturn\u001b[0m \u001b[0mself\u001b[0m\u001b[0;34m.\u001b[0m\u001b[0m_getitem_multilevel\u001b[0m\u001b[0;34m(\u001b[0m\u001b[0mkey\u001b[0m\u001b[0;34m)\u001b[0m\u001b[0;34m\u001b[0m\u001b[0;34m\u001b[0m\u001b[0m\n\u001b[0;32m-> 2906\u001b[0;31m             \u001b[0mindexer\u001b[0m \u001b[0;34m=\u001b[0m \u001b[0mself\u001b[0m\u001b[0;34m.\u001b[0m\u001b[0mcolumns\u001b[0m\u001b[0;34m.\u001b[0m\u001b[0mget_loc\u001b[0m\u001b[0;34m(\u001b[0m\u001b[0mkey\u001b[0m\u001b[0;34m)\u001b[0m\u001b[0;34m\u001b[0m\u001b[0;34m\u001b[0m\u001b[0m\n\u001b[0m\u001b[1;32m   2907\u001b[0m             \u001b[0;32mif\u001b[0m \u001b[0mis_integer\u001b[0m\u001b[0;34m(\u001b[0m\u001b[0mindexer\u001b[0m\u001b[0;34m)\u001b[0m\u001b[0;34m:\u001b[0m\u001b[0;34m\u001b[0m\u001b[0;34m\u001b[0m\u001b[0m\n\u001b[1;32m   2908\u001b[0m                 \u001b[0mindexer\u001b[0m \u001b[0;34m=\u001b[0m \u001b[0;34m[\u001b[0m\u001b[0mindexer\u001b[0m\u001b[0;34m]\u001b[0m\u001b[0;34m\u001b[0m\u001b[0;34m\u001b[0m\u001b[0m\n",
            "\u001b[0;32m/usr/local/lib/python3.6/dist-packages/pandas/core/indexes/base.py\u001b[0m in \u001b[0;36mget_loc\u001b[0;34m(self, key, method, tolerance)\u001b[0m\n\u001b[1;32m   2898\u001b[0m                 \u001b[0;32mreturn\u001b[0m \u001b[0mself\u001b[0m\u001b[0;34m.\u001b[0m\u001b[0m_engine\u001b[0m\u001b[0;34m.\u001b[0m\u001b[0mget_loc\u001b[0m\u001b[0;34m(\u001b[0m\u001b[0mcasted_key\u001b[0m\u001b[0;34m)\u001b[0m\u001b[0;34m\u001b[0m\u001b[0;34m\u001b[0m\u001b[0m\n\u001b[1;32m   2899\u001b[0m             \u001b[0;32mexcept\u001b[0m \u001b[0mKeyError\u001b[0m \u001b[0;32mas\u001b[0m \u001b[0merr\u001b[0m\u001b[0;34m:\u001b[0m\u001b[0;34m\u001b[0m\u001b[0;34m\u001b[0m\u001b[0m\n\u001b[0;32m-> 2900\u001b[0;31m                 \u001b[0;32mraise\u001b[0m \u001b[0mKeyError\u001b[0m\u001b[0;34m(\u001b[0m\u001b[0mkey\u001b[0m\u001b[0;34m)\u001b[0m \u001b[0;32mfrom\u001b[0m \u001b[0merr\u001b[0m\u001b[0;34m\u001b[0m\u001b[0;34m\u001b[0m\u001b[0m\n\u001b[0m\u001b[1;32m   2901\u001b[0m \u001b[0;34m\u001b[0m\u001b[0m\n\u001b[1;32m   2902\u001b[0m         \u001b[0;32mif\u001b[0m \u001b[0mtolerance\u001b[0m \u001b[0;32mis\u001b[0m \u001b[0;32mnot\u001b[0m \u001b[0;32mNone\u001b[0m\u001b[0;34m:\u001b[0m\u001b[0;34m\u001b[0m\u001b[0;34m\u001b[0m\u001b[0m\n",
            "\u001b[0;31mKeyError\u001b[0m: 'number_of_words'"
          ]
        }
      ]
    },
    {
      "cell_type": "markdown",
      "metadata": {
        "id": "cj20PeGyHcce"
      },
      "source": [
        "With the following graph, we check the correlations that exist between the variables of the dataset."
      ]
    },
    {
      "cell_type": "code",
      "metadata": {
        "id": "IOn41iXqOmSq",
        "colab": {
          "base_uri": "https://localhost:8080/",
          "height": 431
        },
        "outputId": "6a510320-8e61-4ded-8896-34ccf897c313"
      },
      "source": [
        "sns.set(rc={'figure.figsize':(5,5)})\n",
        "sns.heatmap(df_features.iloc[:,2:9].corr(), square=True, annot=True)"
      ],
      "execution_count": null,
      "outputs": [
        {
          "output_type": "execute_result",
          "data": {
            "text/plain": [
              "<matplotlib.axes._subplots.AxesSubplot at 0x7fe3655ed470>"
            ]
          },
          "metadata": {
            "tags": []
          },
          "execution_count": 24
        },
        {
          "output_type": "display_data",
          "data": {
            "image/png": "[encoded data removed]",
            "text/plain": [
              "<Figure size 360x360 with 2 Axes>"
            ]
          },
          "metadata": {
            "tags": []
          }
        }
      ]
    },
    {
      "cell_type": "markdown",
      "metadata": {
        "id": "gocub6yRH9aT"
      },
      "source": [
        "To carry out the selection of characteristics, the selectKBest function will be used. You will have to pass it the number of \"top\" characteristics that it will choose from the existing ones."
      ]
    },
    {
      "cell_type": "code",
      "metadata": {
        "id": "m4up7NfD3vHd",
        "colab": {
          "base_uri": "https://localhost:8080/"
        },
        "outputId": "2ebc9578-3c14-4383-ea8d-73552ff0d212"
      },
      "source": [
        "from sklearn.feature_selection import SelectKBest, chi2, f_regression, mutual_info_classif\r\n",
        "import numpy as np\r\n",
        "\r\n",
        "# Create features and target variable for Classification problem\r\n",
        "X_clf = X \r\n",
        "\r\n",
        "y_clf = df['class'] # Target variable: class\r\n",
        "print(y_clf)\r\n",
        "\r\n",
        "y_clf = np.where(y_clf == 0,0, y_clf)\r\n",
        "y_clf = np.where(y_clf == 1,1, y_clf)\r\n",
        "y_clf = np.where(y_clf == 2,2, y_clf)\r\n",
        "y_clf = y_clf.astype('int')\r\n",
        "print(y_clf)\r\n",
        "\r\n",
        "best=SelectKBest(score_func = mutual_info_classif)\r\n",
        "X_new = best.fit_transform(X_clf, y_clf)\r\n",
        "X_new.shape\r\n",
        "selected = best.get_support(indices=True)\r\n",
        "print(X_clf.columns[selected]) #error borrar"
      ],
      "execution_count": null,
      "outputs": [
        {
          "output_type": "stream",
          "text": [
            "0        2\n",
            "1        1\n",
            "2        1\n",
            "3        1\n",
            "4        1\n",
            "        ..\n",
            "24778    1\n",
            "24779    2\n",
            "24780    1\n",
            "24781    1\n",
            "24782    2\n",
            "Name: class, Length: 24783, dtype: int64\n",
            "[2 1 1 ... 1 1 2]\n"
          ],
          "name": "stdout"
        }
      ]
    },
    {
      "cell_type": "markdown",
      "metadata": {
        "id": "b7EckqYDfa12"
      },
      "source": [
        "With k = 2, the two characteristics that SelectKBest returns are *'Negative'* and *'Compound'*. To these two features we will add the target feature, *'class'*."
      ]
    },
    {
      "cell_type": "markdown",
      "metadata": {
        "id": "5Edva7WWDNqc"
      },
      "source": [
        "# 4. Classification algorithm"
      ]
    },
    {
      "cell_type": "markdown",
      "metadata": {
        "id": "dMJo5M92nfjo"
      },
      "source": [
        "Once we know the three characteristics with which we are going to work, it is time to separate the dataset records in the training part and the test part. The test part will be made up of 30% of the tweets."
      ]
    },
    {
      "cell_type": "code",
      "metadata": {
        "id": "mAl6R5KfDLH0"
      },
      "source": [
        "#from sklearn.model_selection import train_test_split\r\n",
        "\r\n",
        "#train, test = train_test_split(X_new, test_size=0.3)\r\n",
        "#train.reset_index(inplace = True)\r\n",
        "#test.reset_index(inplace = True)\r\n",
        "\r\n",
        "\r\n",
        "from sklearn.model_selection import train_test_split\r\n",
        "X_train, X_test, y_train, y_test = train_test_split(X_new, y_clf, test_size=0.3, random_state=0)\r\n",
        "#train.reset_index(inplace = True)\r\n",
        "#test.reset_index(inplace = True)"
      ],
      "execution_count": null,
      "outputs": []
    },
    {
      "cell_type": "code",
      "metadata": {
        "colab": {
          "base_uri": "https://localhost:8080/",
          "height": 371
        },
        "id": "XO_YKwRYD7_V",
        "outputId": "22476ab1-5fc2-4d48-bc67-163ea7feed55"
      },
      "source": [
        "from sklearn import neighbors\r\n",
        "from sklearn.model_selection import KFold\r\n",
        "import matplotlib.pyplot as plt\r\n",
        "from sklearn.metrics import accuracy_score\r\n",
        "#import numpy as np\r\n",
        "\r\n",
        "cv = KFold(n_splits = 5, shuffle = True) \r\n",
        "\r\n",
        "for i, weights in enumerate(['uniform', 'distance']):\r\n",
        "   total_scores = []\r\n",
        "   for n_neighbors in range(1,30):\r\n",
        "       fold_accuracy = []\r\n",
        "       knn = neighbors.KNeighborsClassifier(n_neighbors, weights=weights)\r\n",
        "       for train_fold, test_fold in cv.split(train):\r\n",
        "          # Random train / test division\r\n",
        "          f_train = X_train.loc[train_fold]\r\n",
        "          f_test = X_train.loc[test_fold]\r\n",
        "          # Model training and execution\r\n",
        "          knn.fit( X = f_train.drop(['class'], axis=1), \r\n",
        "                               y = f_train['class'])\r\n",
        "          y_pred = knn.predict(X = f_test.drop(['class'], axis = 1))\r\n",
        "          # Model evaluation\r\n",
        "          acc = accuracy_score(f_test['class'], y_pred)\r\n",
        "          fold_accuracy.append(acc)\r\n",
        "       total_scores.append(sum(fold_accuracy)/len(fold_accuracy))\r\n",
        "   \r\n",
        "   plt.plot(range(1,len(total_scores)+1), total_scores, \r\n",
        "             marker='o', label=weights)\r\n",
        "   print ('Max Value ' +  weights + \" : \" +  str(max(total_scores)) +\" (\" + str(np.argmax(total_scores) + 1) + \")\")\r\n",
        "   plt.ylabel('Acc')      \r\n",
        "    \r\n",
        "\r\n",
        "plt.legend()\r\n",
        "plt.show() \r\n"
      ],
      "execution_count": null,
      "outputs": [
        {
          "output_type": "error",
          "ename": "AttributeError",
          "evalue": "ignored",
          "traceback": [
            "\u001b[0;31m---------------------------------------------------------------------------\u001b[0m",
            "\u001b[0;31mAttributeError\u001b[0m                            Traceback (most recent call last)",
            "\u001b[0;32m<ipython-input-79-f5782a5bb4ca>\u001b[0m in \u001b[0;36m<module>\u001b[0;34m()\u001b[0m\n\u001b[1;32m     14\u001b[0m        \u001b[0;32mfor\u001b[0m \u001b[0mtrain_fold\u001b[0m\u001b[0;34m,\u001b[0m \u001b[0mtest_fold\u001b[0m \u001b[0;32min\u001b[0m \u001b[0mcv\u001b[0m\u001b[0;34m.\u001b[0m\u001b[0msplit\u001b[0m\u001b[0;34m(\u001b[0m\u001b[0mtrain\u001b[0m\u001b[0;34m)\u001b[0m\u001b[0;34m:\u001b[0m\u001b[0;34m\u001b[0m\u001b[0;34m\u001b[0m\u001b[0m\n\u001b[1;32m     15\u001b[0m           \u001b[0;31m# Random train / test division\u001b[0m\u001b[0;34m\u001b[0m\u001b[0;34m\u001b[0m\u001b[0;34m\u001b[0m\u001b[0m\n\u001b[0;32m---> 16\u001b[0;31m           \u001b[0mf_train\u001b[0m \u001b[0;34m=\u001b[0m \u001b[0mX_train\u001b[0m\u001b[0;34m.\u001b[0m\u001b[0mloc\u001b[0m\u001b[0;34m[\u001b[0m\u001b[0mtrain_fold\u001b[0m\u001b[0;34m]\u001b[0m\u001b[0;34m\u001b[0m\u001b[0;34m\u001b[0m\u001b[0m\n\u001b[0m\u001b[1;32m     17\u001b[0m           \u001b[0mf_test\u001b[0m \u001b[0;34m=\u001b[0m \u001b[0mX_train\u001b[0m\u001b[0;34m.\u001b[0m\u001b[0mloc\u001b[0m\u001b[0;34m[\u001b[0m\u001b[0mtest_fold\u001b[0m\u001b[0;34m]\u001b[0m\u001b[0;34m\u001b[0m\u001b[0;34m\u001b[0m\u001b[0m\n\u001b[1;32m     18\u001b[0m           \u001b[0;31m# Model training and execution\u001b[0m\u001b[0;34m\u001b[0m\u001b[0;34m\u001b[0m\u001b[0;34m\u001b[0m\u001b[0m\n",
            "\u001b[0;32m/usr/local/lib/python3.6/dist-packages/scipy/sparse/base.py\u001b[0m in \u001b[0;36m__getattr__\u001b[0;34m(self, attr)\u001b[0m\n\u001b[1;32m    689\u001b[0m             \u001b[0;32mreturn\u001b[0m \u001b[0mself\u001b[0m\u001b[0;34m.\u001b[0m\u001b[0mgetnnz\u001b[0m\u001b[0;34m(\u001b[0m\u001b[0;34m)\u001b[0m\u001b[0;34m\u001b[0m\u001b[0;34m\u001b[0m\u001b[0m\n\u001b[1;32m    690\u001b[0m         \u001b[0;32melse\u001b[0m\u001b[0;34m:\u001b[0m\u001b[0;34m\u001b[0m\u001b[0;34m\u001b[0m\u001b[0m\n\u001b[0;32m--> 691\u001b[0;31m             \u001b[0;32mraise\u001b[0m \u001b[0mAttributeError\u001b[0m\u001b[0;34m(\u001b[0m\u001b[0mattr\u001b[0m \u001b[0;34m+\u001b[0m \u001b[0;34m\" not found\"\u001b[0m\u001b[0;34m)\u001b[0m\u001b[0;34m\u001b[0m\u001b[0;34m\u001b[0m\u001b[0m\n\u001b[0m\u001b[1;32m    692\u001b[0m \u001b[0;34m\u001b[0m\u001b[0m\n\u001b[1;32m    693\u001b[0m     \u001b[0;32mdef\u001b[0m \u001b[0mtranspose\u001b[0m\u001b[0;34m(\u001b[0m\u001b[0mself\u001b[0m\u001b[0;34m,\u001b[0m \u001b[0maxes\u001b[0m\u001b[0;34m=\u001b[0m\u001b[0;32mNone\u001b[0m\u001b[0;34m,\u001b[0m \u001b[0mcopy\u001b[0m\u001b[0;34m=\u001b[0m\u001b[0;32mFalse\u001b[0m\u001b[0;34m)\u001b[0m\u001b[0;34m:\u001b[0m\u001b[0;34m\u001b[0m\u001b[0;34m\u001b[0m\u001b[0m\n",
            "\u001b[0;31mAttributeError\u001b[0m: loc not found"
          ]
        }
      ]
    },
    {
      "cell_type": "markdown",
      "metadata": {
        "id": "Xj-T0YFK95v7"
      },
      "source": [
        "## Model Execution\n",
        "\n"
      ]
    },
    {
      "cell_type": "markdown",
      "metadata": {
        "id": "YxzQici8RpSe"
      },
      "source": [
        "Once we have identified the best parameterization we will go on to make an execution of the model and we will graph its results."
      ]
    },
    {
      "cell_type": "markdown",
      "metadata": {
        "id": "fOSRwOnZ1ZdF"
      },
      "source": [
        "### K-nearest neighbors algorithm\r\n",
        "\r\n",
        "With this algorithm we are going to classify the tweets depending on the tweets closest to the one to be predicted."
      ]
    },
    {
      "cell_type": "code",
      "metadata": {
        "cellView": "both",
        "colab": {
          "base_uri": "https://localhost:8080/"
        },
        "id": "CT-gjUX1S9Em",
        "outputId": "009ca25c-5345-4434-d5d1-11d56fe1daaa"
      },
      "source": [
        "# Number of closest tweets that you will consult.\n",
        "n_neighbors = 3\n",
        "weights = 'distance'\n",
        "knn = neighbors.KNeighborsClassifier(n_neighbors= n_neighbors, weights=weights) \n",
        "# Fit and predict\n",
        "knn.fit(X = X_train, y = y_train)\n",
        "y_pred = knn.predict(X = X_test)\n",
        "acc = accuracy_score(y_test, y_pred)\n",
        "print ('Acc', acc)"
      ],
      "execution_count": null,
      "outputs": [
        {
          "output_type": "stream",
          "text": [
            "Acc 0.786684599865501\n"
          ],
          "name": "stdout"
        }
      ]
    },
    {
      "cell_type": "markdown",
      "metadata": {
        "id": "c3xiYNMZxfn7"
      },
      "source": [
        "We show the solution using Voronoi Diagrams\n"
      ]
    },
    {
      "cell_type": "code",
      "metadata": {
        "id": "4xQz3Q3S3y4k"
      },
      "source": [
        "import matplotlib.pyplot as plt\n",
        "from matplotlib.colors import ListedColormap\n",
        "cmap_light = ListedColormap(['#FFAAAA', '#AAFFAA', '#AAAAFF'])\n",
        "cmap_bold = ListedColormap(['#FF0000', '#00FF00', '#0000FF'])\n",
        "h = .05  # Step size in the mesh\n",
        "\n",
        "X = X_train\n",
        "y = y_train\n"
      ],
      "execution_count": null,
      "outputs": []
    },
    {
      "cell_type": "code",
      "metadata": {
        "colab": {
          "base_uri": "https://localhost:8080/",
          "height": 413
        },
        "id": "dAnH1mjxxNQ_",
        "outputId": "a4d794d8-f5f6-41ee-c42c-7b38f3602e49"
      },
      "source": [
        "# Plot the decision boundary. For that, we will assign a color to each\n",
        "# point in the mesh [x_min, x_max]x[y_min, y_max].\n",
        "x_min, x_max = X[:, 0].min() - 1, X[:, 0].max() + 1\n",
        "y_min, y_max = X[:, 1].min() - 1, X[:, 1].max() + 1\n",
        "xx, yy = np.meshgrid(np.arange(x_min, x_max, h),\n",
        "                       np.arange(y_min, y_max, h))\n",
        "\n",
        "Z = knn.predict(np.c_[xx.ravel(), yy.ravel()])\n",
        "\n",
        "# Put the result into a color plot\n",
        "Z = Z.reshape(xx.shape)\n",
        "plt.figure()\n",
        "plt.pcolormesh(xx, yy, Z, cmap=cmap_light)\n",
        "\n",
        "# Plot also the training points\n",
        "plt.scatter(X[:, 0], X[:, 1], c=y, cmap=cmap_bold,\n",
        "             edgecolor='k', s=20)\n",
        "plt.xlim(xx.min(), xx.max())\n",
        "plt.ylim(yy.min(), yy.max())\n",
        "plt.title(\"Classification (k = %i, weights = '%s')\"\n",
        "              % (n_neighbors, weights))\n",
        "\n",
        "plt.show()\n",
        "                         "
      ],
      "execution_count": null,
      "outputs": [
        {
          "output_type": "error",
          "ename": "ValueError",
          "evalue": "ignored",
          "traceback": [
            "\u001b[0;31m---------------------------------------------------------------------------\u001b[0m",
            "\u001b[0;31mValueError\u001b[0m                                Traceback (most recent call last)",
            "\u001b[0;32m<ipython-input-68-f2d6ea39256e>\u001b[0m in \u001b[0;36m<module>\u001b[0;34m()\u001b[0m\n\u001b[1;32m      6\u001b[0m                        np.arange(y_min, y_max, h))\n\u001b[1;32m      7\u001b[0m \u001b[0;34m\u001b[0m\u001b[0m\n\u001b[0;32m----> 8\u001b[0;31m \u001b[0mZ\u001b[0m \u001b[0;34m=\u001b[0m \u001b[0mknn\u001b[0m\u001b[0;34m.\u001b[0m\u001b[0mpredict\u001b[0m\u001b[0;34m(\u001b[0m\u001b[0mnp\u001b[0m\u001b[0;34m.\u001b[0m\u001b[0mc_\u001b[0m\u001b[0;34m[\u001b[0m\u001b[0mxx\u001b[0m\u001b[0;34m.\u001b[0m\u001b[0mravel\u001b[0m\u001b[0;34m(\u001b[0m\u001b[0;34m)\u001b[0m\u001b[0;34m,\u001b[0m \u001b[0myy\u001b[0m\u001b[0;34m.\u001b[0m\u001b[0mravel\u001b[0m\u001b[0;34m(\u001b[0m\u001b[0;34m)\u001b[0m\u001b[0;34m]\u001b[0m\u001b[0;34m)\u001b[0m\u001b[0;34m\u001b[0m\u001b[0;34m\u001b[0m\u001b[0m\n\u001b[0m\u001b[1;32m      9\u001b[0m \u001b[0;34m\u001b[0m\u001b[0m\n\u001b[1;32m     10\u001b[0m \u001b[0;31m# Put the result into a color plot\u001b[0m\u001b[0;34m\u001b[0m\u001b[0;34m\u001b[0m\u001b[0;34m\u001b[0m\u001b[0m\n",
            "\u001b[0;32m/usr/local/lib/python3.6/dist-packages/sklearn/neighbors/_classification.py\u001b[0m in \u001b[0;36mpredict\u001b[0;34m(self, X)\u001b[0m\n\u001b[1;32m    171\u001b[0m         \u001b[0mX\u001b[0m \u001b[0;34m=\u001b[0m \u001b[0mcheck_array\u001b[0m\u001b[0;34m(\u001b[0m\u001b[0mX\u001b[0m\u001b[0;34m,\u001b[0m \u001b[0maccept_sparse\u001b[0m\u001b[0;34m=\u001b[0m\u001b[0;34m'csr'\u001b[0m\u001b[0;34m)\u001b[0m\u001b[0;34m\u001b[0m\u001b[0;34m\u001b[0m\u001b[0m\n\u001b[1;32m    172\u001b[0m \u001b[0;34m\u001b[0m\u001b[0m\n\u001b[0;32m--> 173\u001b[0;31m         \u001b[0mneigh_dist\u001b[0m\u001b[0;34m,\u001b[0m \u001b[0mneigh_ind\u001b[0m \u001b[0;34m=\u001b[0m \u001b[0mself\u001b[0m\u001b[0;34m.\u001b[0m\u001b[0mkneighbors\u001b[0m\u001b[0;34m(\u001b[0m\u001b[0mX\u001b[0m\u001b[0;34m)\u001b[0m\u001b[0;34m\u001b[0m\u001b[0;34m\u001b[0m\u001b[0m\n\u001b[0m\u001b[1;32m    174\u001b[0m         \u001b[0mclasses_\u001b[0m \u001b[0;34m=\u001b[0m \u001b[0mself\u001b[0m\u001b[0;34m.\u001b[0m\u001b[0mclasses_\u001b[0m\u001b[0;34m\u001b[0m\u001b[0;34m\u001b[0m\u001b[0m\n\u001b[1;32m    175\u001b[0m         \u001b[0m_y\u001b[0m \u001b[0;34m=\u001b[0m \u001b[0mself\u001b[0m\u001b[0;34m.\u001b[0m\u001b[0m_y\u001b[0m\u001b[0;34m\u001b[0m\u001b[0;34m\u001b[0m\u001b[0m\n",
            "\u001b[0;32m/usr/local/lib/python3.6/dist-packages/sklearn/neighbors/_base.py\u001b[0m in \u001b[0;36mkneighbors\u001b[0;34m(self, X, n_neighbors, return_distance)\u001b[0m\n\u001b[1;32m    641\u001b[0m                 \u001b[0mX\u001b[0m\u001b[0;34m,\u001b[0m \u001b[0mself\u001b[0m\u001b[0;34m.\u001b[0m\u001b[0m_fit_X\u001b[0m\u001b[0;34m,\u001b[0m \u001b[0mreduce_func\u001b[0m\u001b[0;34m=\u001b[0m\u001b[0mreduce_func\u001b[0m\u001b[0;34m,\u001b[0m\u001b[0;34m\u001b[0m\u001b[0;34m\u001b[0m\u001b[0m\n\u001b[1;32m    642\u001b[0m                 \u001b[0mmetric\u001b[0m\u001b[0;34m=\u001b[0m\u001b[0mself\u001b[0m\u001b[0;34m.\u001b[0m\u001b[0meffective_metric_\u001b[0m\u001b[0;34m,\u001b[0m \u001b[0mn_jobs\u001b[0m\u001b[0;34m=\u001b[0m\u001b[0mn_jobs\u001b[0m\u001b[0;34m,\u001b[0m\u001b[0;34m\u001b[0m\u001b[0;34m\u001b[0m\u001b[0m\n\u001b[0;32m--> 643\u001b[0;31m                 **kwds))\n\u001b[0m\u001b[1;32m    644\u001b[0m \u001b[0;34m\u001b[0m\u001b[0m\n\u001b[1;32m    645\u001b[0m         \u001b[0;32melif\u001b[0m \u001b[0mself\u001b[0m\u001b[0;34m.\u001b[0m\u001b[0m_fit_method\u001b[0m \u001b[0;32min\u001b[0m \u001b[0;34m[\u001b[0m\u001b[0;34m'ball_tree'\u001b[0m\u001b[0;34m,\u001b[0m \u001b[0;34m'kd_tree'\u001b[0m\u001b[0;34m]\u001b[0m\u001b[0;34m:\u001b[0m\u001b[0;34m\u001b[0m\u001b[0;34m\u001b[0m\u001b[0m\n",
            "\u001b[0;32m/usr/local/lib/python3.6/dist-packages/sklearn/metrics/pairwise.py\u001b[0m in \u001b[0;36mpairwise_distances_chunked\u001b[0;34m(X, Y, reduce_func, metric, n_jobs, working_memory, **kwds)\u001b[0m\n\u001b[1;32m   1593\u001b[0m             \u001b[0mX_chunk\u001b[0m \u001b[0;34m=\u001b[0m \u001b[0mX\u001b[0m\u001b[0;34m[\u001b[0m\u001b[0msl\u001b[0m\u001b[0;34m]\u001b[0m\u001b[0;34m\u001b[0m\u001b[0;34m\u001b[0m\u001b[0m\n\u001b[1;32m   1594\u001b[0m         D_chunk = pairwise_distances(X_chunk, Y, metric=metric,\n\u001b[0;32m-> 1595\u001b[0;31m                                      n_jobs=n_jobs, **kwds)\n\u001b[0m\u001b[1;32m   1596\u001b[0m         if ((X is Y or Y is None)\n\u001b[1;32m   1597\u001b[0m                 \u001b[0;32mand\u001b[0m \u001b[0mPAIRWISE_DISTANCE_FUNCTIONS\u001b[0m\u001b[0;34m.\u001b[0m\u001b[0mget\u001b[0m\u001b[0;34m(\u001b[0m\u001b[0mmetric\u001b[0m\u001b[0;34m,\u001b[0m \u001b[0;32mNone\u001b[0m\u001b[0;34m)\u001b[0m\u001b[0;34m\u001b[0m\u001b[0;34m\u001b[0m\u001b[0m\n",
            "\u001b[0;32m/usr/local/lib/python3.6/dist-packages/sklearn/metrics/pairwise.py\u001b[0m in \u001b[0;36mpairwise_distances\u001b[0;34m(X, Y, metric, n_jobs, force_all_finite, **kwds)\u001b[0m\n\u001b[1;32m   1750\u001b[0m         \u001b[0mfunc\u001b[0m \u001b[0;34m=\u001b[0m \u001b[0mpartial\u001b[0m\u001b[0;34m(\u001b[0m\u001b[0mdistance\u001b[0m\u001b[0;34m.\u001b[0m\u001b[0mcdist\u001b[0m\u001b[0;34m,\u001b[0m \u001b[0mmetric\u001b[0m\u001b[0;34m=\u001b[0m\u001b[0mmetric\u001b[0m\u001b[0;34m,\u001b[0m \u001b[0;34m**\u001b[0m\u001b[0mkwds\u001b[0m\u001b[0;34m)\u001b[0m\u001b[0;34m\u001b[0m\u001b[0;34m\u001b[0m\u001b[0m\n\u001b[1;32m   1751\u001b[0m \u001b[0;34m\u001b[0m\u001b[0m\n\u001b[0;32m-> 1752\u001b[0;31m     \u001b[0;32mreturn\u001b[0m \u001b[0m_parallel_pairwise\u001b[0m\u001b[0;34m(\u001b[0m\u001b[0mX\u001b[0m\u001b[0;34m,\u001b[0m \u001b[0mY\u001b[0m\u001b[0;34m,\u001b[0m \u001b[0mfunc\u001b[0m\u001b[0;34m,\u001b[0m \u001b[0mn_jobs\u001b[0m\u001b[0;34m,\u001b[0m \u001b[0;34m**\u001b[0m\u001b[0mkwds\u001b[0m\u001b[0;34m)\u001b[0m\u001b[0;34m\u001b[0m\u001b[0;34m\u001b[0m\u001b[0m\n\u001b[0m\u001b[1;32m   1753\u001b[0m \u001b[0;34m\u001b[0m\u001b[0m\n\u001b[1;32m   1754\u001b[0m \u001b[0;34m\u001b[0m\u001b[0m\n",
            "\u001b[0;32m/usr/local/lib/python3.6/dist-packages/sklearn/metrics/pairwise.py\u001b[0m in \u001b[0;36m_parallel_pairwise\u001b[0;34m(X, Y, func, n_jobs, **kwds)\u001b[0m\n\u001b[1;32m   1346\u001b[0m \u001b[0;34m\u001b[0m\u001b[0m\n\u001b[1;32m   1347\u001b[0m     \u001b[0;32mif\u001b[0m \u001b[0meffective_n_jobs\u001b[0m\u001b[0;34m(\u001b[0m\u001b[0mn_jobs\u001b[0m\u001b[0;34m)\u001b[0m \u001b[0;34m==\u001b[0m \u001b[0;36m1\u001b[0m\u001b[0;34m:\u001b[0m\u001b[0;34m\u001b[0m\u001b[0;34m\u001b[0m\u001b[0m\n\u001b[0;32m-> 1348\u001b[0;31m         \u001b[0;32mreturn\u001b[0m \u001b[0mfunc\u001b[0m\u001b[0;34m(\u001b[0m\u001b[0mX\u001b[0m\u001b[0;34m,\u001b[0m \u001b[0mY\u001b[0m\u001b[0;34m,\u001b[0m \u001b[0;34m**\u001b[0m\u001b[0mkwds\u001b[0m\u001b[0;34m)\u001b[0m\u001b[0;34m\u001b[0m\u001b[0;34m\u001b[0m\u001b[0m\n\u001b[0m\u001b[1;32m   1349\u001b[0m \u001b[0;34m\u001b[0m\u001b[0m\n\u001b[1;32m   1350\u001b[0m     \u001b[0;31m# enforce a threading backend to prevent data communication overhead\u001b[0m\u001b[0;34m\u001b[0m\u001b[0;34m\u001b[0m\u001b[0;34m\u001b[0m\u001b[0m\n",
            "\u001b[0;32m/usr/local/lib/python3.6/dist-packages/sklearn/metrics/pairwise.py\u001b[0m in \u001b[0;36meuclidean_distances\u001b[0;34m(X, Y, Y_norm_squared, squared, X_norm_squared)\u001b[0m\n\u001b[1;32m    260\u001b[0m     \u001b[0mpaired_distances\u001b[0m \u001b[0;34m:\u001b[0m \u001b[0mdistances\u001b[0m \u001b[0mbetweens\u001b[0m \u001b[0mpairs\u001b[0m \u001b[0mof\u001b[0m \u001b[0melements\u001b[0m \u001b[0mof\u001b[0m \u001b[0mX\u001b[0m \u001b[0;32mand\u001b[0m \u001b[0mY\u001b[0m\u001b[0;34m.\u001b[0m\u001b[0;34m\u001b[0m\u001b[0;34m\u001b[0m\u001b[0m\n\u001b[1;32m    261\u001b[0m     \"\"\"\n\u001b[0;32m--> 262\u001b[0;31m     \u001b[0mX\u001b[0m\u001b[0;34m,\u001b[0m \u001b[0mY\u001b[0m \u001b[0;34m=\u001b[0m \u001b[0mcheck_pairwise_arrays\u001b[0m\u001b[0;34m(\u001b[0m\u001b[0mX\u001b[0m\u001b[0;34m,\u001b[0m \u001b[0mY\u001b[0m\u001b[0;34m)\u001b[0m\u001b[0;34m\u001b[0m\u001b[0;34m\u001b[0m\u001b[0m\n\u001b[0m\u001b[1;32m    263\u001b[0m \u001b[0;34m\u001b[0m\u001b[0m\n\u001b[1;32m    264\u001b[0m     \u001b[0;31m# If norms are passed as float32, they are unused. If arrays are passed as\u001b[0m\u001b[0;34m\u001b[0m\u001b[0;34m\u001b[0m\u001b[0;34m\u001b[0m\u001b[0m\n",
            "\u001b[0;32m/usr/local/lib/python3.6/dist-packages/sklearn/metrics/pairwise.py\u001b[0m in \u001b[0;36mcheck_pairwise_arrays\u001b[0;34m(X, Y, precomputed, dtype, accept_sparse, force_all_finite, copy)\u001b[0m\n\u001b[1;32m    153\u001b[0m         raise ValueError(\"Incompatible dimension for X and Y matrices: \"\n\u001b[1;32m    154\u001b[0m                          \"X.shape[1] == %d while Y.shape[1] == %d\" % (\n\u001b[0;32m--> 155\u001b[0;31m                              X.shape[1], Y.shape[1]))\n\u001b[0m\u001b[1;32m    156\u001b[0m \u001b[0;34m\u001b[0m\u001b[0m\n\u001b[1;32m    157\u001b[0m     \u001b[0;32mreturn\u001b[0m \u001b[0mX\u001b[0m\u001b[0;34m,\u001b[0m \u001b[0mY\u001b[0m\u001b[0;34m\u001b[0m\u001b[0;34m\u001b[0m\u001b[0m\n",
            "\u001b[0;31mValueError\u001b[0m: Incompatible dimension for X and Y matrices: X.shape[1] == 2 while Y.shape[1] == 10"
          ]
        }
      ]
    },
    {
      "cell_type": "markdown",
      "metadata": {
        "id": "onIoRvD449nH"
      },
      "source": [
        "Finally, we obtain the Confusion Matrix"
      ]
    },
    {
      "cell_type": "code",
      "metadata": {
        "id": "NX9gtCEszUi0"
      },
      "source": [
        "from sklearn.metrics import confusion_matrix\n",
        "from sklearn.utils.multiclass import unique_labels\n",
        "\n",
        "def plot_confusion_matrix(y_true, y_pred, classes,\n",
        "                          normalize=False,\n",
        "                          title=None,\n",
        "                          cmap=plt.cm.Blues):\n",
        "    \"\"\"\n",
        "    This function prints and plots the confusion matrix.\n",
        "    Normalization can be applied by setting `normalize=True`.\n",
        "    \"\"\"\n",
        "    if not title:\n",
        "        if normalize:\n",
        "            title = 'Normalized confusion matrix'\n",
        "        else:\n",
        "            title = 'Confusion matrix, without normalization'\n",
        "\n",
        "    # Compute confusion matrix\n",
        "    cm = confusion_matrix(y_true, y_pred)\n",
        "    # Only use the labels that appear in the data\n",
        "    classes = classes[unique_labels(y_true, y_pred)]\n",
        "    if normalize:\n",
        "        cm = cm.astype('float') / cm.sum(axis=1)[:, np.newaxis]\n",
        "        print(\"Normalized confusion matrix\")\n",
        "    else:\n",
        "        print('Confusion matrix, without normalization')\n",
        "\n",
        "    print(cm)\n",
        "\n",
        "    fig, ax = plt.subplots()\n",
        "    im = ax.imshow(cm, interpolation='nearest', cmap=cmap)\n",
        "    ax.figure.colorbar(im, ax=ax)\n",
        "    # We want to show all ticks...\n",
        "    ax.set(xticks=np.arange(cm.shape[1]),\n",
        "           yticks=np.arange(cm.shape[0]),\n",
        "           # ... and label them with the respective list entries\n",
        "           xticklabels=classes, yticklabels=classes,\n",
        "           title=title,\n",
        "           ylabel='True label',\n",
        "           xlabel='Predicted label')\n",
        "\n",
        "    # Rotate the tick labels and set their alignment.\n",
        "    plt.setp(ax.get_xticklabels(), rotation=45, ha=\"right\",\n",
        "             rotation_mode=\"anchor\")\n",
        "\n",
        "    # Loop over data dimensions and create text annotations.\n",
        "    fmt = '.2f' if normalize else 'd'\n",
        "    thresh = cm.max() / 2.\n",
        "    for i in range(cm.shape[0]):\n",
        "        for j in range(cm.shape[1]):\n",
        "            ax.text(j, i, format(cm[i, j], fmt),\n",
        "                    ha=\"center\", va=\"center\",\n",
        "                    color=\"white\" if cm[i, j] > thresh else \"black\")\n",
        "    fig.tight_layout()\n",
        "    return ax"
      ],
      "execution_count": null,
      "outputs": []
    },
    {
      "cell_type": "markdown",
      "metadata": {
        "id": "AASXGRAUsgzE"
      },
      "source": [
        "**Confusion Matrix**"
      ]
    },
    {
      "cell_type": "code",
      "metadata": {
        "colab": {
          "base_uri": "https://localhost:8080/",
          "height": 442
        },
        "id": "jNM0HVdLzVz-",
        "outputId": "f7a35653-5f73-40fc-8532-65bb0363c3a3"
      },
      "source": [
        "target_name=np.array(['0', '1', '2'], dtype='<U10')\n",
        "plot_confusion_matrix(y_test, y_pred, classes=target_name, normalize=True,\n",
        "                      title='Confusion matrix')\n",
        "  "
      ],
      "execution_count": null,
      "outputs": [
        {
          "output_type": "stream",
          "text": [
            "Normalized confusion matrix\n",
            "[[0.1264637  0.78454333 0.08899297]\n",
            " [0.02418653 0.95493301 0.02088046]\n",
            " [0.01506741 0.74147502 0.24345757]]\n"
          ],
          "name": "stdout"
        },
        {
          "output_type": "execute_result",
          "data": {
            "text/plain": [
              "<matplotlib.axes._subplots.AxesSubplot at 0x7fe366698048>"
            ]
          },
          "metadata": {
            "tags": []
          },
          "execution_count": 83
        },
        {
          "output_type": "display_data",
          "data": {
            "image/png": "[encoded data removed]",
            "text/plain": [
              "<Figure size 360x360 with 2 Axes>"
            ]
          },
          "metadata": {
            "tags": []
          }
        }
      ]
    },
    {
      "cell_type": "markdown",
      "metadata": {
        "id": "gfyWcte295Gv"
      },
      "source": [
        "**Classification Report**"
      ]
    },
    {
      "cell_type": "code",
      "metadata": {
        "id": "rgQ2cNiyUgYW",
        "colab": {
          "base_uri": "https://localhost:8080/"
        },
        "outputId": "a655f65d-e26d-44ea-9813-b4251faedcce"
      },
      "source": [
        "from sklearn.metrics import classification_report\n",
        "print(classification_report(y_test, y_pred))"
      ],
      "execution_count": null,
      "outputs": [
        {
          "output_type": "stream",
          "text": [
            "              precision    recall  f1-score   support\n",
            "\n",
            "           0       0.27      0.14      0.18       427\n",
            "           1       0.81      0.95      0.88      5747\n",
            "           2       0.66      0.24      0.35      1261\n",
            "\n",
            "    accuracy                           0.79      7435\n",
            "   macro avg       0.58      0.44      0.47      7435\n",
            "weighted avg       0.75      0.79      0.75      7435\n",
            "\n"
          ],
          "name": "stdout"
        }
      ]
    },
    {
      "cell_type": "markdown",
      "metadata": {
        "id": "WyQXR3mt1N5u"
      },
      "source": [
        "### Naive Bayes algorithm\r\n",
        "\r\n",
        "This algorithm is based on Bayes' Theorem. A Naive Bayes classifier assumes that the presence of a particular feature in a class is unrelated to the presence of any other feature."
      ]
    },
    {
      "cell_type": "code",
      "metadata": {
        "id": "Ox7gVRT43F1m"
      },
      "source": [
        "import numpy as np\r\n",
        "from sklearn.datasets import make_moons, make_circles, make_classification\r\n",
        "\r\n",
        "from matplotlib.colors import ListedColormap\r\n",
        "from sklearn.model_selection import train_test_split\r\n",
        "import matplotlib.pyplot as plt\r\n",
        "from sklearn.preprocessing import StandardScaler, MinMaxScaler\r\n",
        "from sklearn.metrics import accuracy_score\r\n",
        "from sklearn.naive_bayes import GaussianNB, MultinomialNB, BernoulliNB, ComplementNB\r\n",
        "\r\n"
      ],
      "execution_count": null,
      "outputs": []
    },
    {
      "cell_type": "code",
      "metadata": {
        "colab": {
          "base_uri": "https://localhost:8080/",
          "height": 293
        },
        "id": "s_BwWTUo3YV9",
        "outputId": "b4cf6876-f1a5-4734-fd64-ee52c7b7e87b"
      },
      "source": [
        "# Plotting variables\r\n",
        "h = .02  # step size in the mesh\r\n",
        "i = 1\r\n",
        "figure = plt.figure(figsize=(10, 4))\r\n",
        "\r\n",
        "# Classifiers\r\n",
        "names = [\"GaussianNB\", \"MultiNomialNB\", 'BernouilliNB', 'ComplementNB']\r\n",
        "classifiers = [GaussianNB(), MultinomialNB(), BernoulliNB(), ComplementNB()]\r\n",
        "\r\n",
        "# Scale\r\n",
        "X = MinMaxScaler().fit_transform(X)\r\n",
        "# Train and test\r\n",
        "X_train, X_test, y_train, y_test = \\\r\n",
        "        train_test_split(X, y, test_size=.4, random_state=42)\r\n",
        "\r\n",
        "\r\n",
        "# Prepare visualization\r\n",
        "x_min, x_max = X[:, 0].min() - .5, X[:, 0].max() + .5\r\n",
        "y_min, y_max = X[:, 1].min() - .5, X[:, 1].max() + .5\r\n",
        "xx, yy = np.meshgrid(np.arange(x_min, x_max, h),\r\n",
        "                         np.arange(y_min, y_max, h))\r\n",
        "\r\n",
        "# Just plot the dataset first\r\n",
        "cm = plt.cm.RdBu\r\n",
        "cm_bright = ListedColormap(['#FF0000', '#0000FF'])\r\n",
        "ax = plt.subplot(1, len(classifiers) + 1, i)\r\n",
        "ax.set_title(\"Input data\")\r\n",
        "# Plot the training points\r\n",
        "ax.scatter(X_train[:, 0], X_train[:, 1], c=y_train, cmap=cm_bright,\r\n",
        "         edgecolors='k')\r\n",
        "# Plot the testing points\r\n",
        "ax.scatter(X_test[:, 0], X_test[:, 1], c=y_test, cmap=cm_bright, alpha=0.6,\r\n",
        "              edgecolors='k')\r\n",
        "ax.set_xlim(xx.min(), xx.max())\r\n",
        "ax.set_ylim(yy.min(), yy.max())\r\n",
        "ax.set_xticks(())\r\n",
        "ax.set_yticks(())\r\n",
        "i += 1\r\n",
        "\r\n",
        "for name, clf in zip(names, classifiers):\r\n",
        "  ax = plt.subplot(1, len(classifiers) + 1, i)\r\n",
        "  \r\n",
        "  # FIT THE MODEL\r\n",
        "  clf.fit(X_train, y_train)\r\n",
        "  # PREDIT AND SCORE  \r\n",
        "  score = clf.score(X_test, y_test) #Returns the mean accuracy on the given test data and labels.\r\n",
        "  \r\n",
        "  \r\n",
        "  # Plot the decision boundary. For that, we will assign a color to each\r\n",
        "  # point in the mesh [x_min, x_max]x[y_min, y_max].\r\n",
        "  Z = clf.predict_proba(np.c_[xx.ravel(), yy.ravel()])[:, 1]\r\n",
        "\r\n",
        "  # Put the result into a color plot\r\n",
        "  Z = Z.reshape(xx.shape)\r\n",
        "  ax.contourf(xx, yy, Z, cmap=cm, alpha=.8)\r\n",
        "\r\n",
        "  # Plot the training points\r\n",
        "  ax.scatter(X_train[:, 0], X_train[:, 1], c=y_train, cmap=cm_bright,\r\n",
        "             edgecolors='k')\r\n",
        "  # Plot the testing points\r\n",
        "  ax.scatter(X_test[:, 0], X_test[:, 1], c=y_test, cmap=cm_bright,\r\n",
        "             edgecolors='k', alpha=0.6)\r\n",
        "\r\n",
        "  ax.set_xlim(xx.min(), xx.max())\r\n",
        "  ax.set_ylim(yy.min(), yy.max())\r\n",
        "  ax.set_xticks(())\r\n",
        "  ax.set_yticks(())\r\n",
        "  ax.set_title(name)\r\n",
        "  ax.text(xx.max() - .3, yy.min() + .3, ('%.2f' % score).lstrip('0'),\r\n",
        "          size=15, horizontalalignment='right')\r\n",
        "  i += 1\r\n",
        "  \r\n",
        "plt.tight_layout()\r\n",
        "plt.show()"
      ],
      "execution_count": null,
      "outputs": [
        {
          "output_type": "display_data",
          "data": {
            "image/png": "[encoded data removed]",
            "text/plain": [
              "<Figure size 720x288 with 5 Axes>"
            ]
          },
          "metadata": {
            "tags": []
          }
        }
      ]
    },
    {
      "cell_type": "code",
      "metadata": {
        "colab": {
          "base_uri": "https://localhost:8080/"
        },
        "id": "UJmkC4fL3E7I",
        "outputId": "357a5fad-cb55-4463-92af-e142c18e94a6"
      },
      "source": [
        "clf = GaussianNB() # Classifier chosen\r\n",
        "clf.fit(X_train, y_train)\r\n",
        "y_pred = clf.predict(X_test)\r\n",
        "acc = accuracy_score(y_test, y_pred)\r\n",
        "print ('Acc', acc)"
      ],
      "execution_count": null,
      "outputs": [
        {
          "output_type": "stream",
          "text": [
            "Acc 0.7360230547550433\n"
          ],
          "name": "stdout"
        }
      ]
    },
    {
      "cell_type": "code",
      "metadata": {
        "id": "hhthRy2B3QKO"
      },
      "source": [
        "def plot_confusion_matrix(y_true, y_pred, classes,\n",
        "                          normalize=False,\n",
        "                          title=None,\n",
        "                          cmap=plt.cm.Blues):\n",
        "    \"\"\"\n",
        "    This function prints and plots the confusion matrix.\n",
        "    Normalization can be applied by setting `normalize=True`.\n",
        "    \"\"\"\n",
        "    if not title:\n",
        "        if normalize:\n",
        "            title = 'Normalized confusion matrix'\n",
        "        else:\n",
        "            title = 'Confusion matrix, without normalization'\n",
        "\n",
        "    # Compute confusion matrix\n",
        "    cm = confusion_matrix(y_true, y_pred)\n",
        "    # Only use the labels that appear in the data\n",
        "    classes = classes[unique_labels(y_true, y_pred)]\n",
        "    if normalize:\n",
        "        cm = cm.astype('float') / cm.sum(axis=1)[:, np.newaxis]\n",
        "        print(\"Normalized confusion matrix\")\n",
        "    else:\n",
        "        print('Confusion matrix, without normalization')\n",
        "\n",
        "    print(cm)\n",
        "\n",
        "    fig, ax = plt.subplots()\n",
        "    im = ax.imshow(cm, interpolation='nearest', cmap=cmap)\n",
        "    ax.figure.colorbar(im, ax=ax)\n",
        "    # We want to show all ticks...\n",
        "    ax.set(xticks=np.arange(cm.shape[1]),\n",
        "           yticks=np.arange(cm.shape[0]),\n",
        "           # ... and label them with the respective list entries\n",
        "           xticklabels=classes, yticklabels=classes,\n",
        "           title=title,\n",
        "           ylabel='True label',\n",
        "           xlabel='Predicted label')\n",
        "\n",
        "    # Rotate the tick labels and set their alignment.\n",
        "    plt.setp(ax.get_xticklabels(), rotation=45, ha=\"right\",\n",
        "             rotation_mode=\"anchor\")\n",
        "\n",
        "    # Loop over data dimensions and create text annotations.\n",
        "    fmt = '.2f' if normalize else 'd'\n",
        "    thresh = cm.max() / 2.\n",
        "    for i in range(cm.shape[0]):\n",
        "        for j in range(cm.shape[1]):\n",
        "            ax.text(j, i, format(cm[i, j], fmt),\n",
        "                    ha=\"center\", va=\"center\",\n",
        "                    color=\"white\" if cm[i, j] > thresh else \"black\")\n",
        "    fig.tight_layout()\n",
        "    return ax"
      ],
      "execution_count": null,
      "outputs": []
    },
    {
      "cell_type": "markdown",
      "metadata": {
        "id": "J7KWnUeBsYXP"
      },
      "source": [
        "**Confusion Matrix**"
      ]
    },
    {
      "cell_type": "code",
      "metadata": {
        "colab": {
          "base_uri": "https://localhost:8080/",
          "height": 448
        },
        "id": "4KIW7w_y3Sq4",
        "outputId": "5b957287-0a13-4654-e9c9-f1707ddad6c2"
      },
      "source": [
        "plot_confusion_matrix(y_test, y_pred , classes = unique_labels(y_test, y_pred), normalize=True,\r\n",
        "                      title='Normalized confusion matrix')"
      ],
      "execution_count": null,
      "outputs": [
        {
          "output_type": "stream",
          "text": [
            "Normalized confusion matrix\n",
            "[[0.         0.89664083 0.10335917]\n",
            " [0.         0.87090774 0.12909226]\n",
            " [0.         0.63806287 0.36193713]]\n"
          ],
          "name": "stdout"
        },
        {
          "output_type": "execute_result",
          "data": {
            "text/plain": [
              "<matplotlib.axes._subplots.AxesSubplot at 0x7fe3654e8c50>"
            ]
          },
          "metadata": {
            "tags": []
          },
          "execution_count": 38
        },
        {
          "output_type": "display_data",
          "data": {
            "image/png": "[encoded data removed]",
            "text/plain": [
              "<Figure size 360x360 with 2 Axes>"
            ]
          },
          "metadata": {
            "tags": []
          }
        }
      ]
    },
    {
      "cell_type": "markdown",
      "metadata": {
        "id": "adVNsjDy9_lh"
      },
      "source": [
        "**Classification Report**"
      ]
    },
    {
      "cell_type": "code",
      "metadata": {
        "id": "Qyyox8l9Xi9j",
        "colab": {
          "base_uri": "https://localhost:8080/",
          "height": 340
        },
        "outputId": "9932ef20-2baf-453b-cc48-d3ffe603831d"
      },
      "source": [
        "print(classification_report(test['class'], y_pred)) ### FALLA, NO SE."
      ],
      "execution_count": null,
      "outputs": [
        {
          "output_type": "error",
          "ename": "ValueError",
          "evalue": "ignored",
          "traceback": [
            "\u001b[0;31m---------------------------------------------------------------------------\u001b[0m",
            "\u001b[0;31mValueError\u001b[0m                                Traceback (most recent call last)",
            "\u001b[0;32m<ipython-input-39-c5d0427059ec>\u001b[0m in \u001b[0;36m<module>\u001b[0;34m()\u001b[0m\n\u001b[1;32m      1\u001b[0m \u001b[0;31m#from sklearn.metrics import classification_report\u001b[0m\u001b[0;34m\u001b[0m\u001b[0;34m\u001b[0m\u001b[0;34m\u001b[0m\u001b[0m\n\u001b[0;32m----> 2\u001b[0;31m \u001b[0mprint\u001b[0m\u001b[0;34m(\u001b[0m\u001b[0mclassification_report\u001b[0m\u001b[0;34m(\u001b[0m\u001b[0mtest\u001b[0m\u001b[0;34m[\u001b[0m\u001b[0;34m'class'\u001b[0m\u001b[0;34m]\u001b[0m\u001b[0;34m,\u001b[0m \u001b[0my_pred\u001b[0m\u001b[0;34m)\u001b[0m\u001b[0;34m)\u001b[0m\u001b[0;34m\u001b[0m\u001b[0;34m\u001b[0m\u001b[0m\n\u001b[0m",
            "\u001b[0;32m/usr/local/lib/python3.6/dist-packages/sklearn/metrics/_classification.py\u001b[0m in \u001b[0;36mclassification_report\u001b[0;34m(y_true, y_pred, labels, target_names, sample_weight, digits, output_dict, zero_division)\u001b[0m\n\u001b[1;32m   1969\u001b[0m     \"\"\"\n\u001b[1;32m   1970\u001b[0m \u001b[0;34m\u001b[0m\u001b[0m\n\u001b[0;32m-> 1971\u001b[0;31m     \u001b[0my_type\u001b[0m\u001b[0;34m,\u001b[0m \u001b[0my_true\u001b[0m\u001b[0;34m,\u001b[0m \u001b[0my_pred\u001b[0m \u001b[0;34m=\u001b[0m \u001b[0m_check_targets\u001b[0m\u001b[0;34m(\u001b[0m\u001b[0my_true\u001b[0m\u001b[0;34m,\u001b[0m \u001b[0my_pred\u001b[0m\u001b[0;34m)\u001b[0m\u001b[0;34m\u001b[0m\u001b[0;34m\u001b[0m\u001b[0m\n\u001b[0m\u001b[1;32m   1972\u001b[0m \u001b[0;34m\u001b[0m\u001b[0m\n\u001b[1;32m   1973\u001b[0m     \u001b[0mlabels_given\u001b[0m \u001b[0;34m=\u001b[0m \u001b[0;32mTrue\u001b[0m\u001b[0;34m\u001b[0m\u001b[0;34m\u001b[0m\u001b[0m\n",
            "\u001b[0;32m/usr/local/lib/python3.6/dist-packages/sklearn/metrics/_classification.py\u001b[0m in \u001b[0;36m_check_targets\u001b[0;34m(y_true, y_pred)\u001b[0m\n\u001b[1;32m     78\u001b[0m     \u001b[0my_pred\u001b[0m \u001b[0;34m:\u001b[0m \u001b[0marray\u001b[0m \u001b[0;32mor\u001b[0m \u001b[0mindicator\u001b[0m \u001b[0mmatrix\u001b[0m\u001b[0;34m\u001b[0m\u001b[0;34m\u001b[0m\u001b[0m\n\u001b[1;32m     79\u001b[0m     \"\"\"\n\u001b[0;32m---> 80\u001b[0;31m     \u001b[0mcheck_consistent_length\u001b[0m\u001b[0;34m(\u001b[0m\u001b[0my_true\u001b[0m\u001b[0;34m,\u001b[0m \u001b[0my_pred\u001b[0m\u001b[0;34m)\u001b[0m\u001b[0;34m\u001b[0m\u001b[0;34m\u001b[0m\u001b[0m\n\u001b[0m\u001b[1;32m     81\u001b[0m     \u001b[0mtype_true\u001b[0m \u001b[0;34m=\u001b[0m \u001b[0mtype_of_target\u001b[0m\u001b[0;34m(\u001b[0m\u001b[0my_true\u001b[0m\u001b[0;34m)\u001b[0m\u001b[0;34m\u001b[0m\u001b[0;34m\u001b[0m\u001b[0m\n\u001b[1;32m     82\u001b[0m     \u001b[0mtype_pred\u001b[0m \u001b[0;34m=\u001b[0m \u001b[0mtype_of_target\u001b[0m\u001b[0;34m(\u001b[0m\u001b[0my_pred\u001b[0m\u001b[0;34m)\u001b[0m\u001b[0;34m\u001b[0m\u001b[0;34m\u001b[0m\u001b[0m\n",
            "\u001b[0;32m/usr/local/lib/python3.6/dist-packages/sklearn/utils/validation.py\u001b[0m in \u001b[0;36mcheck_consistent_length\u001b[0;34m(*arrays)\u001b[0m\n\u001b[1;32m    210\u001b[0m     \u001b[0;32mif\u001b[0m \u001b[0mlen\u001b[0m\u001b[0;34m(\u001b[0m\u001b[0muniques\u001b[0m\u001b[0;34m)\u001b[0m \u001b[0;34m>\u001b[0m \u001b[0;36m1\u001b[0m\u001b[0;34m:\u001b[0m\u001b[0;34m\u001b[0m\u001b[0;34m\u001b[0m\u001b[0m\n\u001b[1;32m    211\u001b[0m         raise ValueError(\"Found input variables with inconsistent numbers of\"\n\u001b[0;32m--> 212\u001b[0;31m                          \" samples: %r\" % [int(l) for l in lengths])\n\u001b[0m\u001b[1;32m    213\u001b[0m \u001b[0;34m\u001b[0m\u001b[0m\n\u001b[1;32m    214\u001b[0m \u001b[0;34m\u001b[0m\u001b[0m\n",
            "\u001b[0;31mValueError\u001b[0m: Found input variables with inconsistent numbers of samples: [7435, 6940]"
          ]
        }
      ]
    }
  ]
}
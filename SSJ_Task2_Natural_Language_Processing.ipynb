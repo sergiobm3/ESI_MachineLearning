{
  "nbformat": 4,
  "nbformat_minor": 0,
  "metadata": {
    "colab": {
      "name": "SSJ_Task2_Natural_Language_Processing_09-12-2020.ipynb",
      "provenance": [],
      "collapsed_sections": [],
      "include_colab_link": true
    },
    "kernelspec": {
      "name": "python3",
      "display_name": "Python 3"
    }
  },
  "cells": [
    {
      "cell_type": "markdown",
      "metadata": {
        "id": "view-in-github",
        "colab_type": "text"
      },
      "source": [
        "<a href=\"https://colab.research.google.com/github/sergiobm3/ESI_MachineLearning/blob/NLP/SSJ_Task2_Natural_Language_Processing.ipynb\" target=\"_parent\"><img src=\"https://colab.research.google.com/assets/colab-badge.svg\" alt=\"Open In Colab\"/></a>"
      ]
    },
    {
      "cell_type": "markdown",
      "metadata": {
        "id": "uIKabJAeqFMt"
      },
      "source": [
        "\n",
        "\n",
        "> We are the SSJ team and this is our work about natural language processing.\n",
        "\n",
        "---"
      ]
    },
    {
      "cell_type": "code",
      "metadata": {
        "id": "EmNVisjhv2oV"
      },
      "source": [
        "import io\n",
        "import pandas as pd\n",
        "from google.colab import files\n",
        "import re"
      ],
      "execution_count": 100,
      "outputs": []
    },
    {
      "cell_type": "markdown",
      "metadata": {
        "id": "d9-uS5d_dJZE"
      },
      "source": [
        "## 0. Loading Data"
      ]
    },
    {
      "cell_type": "markdown",
      "metadata": {
        "id": "nox0V2_q2Vuw"
      },
      "source": [
        "We start by loading the data file that contains the tweets with which the study will work. The file format to upload is CSV.\n",
        "\n",
        "For this purpose, we use some commands provided by Google Colab itself to access files on our computer.\n",
        "\n"
      ]
    },
    {
      "cell_type": "code",
      "metadata": {
        "id": "s7muMGF_CQve"
      },
      "source": [
        "uploaded = files.upload()\n",
        "\n",
        "for fn in uploaded.keys():\n",
        "  print('User uploaded file \"{name}\" with length {length} bytes'.format(\n",
        "      name=fn, length=len(uploaded[fn])))\n",
        "  df = pd.read_csv(io.StringIO(uploaded[fn].decode('utf-8')),sep=',')\n",
        "\n",
        "df"
      ],
      "execution_count": null,
      "outputs": []
    },
    {
      "cell_type": "markdown",
      "metadata": {
        "id": "WUYtzK1fykzw"
      },
      "source": [
        "3 classes: 0 --> hate speech, 1 --> offensive language, 2 --> neither"
      ]
    },
    {
      "cell_type": "markdown",
      "metadata": {
        "id": "PkiEwhzbelrP"
      },
      "source": [
        "# 1. Preprocessing"
      ]
    },
    {
      "cell_type": "markdown",
      "metadata": {
        "id": "upQTMV99GXCZ"
      },
      "source": [
        "##Remove unuseful data"
      ]
    },
    {
      "cell_type": "code",
      "metadata": {
        "id": "ojY36_VFHlH3"
      },
      "source": [
        "pattern = \"\\\"#$%&'()*+, -./:;<=>?@[\\]^_`{|}~“”…»’\" # Es la variable string.puntuation sin el caracter ! porque lo vemos importante \n",
        "def cleanUnusefulData(sentence):\n",
        "  sentence = sentence.translate(str.maketrans('', '', pattern))\n",
        "  return sentence\n",
        "def removeUnusefulExclamation(sentence):\n",
        "  if sentence[0] == '!':\n",
        "    sentence = removeUnusefulExclamation(sentence[1:])\n",
        "  else:\n",
        "    return sentence\n",
        "  return sentence\n",
        "\n",
        "print(cleanUnusefulData(\"!!!!!!!!!!!!! RT @ShenikaRoberts: The shit yo*\"))"
      ],
      "execution_count": null,
      "outputs": []
    },
    {
      "cell_type": "code",
      "metadata": {
        "id": "i4h67o8aGWtU"
      },
      "source": [
        "clean_tweet = []\n",
        "for t in range(0,len(df)):\n",
        "  tweet = df.iloc[t]['tweet']\n",
        "  tweet = removeUnusefulExclamation(tweet)\n",
        "  clean_tweet.append(tweet)\n",
        "\n",
        "df['clean_tweet'] = clean_tweet"
      ],
      "execution_count": 265,
      "outputs": []
    },
    {
      "cell_type": "markdown",
      "metadata": {
        "id": "HJJYq7h4au0L"
      },
      "source": [
        "##Replace emoticons"
      ]
    },
    {
      "cell_type": "markdown",
      "metadata": {
        "id": "frvfJW0NtnNl"
      },
      "source": [
        "\n",
        "Lectura de fichero emoticonos."
      ]
    },
    {
      "cell_type": "code",
      "metadata": {
        "id": "rbx33glitktw"
      },
      "source": [
        "dict_emoticons = {}\n",
        "with open('emoticons.txt') as f:\n",
        "    for linea in f:\n",
        "      info = linea.split(\",\")\n",
        "      #emoticon_code = \"&#\"+str(info[1])+\";\"\n",
        "      emoticon_code = info[0]\n",
        "      emoticon_word = info[2]\n",
        "      dict_emoticons[emoticon_code] = emoticon_word[:len(emoticon_word)-1]\n",
        "print(dict_emoticons)\n",
        "\n",
        "def replaceEmoticon(word):\n",
        "  #p = re.compile(\"&#x[0-9A-Z]+;\")\n",
        "  #s = re.compile(\"&#128073;&#128076\") #sex\n",
        "  #m = p.findall(word)\n",
        "  #print(word)\n",
        "  if word in dict_emoticons:\n",
        "    word = word.replace(str(word),dict_emoticons[word])\n",
        "  return word\n",
        "\n"
      ],
      "execution_count": null,
      "outputs": []
    },
    {
      "cell_type": "markdown",
      "metadata": {
        "id": "iKzmvKruZiOc"
      },
      "source": [
        "##Remove contractions"
      ]
    },
    {
      "cell_type": "code",
      "metadata": {
        "id": "nG2J7JPHZqIO"
      },
      "source": [
        "dict_contractions = {'aren\\'t':'are not', 'can\\'t':'can not', 'couldn\\'t':'could not', 'didn\\'t':'did not', 'don\\'t':'do not', 'doesn\\'t':'does not', 'hadn\\'t':'had not',\n",
        "                       'haven\\'t':'have not', 'he\\'s':'he is', 'he\\'ll':'he will', 'he\\'d':'he would', 'here\\'s':'here is', 'i\\'m':'i am', 'i\\'ve':'i have', 'i\\'ll':'i will',\n",
        "                       'i\\'d':'i would', 'isn\\'t':'is not','it\\'s':'it is', 'it\\'ll':'it will', 'mustn\\'t':'must not', 'she\\'s':'she is', 'she\\'ll':'she will', 'she\\'d':'she would',\n",
        "                       'shouldn\\'t':'should not', 'that\\'s':'that is', 'there\\'s':'there is', 'they\\'re':'they are', 'they\\'ve':'they have', 'they\\'ll':'they will', 'they\\'d':'they would',\n",
        "                       'they\\'d':'they had', 'wasn\\'t':'was not', 'we\\'re':'we are', 'we\\'re':'we are', 'we\\'ve':'we have', 'we\\'ll':'we will', 'we\\'d':'we would', 'weren\\'t':'were not', 'what\\'s':'what is',\n",
        "                       'where\\'s':'where is', 'who\\'s':'who is', 'who\\'ll':'who will', 'won\\'t':'will not', 'wouldn\\'t':'would not', 'you\\'re': 'you are', 'you\\'ve': 'you have', \n",
        "                       'you\\'ll':'you will', 'you\\'d':'you would', 'y\\'all': 'you all', 'could\\'ve': 'could have', 'hasn\\'t': 'has not', 'let\\'s': 'let us'}\n",
        "\n",
        "def remove_contractions(word):\n",
        "  return word.replace(word,dict_contractions[word])\n",
        "  \n",
        "def is_remove_contractions(word):\n",
        "  if word in dict_contractions:\n",
        "    return True    \n",
        "  else:\n",
        "    return False"
      ],
      "execution_count": 118,
      "outputs": []
    },
    {
      "cell_type": "markdown",
      "metadata": {
        "id": "mJz6UfZ_iZQ_"
      },
      "source": [
        "Now the emoticons that we have decided has been changed for text representing the meaning of the emoticon.\n"
      ]
    },
    {
      "cell_type": "markdown",
      "metadata": {
        "id": "jBPUWLdKSckv"
      },
      "source": [
        "## Executing preprocessing"
      ]
    },
    {
      "cell_type": "code",
      "metadata": {
        "id": "UNDh43SCZeG2"
      },
      "source": [
        "# We create a new dataframe to save result in different columns\n",
        "df_result = pd.DataFrame()"
      ],
      "execution_count": 261,
      "outputs": []
    },
    {
      "cell_type": "code",
      "metadata": {
        "id": "U7cE8FWj3SQX",
        "colab": {
          "base_uri": "https://localhost:8080/",
          "height": 470
        },
        "outputId": "bed591b9-e832-4eb8-b8c0-62389bf107b3"
      },
      "source": [
        "!pip install tweet-preprocessor\n",
        "\n",
        "import preprocessor as p\n",
        "import nltk\n",
        "nltk.download('punkt')\n",
        "from nltk.tokenize import TweetTokenizer\n",
        "\n",
        "p.set_options(p.OPT.EMOJI, p.OPT.URL,p.OPT.HASHTAG, p.OPT.MENTION, p.OPT.SMILEY, p.OPT.ESCAPE_CHAR, p.OPT.RESERVED, p.OPT.NUMBER)\n",
        "tknzr = TweetTokenizer(strip_handles=True, reduce_len=True)\n",
        "# each sentence of tweet\n",
        "sentences = []\n",
        "for tweet in df['clean_tweet']:\n",
        "    word_repeat= \"\"\n",
        "    result = tknzr.tokenize(tweet)\n",
        "    list_token = []\n",
        "    for word in result:\n",
        "      \n",
        "      if word_repeat != word:\n",
        "\n",
        "        # Cambiar emoticono por texto\n",
        "        token = replaceEmoticon(word)\n",
        "        \n",
        "        # limpiar hastag y menciones\n",
        "        token = p.clean(token)\n",
        "\n",
        "        # Cambiar primera letra mayuscula solo si la siguiente es minuscula\n",
        "        if not token.isupper():\n",
        "          token = token.lower()\n",
        "        if token.isupper() and len(token)==1:\n",
        "          token = token.lower()\n",
        "\n",
        "        # Cambiar contraciones (you're) por palabra entera\n",
        "        if is_remove_contractions(token):\n",
        "          token = remove_contractions(token)\n",
        "          token = token.split(\" \")\n",
        "          list_token.append(token[0])\n",
        "          list_token.append(token[1])\n",
        "        else:\n",
        "          # limpiar información inútil (\",_,...)\n",
        "          token = cleanUnusefulData(token)\n",
        "          if(token is not \"\"):\n",
        "            list_token.append(token)\n",
        "            word_repeat = word\n",
        "      \n",
        "    sentences.append(list_token)\n",
        "  #print(result)\n",
        "\n",
        "df_result['preprocessing_without_emoticons'] = sentences\n",
        "df_result"
      ],
      "execution_count": 263,
      "outputs": [
        {
          "output_type": "stream",
          "text": [
            "Requirement already satisfied: tweet-preprocessor in /usr/local/lib/python3.6/dist-packages (0.6.0)\n",
            "[nltk_data] Downloading package punkt to /root/nltk_data...\n",
            "[nltk_data]   Package punkt is already up-to-date!\n"
          ],
          "name": "stdout"
        },
        {
          "output_type": "execute_result",
          "data": {
            "text/html": [
              "<div>\n",
              "<style scoped>\n",
              "    .dataframe tbody tr th:only-of-type {\n",
              "        vertical-align: middle;\n",
              "    }\n",
              "\n",
              "    .dataframe tbody tr th {\n",
              "        vertical-align: top;\n",
              "    }\n",
              "\n",
              "    .dataframe thead th {\n",
              "        text-align: right;\n",
              "    }\n",
              "</style>\n",
              "<table border=\"1\" class=\"dataframe\">\n",
              "  <thead>\n",
              "    <tr style=\"text-align: right;\">\n",
              "      <th></th>\n",
              "      <th>preprocessing_without_emoticons</th>\n",
              "    </tr>\n",
              "  </thead>\n",
              "  <tbody>\n",
              "    <tr>\n",
              "      <th>0</th>\n",
              "      <td>[as, a, woman, you, should, not, complain, abo...</td>\n",
              "    </tr>\n",
              "    <tr>\n",
              "      <th>1</th>\n",
              "      <td>[boy, dats, cold, tyga, dwn, bad, for, cuffin,...</td>\n",
              "    </tr>\n",
              "    <tr>\n",
              "      <th>2</th>\n",
              "      <td>[dawg, !, you, ever, fuck, a, bitch, and, she,...</td>\n",
              "    </tr>\n",
              "    <tr>\n",
              "      <th>3</th>\n",
              "      <td>[she, look, like, a, tranny]</td>\n",
              "    </tr>\n",
              "    <tr>\n",
              "      <th>4</th>\n",
              "      <td>[the, shit, you, hear, about, me, might, be, t...</td>\n",
              "    </tr>\n",
              "    <tr>\n",
              "      <th>...</th>\n",
              "      <td>...</td>\n",
              "    </tr>\n",
              "    <tr>\n",
              "      <th>24778</th>\n",
              "      <td>[yous, a, muthaf, in, lie, right, !, his, TL, ...</td>\n",
              "    </tr>\n",
              "    <tr>\n",
              "      <th>24779</th>\n",
              "      <td>[you, have, gone, and, broke, the, wrong, hear...</td>\n",
              "    </tr>\n",
              "    <tr>\n",
              "      <th>24780</th>\n",
              "      <td>[young, buck, wanna, eat, !, dat, nigguh, like...</td>\n",
              "    </tr>\n",
              "    <tr>\n",
              "      <th>24781</th>\n",
              "      <td>[youu, got, wild, bitches, tellin, you, lies]</td>\n",
              "    </tr>\n",
              "    <tr>\n",
              "      <th>24782</th>\n",
              "      <td>[ruffled, ntac, eileen, dahlia, beautiful, col...</td>\n",
              "    </tr>\n",
              "  </tbody>\n",
              "</table>\n",
              "<p>24783 rows × 1 columns</p>\n",
              "</div>"
            ],
            "text/plain": [
              "                         preprocessing_without_emoticons\n",
              "0      [as, a, woman, you, should, not, complain, abo...\n",
              "1      [boy, dats, cold, tyga, dwn, bad, for, cuffin,...\n",
              "2      [dawg, !, you, ever, fuck, a, bitch, and, she,...\n",
              "3                           [she, look, like, a, tranny]\n",
              "4      [the, shit, you, hear, about, me, might, be, t...\n",
              "...                                                  ...\n",
              "24778  [yous, a, muthaf, in, lie, right, !, his, TL, ...\n",
              "24779  [you, have, gone, and, broke, the, wrong, hear...\n",
              "24780  [young, buck, wanna, eat, !, dat, nigguh, like...\n",
              "24781      [youu, got, wild, bitches, tellin, you, lies]\n",
              "24782  [ruffled, ntac, eileen, dahlia, beautiful, col...\n",
              "\n",
              "[24783 rows x 1 columns]"
            ]
          },
          "metadata": {
            "tags": []
          },
          "execution_count": 263
        }
      ]
    },
    {
      "cell_type": "code",
      "metadata": {
        "id": "bL0yXSiLUNpr",
        "outputId": "0c07452a-caed-4e4b-902f-7298a39c0c31",
        "colab": {
          "base_uri": "https://localhost:8080/",
          "height": 470
        }
      },
      "source": [
        "!pip install tweet-preprocessor\n",
        "\n",
        "import preprocessor as p\n",
        "import nltk\n",
        "nltk.download('punkt')\n",
        "from nltk.tokenize import TweetTokenizer\n",
        "\n",
        "p.set_options(p.OPT.URL,p.OPT.HASHTAG, p.OPT.MENTION, p.OPT.SMILEY, p.OPT.ESCAPE_CHAR, p.OPT.RESERVED, p.OPT.NUMBER)\n",
        "\n",
        "tknzr = TweetTokenizer(strip_handles=True, reduce_len=True)\n",
        "# each sentence of tweet\n",
        "sentences = []\n",
        "for tweet in df['clean_tweet']:\n",
        "    word_repeat= \"\"\n",
        "    result = tknzr.tokenize(tweet)\n",
        "    list_token = []\n",
        "    for word in result:\n",
        "      \n",
        "      if word_repeat != word:\n",
        "\n",
        "        # limpiar hastag y menciones\n",
        "        token = p.clean(word)\n",
        "\n",
        "        # Cambiar primera letra mayuscula solo si la siguiente es minuscula\n",
        "        if not token.isupper():\n",
        "          token = token.lower()\n",
        "        if token.isupper() and len(token)==1:\n",
        "          token = token.lower()\n",
        "\n",
        "        # Cambiar contraciones (you're) por palabra entera\n",
        "        if is_remove_contractions(token):\n",
        "          token = remove_contractions(token)\n",
        "          token = token.split(\" \")\n",
        "          list_token.append(token[0])\n",
        "          list_token.append(token[1])\n",
        "        else:\n",
        "          # limpiar información inútil (\",_,...)\n",
        "          token = cleanUnusefulData(token)\n",
        "          if(token is not \"\"):\n",
        "            list_token.append(token)\n",
        "            word_repeat = word\n",
        "    \n",
        "    sentences.append(list_token)\n",
        "  #print(result)\n",
        "\n",
        "df_result['preprocessing_with_emoticons'] = sentences\n",
        "df_result"
      ],
      "execution_count": 266,
      "outputs": [
        {
          "output_type": "stream",
          "text": [
            "Requirement already satisfied: tweet-preprocessor in /usr/local/lib/python3.6/dist-packages (0.6.0)\n",
            "[nltk_data] Downloading package punkt to /root/nltk_data...\n",
            "[nltk_data]   Package punkt is already up-to-date!\n"
          ],
          "name": "stdout"
        },
        {
          "output_type": "execute_result",
          "data": {
            "text/html": [
              "<div>\n",
              "<style scoped>\n",
              "    .dataframe tbody tr th:only-of-type {\n",
              "        vertical-align: middle;\n",
              "    }\n",
              "\n",
              "    .dataframe tbody tr th {\n",
              "        vertical-align: top;\n",
              "    }\n",
              "\n",
              "    .dataframe thead th {\n",
              "        text-align: right;\n",
              "    }\n",
              "</style>\n",
              "<table border=\"1\" class=\"dataframe\">\n",
              "  <thead>\n",
              "    <tr style=\"text-align: right;\">\n",
              "      <th></th>\n",
              "      <th>preprocessing_without_emoticons</th>\n",
              "      <th>preprocessing_with_emoticons</th>\n",
              "    </tr>\n",
              "  </thead>\n",
              "  <tbody>\n",
              "    <tr>\n",
              "      <th>0</th>\n",
              "      <td>[as, a, woman, you, should, not, complain, abo...</td>\n",
              "      <td>[as, a, woman, you, should, not, complain, abo...</td>\n",
              "    </tr>\n",
              "    <tr>\n",
              "      <th>1</th>\n",
              "      <td>[boy, dats, cold, tyga, dwn, bad, for, cuffin,...</td>\n",
              "      <td>[boy, dats, cold, tyga, dwn, bad, for, cuffin,...</td>\n",
              "    </tr>\n",
              "    <tr>\n",
              "      <th>2</th>\n",
              "      <td>[dawg, !, you, ever, fuck, a, bitch, and, she,...</td>\n",
              "      <td>[dawg, !, you, ever, fuck, a, bitch, and, she,...</td>\n",
              "    </tr>\n",
              "    <tr>\n",
              "      <th>3</th>\n",
              "      <td>[she, look, like, a, tranny]</td>\n",
              "      <td>[she, look, like, a, tranny]</td>\n",
              "    </tr>\n",
              "    <tr>\n",
              "      <th>4</th>\n",
              "      <td>[the, shit, you, hear, about, me, might, be, t...</td>\n",
              "      <td>[the, shit, you, hear, about, me, might, be, t...</td>\n",
              "    </tr>\n",
              "    <tr>\n",
              "      <th>...</th>\n",
              "      <td>...</td>\n",
              "      <td>...</td>\n",
              "    </tr>\n",
              "    <tr>\n",
              "      <th>24778</th>\n",
              "      <td>[yous, a, muthaf, in, lie, right, !, his, TL, ...</td>\n",
              "      <td>[yous, a, muthaf, in, lie, right, !, his, TL, ...</td>\n",
              "    </tr>\n",
              "    <tr>\n",
              "      <th>24779</th>\n",
              "      <td>[you, have, gone, and, broke, the, wrong, hear...</td>\n",
              "      <td>[you, have, gone, and, broke, the, wrong, hear...</td>\n",
              "    </tr>\n",
              "    <tr>\n",
              "      <th>24780</th>\n",
              "      <td>[young, buck, wanna, eat, !, dat, nigguh, like...</td>\n",
              "      <td>[young, buck, wanna, eat, !, dat, nigguh, like...</td>\n",
              "    </tr>\n",
              "    <tr>\n",
              "      <th>24781</th>\n",
              "      <td>[youu, got, wild, bitches, tellin, you, lies]</td>\n",
              "      <td>[youu, got, wild, bitches, tellin, you, lies]</td>\n",
              "    </tr>\n",
              "    <tr>\n",
              "      <th>24782</th>\n",
              "      <td>[ruffled, ntac, eileen, dahlia, beautiful, col...</td>\n",
              "      <td>[ruffled, ntac, eileen, dahlia, beautiful, col...</td>\n",
              "    </tr>\n",
              "  </tbody>\n",
              "</table>\n",
              "<p>24783 rows × 2 columns</p>\n",
              "</div>"
            ],
            "text/plain": [
              "                         preprocessing_without_emoticons                       preprocessing_with_emoticons\n",
              "0      [as, a, woman, you, should, not, complain, abo...  [as, a, woman, you, should, not, complain, abo...\n",
              "1      [boy, dats, cold, tyga, dwn, bad, for, cuffin,...  [boy, dats, cold, tyga, dwn, bad, for, cuffin,...\n",
              "2      [dawg, !, you, ever, fuck, a, bitch, and, she,...  [dawg, !, you, ever, fuck, a, bitch, and, she,...\n",
              "3                           [she, look, like, a, tranny]                       [she, look, like, a, tranny]\n",
              "4      [the, shit, you, hear, about, me, might, be, t...  [the, shit, you, hear, about, me, might, be, t...\n",
              "...                                                  ...                                                ...\n",
              "24778  [yous, a, muthaf, in, lie, right, !, his, TL, ...  [yous, a, muthaf, in, lie, right, !, his, TL, ...\n",
              "24779  [you, have, gone, and, broke, the, wrong, hear...  [you, have, gone, and, broke, the, wrong, hear...\n",
              "24780  [young, buck, wanna, eat, !, dat, nigguh, like...  [young, buck, wanna, eat, !, dat, nigguh, like...\n",
              "24781      [youu, got, wild, bitches, tellin, you, lies]      [youu, got, wild, bitches, tellin, you, lies]\n",
              "24782  [ruffled, ntac, eileen, dahlia, beautiful, col...  [ruffled, ntac, eileen, dahlia, beautiful, col...\n",
              "\n",
              "[24783 rows x 2 columns]"
            ]
          },
          "metadata": {
            "tags": []
          },
          "execution_count": 266
        }
      ]
    },
    {
      "cell_type": "code",
      "metadata": {
        "id": "UM3-R6n4a0fq"
      },
      "source": [
        "#Comprobacion emoticonos\n",
        "print(df.iloc[24778]['tweet'])\n",
        "print(df_result['preprocessing_with_emoticons'][24778])\n",
        "print(df_result['preprocessing_without_emoticons'][24778])\n",
        "\n",
        "print(df.iloc[5]['tweet'])\n",
        "print(df_result['preprocessing_with_emoticons'][5])\n",
        "print(df_result['preprocessing_without_emoticons'][5])"
      ],
      "execution_count": null,
      "outputs": []
    },
    {
      "cell_type": "code",
      "metadata": {
        "id": "uZaH72DOB0iT"
      },
      "source": [
        "for sentence in range(0,len(df_result)):\r\n",
        "  print(df_result['preprocessing_with_emoticons'][sentence])"
      ],
      "execution_count": null,
      "outputs": []
    },
    {
      "cell_type": "markdown",
      "metadata": {
        "id": "yF_y0149mnHV"
      },
      "source": [
        " [los metodos estan explicados en esta pagina web - How to Write a Spelling Corrector](https://norvig.com/spell-correct.html)"
      ]
    },
    {
      "cell_type": "code",
      "metadata": {
        "id": "6eApcrBROZn_"
      },
      "source": [
        "import re\n",
        "from collections import Counter\n",
        "\n",
        "def words(text): return re.findall(r'\\w+', text.lower())\n",
        "\n",
        "WORDS = Counter(words(open('usa2.txt').read()))\n",
        "\n",
        "def P(word, N=sum(WORDS.values())): \n",
        "    \"Probability of `word`.\"\n",
        "    return WORDS[word] / N\n",
        "\n",
        "def correction(word): \n",
        "    \"Most probable spelling correction for word.\"\n",
        "    return max(candidates(word), key=P)\n",
        "\n",
        "def candidates(word): \n",
        "    \"Generate possible spelling corrections for word.\"\n",
        "    return (known([word]) or known(edits1(word)) or known(edits2(word)) or [word])\n",
        "\n",
        "def known(words): \n",
        "    \"The subset of `words` that appear in the dictionary of WORDS.\"\n",
        "    return set(w for w in words if w in WORDS)\n",
        "\n",
        "def edits1(word):\n",
        "    \"All edits that are one edit away from `word`.\"\n",
        "    letters    = 'abcdefghijklmnopqrstuvwxyz'\n",
        "    splits     = [(word[:i], word[i:])    for i in range(len(word) + 1)]\n",
        "    deletes    = [L + R[1:]               for L, R in splits if R]\n",
        "    transposes = [L + R[1] + R[0] + R[2:] for L, R in splits if len(R)>1]\n",
        "    replaces   = [L + c + R[1:]           for L, R in splits if R for c in letters]\n",
        "    inserts    = [L + c + R               for L, R in splits for c in letters]\n",
        "    return set(deletes + transposes + replaces + inserts)\n",
        "\n",
        "def edits2(word): \n",
        "    \"All edits that are two edits away from `word`.\"\n",
        "    return (e2 for e1 in edits1(word) for e2 in edits1(e1))"
      ],
      "execution_count": 146,
      "outputs": []
    },
    {
      "cell_type": "code",
      "metadata": {
        "id": "8pdkY3IPq5he"
      },
      "source": [
        "correction('nigg')"
      ],
      "execution_count": null,
      "outputs": []
    },
    {
      "cell_type": "markdown",
      "metadata": {
        "id": "FC7wGSYrx9Yv"
      },
      "source": [
        "Cantidad de palabras diferentes y numero de palabras totales. Además se muestra el TOP 10 de la palabra más usada"
      ]
    },
    {
      "cell_type": "code",
      "metadata": {
        "id": "SjqT2Olo6EqS"
      },
      "source": [
        "print(\"We can see that there are \"+ str(len(WORDS))+ \" distinct words, which together appear \"+ str(sum(WORDS.values())) +\" times.\")\n",
        "print(\"Words more used: \")\n",
        "WORDS.most_common(10)"
      ],
      "execution_count": null,
      "outputs": []
    },
    {
      "cell_type": "markdown",
      "metadata": {
        "id": "mbT3SW1mxwen"
      },
      "source": [
        "Se han almacenado todas las palabras existentes y ha contado cuantas aparecen repetidas."
      ]
    },
    {
      "cell_type": "code",
      "metadata": {
        "id": "j94xKHBkT-CB"
      },
      "source": [
        "WORDS"
      ],
      "execution_count": null,
      "outputs": []
    },
    {
      "cell_type": "markdown",
      "metadata": {
        "id": "crP8yKzBb_Sf"
      },
      "source": [
        "##Stop words"
      ]
    },
    {
      "cell_type": "code",
      "metadata": {
        "id": "bDa7pArf-yj8"
      },
      "source": [
        "import nltk\n",
        "nltk.download('stopwords')\n",
        "from nltk.corpus import stopwords\n",
        "\n",
        "english_stops = set(stopwords.words('english'))\n",
        "clear_sent_emoticon = []\n",
        "clear_sent_not_emoticon = []\n",
        "for tweet in range(0,len(df_result['preprocessing_with_emoticons'])):\n",
        "  clear_sent_emoticon.append([word for word in df_result['preprocessing_with_emoticons'][tweet] if word not in english_stops]) \n",
        "  clear_sent_not_emoticon.append([word for word in df_result['preprocessing_without_emoticons'][tweet] if word not in english_stops]) \n",
        "\n",
        "df_result['preprocessing_with_emoticons'] = clear_sent_emoticon\n",
        "df_result['preprocessing_without_emoticons'] = clear_sent_not_emoticon\n",
        "df_result"
      ],
      "execution_count": null,
      "outputs": []
    },
    {
      "cell_type": "markdown",
      "metadata": {
        "id": "i0yT0SulgVli"
      },
      "source": [
        "## Lemmatize all terms"
      ]
    },
    {
      "cell_type": "code",
      "metadata": {
        "id": "0kMOZqUvlZ_N"
      },
      "source": [
        "import nltk\n",
        "nltk.download('wordnet')\n",
        "from nltk.stem import WordNetLemmatizer\n",
        "\n",
        "lemmatizer = WordNetLemmatizer()\n",
        "clear_sent_emoticon = []\n",
        "clear_sent_not_emoticon = []\n",
        "for tweet in range(0,len(df_result['preprocessing_with_emoticons'])):\n",
        "  clear_sent_emoticon.append([lemmatizer.lemmatize(word) for word in df_result['preprocessing_with_emoticons'][tweet]])\n",
        "  clear_sent_not_emoticon.append([lemmatizer.lemmatize(word) for word in df_result['preprocessing_without_emoticons'][tweet]])\n",
        "\n",
        "df_result['preprocessing_with_emoticons'] = clear_sent_emoticon\n",
        "df_result['preprocessing_without_emoticons'] = clear_sent_not_emoticon\n",
        "df_result"
      ],
      "execution_count": null,
      "outputs": []
    },
    {
      "cell_type": "markdown",
      "metadata": {
        "id": "Tgzs8N1rF3A_"
      },
      "source": [
        "# Vectorization"
      ]
    },
    {
      "cell_type": "markdown",
      "metadata": {
        "id": "zdUCApcRvo6a"
      },
      "source": [
        "## Destokenizador\n",
        "\n",
        "To do the vectorization, we have chosen to put back all the tokens that make a sentence. We think that this will make the development of this process easier."
      ]
    },
    {
      "cell_type": "code",
      "metadata": {
        "id": "T6Qh7RLCvn8w"
      },
      "source": [
        "from nltk.tokenize.treebank import TreebankWordDetokenizer\n",
        "\n",
        "tweets_detokenize_with_emoticon = []\n",
        "tweets_detokenize_without_emoticon = []\n",
        "\n",
        "for i in range(0,len(df_result)):\n",
        "  tweets_detokenize_with_emoticon.append( TreebankWordDetokenizer().detokenize(df_result.iloc[i]['preprocessing_with_emoticons']))\n",
        "  tweets_detokenize_without_emoticon.append( TreebankWordDetokenizer().detokenize(df_result.iloc[i]['preprocessing_without_emoticons']))\n",
        "\n",
        "print(len(tweets_detokenize_with_emoticon))\n",
        "tweets_detokenize_with_emoticon"
      ],
      "execution_count": null,
      "outputs": []
    },
    {
      "cell_type": "code",
      "metadata": {
        "id": "3XgcqsoG6ofl"
      },
      "source": [
        "df_result['detokenization_emoji'] = tweets_detokenize_with_emoticon\r\n",
        "df_result['detokenization_without_emoji'] = tweets_detokenize_without_emoticon"
      ],
      "execution_count": 175,
      "outputs": []
    },
    {
      "cell_type": "code",
      "metadata": {
        "id": "Y-g6JsMCrmzP"
      },
      "source": [
        "df_result.iloc[0]['tweets_detokenize_with_emoticon']"
      ],
      "execution_count": null,
      "outputs": []
    },
    {
      "cell_type": "markdown",
      "metadata": {
        "id": "8GVpS8gYsH7K"
      },
      "source": [
        "## TFIDF\n",
        "\n",
        "In order to start using TFIDF, we will first have to create a CountVectorizer to count the number of words (term frequency)"
      ]
    },
    {
      "cell_type": "code",
      "metadata": {
        "id": "IZSByAr09npl"
      },
      "source": [
        "from sklearn.feature_extraction.text import CountVectorizer\n",
        "\n",
        "vectorizer = CountVectorizer(min_df=1)\n",
        "\n",
        "X = vectorizer.fit_transform(tweets_detokenize_without_emoticon)\n",
        "\n",
        "#X_tokens = countvectorizer.get_features_names()\n",
        "\n",
        "print(X.shape)\n",
        "print(X.toarray())\n",
        "print(vectorizer.vocabulary_)\n",
        "print(X[0])"
      ],
      "execution_count": null,
      "outputs": []
    },
    {
      "cell_type": "markdown",
      "metadata": {
        "id": "j4rjX-ypv4Y-"
      },
      "source": [
        "Cosas que poner antes del codigo que he encontrado en el interne\n",
        "\n",
        "With Tfidfvectorizer you compute the word counts, idf and tf-idf values all at once. It’s really simple.\n",
        "\n",
        "With Tfidfvectorizer on the contrary, you will do all three steps at once. Under the hood, it computes the word counts, IDF values, and Tf-idf scores all using the same dataset."
      ]
    },
    {
      "cell_type": "code",
      "metadata": {
        "id": "l_8QwPhVv-_c"
      },
      "source": [
        "# TF-IDF\n",
        "# https://kavita-ganesan.com/tfidftransformer-tfidfvectorizer-usage-differences/\n",
        "# https://medium.com/@cmukesh8688/tf-idf-vectorizer-scikit-learn-dbc0244a911a\n",
        "# https://es.ryte.com/wiki/TF*IDF\n",
        "\n",
        "from sklearn.feature_extraction.text import TfidfVectorizer\n",
        "\n",
        "vectorizer = TfidfVectorizer(min_df=1)\n",
        "\n",
        "X = vectorizer.fit_transform(tweets_detokenize_without_emoticon)\n",
        "\n",
        "tfidf = X.toarray()\n",
        "\n",
        "print(X.shape)\n",
        "print(tfidf)\n",
        "print(vectorizer.vocabulary_)\n",
        "print(X[0])\n"
      ],
      "execution_count": null,
      "outputs": []
    },
    {
      "cell_type": "code",
      "metadata": {
        "id": "BMVV65cHJmh8"
      },
      "source": [
        "listaTFIDF = []\r\n",
        "\r\n",
        "for i in range(0,X.shape[0]):\r\n",
        "  listaTFIDF.append(X[i])\r\n",
        "\r\n",
        "df_vectorization = pd.DataFrame()\r\n",
        "\r\n",
        "df_vectorization['TFIDF'] = listaTFIDF\r\n",
        "\r\n",
        "hola = df_vectorization.iloc[7]['TFIDF'] # PRIMER TWEET\r\n",
        "\r\n",
        "#print(hola[0].get_shape())\r\n",
        "\r\n",
        "print(hola.getnnz(axis=0))\r\n",
        "\r\n",
        "#print(hola[0][16878])\r\n"
      ],
      "execution_count": null,
      "outputs": []
    },
    {
      "cell_type": "markdown",
      "metadata": {
        "id": "S79rQ91nBa8g"
      },
      "source": [
        "## TFIDF + N-grams"
      ]
    },
    {
      "cell_type": "code",
      "metadata": {
        "id": "A17uKu4mFnBm"
      },
      "source": [
        "df_result.to_csv('df_result.csv')"
      ],
      "execution_count": null,
      "outputs": []
    },
    {
      "cell_type": "code",
      "metadata": {
        "id": "9172MN6LhUAD"
      },
      "source": [
        "vectorizer = TfidfVectorizer(ngram_range=(1, 2), min_df=1)\n",
        "\"\"\"f=open(\"kk.txt\",\"w\")\n",
        "f.write(\"machacando\\n\")\n",
        "f.close()\"\"\"\n",
        "\n",
        "X = vectorizer.fit_transform(tweets_detokenize_without_emoticon)\n",
        "\n",
        "tfidf = X.toarray()\n",
        "print(tfidf)\n",
        "print(vectorizer.vocabulary_)\n",
        "print (X.shape)"
      ],
      "execution_count": null,
      "outputs": []
    },
    {
      "cell_type": "markdown",
      "metadata": {
        "id": "zBw3Q0uDw135"
      },
      "source": [
        "## TFIDF + N-grams + POS tagging"
      ]
    },
    {
      "cell_type": "code",
      "metadata": {
        "id": "ce3qeqgIGMUv"
      },
      "source": [
        "# Part of Speech Tagging\n",
        "import nltk\n",
        "nltk.download('averaged_perceptron_tagger')\n",
        "\n",
        "listaTweets = []\n",
        "contador = 0\n",
        "for tweet in df_result['tweets_detokenize_without_emoticon']:\n",
        "  tags = []\n",
        "  #if '' in tweet:\n",
        "   # tweet.remove('')\n",
        "  #for word in tweet: \n",
        "  #tags.append(nltk.pos_tag(word))\n",
        "  listaTweets.append(nltk.pos_tag(tweet))\n",
        "    #listaTweets.append(tags)\n",
        "  \n",
        "#df_result = listaTweets\n",
        "df_result['POS'] = listaTweets\n",
        "df_result['POS']"
      ],
      "execution_count": null,
      "outputs": []
    },
    {
      "cell_type": "code",
      "metadata": {
        "id": "WAXvETP7sKco"
      },
      "source": [
        "print(df_result.iloc[1]['POS'])"
      ],
      "execution_count": null,
      "outputs": []
    },
    {
      "cell_type": "code",
      "metadata": {
        "id": "I9QopHCiMc83"
      },
      "source": [
        "# filter nouns\n",
        "nouns = []\n",
        "for tweet in df_result['POS']:\n",
        "  for word in tweet:\n",
        "    if word[1] == 'NN':\n",
        "      print(\"PALABRA SIN CORREGIR:\" + word[0])\n",
        "      print(\"PALABRA CORREGIDA:\" + correction(word[0]))\n",
        "      nouns.append(word[0])\n",
        "    nouns.append([word[0] for word in tweet if word[1] == 'NN'])\n",
        "    \n",
        "nouns"
      ],
      "execution_count": null,
      "outputs": []
    },
    {
      "cell_type": "markdown",
      "metadata": {
        "id": "eMaQkneZxAB-"
      },
      "source": [
        "## TFIDF + N-grams + POS tagging + Other features"
      ]
    },
    {
      "cell_type": "markdown",
      "metadata": {
        "id": "JZLdOQhFcOvK"
      },
      "source": [
        "### Number  of  words\r\n",
        "\r\n",
        "Para garantizar que estamos contando las palabras de los tweets sin preprocesar, las contamos de df, no de df_result. Lo mismo para el siguiente apartado."
      ]
    },
    {
      "cell_type": "code",
      "metadata": {
        "id": "7KqnLVj-cQqG"
      },
      "source": [
        "from nltk.tokenize import word_tokenize\r\n",
        "\r\n",
        "listNumberWords = []\r\n",
        "\r\n",
        "#df['tweet'][0]\r\n",
        "\r\n",
        "for i in range(0,len(df['tweet'])):\r\n",
        "  #words = df['tweet'][i].split() # OPCIÓN SEVILLA (NO RECOMENDADA)\r\n",
        "  words = word_tokenize(df['tweet'][i]) ### ASÍ LO HACE EN EL CUADERNO EL TEACHER\r\n",
        "  num_words = len(words)\r\n",
        "  listNumberWords.append(num_words)\r\n",
        "  #print(num_words)\r\n",
        "\r\n",
        "df_result['number_of_words'] = listNumberWords\r\n",
        "df_result['number_of_words']\r\n"
      ],
      "execution_count": null,
      "outputs": []
    },
    {
      "cell_type": "code",
      "metadata": {
        "id": "TdIVJa5WcXN7"
      },
      "source": [
        "from nltk.tokenize import sent_tokenize, word_tokenize\r\n",
        "\r\n",
        "listNumberSentences = []\r\n",
        "\r\n",
        "for i in range(0,len(df['tweet'])):\r\n",
        "  #sentences = df['tweet'][i].split('.') # OPCIÓN SEVILLA (NO RECOMENDADA)\r\n",
        "  sentences = sent_tokenize(df['tweet'][i]) ### ASÍ LO HACE EN EL CUADERNO EL TEACHER\r\n",
        "  num_sentences = len(sentences)\r\n",
        "  listNumberSentences.append(num_sentences)\r\n",
        "  #print(num_sentences)\r\n",
        "\r\n",
        "df_result['number_of_sentences'] = listNumberSentences\r\n",
        "df_result['number_of_sentences']"
      ],
      "execution_count": null,
      "outputs": []
    },
    {
      "cell_type": "code",
      "metadata": {
        "id": "lJ8lnraEjdSO"
      },
      "source": [
        "df_result"
      ],
      "execution_count": null,
      "outputs": []
    },
    {
      "cell_type": "markdown",
      "metadata": {
        "id": "LXJ0H30rbmUk"
      },
      "source": [
        "### Hatred n-gram dictionary"
      ]
    },
    {
      "cell_type": "code",
      "metadata": {
        "id": "_9JyS6CLlnPZ"
      },
      "source": [
        "hatredDF = pd.read_csv('refined_ngram_dict.csv')"
      ],
      "execution_count": null,
      "outputs": []
    },
    {
      "cell_type": "code",
      "metadata": {
        "id": "B48PiT94mpQN"
      },
      "source": [
        "hatredDF"
      ],
      "execution_count": null,
      "outputs": []
    },
    {
      "cell_type": "code",
      "metadata": {
        "id": "jLaOGq2xnbM8"
      },
      "source": [
        "values = []\n",
        "for x in range(0,len(df_result)):\n",
        "  sentence = df_result.iloc[x]['tweets_detokenize_without_emoticon']\n",
        "  n = 0\n",
        "  value = 0\n",
        "  \n",
        "  for i in range(0,len(hatredDF)):\n",
        "    pattern = hatredDF.iloc[i]['ngram']\n",
        "    result = re.match(pattern,sentence)\n",
        "    if result is not None:\n",
        "      n += 1\n",
        "      value += float(hatredDF.iloc[i]['prophate'])\n",
        "  if n != 0:\n",
        "    value = value / n\n",
        "  values.append(value)\n",
        "  print(\"{} and {}\".format(value,len(values)))\n",
        "\n",
        "df_result['hatred_ngrams'] = values\n",
        "\n",
        "  "
      ],
      "execution_count": null,
      "outputs": []
    },
    {
      "cell_type": "markdown",
      "metadata": {
        "id": "Nx6cUzm7DVTC"
      },
      "source": [
        "###Sentiment analisis"
      ]
    },
    {
      "cell_type": "markdown",
      "metadata": {
        "id": "qoRmzK3kDN6I"
      },
      "source": [
        "https://medium.com/@cmukesh8688/tf-idf-vectorizer-scikit-learn-dbc0244a911a"
      ]
    },
    {
      "cell_type": "code",
      "metadata": {
        "id": "6BBmKRofxEjP"
      },
      "source": [
        "import nltk\n",
        "nltk.download('vader_lexicon')\n",
        "from nltk.sentiment.vader import SentimentIntensityAnalyzer\n",
        "sentiment_analyzer  = SentimentIntensityAnalyzer() \n",
        "sentence = 'hey you fucking bastard'\n",
        "sentiment = sentiment_analyzer.polarity_scores(sentence)\n",
        "sentiment['neg'], sentiment['pos'], sentiment['neu'], sentiment['compound']\n",
        "\n",
        "negative = []\n",
        "positive = []\n",
        "neutral = []\n",
        "compound = []\n",
        "\n",
        "for tweet in df_result['tweets_detokenize_with_emoticon']:\n",
        "  sentiment = sentiment_analyzer.polarity_scores(tweet)\n",
        "  negative.append(sentiment['neg'])\n",
        "  positive.append(sentiment['pos'])\n",
        "  neutral.append(sentiment['neu'])\n",
        "  compound.append(sentiment['compound'])\n",
        "\n",
        "  \n",
        "#df_result = listaTweets\n",
        "df_result['Negative'] = negative\n",
        "df_result['Positive'] = positive\n",
        "df_result['Neutral'] = neutral\n",
        "df_result['Compound'] = compound\n",
        "df_result"
      ],
      "execution_count": null,
      "outputs": []
    },
    {
      "cell_type": "code",
      "metadata": {
        "id": "ZUerRB8QzrP6",
        "outputId": "a92d4aec-7579-42d9-d93a-d66bfacc4920",
        "colab": {
          "base_uri": "https://localhost:8080/",
          "height": 35
        }
      },
      "source": [
        "df_result.iloc[23]['tweets_detokenize_with_emoticon']"
      ],
      "execution_count": 188,
      "outputs": [
        {
          "output_type": "execute_result",
          "data": {
            "application/vnd.google.colaboratory.intrinsic+json": {
              "type": "string"
            },
            "text/plain": [
              "'fuck bitch dont even suck dick 😂 kermit video bout fuck IG'"
            ]
          },
          "metadata": {
            "tags": []
          },
          "execution_count": 188
        }
      ]
    },
    {
      "cell_type": "markdown",
      "metadata": {
        "id": "sQdcA4w20MBg"
      },
      "source": [
        "# Select features"
      ]
    },
    {
      "cell_type": "code",
      "metadata": {
        "id": "giDNUtSI0qj7"
      },
      "source": [
        "# We create a new dataframe to save result in different columns\r\n",
        "df_features = pd.DataFrame()\r\n",
        "\r\n",
        "df_features['tweet'] = df['tweet']\r\n",
        "\r\n",
        "df_features['detokenization'] = df_result['tweets_detokenize_without_emoticon']\r\n",
        "#df_features['tfidf'] = df_result['tfidf']\r\n",
        "#df_features['n-grams'] = df_result['n-grams']\r\n",
        "df_features['number_of_words'] = df_result['number_of_words']\r\n",
        "df_features['number_of_sentences'] = df_result['number_of_sentences']\r\n",
        "df_features['Negative'] = df_result['Negative']\r\n",
        "df_features['Positive'] = df_result['Positive']\r\n",
        "df_features['Neutral'] = df_result['Neutral']\r\n",
        "df_features['Compound'] = df_result['Compound']\r\n",
        "df_features['class'] = df['class']"
      ],
      "execution_count": 247,
      "outputs": []
    },
    {
      "cell_type": "code",
      "metadata": {
        "id": "XksSKVD92w2V"
      },
      "source": [
        "df_features"
      ],
      "execution_count": null,
      "outputs": []
    },
    {
      "cell_type": "code",
      "metadata": {
        "id": "m4up7NfD3vHd"
      },
      "source": [
        "from sklearn.feature_selection import SelectKBest, chi2, f_regression, mutual_info_classif\r\n",
        "import numpy as np\r\n",
        "\r\n",
        "# Create feature and target variable for Classification problem\r\n",
        "X_clf=df_features.iloc[:,2:7] # features: SepalLengthCm', 'SepalWidthCm', 'PetalLengthCm', 'PetalWidthCm'\r\n",
        "\r\n",
        "\r\n",
        "y_clf=df_features.iloc[:,8] # Target variable: Iris species\r\n",
        "print(y_clf)\r\n",
        "\r\n",
        "y_clf = np.where(y_clf == 0,0, y_clf)\r\n",
        "y_clf = np.where(y_clf == 1,1, y_clf)\r\n",
        "y_clf = np.where(y_clf == 2,2, y_clf)\r\n",
        "y_clf = y_clf.astype('int')\r\n",
        "print(y_clf)\r\n",
        "\r\n",
        "\r\n",
        "# k is the number of features you want to select [here it's 2]\r\n",
        "X_clf_new=SelectKBest(score_func=chi2,k=3).fit_transform(X_clf,y_clf)\r\n",
        "\r\n",
        "# Check the newly created variable for top two best featues\r\n",
        "print(X_clf_new)"
      ],
      "execution_count": null,
      "outputs": []
    },
    {
      "cell_type": "markdown",
      "metadata": {
        "id": "5Edva7WWDNqc"
      },
      "source": [
        "# Classification algorithm"
      ]
    },
    {
      "cell_type": "code",
      "metadata": {
        "id": "mAl6R5KfDLH0"
      },
      "source": [
        "from sklearn.model_selection import train_test_split\r\n",
        "\r\n",
        "train, test = train_test_split(df_features[['number_of_words','Negative', 'Neutral','class']], test_size=0.3)\r\n",
        "train.reset_index(inplace = True)\r\n",
        "test.reset_index(inplace = True)"
      ],
      "execution_count": 251,
      "outputs": []
    },
    {
      "cell_type": "code",
      "metadata": {
        "id": "XO_YKwRYD7_V",
        "outputId": "d5acdc6f-4216-4d40-8eb7-011313b6e8f1",
        "colab": {
          "base_uri": "https://localhost:8080/",
          "height": 299
        }
      },
      "source": [
        "from sklearn import neighbors\r\n",
        "from sklearn.model_selection import KFold\r\n",
        "import matplotlib.pyplot as plt\r\n",
        "from sklearn.metrics import accuracy_score\r\n",
        "import numpy as np\r\n",
        "\r\n",
        "cv = KFold(n_splits = 5, shuffle = True) # shuffle = False si hay dimensión temporal \r\n",
        "\r\n",
        "for i, weights in enumerate(['uniform', 'distance']):\r\n",
        "   total_scores = []\r\n",
        "   for n_neighbors in range(1,30):\r\n",
        "       fold_accuracy = []\r\n",
        "       knn = neighbors.KNeighborsClassifier(n_neighbors, weights=weights)\r\n",
        "       for train_fold, test_fold in cv.split(train):\r\n",
        "          # División train test aleatoria\r\n",
        "          f_train = train.loc[train_fold]\r\n",
        "          f_test = train.loc[test_fold]\r\n",
        "          # entrenamiento y ejecución del modelo\r\n",
        "          knn.fit( X = f_train.drop(['class'], axis=1), \r\n",
        "                               y = f_train['class'])\r\n",
        "          y_pred = knn.predict(X = f_test.drop(['class'], axis = 1))\r\n",
        "          # evaluación del modelo\r\n",
        "          acc = accuracy_score(f_test['class'], y_pred)\r\n",
        "          fold_accuracy.append(acc)\r\n",
        "       total_scores.append(sum(fold_accuracy)/len(fold_accuracy))\r\n",
        "   \r\n",
        "   plt.plot(range(1,len(total_scores)+1), total_scores, \r\n",
        "             marker='o', label=weights)\r\n",
        "   print ('Max Value ' +  weights + \" : \" +  str(max(total_scores)) +\" (\" + str(np.argmax(total_scores) + 1) + \")\")\r\n",
        "   plt.ylabel('Acc')      \r\n",
        "    \r\n",
        "\r\n",
        "plt.legend()\r\n",
        "plt.show() \r\n"
      ],
      "execution_count": 252,
      "outputs": [
        {
          "output_type": "stream",
          "text": [
            "Max Value uniform : 0.7777264083778681 (21)\n",
            "Max Value distance : 0.7781876197826281 (27)\n"
          ],
          "name": "stdout"
        },
        {
          "output_type": "display_data",
          "data": {
            "image/png": "[encoded data removed]",
            "text/plain": [
              "<Figure size 432x288 with 1 Axes>"
            ]
          },
          "metadata": {
            "tags": [],
            "needs_background": "light"
          }
        }
      ]
    },
    {
      "cell_type": "markdown",
      "metadata": {
        "id": "Xj-T0YFK95v7"
      },
      "source": [
        "# 2. Model Execution\n",
        "\n"
      ]
    },
    {
      "cell_type": "markdown",
      "metadata": {
        "id": "YxzQici8RpSe"
      },
      "source": [
        "Once we have identified the best parameterization we will go on to make an execution of the model and we will graph its results."
      ]
    },
    {
      "cell_type": "code",
      "metadata": {
        "id": "CT-gjUX1S9Em",
        "cellView": "both",
        "colab": {
          "base_uri": "https://localhost:8080/"
        },
        "outputId": "d6fc3cff-de60-447d-8bec-322a4428d3e7"
      },
      "source": [
        "# constructor\n",
        "n_neighbors = 3\n",
        "weights = 'distance'\n",
        "knn = neighbors.KNeighborsClassifier(n_neighbors= n_neighbors, weights=weights) \n",
        "# fit and predict\n",
        "knn.fit(X = train[['number_of_words','Negative', 'Neutral','class']], y = train['class'])\n",
        "y_pred = knn.predict(X = test[['number_of_words','Negative', 'Neutral','class']])\n",
        "acc = accuracy_score(test['class'], y_pred)\n",
        "print ('Acc', acc)"
      ],
      "execution_count": 253,
      "outputs": [
        {
          "output_type": "stream",
          "text": [
            "Acc 0.9991930060524546\n"
          ],
          "name": "stdout"
        }
      ]
    },
    {
      "cell_type": "markdown",
      "metadata": {
        "id": "c3xiYNMZxfn7"
      },
      "source": [
        "We show the solution using Voronoi Diagrams\n"
      ]
    },
    {
      "cell_type": "code",
      "metadata": {
        "id": "4xQz3Q3S3y4k"
      },
      "source": [
        "import matplotlib.pyplot as plt\n",
        "from matplotlib.colors import ListedColormap\n",
        "cmap_light = ListedColormap(['#FFAAAA', '#AAFFAA', '#AAAAFF'])\n",
        "cmap_bold = ListedColormap(['#FF0000', '#00FF00', '#0000FF'])\n",
        "h = .05  # step size in the mesh\n",
        "\n",
        "X = train[['number_of_words','Negative', 'Neutral','class']].values\n",
        "y = train['class'].values\n",
        "\n"
      ],
      "execution_count": 254,
      "outputs": []
    },
    {
      "cell_type": "code",
      "metadata": {
        "id": "dAnH1mjxxNQ_",
        "colab": {
          "base_uri": "https://localhost:8080/",
          "height": 408
        },
        "outputId": "5ef9e48d-fd3e-4b97-8e44-64f250366fd5"
      },
      "source": [
        "\n",
        "# Plot the decision boundary. For that, we will assign a color to each\n",
        "# point in the mesh [x_min, x_max]x[y_min, y_max].\n",
        "x_min, x_max = X[:, 0].min() - 1, X[:, 0].max() + 1\n",
        "y_min, y_max = X[:, 1].min() - 1, X[:, 1].max() + 1\n",
        "xx, yy = np.meshgrid(np.arange(x_min, x_max, h),\n",
        "                       np.arange(y_min, y_max, h))\n",
        "Z = knn.predict(np.c_[xx.ravel(), yy.ravel()])\n",
        "\n",
        "# Put the result into a color plot\n",
        "Z = Z.reshape(xx.shape)\n",
        "plt.figure()\n",
        "plt.pcolormesh(xx, yy, Z, cmap=cmap_light)\n",
        "\n",
        "# Plot also the training points\n",
        "plt.scatter(X[:, 0], X[:, 1], c=y, cmap=cmap_bold,\n",
        "             edgecolor='k', s=20)\n",
        "plt.xlim(xx.min(), xx.max())\n",
        "plt.ylim(yy.min(), yy.max())\n",
        "plt.title(\"Classification (k = %i, weights = '%s')\"\n",
        "              % (n_neighbors, weights))\n",
        "\n",
        "plt.show()\n",
        "                         "
      ],
      "execution_count": 255,
      "outputs": [
        {
          "output_type": "error",
          "ename": "ValueError",
          "evalue": "ignored",
          "traceback": [
            "\u001b[0;31m---------------------------------------------------------------------------\u001b[0m",
            "\u001b[0;31mValueError\u001b[0m                                Traceback (most recent call last)",
            "\u001b[0;32m<ipython-input-255-50f4d422c5e8>\u001b[0m in \u001b[0;36m<module>\u001b[0;34m()\u001b[0m\n\u001b[1;32m      6\u001b[0m xx, yy = np.meshgrid(np.arange(x_min, x_max, h),\n\u001b[1;32m      7\u001b[0m                        np.arange(y_min, y_max, h))\n\u001b[0;32m----> 8\u001b[0;31m \u001b[0mZ\u001b[0m \u001b[0;34m=\u001b[0m \u001b[0mknn\u001b[0m\u001b[0;34m.\u001b[0m\u001b[0mpredict\u001b[0m\u001b[0;34m(\u001b[0m\u001b[0mnp\u001b[0m\u001b[0;34m.\u001b[0m\u001b[0mc_\u001b[0m\u001b[0;34m[\u001b[0m\u001b[0mxx\u001b[0m\u001b[0;34m.\u001b[0m\u001b[0mravel\u001b[0m\u001b[0;34m(\u001b[0m\u001b[0;34m)\u001b[0m\u001b[0;34m,\u001b[0m \u001b[0myy\u001b[0m\u001b[0;34m.\u001b[0m\u001b[0mravel\u001b[0m\u001b[0;34m(\u001b[0m\u001b[0;34m)\u001b[0m\u001b[0;34m]\u001b[0m\u001b[0;34m)\u001b[0m\u001b[0;34m\u001b[0m\u001b[0;34m\u001b[0m\u001b[0m\n\u001b[0m\u001b[1;32m      9\u001b[0m \u001b[0;34m\u001b[0m\u001b[0m\n\u001b[1;32m     10\u001b[0m \u001b[0;31m# Put the result into a color plot\u001b[0m\u001b[0;34m\u001b[0m\u001b[0;34m\u001b[0m\u001b[0;34m\u001b[0m\u001b[0m\n",
            "\u001b[0;32m/usr/local/lib/python3.6/dist-packages/sklearn/neighbors/_classification.py\u001b[0m in \u001b[0;36mpredict\u001b[0;34m(self, X)\u001b[0m\n\u001b[1;32m    171\u001b[0m         \u001b[0mX\u001b[0m \u001b[0;34m=\u001b[0m \u001b[0mcheck_array\u001b[0m\u001b[0;34m(\u001b[0m\u001b[0mX\u001b[0m\u001b[0;34m,\u001b[0m \u001b[0maccept_sparse\u001b[0m\u001b[0;34m=\u001b[0m\u001b[0;34m'csr'\u001b[0m\u001b[0;34m)\u001b[0m\u001b[0;34m\u001b[0m\u001b[0;34m\u001b[0m\u001b[0m\n\u001b[1;32m    172\u001b[0m \u001b[0;34m\u001b[0m\u001b[0m\n\u001b[0;32m--> 173\u001b[0;31m         \u001b[0mneigh_dist\u001b[0m\u001b[0;34m,\u001b[0m \u001b[0mneigh_ind\u001b[0m \u001b[0;34m=\u001b[0m \u001b[0mself\u001b[0m\u001b[0;34m.\u001b[0m\u001b[0mkneighbors\u001b[0m\u001b[0;34m(\u001b[0m\u001b[0mX\u001b[0m\u001b[0;34m)\u001b[0m\u001b[0;34m\u001b[0m\u001b[0;34m\u001b[0m\u001b[0m\n\u001b[0m\u001b[1;32m    174\u001b[0m         \u001b[0mclasses_\u001b[0m \u001b[0;34m=\u001b[0m \u001b[0mself\u001b[0m\u001b[0;34m.\u001b[0m\u001b[0mclasses_\u001b[0m\u001b[0;34m\u001b[0m\u001b[0;34m\u001b[0m\u001b[0m\n\u001b[1;32m    175\u001b[0m         \u001b[0m_y\u001b[0m \u001b[0;34m=\u001b[0m \u001b[0mself\u001b[0m\u001b[0;34m.\u001b[0m\u001b[0m_y\u001b[0m\u001b[0;34m\u001b[0m\u001b[0;34m\u001b[0m\u001b[0m\n",
            "\u001b[0;32m/usr/local/lib/python3.6/dist-packages/sklearn/neighbors/_base.py\u001b[0m in \u001b[0;36mkneighbors\u001b[0;34m(self, X, n_neighbors, return_distance)\u001b[0m\n\u001b[1;32m    662\u001b[0m                 delayed_query(\n\u001b[1;32m    663\u001b[0m                     self._tree, X[s], n_neighbors, return_distance)\n\u001b[0;32m--> 664\u001b[0;31m                 \u001b[0;32mfor\u001b[0m \u001b[0ms\u001b[0m \u001b[0;32min\u001b[0m \u001b[0mgen_even_slices\u001b[0m\u001b[0;34m(\u001b[0m\u001b[0mX\u001b[0m\u001b[0;34m.\u001b[0m\u001b[0mshape\u001b[0m\u001b[0;34m[\u001b[0m\u001b[0;36m0\u001b[0m\u001b[0;34m]\u001b[0m\u001b[0;34m,\u001b[0m \u001b[0mn_jobs\u001b[0m\u001b[0;34m)\u001b[0m\u001b[0;34m\u001b[0m\u001b[0;34m\u001b[0m\u001b[0m\n\u001b[0m\u001b[1;32m    665\u001b[0m             )\n\u001b[1;32m    666\u001b[0m         \u001b[0;32melse\u001b[0m\u001b[0;34m:\u001b[0m\u001b[0;34m\u001b[0m\u001b[0;34m\u001b[0m\u001b[0m\n",
            "\u001b[0;32m/usr/local/lib/python3.6/dist-packages/joblib/parallel.py\u001b[0m in \u001b[0;36m__call__\u001b[0;34m(self, iterable)\u001b[0m\n\u001b[1;32m   1046\u001b[0m             \u001b[0;31m# remaining jobs.\u001b[0m\u001b[0;34m\u001b[0m\u001b[0;34m\u001b[0m\u001b[0;34m\u001b[0m\u001b[0m\n\u001b[1;32m   1047\u001b[0m             \u001b[0mself\u001b[0m\u001b[0;34m.\u001b[0m\u001b[0m_iterating\u001b[0m \u001b[0;34m=\u001b[0m \u001b[0;32mFalse\u001b[0m\u001b[0;34m\u001b[0m\u001b[0;34m\u001b[0m\u001b[0m\n\u001b[0;32m-> 1048\u001b[0;31m             \u001b[0;32mif\u001b[0m \u001b[0mself\u001b[0m\u001b[0;34m.\u001b[0m\u001b[0mdispatch_one_batch\u001b[0m\u001b[0;34m(\u001b[0m\u001b[0miterator\u001b[0m\u001b[0;34m)\u001b[0m\u001b[0;34m:\u001b[0m\u001b[0;34m\u001b[0m\u001b[0;34m\u001b[0m\u001b[0m\n\u001b[0m\u001b[1;32m   1049\u001b[0m                 \u001b[0mself\u001b[0m\u001b[0;34m.\u001b[0m\u001b[0m_iterating\u001b[0m \u001b[0;34m=\u001b[0m \u001b[0mself\u001b[0m\u001b[0;34m.\u001b[0m\u001b[0m_original_iterator\u001b[0m \u001b[0;32mis\u001b[0m \u001b[0;32mnot\u001b[0m \u001b[0;32mNone\u001b[0m\u001b[0;34m\u001b[0m\u001b[0;34m\u001b[0m\u001b[0m\n\u001b[1;32m   1050\u001b[0m \u001b[0;34m\u001b[0m\u001b[0m\n",
            "\u001b[0;32m/usr/local/lib/python3.6/dist-packages/joblib/parallel.py\u001b[0m in \u001b[0;36mdispatch_one_batch\u001b[0;34m(self, iterator)\u001b[0m\n\u001b[1;32m    864\u001b[0m                 \u001b[0;32mreturn\u001b[0m \u001b[0;32mFalse\u001b[0m\u001b[0;34m\u001b[0m\u001b[0;34m\u001b[0m\u001b[0m\n\u001b[1;32m    865\u001b[0m             \u001b[0;32melse\u001b[0m\u001b[0;34m:\u001b[0m\u001b[0;34m\u001b[0m\u001b[0;34m\u001b[0m\u001b[0m\n\u001b[0;32m--> 866\u001b[0;31m                 \u001b[0mself\u001b[0m\u001b[0;34m.\u001b[0m\u001b[0m_dispatch\u001b[0m\u001b[0;34m(\u001b[0m\u001b[0mtasks\u001b[0m\u001b[0;34m)\u001b[0m\u001b[0;34m\u001b[0m\u001b[0;34m\u001b[0m\u001b[0m\n\u001b[0m\u001b[1;32m    867\u001b[0m                 \u001b[0;32mreturn\u001b[0m \u001b[0;32mTrue\u001b[0m\u001b[0;34m\u001b[0m\u001b[0;34m\u001b[0m\u001b[0m\n\u001b[1;32m    868\u001b[0m \u001b[0;34m\u001b[0m\u001b[0m\n",
            "\u001b[0;32m/usr/local/lib/python3.6/dist-packages/joblib/parallel.py\u001b[0m in \u001b[0;36m_dispatch\u001b[0;34m(self, batch)\u001b[0m\n\u001b[1;32m    782\u001b[0m         \u001b[0;32mwith\u001b[0m \u001b[0mself\u001b[0m\u001b[0;34m.\u001b[0m\u001b[0m_lock\u001b[0m\u001b[0;34m:\u001b[0m\u001b[0;34m\u001b[0m\u001b[0;34m\u001b[0m\u001b[0m\n\u001b[1;32m    783\u001b[0m             \u001b[0mjob_idx\u001b[0m \u001b[0;34m=\u001b[0m \u001b[0mlen\u001b[0m\u001b[0;34m(\u001b[0m\u001b[0mself\u001b[0m\u001b[0;34m.\u001b[0m\u001b[0m_jobs\u001b[0m\u001b[0;34m)\u001b[0m\u001b[0;34m\u001b[0m\u001b[0;34m\u001b[0m\u001b[0m\n\u001b[0;32m--> 784\u001b[0;31m             \u001b[0mjob\u001b[0m \u001b[0;34m=\u001b[0m \u001b[0mself\u001b[0m\u001b[0;34m.\u001b[0m\u001b[0m_backend\u001b[0m\u001b[0;34m.\u001b[0m\u001b[0mapply_async\u001b[0m\u001b[0;34m(\u001b[0m\u001b[0mbatch\u001b[0m\u001b[0;34m,\u001b[0m \u001b[0mcallback\u001b[0m\u001b[0;34m=\u001b[0m\u001b[0mcb\u001b[0m\u001b[0;34m)\u001b[0m\u001b[0;34m\u001b[0m\u001b[0;34m\u001b[0m\u001b[0m\n\u001b[0m\u001b[1;32m    785\u001b[0m             \u001b[0;31m# A job can complete so quickly than its callback is\u001b[0m\u001b[0;34m\u001b[0m\u001b[0;34m\u001b[0m\u001b[0;34m\u001b[0m\u001b[0m\n\u001b[1;32m    786\u001b[0m             \u001b[0;31m# called before we get here, causing self._jobs to\u001b[0m\u001b[0;34m\u001b[0m\u001b[0;34m\u001b[0m\u001b[0;34m\u001b[0m\u001b[0m\n",
            "\u001b[0;32m/usr/local/lib/python3.6/dist-packages/joblib/_parallel_backends.py\u001b[0m in \u001b[0;36mapply_async\u001b[0;34m(self, func, callback)\u001b[0m\n\u001b[1;32m    206\u001b[0m     \u001b[0;32mdef\u001b[0m \u001b[0mapply_async\u001b[0m\u001b[0;34m(\u001b[0m\u001b[0mself\u001b[0m\u001b[0;34m,\u001b[0m \u001b[0mfunc\u001b[0m\u001b[0;34m,\u001b[0m \u001b[0mcallback\u001b[0m\u001b[0;34m=\u001b[0m\u001b[0;32mNone\u001b[0m\u001b[0;34m)\u001b[0m\u001b[0;34m:\u001b[0m\u001b[0;34m\u001b[0m\u001b[0;34m\u001b[0m\u001b[0m\n\u001b[1;32m    207\u001b[0m         \u001b[0;34m\"\"\"Schedule a func to be run\"\"\"\u001b[0m\u001b[0;34m\u001b[0m\u001b[0;34m\u001b[0m\u001b[0m\n\u001b[0;32m--> 208\u001b[0;31m         \u001b[0mresult\u001b[0m \u001b[0;34m=\u001b[0m \u001b[0mImmediateResult\u001b[0m\u001b[0;34m(\u001b[0m\u001b[0mfunc\u001b[0m\u001b[0;34m)\u001b[0m\u001b[0;34m\u001b[0m\u001b[0;34m\u001b[0m\u001b[0m\n\u001b[0m\u001b[1;32m    209\u001b[0m         \u001b[0;32mif\u001b[0m \u001b[0mcallback\u001b[0m\u001b[0;34m:\u001b[0m\u001b[0;34m\u001b[0m\u001b[0;34m\u001b[0m\u001b[0m\n\u001b[1;32m    210\u001b[0m             \u001b[0mcallback\u001b[0m\u001b[0;34m(\u001b[0m\u001b[0mresult\u001b[0m\u001b[0;34m)\u001b[0m\u001b[0;34m\u001b[0m\u001b[0;34m\u001b[0m\u001b[0m\n",
            "\u001b[0;32m/usr/local/lib/python3.6/dist-packages/joblib/_parallel_backends.py\u001b[0m in \u001b[0;36m__init__\u001b[0;34m(self, batch)\u001b[0m\n\u001b[1;32m    570\u001b[0m         \u001b[0;31m# Don't delay the application, to avoid keeping the input\u001b[0m\u001b[0;34m\u001b[0m\u001b[0;34m\u001b[0m\u001b[0;34m\u001b[0m\u001b[0m\n\u001b[1;32m    571\u001b[0m         \u001b[0;31m# arguments in memory\u001b[0m\u001b[0;34m\u001b[0m\u001b[0;34m\u001b[0m\u001b[0;34m\u001b[0m\u001b[0m\n\u001b[0;32m--> 572\u001b[0;31m         \u001b[0mself\u001b[0m\u001b[0;34m.\u001b[0m\u001b[0mresults\u001b[0m \u001b[0;34m=\u001b[0m \u001b[0mbatch\u001b[0m\u001b[0;34m(\u001b[0m\u001b[0;34m)\u001b[0m\u001b[0;34m\u001b[0m\u001b[0;34m\u001b[0m\u001b[0m\n\u001b[0m\u001b[1;32m    573\u001b[0m \u001b[0;34m\u001b[0m\u001b[0m\n\u001b[1;32m    574\u001b[0m     \u001b[0;32mdef\u001b[0m \u001b[0mget\u001b[0m\u001b[0;34m(\u001b[0m\u001b[0mself\u001b[0m\u001b[0;34m)\u001b[0m\u001b[0;34m:\u001b[0m\u001b[0;34m\u001b[0m\u001b[0;34m\u001b[0m\u001b[0m\n",
            "\u001b[0;32m/usr/local/lib/python3.6/dist-packages/joblib/parallel.py\u001b[0m in \u001b[0;36m__call__\u001b[0;34m(self)\u001b[0m\n\u001b[1;32m    261\u001b[0m         \u001b[0;32mwith\u001b[0m \u001b[0mparallel_backend\u001b[0m\u001b[0;34m(\u001b[0m\u001b[0mself\u001b[0m\u001b[0;34m.\u001b[0m\u001b[0m_backend\u001b[0m\u001b[0;34m,\u001b[0m \u001b[0mn_jobs\u001b[0m\u001b[0;34m=\u001b[0m\u001b[0mself\u001b[0m\u001b[0;34m.\u001b[0m\u001b[0m_n_jobs\u001b[0m\u001b[0;34m)\u001b[0m\u001b[0;34m:\u001b[0m\u001b[0;34m\u001b[0m\u001b[0;34m\u001b[0m\u001b[0m\n\u001b[1;32m    262\u001b[0m             return [func(*args, **kwargs)\n\u001b[0;32m--> 263\u001b[0;31m                     for func, args, kwargs in self.items]\n\u001b[0m\u001b[1;32m    264\u001b[0m \u001b[0;34m\u001b[0m\u001b[0m\n\u001b[1;32m    265\u001b[0m     \u001b[0;32mdef\u001b[0m \u001b[0m__reduce__\u001b[0m\u001b[0;34m(\u001b[0m\u001b[0mself\u001b[0m\u001b[0;34m)\u001b[0m\u001b[0;34m:\u001b[0m\u001b[0;34m\u001b[0m\u001b[0;34m\u001b[0m\u001b[0m\n",
            "\u001b[0;32m/usr/local/lib/python3.6/dist-packages/joblib/parallel.py\u001b[0m in \u001b[0;36m<listcomp>\u001b[0;34m(.0)\u001b[0m\n\u001b[1;32m    261\u001b[0m         \u001b[0;32mwith\u001b[0m \u001b[0mparallel_backend\u001b[0m\u001b[0;34m(\u001b[0m\u001b[0mself\u001b[0m\u001b[0;34m.\u001b[0m\u001b[0m_backend\u001b[0m\u001b[0;34m,\u001b[0m \u001b[0mn_jobs\u001b[0m\u001b[0;34m=\u001b[0m\u001b[0mself\u001b[0m\u001b[0;34m.\u001b[0m\u001b[0m_n_jobs\u001b[0m\u001b[0;34m)\u001b[0m\u001b[0;34m:\u001b[0m\u001b[0;34m\u001b[0m\u001b[0;34m\u001b[0m\u001b[0m\n\u001b[1;32m    262\u001b[0m             return [func(*args, **kwargs)\n\u001b[0;32m--> 263\u001b[0;31m                     for func, args, kwargs in self.items]\n\u001b[0m\u001b[1;32m    264\u001b[0m \u001b[0;34m\u001b[0m\u001b[0m\n\u001b[1;32m    265\u001b[0m     \u001b[0;32mdef\u001b[0m \u001b[0m__reduce__\u001b[0m\u001b[0;34m(\u001b[0m\u001b[0mself\u001b[0m\u001b[0;34m)\u001b[0m\u001b[0;34m:\u001b[0m\u001b[0;34m\u001b[0m\u001b[0;34m\u001b[0m\u001b[0m\n",
            "\u001b[0;32m/usr/local/lib/python3.6/dist-packages/sklearn/neighbors/_base.py\u001b[0m in \u001b[0;36m_tree_query_parallel_helper\u001b[0;34m(tree, *args, **kwargs)\u001b[0m\n\u001b[1;32m    489\u001b[0m     \u001b[0munder\u001b[0m \u001b[0mPyPy\u001b[0m\u001b[0;34m.\u001b[0m\u001b[0;34m\u001b[0m\u001b[0;34m\u001b[0m\u001b[0m\n\u001b[1;32m    490\u001b[0m     \"\"\"\n\u001b[0;32m--> 491\u001b[0;31m     \u001b[0;32mreturn\u001b[0m \u001b[0mtree\u001b[0m\u001b[0;34m.\u001b[0m\u001b[0mquery\u001b[0m\u001b[0;34m(\u001b[0m\u001b[0;34m*\u001b[0m\u001b[0margs\u001b[0m\u001b[0;34m,\u001b[0m \u001b[0;34m**\u001b[0m\u001b[0mkwargs\u001b[0m\u001b[0;34m)\u001b[0m\u001b[0;34m\u001b[0m\u001b[0;34m\u001b[0m\u001b[0m\n\u001b[0m\u001b[1;32m    492\u001b[0m \u001b[0;34m\u001b[0m\u001b[0m\n\u001b[1;32m    493\u001b[0m \u001b[0;34m\u001b[0m\u001b[0m\n",
            "\u001b[0;32msklearn/neighbors/_binary_tree.pxi\u001b[0m in \u001b[0;36msklearn.neighbors._kd_tree.BinaryTree.query\u001b[0;34m()\u001b[0m\n",
            "\u001b[0;31mValueError\u001b[0m: query data dimension must match training data dimension"
          ]
        }
      ]
    },
    {
      "cell_type": "markdown",
      "metadata": {
        "id": "onIoRvD449nH"
      },
      "source": [
        "Finally, we obtain the Confusion Matrix"
      ]
    },
    {
      "cell_type": "code",
      "metadata": {
        "id": "NX9gtCEszUi0"
      },
      "source": [
        "from sklearn.metrics import confusion_matrix\n",
        "from sklearn.utils.multiclass import unique_labels\n",
        "\n",
        "def plot_confusion_matrix(y_true, y_pred, classes,\n",
        "                          normalize=False,\n",
        "                          title=None,\n",
        "                          cmap=plt.cm.Blues):\n",
        "    \"\"\"\n",
        "    This function prints and plots the confusion matrix.\n",
        "    Normalization can be applied by setting `normalize=True`.\n",
        "    \"\"\"\n",
        "    if not title:\n",
        "        if normalize:\n",
        "            title = 'Normalized confusion matrix'\n",
        "        else:\n",
        "            title = 'Confusion matrix, without normalization'\n",
        "\n",
        "    # Compute confusion matrix\n",
        "    cm = confusion_matrix(y_true, y_pred)\n",
        "    # Only use the labels that appear in the data\n",
        "    classes = classes[unique_labels(y_true, y_pred)]\n",
        "    if normalize:\n",
        "        cm = cm.astype('float') / cm.sum(axis=1)[:, np.newaxis]\n",
        "        print(\"Normalized confusion matrix\")\n",
        "    else:\n",
        "        print('Confusion matrix, without normalization')\n",
        "\n",
        "    print(cm)\n",
        "\n",
        "    fig, ax = plt.subplots()\n",
        "    im = ax.imshow(cm, interpolation='nearest', cmap=cmap)\n",
        "    ax.figure.colorbar(im, ax=ax)\n",
        "    # We want to show all ticks...\n",
        "    ax.set(xticks=np.arange(cm.shape[1]),\n",
        "           yticks=np.arange(cm.shape[0]),\n",
        "           # ... and label them with the respective list entries\n",
        "           xticklabels=classes, yticklabels=classes,\n",
        "           title=title,\n",
        "           ylabel='True label',\n",
        "           xlabel='Predicted label')\n",
        "\n",
        "    # Rotate the tick labels and set their alignment.\n",
        "    plt.setp(ax.get_xticklabels(), rotation=45, ha=\"right\",\n",
        "             rotation_mode=\"anchor\")\n",
        "\n",
        "    # Loop over data dimensions and create text annotations.\n",
        "    fmt = '.2f' if normalize else 'd'\n",
        "    thresh = cm.max() / 2.\n",
        "    for i in range(cm.shape[0]):\n",
        "        for j in range(cm.shape[1]):\n",
        "            ax.text(j, i, format(cm[i, j], fmt),\n",
        "                    ha=\"center\", va=\"center\",\n",
        "                    color=\"white\" if cm[i, j] > thresh else \"black\")\n",
        "    fig.tight_layout()\n",
        "    return ax"
      ],
      "execution_count": null,
      "outputs": []
    },
    {
      "cell_type": "code",
      "metadata": {
        "id": "jNM0HVdLzVz-",
        "colab": {
          "base_uri": "https://localhost:8080/",
          "height": 378
        },
        "outputId": "b4f425b0-bdb0-422c-de5a-dcbe99ecbbf1"
      },
      "source": [
        "plot_confusion_matrix(test['target'], y_pred, classes=iris.target_names, normalize=True,\n",
        "                      title='Confusion matrix')\n",
        "  "
      ],
      "execution_count": null,
      "outputs": [
        {
          "output_type": "stream",
          "text": [
            "Normalized confusion matrix\n",
            "[[1.         0.         0.        ]\n",
            " [0.         1.         0.        ]\n",
            " [0.         0.13636364 0.86363636]]\n"
          ],
          "name": "stdout"
        },
        {
          "output_type": "execute_result",
          "data": {
            "text/plain": [
              "<matplotlib.axes._subplots.AxesSubplot at 0x7f634dc3e128>"
            ]
          },
          "metadata": {
            "tags": []
          },
          "execution_count": 13
        },
        {
          "output_type": "display_data",
          "data": {
            "image/png": "[encoded data removed]",
            "text/plain": [
              "<Figure size 432x288 with 2 Axes>"
            ]
          },
          "metadata": {
            "tags": []
          }
        }
      ]
    },
    {
      "cell_type": "markdown",
      "metadata": {
        "id": "jPYAVNtuik5E"
      },
      "source": [
        "# RESTO DE COSAS QUE HEMOS PEGAO\n"
      ]
    },
    {
      "cell_type": "code",
      "metadata": {
        "id": "zWd6hPbDlq0b"
      },
      "source": [
        "# Vectorization\n",
        "# Based on counting\n",
        "\n",
        "from sklearn.feature_extraction.text import CountVectorizer\n",
        "\n",
        "vectorizer = CountVectorizer(min_df=1)\n",
        "\n",
        "X = vectorizer.fit_transform(tweets_detokenize)\n",
        "\n",
        "print(X.toarray())\n",
        "print(vectorizer.vocabulary_)\n",
        "\n",
        "# TF-IDF\n",
        "from sklearn.feature_extraction.text import TfidfVectorizer\n",
        "\n",
        "vectorizer = TfidfVectorizer(ngram_range=(1, 2), min_df=1)\n",
        "\n",
        "X = vectorizer.fit_transform(tweets_detokenize)\n",
        "\n",
        "tfidf = X.toarray()\n",
        "print(tfidf)\n",
        "print(vectorizer.vocabulary_)\n",
        "print (X.shape)\n",
        "\n",
        "pos_vocab = {v:i for i, v in enumerate(vectorizer.get_feature_names())}\n",
        "\n",
        "#length\n",
        "len(pos_vocab)\n",
        "\n",
        "#pos_vocab\n",
        "#vectorizer.get_feature_names()\n",
        "\n",
        "# KEYwORDS\n",
        "#import numpy\n",
        "\n",
        "#keywords = [vectorizer.get_feature_names()[numpy.argmax(x)] for x in X.toarray()]\n",
        "# keywords"
      ],
      "execution_count": null,
      "outputs": []
    },
    {
      "cell_type": "markdown",
      "metadata": {
        "id": "l8YN4fcXNE9-"
      },
      "source": [
        "## Chunker"
      ]
    },
    {
      "cell_type": "code",
      "metadata": {
        "colab": {
          "base_uri": "https://localhost:8080/",
          "height": 223
        },
        "id": "DjMf13D0NGV-",
        "outputId": "01eed5ba-9536-4292-c93f-d2e6ddca284b"
      },
      "source": [
        "!pip install svgling\n",
        "import svgling\n",
        "\n",
        "#errors are due to tkinter because it is trying to display the tree . # No funciona porque detecta simbolos !?!-~#@ Cuando no halla funcionara bien\n",
        "'''\n",
        "chunkGram = r\"\"\"Chunk: {<RB.?>*<VB.?>*<NNP>+<NN>?}\"\"\"\n",
        "chunkParser = nltk.RegexpParser(chunkGram)\n",
        "for tweet in df['POS']:\n",
        "  #print(tweet)\n",
        "  result = chunkParser.parse(tweet)\n",
        "  #svgling.draw_tree(result)\n",
        "'''\n",
        "\n",
        "#sentence = [(\"the\", \"DT\"), (\"little\", \"JJ\"), (\"yellow\", \"JJ\"), (\"dog\", \"NN\"), (\"barked\", \"VBD\"), (\"at\", \"IN\"),  (\"the\", \"DT\"), (\"cat\", \"NN\")]\n",
        "sentence = df['POS'][900]\n",
        "grammar = \"NP: {<DT>?<JJ>*<NN>}\"\n",
        "cp = nltk.RegexpParser(grammar)\n",
        "result = cp.parse(sentence)\n",
        "svgling.draw_tree(result)\n"
      ],
      "execution_count": null,
      "outputs": [
        {
          "output_type": "stream",
          "text": [
            "Requirement already satisfied: svgling in /usr/local/lib/python3.6/dist-packages (0.3.0)\n",
            "Requirement already satisfied: svgwrite in /usr/local/lib/python3.6/dist-packages (from svgling) (1.4)\n"
          ],
          "name": "stdout"
        },
        {
          "output_type": "execute_result",
          "data": {
            "text/plain": [
              "TreeLayout(Tree('S', [(',', ','), (',', ','), (',', ','), ('|', 'NNP'), Tree('NP', [('|', 'JJ'), ('german', 'JJ'), ('milf', 'NN')]), ('getting', 'VBG'), Tree('NP', [('young', 'JJ'), ('old', 'JJ'), ('cock', 'NN')]), Tree('NP', [('pussy', 'NN')])]))"
            ],
            "image/svg+xml": "<svg baseProfile=\"full\" height=\"168px\" preserveAspectRatio=\"xMidYMid meet\" style=\"font-family: times, serif; font-weight:normal; font-style: normal; font-size: 16px;\" version=\"1.1\" viewBox=\"0,0,528.0,168.0\" width=\"528px\" xmlns=\"http://www.w3.org/2000/svg\" xmlns:ev=\"http://www.w3.org/2001/xml-events\" xmlns:xlink=\"http://www.w3.org/1999/xlink\"><defs /><svg width=\"100%\" x=\"0\" y=\"0em\"><defs /><text text-anchor=\"middle\" x=\"50%\" y=\"1em\">S</text></svg><svg width=\"4.54545%\" x=\"0%\" y=\"3em\"><defs /><svg width=\"100%\" x=\"0\" y=\"0em\"><defs /><text text-anchor=\"middle\" x=\"50%\" y=\"1em\">,</text></svg><svg width=\"100%\" x=\"0%\" y=\"3em\"><defs /><svg width=\"100%\" x=\"0\" y=\"0em\"><defs /><text text-anchor=\"middle\" x=\"50%\" y=\"1em\">,</text></svg></svg><line stroke=\"black\" x1=\"50%\" x2=\"50%\" y1=\"1.2em\" y2=\"3em\" /></svg><line stroke=\"black\" x1=\"50%\" x2=\"2.27273%\" y1=\"1.2em\" y2=\"3em\" /><svg width=\"4.54545%\" x=\"4.54545%\" y=\"3em\"><defs /><svg width=\"100%\" x=\"0\" y=\"0em\"><defs /><text text-anchor=\"middle\" x=\"50%\" y=\"1em\">,</text></svg><svg width=\"100%\" x=\"0%\" y=\"3em\"><defs /><svg width=\"100%\" x=\"0\" y=\"0em\"><defs /><text text-anchor=\"middle\" x=\"50%\" y=\"1em\">,</text></svg></svg><line stroke=\"black\" x1=\"50%\" x2=\"50%\" y1=\"1.2em\" y2=\"3em\" /></svg><line stroke=\"black\" x1=\"50%\" x2=\"6.81818%\" y1=\"1.2em\" y2=\"3em\" /><svg width=\"4.54545%\" x=\"9.09091%\" y=\"3em\"><defs /><svg width=\"100%\" x=\"0\" y=\"0em\"><defs /><text text-anchor=\"middle\" x=\"50%\" y=\"1em\">,</text></svg><svg width=\"100%\" x=\"0%\" y=\"3em\"><defs /><svg width=\"100%\" x=\"0\" y=\"0em\"><defs /><text text-anchor=\"middle\" x=\"50%\" y=\"1em\">,</text></svg></svg><line stroke=\"black\" x1=\"50%\" x2=\"50%\" y1=\"1.2em\" y2=\"3em\" /></svg><line stroke=\"black\" x1=\"50%\" x2=\"11.3636%\" y1=\"1.2em\" y2=\"3em\" /><svg width=\"7.57576%\" x=\"13.6364%\" y=\"3em\"><defs /><svg width=\"100%\" x=\"0\" y=\"0em\"><defs /><text text-anchor=\"middle\" x=\"50%\" y=\"1em\">|</text></svg><svg width=\"100%\" x=\"0%\" y=\"3em\"><defs /><svg width=\"100%\" x=\"0\" y=\"0em\"><defs /><text text-anchor=\"middle\" x=\"50%\" y=\"1em\">NNP</text></svg></svg><line stroke=\"black\" x1=\"50%\" x2=\"50%\" y1=\"1.2em\" y2=\"3em\" /></svg><line stroke=\"black\" x1=\"50%\" x2=\"17.4242%\" y1=\"1.2em\" y2=\"3em\" /><svg width=\"27.2727%\" x=\"21.2121%\" y=\"3em\"><defs /><svg width=\"100%\" x=\"0\" y=\"0em\"><defs /><text text-anchor=\"middle\" x=\"50%\" y=\"1em\">NP</text></svg><svg width=\"22.2222%\" x=\"0%\" y=\"3em\"><defs /><svg width=\"100%\" x=\"0\" y=\"0em\"><defs /><text text-anchor=\"middle\" x=\"50%\" y=\"1em\">|</text></svg><svg width=\"100%\" x=\"0%\" y=\"3em\"><defs /><svg width=\"100%\" x=\"0\" y=\"0em\"><defs /><text text-anchor=\"middle\" x=\"50%\" y=\"1em\">JJ</text></svg></svg><line stroke=\"black\" x1=\"50%\" x2=\"50%\" y1=\"1.2em\" y2=\"3em\" /></svg><line stroke=\"black\" x1=\"50%\" x2=\"11.1111%\" y1=\"1.2em\" y2=\"3em\" /><svg width=\"44.4444%\" x=\"22.2222%\" y=\"3em\"><defs /><svg width=\"100%\" x=\"0\" y=\"0em\"><defs /><text text-anchor=\"middle\" x=\"50%\" y=\"1em\">german</text></svg><svg width=\"100%\" x=\"0%\" y=\"3em\"><defs /><svg width=\"100%\" x=\"0\" y=\"0em\"><defs /><text text-anchor=\"middle\" x=\"50%\" y=\"1em\">JJ</text></svg></svg><line stroke=\"black\" x1=\"50%\" x2=\"50%\" y1=\"1.2em\" y2=\"3em\" /></svg><line stroke=\"black\" x1=\"50%\" x2=\"44.4444%\" y1=\"1.2em\" y2=\"3em\" /><svg width=\"33.3333%\" x=\"66.6667%\" y=\"3em\"><defs /><svg width=\"100%\" x=\"0\" y=\"0em\"><defs /><text text-anchor=\"middle\" x=\"50%\" y=\"1em\">milf</text></svg><svg width=\"100%\" x=\"0%\" y=\"3em\"><defs /><svg width=\"100%\" x=\"0\" y=\"0em\"><defs /><text text-anchor=\"middle\" x=\"50%\" y=\"1em\">NN</text></svg></svg><line stroke=\"black\" x1=\"50%\" x2=\"50%\" y1=\"1.2em\" y2=\"3em\" /></svg><line stroke=\"black\" x1=\"50%\" x2=\"83.3333%\" y1=\"1.2em\" y2=\"3em\" /></svg><line stroke=\"black\" x1=\"50%\" x2=\"34.8485%\" y1=\"1.2em\" y2=\"3em\" /><svg width=\"13.6364%\" x=\"48.4848%\" y=\"3em\"><defs /><svg width=\"100%\" x=\"0\" y=\"0em\"><defs /><text text-anchor=\"middle\" x=\"50%\" y=\"1em\">getting</text></svg><svg width=\"100%\" x=\"0%\" y=\"3em\"><defs /><svg width=\"100%\" x=\"0\" y=\"0em\"><defs /><text text-anchor=\"middle\" x=\"50%\" y=\"1em\">VBG</text></svg></svg><line stroke=\"black\" x1=\"50%\" x2=\"50%\" y1=\"1.2em\" y2=\"3em\" /></svg><line stroke=\"black\" x1=\"50%\" x2=\"55.303%\" y1=\"1.2em\" y2=\"3em\" /><svg width=\"27.2727%\" x=\"62.1212%\" y=\"3em\"><defs /><svg width=\"100%\" x=\"0\" y=\"0em\"><defs /><text text-anchor=\"middle\" x=\"50%\" y=\"1em\">NP</text></svg><svg width=\"38.8889%\" x=\"0%\" y=\"3em\"><defs /><svg width=\"100%\" x=\"0\" y=\"0em\"><defs /><text text-anchor=\"middle\" x=\"50%\" y=\"1em\">young</text></svg><svg width=\"100%\" x=\"0%\" y=\"3em\"><defs /><svg width=\"100%\" x=\"0\" y=\"0em\"><defs /><text text-anchor=\"middle\" x=\"50%\" y=\"1em\">JJ</text></svg></svg><line stroke=\"black\" x1=\"50%\" x2=\"50%\" y1=\"1.2em\" y2=\"3em\" /></svg><line stroke=\"black\" x1=\"50%\" x2=\"19.4444%\" y1=\"1.2em\" y2=\"3em\" /><svg width=\"27.7778%\" x=\"38.8889%\" y=\"3em\"><defs /><svg width=\"100%\" x=\"0\" y=\"0em\"><defs /><text text-anchor=\"middle\" x=\"50%\" y=\"1em\">old</text></svg><svg width=\"100%\" x=\"0%\" y=\"3em\"><defs /><svg width=\"100%\" x=\"0\" y=\"0em\"><defs /><text text-anchor=\"middle\" x=\"50%\" y=\"1em\">JJ</text></svg></svg><line stroke=\"black\" x1=\"50%\" x2=\"50%\" y1=\"1.2em\" y2=\"3em\" /></svg><line stroke=\"black\" x1=\"50%\" x2=\"52.7778%\" y1=\"1.2em\" y2=\"3em\" /><svg width=\"33.3333%\" x=\"66.6667%\" y=\"3em\"><defs /><svg width=\"100%\" x=\"0\" y=\"0em\"><defs /><text text-anchor=\"middle\" x=\"50%\" y=\"1em\">cock</text></svg><svg width=\"100%\" x=\"0%\" y=\"3em\"><defs /><svg width=\"100%\" x=\"0\" y=\"0em\"><defs /><text text-anchor=\"middle\" x=\"50%\" y=\"1em\">NN</text></svg></svg><line stroke=\"black\" x1=\"50%\" x2=\"50%\" y1=\"1.2em\" y2=\"3em\" /></svg><line stroke=\"black\" x1=\"50%\" x2=\"83.3333%\" y1=\"1.2em\" y2=\"3em\" /></svg><line stroke=\"black\" x1=\"50%\" x2=\"75.7576%\" y1=\"1.2em\" y2=\"3em\" /><svg width=\"10.6061%\" x=\"89.3939%\" y=\"3em\"><defs /><svg width=\"100%\" x=\"0\" y=\"0em\"><defs /><text text-anchor=\"middle\" x=\"50%\" y=\"1em\">NP</text></svg><svg width=\"100%\" x=\"0%\" y=\"3em\"><defs /><svg width=\"100%\" x=\"0\" y=\"0em\"><defs /><text text-anchor=\"middle\" x=\"50%\" y=\"1em\">pussy</text></svg><svg width=\"100%\" x=\"0%\" y=\"3em\"><defs /><svg width=\"100%\" x=\"0\" y=\"0em\"><defs /><text text-anchor=\"middle\" x=\"50%\" y=\"1em\">NN</text></svg></svg><line stroke=\"black\" x1=\"50%\" x2=\"50%\" y1=\"1.2em\" y2=\"3em\" /></svg><line stroke=\"black\" x1=\"50%\" x2=\"50%\" y1=\"1.2em\" y2=\"3em\" /></svg><line stroke=\"black\" x1=\"50%\" x2=\"94.697%\" y1=\"1.2em\" y2=\"3em\" /></svg>"
          },
          "metadata": {
            "tags": []
          },
          "execution_count": 149
        }
      ]
    }
  ]
}
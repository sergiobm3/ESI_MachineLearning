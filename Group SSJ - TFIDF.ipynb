{
  "nbformat": 4,
  "nbformat_minor": 0,
  "metadata": {
    "colab": {
      "name": "Group SSJ - TFIDF.ipynb",
      "provenance": [],
      "collapsed_sections": [],
      "toc_visible": true
    },
    "kernelspec": {
      "display_name": "Python 3",
      "name": "python3"
    }
  },
  "cells": [
    {
      "cell_type": "markdown",
      "metadata": {
        "id": "5YOGcBuNBSHw"
      },
      "source": [
        "<a href=\"https://colab.research.google.com/github/sergiobm3/ESI_MachineLearning/blob/NLP/TFIDF.ipynb\" target=\"_parent\"><img src=\"https://colab.research.google.com/assets/colab-badge.svg\" alt=\"Open In Colab\"/></a>\r\n",
        "\r\n",
        "# 0. Introduction\r\n",
        "\r\n",
        "In this notebook we will work with the following configuration when doing vectorization: **TFIDF**\r\n",
        "\r\n",
        "The objective of this notebook is to classify the tweets *(pre-processed)* by applying various classification algorithms to the vectorized data."
      ]
    },
    {
      "cell_type": "markdown",
      "metadata": {
        "id": "iDgjFEMhGqxI"
      },
      "source": [
        "## Libraries"
      ]
    },
    {
      "cell_type": "code",
      "metadata": {
        "id": "EmNVisjhv2oV"
      },
      "source": [
        "import io\n",
        "import pandas as pd\n",
        "from google.colab import files\n",
        "import re\n",
        "import numpy as np\n",
        "import seaborn as sns\n",
        "\n",
        "from ast import literal_eval\n",
        "from sklearn.utils.multiclass import unique_labels\n",
        "from sklearn.feature_extraction.text import TfidfVectorizer\n",
        "from sklearn.ensemble import RandomForestClassifier\n",
        "from sklearn.feature_selection import SelectKBest, chi2, f_regression, mutual_info_classif\n",
        "from sklearn.model_selection import train_test_split, cross_val_score\n",
        "\n",
        "from sklearn.neighbors import KNeighborsClassifier\n",
        "from sklearn.naive_bayes import GaussianNB, MultinomialNB, BernoulliNB, ComplementNB\n",
        "from sklearn.metrics import confusion_matrix, accuracy_score\n",
        "import matplotlib.pyplot as plt\n",
        "from sklearn.metrics import accuracy_score\n",
        "from sklearn.metrics import classification_report\n"
      ],
      "execution_count": 17,
      "outputs": []
    },
    {
      "cell_type": "markdown",
      "metadata": {
        "id": "d9-uS5d_dJZE"
      },
      "source": [
        "# 1. Loading Data\r\n",
        "\r\n",
        "We start by loading the data file that contains the preprocessing tweets with which the study will work. The file format to upload is CSV.\r\n",
        "\r\n",
        "For this purpose, you must have the *preprocessed_data.csv* file loaded in this notebook."
      ]
    },
    {
      "cell_type": "code",
      "metadata": {
        "colab": {
          "base_uri": "https://localhost:8080/",
          "height": 424
        },
        "id": "s7muMGF_CQve",
        "outputId": "b87ce227-acd9-4343-b37e-bbb12203ff3d"
      },
      "source": [
        "df = pd.read_csv('./prepocessed_data.csv', sep=',')\n",
        "\n",
        "with_e = []\n",
        "without_e = []\n",
        "for i in range(0,len(df)):\n",
        "  without_e.append(literal_eval(df.iloc[i]['preprocessing_without_emoticons']))\n",
        "  with_e.append(literal_eval(df.iloc[i]['preprocessing_with_emoticons']))\n",
        "\n",
        "df['preprocessing_without_emoticons'] = without_e\n",
        "df['preprocessing_with_emoticons'] = with_e\n",
        "df = df.drop(columns=['Unnamed: 0'])\n",
        "df"
      ],
      "execution_count": 2,
      "outputs": [
        {
          "output_type": "execute_result",
          "data": {
            "text/html": [
              "<div>\n",
              "<style scoped>\n",
              "    .dataframe tbody tr th:only-of-type {\n",
              "        vertical-align: middle;\n",
              "    }\n",
              "\n",
              "    .dataframe tbody tr th {\n",
              "        vertical-align: top;\n",
              "    }\n",
              "\n",
              "    .dataframe thead th {\n",
              "        text-align: right;\n",
              "    }\n",
              "</style>\n",
              "<table border=\"1\" class=\"dataframe\">\n",
              "  <thead>\n",
              "    <tr style=\"text-align: right;\">\n",
              "      <th></th>\n",
              "      <th>preprocessing_without_emoticons</th>\n",
              "      <th>preprocessing_with_emoticons</th>\n",
              "      <th>class</th>\n",
              "    </tr>\n",
              "  </thead>\n",
              "  <tbody>\n",
              "    <tr>\n",
              "      <th>0</th>\n",
              "      <td>[woman, complain, cleaning, house, man, always...</td>\n",
              "      <td>[woman, complain, cleaning, house, man, always...</td>\n",
              "      <td>2</td>\n",
              "    </tr>\n",
              "    <tr>\n",
              "      <th>1</th>\n",
              "      <td>[boy, day, cold, tea, bad, coffin, dat, st, pl...</td>\n",
              "      <td>[boy, day, cold, tea, bad, coffin, dat, st, pl...</td>\n",
              "      <td>1</td>\n",
              "    </tr>\n",
              "    <tr>\n",
              "      <th>2</th>\n",
              "      <td>[dawn, ever, fuck, bitch, start, cry, confused...</td>\n",
              "      <td>[dawn, !, !, !, ever, fuck, bitch, start, cry,...</td>\n",
              "      <td>1</td>\n",
              "    </tr>\n",
              "    <tr>\n",
              "      <th>3</th>\n",
              "      <td>[look, like, tranny]</td>\n",
              "      <td>[look, like, tranny]</td>\n",
              "      <td>1</td>\n",
              "    </tr>\n",
              "    <tr>\n",
              "      <th>4</th>\n",
              "      <td>[shit, hear, might, true, might, baker, bitch,...</td>\n",
              "      <td>[shit, hear, might, true, might, baker, bitch,...</td>\n",
              "      <td>1</td>\n",
              "    </tr>\n",
              "    <tr>\n",
              "      <th>...</th>\n",
              "      <td>...</td>\n",
              "      <td>...</td>\n",
              "      <td>...</td>\n",
              "    </tr>\n",
              "    <tr>\n",
              "      <th>24778</th>\n",
              "      <td>[mutual, lie, right, trash, mine, bible, scrip...</td>\n",
              "      <td>[mutual, lie, right, !, trash, mine, bible, sc...</td>\n",
              "      <td>1</td>\n",
              "    </tr>\n",
              "    <tr>\n",
              "      <th>24779</th>\n",
              "      <td>[gone, broke, wrong, heart, baby, drove, redne...</td>\n",
              "      <td>[gone, broke, wrong, heart, baby, drove, redne...</td>\n",
              "      <td>2</td>\n",
              "    </tr>\n",
              "    <tr>\n",
              "      <th>24780</th>\n",
              "      <td>[young, buck, anna, eat, dat, nigh, like, aunt...</td>\n",
              "      <td>[young, buck, anna, eat, !, !, dat, nigh, like...</td>\n",
              "      <td>1</td>\n",
              "    </tr>\n",
              "    <tr>\n",
              "      <th>24781</th>\n",
              "      <td>[got, wild, bitch, telling, lie]</td>\n",
              "      <td>[got, wild, bitch, telling, lie]</td>\n",
              "      <td>1</td>\n",
              "    </tr>\n",
              "    <tr>\n",
              "      <th>24782</th>\n",
              "      <td>[ruffled, near, eleven, dahlia, beautiful, col...</td>\n",
              "      <td>[ruffled, near, eleven, dahlia, beautiful, col...</td>\n",
              "      <td>2</td>\n",
              "    </tr>\n",
              "  </tbody>\n",
              "</table>\n",
              "<p>24783 rows × 3 columns</p>\n",
              "</div>"
            ],
            "text/plain": [
              "                         preprocessing_without_emoticons  ... class\n",
              "0      [woman, complain, cleaning, house, man, always...  ...     2\n",
              "1      [boy, day, cold, tea, bad, coffin, dat, st, pl...  ...     1\n",
              "2      [dawn, ever, fuck, bitch, start, cry, confused...  ...     1\n",
              "3                                   [look, like, tranny]  ...     1\n",
              "4      [shit, hear, might, true, might, baker, bitch,...  ...     1\n",
              "...                                                  ...  ...   ...\n",
              "24778  [mutual, lie, right, trash, mine, bible, scrip...  ...     1\n",
              "24779  [gone, broke, wrong, heart, baby, drove, redne...  ...     2\n",
              "24780  [young, buck, anna, eat, dat, nigh, like, aunt...  ...     1\n",
              "24781                   [got, wild, bitch, telling, lie]  ...     1\n",
              "24782  [ruffled, near, eleven, dahlia, beautiful, col...  ...     2\n",
              "\n",
              "[24783 rows x 3 columns]"
            ]
          },
          "metadata": {
            "tags": []
          },
          "execution_count": 2
        }
      ]
    },
    {
      "cell_type": "markdown",
      "metadata": {
        "id": "Tgzs8N1rF3A_"
      },
      "source": [
        "# 2. Vectorization\r\n",
        "\r\n",
        "When the tweets are preprocessed, we can start to obtain information from them.\r\n",
        "\r\n",
        "The goal of this section is to obtain a dataframe with all the information which will be used for the next one, in order to classify the tweets.\r\n"
      ]
    },
    {
      "cell_type": "markdown",
      "metadata": {
        "id": "8GVpS8gYsH7K"
      },
      "source": [
        "## TFIDF\n",
        "\n",
        "In order to start using TFIDF, we will first have to create a TFIDFVectorizer.\n",
        "\n",
        "With Tfidfvectorizer you compute the word counts, IDF and TF-IDF values all at once. Three steps at once"
      ]
    },
    {
      "cell_type": "code",
      "metadata": {
        "id": "IZSByAr09npl",
        "colab": {
          "base_uri": "https://localhost:8080/"
        },
        "outputId": "9b515860-bf86-49d7-b7e1-cf6588809889"
      },
      "source": [
        "def identity_tokenizer(text):\n",
        "    return text\n",
        "\n",
        "vectorizer = TfidfVectorizer(tokenizer = identity_tokenizer, min_df = 1, lowercase = False)\n",
        "\n",
        "X = vectorizer.fit_transform(df['preprocessing_without_emoticons'])\n",
        "X"
      ],
      "execution_count": 4,
      "outputs": [
        {
          "output_type": "execute_result",
          "data": {
            "text/plain": [
              "<24783x11045 sparse matrix of type '<class 'numpy.float64'>'\n",
              "\twith 165483 stored elements in Compressed Sparse Row format>"
            ]
          },
          "metadata": {
            "tags": []
          },
          "execution_count": 4
        }
      ]
    },
    {
      "cell_type": "markdown",
      "metadata": {
        "id": "sQdcA4w20MBg"
      },
      "source": [
        "# 3. Select features\r\n",
        "\r\n",
        "We have created a new dataset where we have put the characteristics with which we will work from now on. With this dataset, feature selection will be made."
      ]
    },
    {
      "cell_type": "markdown",
      "metadata": {
        "id": "gocub6yRH9aT"
      },
      "source": [
        "To carry out the selection of characteristics, the selectKBest function will be used. You will have to pass it the number of \"top\" characteristics that it will choose from the existing ones. As each column is a different word and in our problem we are asked to eliminate 70% of the words, we will only have 30% of our vocabulary."
      ]
    },
    {
      "cell_type": "code",
      "metadata": {
        "id": "m4up7NfD3vHd",
        "colab": {
          "base_uri": "https://localhost:8080/"
        },
        "outputId": "14f890ca-8954-433d-e18f-98c5cec25b0f"
      },
      "source": [
        "# Create features and target variable for Classification problem\r\n",
        "X_clf = X\r\n",
        "y_clf = df['class'] # Target variable: class\r\n",
        "n_k = round(X.shape[1] * 0.3)\r\n",
        "\r\n",
        "best = SelectKBest(score_func = mutual_info_classif, k = n_k)\r\n",
        "\r\n",
        "X_new = best.fit_transform(X_clf, y_clf)\r\n",
        "print(X_new.shape)\r\n",
        "\r\n",
        "selected = best.get_support(indices=True)\r\n",
        "selected"
      ],
      "execution_count": 49,
      "outputs": [
        {
          "output_type": "stream",
          "text": [
            "(24783, 3314)\n"
          ],
          "name": "stdout"
        },
        {
          "output_type": "execute_result",
          "data": {
            "text/plain": [
              "array([    0,     1,     4, ..., 11031, 11034, 11039])"
            ]
          },
          "metadata": {
            "tags": []
          },
          "execution_count": 49
        }
      ]
    },
    {
      "cell_type": "markdown",
      "metadata": {
        "id": "5Edva7WWDNqc"
      },
      "source": [
        "# 4. Classification algorithm"
      ]
    },
    {
      "cell_type": "markdown",
      "metadata": {
        "id": "SlDscKqkW0Hh"
      },
      "source": [
        "## Detaching the dataset\r\n",
        "\r\n",
        "Once we know the characteristics with which we are going to work, it is time to separate the dataset records in the training part and the test part. The test part will be made up of 30% of the tweets."
      ]
    },
    {
      "cell_type": "code",
      "metadata": {
        "id": "mAl6R5KfDLH0"
      },
      "source": [
        "X_train, X_test, y_train, y_test = train_test_split(X_new, y_clf, test_size=0.3, random_state=0)"
      ],
      "execution_count": 50,
      "outputs": []
    },
    {
      "cell_type": "markdown",
      "metadata": {
        "id": "bH7ueMYJYxJ8"
      },
      "source": [
        "With the following function, we can draw the resulting confusion matrix by executing the classification algorithms."
      ]
    },
    {
      "cell_type": "code",
      "metadata": {
        "id": "NX9gtCEszUi0"
      },
      "source": [
        "# This function prints and plots the confusion matrix.\n",
        "def plot_confusion_matrix(y_true, y_pred, classes,normalize=False,title=None,cmap=plt.cm.Blues):\n",
        "    \n",
        "    if not title:\n",
        "        if normalize: title = 'Normalized confusion matrix'\n",
        "        else: title = 'Confusion matrix, without normalization'\n",
        "\n",
        "    cm = confusion_matrix(y_true, y_pred)\n",
        "    classes = classes[unique_labels(y_true, y_pred)]\n",
        "    if normalize:\n",
        "        cm = cm.astype('float') / cm.sum(axis=1)[:, np.newaxis]\n",
        "        print(\"Normalized confusion matrix\")\n",
        "    else: print('Confusion matrix, without normalization')\n",
        "\n",
        "    print(cm)\n",
        "\n",
        "    fig, ax = plt.subplots()\n",
        "    im = ax.imshow(cm, interpolation='nearest', cmap=cmap)\n",
        "    ax.figure.colorbar(im, ax=ax)\n",
        "    ax.set(xticks = np.arange(cm.shape[1]), yticks = np.arange(cm.shape[0]), xticklabels = classes, yticklabels = classes,\n",
        "           title = title, ylabel = 'True label', xlabel = 'Predicted label')\n",
        "    plt.setp(ax.get_xticklabels(), rotation = 45, ha = \"right\", rotation_mode = \"anchor\")\n",
        "    fmt = '.2f' if normalize else 'd'\n",
        "    thresh = cm.max() / 2.\n",
        "    for i in range(cm.shape[0]):\n",
        "        for j in range(cm.shape[1]):\n",
        "            ax.text(j, i, format(cm[i, j], fmt), ha = \"center\", va = \"center\", color = \"white\" if cm[i, j] > thresh else \"black\")\n",
        "    fig.tight_layout()\n",
        "    return ax"
      ],
      "execution_count": 51,
      "outputs": []
    },
    {
      "cell_type": "markdown",
      "metadata": {
        "id": "WyQXR3mt1N5u"
      },
      "source": [
        "## Naive Bayes Algorithm\r\n",
        "\r\n",
        "This algorithm is based on Bayes' Theorem. A Naive Bayes classifier assumes that the presence of a particular feature in a class is unrelated to the presence of any other feature."
      ]
    },
    {
      "cell_type": "markdown",
      "metadata": {
        "id": "9hqdm5mabxzs"
      },
      "source": [
        "### Executing the algorithm"
      ]
    },
    {
      "cell_type": "code",
      "metadata": {
        "colab": {
          "base_uri": "https://localhost:8080/"
        },
        "id": "UJmkC4fL3E7I",
        "outputId": "84f1fc7d-2952-4c39-e061-3d02c6284ea5"
      },
      "source": [
        "clf = BernoulliNB() # Classifier chosen\r\n",
        "clf.fit(X_train.toarray(), y_train)\r\n",
        "y_pred = clf.predict(X = X_test)\r\n",
        "acc = accuracy_score(y_test, y_pred)\r\n",
        "print ('Accuracy of the model: ', acc)"
      ],
      "execution_count": 52,
      "outputs": [
        {
          "output_type": "stream",
          "text": [
            "Accuracy of the model:  0.8757229320780094\n"
          ],
          "name": "stdout"
        }
      ]
    },
    {
      "cell_type": "markdown",
      "metadata": {
        "id": "h0kYPAZ6ZcdB"
      },
      "source": [
        "### Cross validation\r\n",
        "\r\n",
        "Now, we are going to check by cross validation that the model is correct, for this, we will make 7 splits, and we will compare the average of these with the previously obtained result, if they are similar, the model can be considered valid."
      ]
    },
    {
      "cell_type": "code",
      "metadata": {
        "colab": {
          "base_uri": "https://localhost:8080/"
        },
        "id": "iPMbObCUZfs8",
        "outputId": "ce3ef71b-1340-4689-84d6-1c031e26f5ca"
      },
      "source": [
        "kf = KFold(n_splits=7)\r\n",
        "clf = BernoulliNB()\r\n",
        "clf.fit(X_train.toarray(), y_train) \r\n",
        "scores = cross_val_score(clf, X_train, y_train, cv = kf, scoring = \"accuracy\")\r\n",
        "print(\"Accuracy of each iteration: \", scores)\r\n",
        "print(\"Average: \", scores.mean())"
      ],
      "execution_count": 53,
      "outputs": [
        {
          "output_type": "stream",
          "text": [
            "Accuracy of each iteration:  [0.86849536 0.87696652 0.8700565  0.87610977 0.86884584 0.88337369\n",
            " 0.87812752]\n",
            "Average:  0.8745678852830744\n"
          ],
          "name": "stdout"
        }
      ]
    },
    {
      "cell_type": "markdown",
      "metadata": {
        "id": "Qft17_tFb2N4"
      },
      "source": [
        "### Results obtained"
      ]
    },
    {
      "cell_type": "markdown",
      "metadata": {
        "id": "J7KWnUeBsYXP"
      },
      "source": [
        "**Confusion Matrix**\r\n",
        "\r\n",
        "Thanks to the following confusion matrix, we can visualize the performance of the algorithm that we have executed."
      ]
    },
    {
      "cell_type": "code",
      "metadata": {
        "colab": {
          "base_uri": "https://localhost:8080/",
          "height": 388
        },
        "id": "4KIW7w_y3Sq4",
        "outputId": "3d09e32a-3f3d-4d59-a696-bdc9f4845858"
      },
      "source": [
        "plot_confusion_matrix(y_test, y_pred, classes = unique_labels(y_test, y_pred), normalize = True, title = 'Normalized confusion matrix')"
      ],
      "execution_count": 54,
      "outputs": [
        {
          "output_type": "stream",
          "text": [
            "Normalized confusion matrix\n",
            "[[0.20140515 0.70257611 0.09601874]\n",
            " [0.01392031 0.96154515 0.02453454]\n",
            " [0.02696273 0.26011102 0.71292625]]\n"
          ],
          "name": "stdout"
        },
        {
          "output_type": "execute_result",
          "data": {
            "text/plain": [
              "<matplotlib.axes._subplots.AxesSubplot at 0x7f14665fdf28>"
            ]
          },
          "metadata": {
            "tags": []
          },
          "execution_count": 54
        },
        {
          "output_type": "display_data",
          "data": {
            "image/png": "[encoded data removed]",
            "text/plain": [
              "<Figure size 432x288 with 2 Axes>"
            ]
          },
          "metadata": {
            "tags": [],
            "needs_background": "light"
          }
        }
      ]
    },
    {
      "cell_type": "markdown",
      "metadata": {
        "id": "adVNsjDy9_lh"
      },
      "source": [
        "**Classification Report**\r\n",
        "\r\n",
        "Thanks to the classification of the report, we will be able to obtain more specific and interpretable information, thanks to the precision, recall, f1-score and support attributes."
      ]
    },
    {
      "cell_type": "code",
      "metadata": {
        "id": "Qyyox8l9Xi9j",
        "colab": {
          "base_uri": "https://localhost:8080/"
        },
        "outputId": "cd039b27-e974-4976-d3f6-e0d18a68c9b0"
      },
      "source": [
        "print(classification_report(y_test, y_pred))"
      ],
      "execution_count": 55,
      "outputs": [
        {
          "output_type": "stream",
          "text": [
            "              precision    recall  f1-score   support\n",
            "\n",
            "           0       0.43      0.20      0.27       427\n",
            "           1       0.90      0.96      0.93      5747\n",
            "           2       0.83      0.71      0.77      1261\n",
            "\n",
            "    accuracy                           0.88      7435\n",
            "   macro avg       0.72      0.63      0.66      7435\n",
            "weighted avg       0.86      0.88      0.86      7435\n",
            "\n"
          ],
          "name": "stdout"
        }
      ]
    },
    {
      "cell_type": "markdown",
      "metadata": {
        "id": "yOsQs4GO6Hw6"
      },
      "source": [
        "## Random Forest"
      ]
    },
    {
      "cell_type": "markdown",
      "metadata": {
        "id": "lP5kvHDIbmcs"
      },
      "source": [
        "### Executing the algorithm"
      ]
    },
    {
      "cell_type": "code",
      "metadata": {
        "id": "UgooP_l26MJO",
        "colab": {
          "base_uri": "https://localhost:8080/"
        },
        "outputId": "21f7463b-d32a-4688-dce1-5b1f47d8d9d5"
      },
      "source": [
        "clf = RandomForestClassifier(n_estimators=500) # Number of trees.\r\n",
        "clf.fit(X_train.toarray(), y_train)\r\n",
        "y_pred = clf.predict(X = X_test)\r\n",
        "acc = accuracy_score(y_test, y_pred)\r\n",
        "print ('Accuracy of the model: ', acc)"
      ],
      "execution_count": 59,
      "outputs": [
        {
          "output_type": "stream",
          "text": [
            "Accuracy of the model:  0.8855413584398117\n"
          ],
          "name": "stdout"
        }
      ]
    },
    {
      "cell_type": "markdown",
      "metadata": {
        "id": "w-Luz7zHbiqF"
      },
      "source": [
        "### Cross validation\r\n",
        "\r\n",
        "Now, we are going to check by cross validation that the model is correct, for this, we will make 7 splits, and we will compare the average of these with the previously obtained result, if they are similar, the model can be considered valid."
      ]
    },
    {
      "cell_type": "code",
      "metadata": {
        "colab": {
          "base_uri": "https://localhost:8080/"
        },
        "id": "K0CybRrsbfQr",
        "outputId": "adf4fd2f-78df-4993-aeca-3c64db0768ad"
      },
      "source": [
        "kf = KFold(n_splits=7)\r\n",
        "clf = RandomForestClassifier(n_estimators=500)\r\n",
        "clf.fit(X_train.toarray(), y_train) \r\n",
        "scores = cross_val_score(clf, X_train, y_train, cv = kf, scoring = \"accuracy\")\r\n",
        "print(\"Accuracy of each iteration: \", scores)\r\n",
        "print(\"Average: \", scores.mean())"
      ],
      "execution_count": 60,
      "outputs": [
        {
          "output_type": "stream",
          "text": [
            "Accuracy of each iteration:  [0.87333602 0.88503429 0.86803874 0.88861985 0.88095238 0.89548023\n",
            " 0.88983051]\n",
            "Average:  0.8830417173809172\n"
          ],
          "name": "stdout"
        }
      ]
    },
    {
      "cell_type": "markdown",
      "metadata": {
        "id": "hqjcjaAfbt_4"
      },
      "source": [
        "### Results obtained"
      ]
    },
    {
      "cell_type": "markdown",
      "metadata": {
        "id": "F0RsbRMOb-n7"
      },
      "source": [
        "**Confusion matrix**\r\n",
        "\r\n",
        "Thanks to the following confusion matrix, we can visualize the performance of the algorithm that we have executed."
      ]
    },
    {
      "cell_type": "code",
      "metadata": {
        "id": "RXIuUrBp6T23",
        "colab": {
          "base_uri": "https://localhost:8080/",
          "height": 388
        },
        "outputId": "c4a9bb9a-8b32-4991-cec9-308fb0870419"
      },
      "source": [
        "plot_confusion_matrix(y_test, y_pred, classes = unique_labels(y_test, y_pred), normalize = True, title = 'Normalized confusion matrix')"
      ],
      "execution_count": 61,
      "outputs": [
        {
          "output_type": "stream",
          "text": [
            "Normalized confusion matrix\n",
            "[[0.15925059 0.76814988 0.07259953]\n",
            " [0.00748216 0.96606925 0.02644858]\n",
            " [0.00158604 0.23394132 0.76447264]]\n"
          ],
          "name": "stdout"
        },
        {
          "output_type": "execute_result",
          "data": {
            "text/plain": [
              "<matplotlib.axes._subplots.AxesSubplot at 0x7f146b456518>"
            ]
          },
          "metadata": {
            "tags": []
          },
          "execution_count": 61
        },
        {
          "output_type": "display_data",
          "data": {
            "image/png": "[encoded data removed]",
            "text/plain": [
              "<Figure size 432x288 with 2 Axes>"
            ]
          },
          "metadata": {
            "tags": [],
            "needs_background": "light"
          }
        }
      ]
    },
    {
      "cell_type": "markdown",
      "metadata": {
        "id": "A-hUi6LXb6bn"
      },
      "source": [
        "**Classification report**\r\n",
        "\r\n",
        "Thanks to the classification of the report, we will be able to obtain more specific and interpretable information, thanks to the precision, recall, f1-score and support attributes."
      ]
    },
    {
      "cell_type": "code",
      "metadata": {
        "colab": {
          "base_uri": "https://localhost:8080/"
        },
        "id": "-tgBWdr8sEVD",
        "outputId": "0ec1cc4f-d0f0-48cb-b0b7-ab43e6310280"
      },
      "source": [
        "print(classification_report(y_test, y_pred))"
      ],
      "execution_count": 62,
      "outputs": [
        {
          "output_type": "stream",
          "text": [
            "              precision    recall  f1-score   support\n",
            "\n",
            "           0       0.60      0.16      0.25       427\n",
            "           1       0.90      0.97      0.93      5747\n",
            "           2       0.84      0.76      0.80      1261\n",
            "\n",
            "    accuracy                           0.89      7435\n",
            "   macro avg       0.78      0.63      0.66      7435\n",
            "weighted avg       0.87      0.89      0.87      7435\n",
            "\n"
          ],
          "name": "stdout"
        }
      ]
    }
  ]
}
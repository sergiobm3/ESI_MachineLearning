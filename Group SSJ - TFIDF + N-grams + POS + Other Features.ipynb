{
  "nbformat": 4,
  "nbformat_minor": 0,
  "metadata": {
    "colab": {
      "name": "Group_SSJ_TFIDF_+_N_grams_+_POS_+_Other_Features.ipynb",
      "provenance": [],
      "collapsed_sections": [],
      "toc_visible": true
    },
    "kernelspec": {
      "name": "python3",
      "display_name": "Python 3.9.0 64-bit",
      "metadata": {
        "interpreter": {
          "hash": "4ce0e62306dd6a5716965d4519ada776f947e6dfc145b604b11307c10277ef29"
        }
      }
    }
  },
  "cells": [
    {
      "cell_type": "markdown",
      "metadata": {
        "id": "XlAXg84FIV-Z"
      },
      "source": [
        "<a href=\"https://colab.research.google.com/github/sergiobm3/ESI_MachineLearning/blob/NLP/TFIDF%2BN_GRAMS%2BPOS%2BOTHER_FEATURES.ipynb\" target=\"_parent\"><img src=\"https://colab.research.google.com/assets/colab-badge.svg\" alt=\"Open In Colab\"/></a>\r\n",
        "\r\n",
        "# 0. Introduction\r\n",
        "\r\n",
        "In this notebook we will work with the following configuration when doing vectorization: **TFIDF + N-grams + POS Tagging + Other features**\r\n",
        "\r\n",
        "The objective of this notebook is to classify the tweets *(pre-processed)* by applying various classification algorithms to the vectorized data."
      ]
    },
    {
      "cell_type": "markdown",
      "metadata": {
        "id": "WWfELsYzIaqq"
      },
      "source": [
        "## Libraries"
      ]
    },
    {
      "cell_type": "code",
      "metadata": {
        "id": "EmNVisjhv2oV"
      },
      "source": [
        "import io\n",
        "import pandas as pd\n",
        "from google.colab import files\n",
        "import re\n",
        "import numpy as np\n",
        "import seaborn as sns\n",
        "import pickle\n",
        "\n",
        "from ast import literal_eval\n",
        "import nltk\n",
        "from sklearn.utils.multiclass import unique_labels\n",
        "from sklearn.feature_extraction.text import TfidfVectorizer\n",
        "from sklearn.ensemble import RandomForestClassifier\n",
        "from sklearn.feature_selection import SelectKBest, chi2, f_regression, mutual_info_classif\n",
        "from sklearn.model_selection import train_test_split, cross_val_score, KFold\n",
        "\n",
        "from sklearn.neighbors import KNeighborsClassifier\n",
        "from sklearn.naive_bayes import GaussianNB, MultinomialNB, BernoulliNB, ComplementNB\n",
        "from sklearn.metrics import confusion_matrix, accuracy_score, classification_report\n",
        "import matplotlib.pyplot as plt\n",
        "from nltk.tokenize.treebank import TreebankWordDetokenizer"
      ],
      "execution_count": null,
      "outputs": []
    },
    {
      "cell_type": "markdown",
      "metadata": {
        "id": "d9-uS5d_dJZE"
      },
      "source": [
        "## 1. Loading Data\r\n",
        "\r\n",
        "We start by loading the data file that contains the preprocessing tweets with which the study will work. The file format to upload is CSV.\r\n",
        "\r\n",
        "For this purpose, you must have the *preprocessed_data.csv* file loaded in this notebook."
      ]
    },
    {
      "cell_type": "code",
      "metadata": {
        "colab": {
          "base_uri": "https://localhost:8080/",
          "height": 424
        },
        "id": "s7muMGF_CQve",
        "outputId": "666b95d7-a9b8-4c06-a81f-d578af0c3787"
      },
      "source": [
        "df = pd.read_csv('./prepocessed_data.csv', sep=',')\n",
        "\n",
        "with_e = []\n",
        "without_e = []\n",
        "for i in range(0,len(df)):\n",
        "  without_e.append(literal_eval(df.iloc[i]['preprocessing_without_emoticons']))\n",
        "  with_e.append(literal_eval(df.iloc[i]['preprocessing_with_emoticons']))\n",
        "\n",
        "df['preprocessing_without_emoticons'] = without_e\n",
        "df['preprocessing_with_emoticons'] = with_e\n",
        "df = df.drop(columns=['Unnamed: 0'])\n",
        "df"
      ],
      "execution_count": null,
      "outputs": [
        {
          "output_type": "execute_result",
          "data": {
            "text/plain": [
              "                         preprocessing_without_emoticons  \\\n",
              "0      [woman, complain, cleaning, house, man, always...   \n",
              "1      [boy, day, cold, tea, bad, coffin, dat, st, pl...   \n",
              "2      [dawn, ever, fuck, bitch, start, cry, confused...   \n",
              "3                                   [look, like, tranny]   \n",
              "4      [shit, hear, might, true, might, baker, bitch,...   \n",
              "...                                                  ...   \n",
              "24778  [mutual, lie, right, trash, mine, bible, scrip...   \n",
              "24779  [gone, broke, wrong, heart, baby, drove, redne...   \n",
              "24780  [young, buck, anna, eat, dat, nigh, like, aunt...   \n",
              "24781                   [got, wild, bitch, telling, lie]   \n",
              "24782  [ruffled, near, eleven, dahlia, beautiful, col...   \n",
              "\n",
              "                            preprocessing_with_emoticons  class  \n",
              "0      [woman, complain, cleaning, house, man, always...      2  \n",
              "1      [boy, day, cold, tea, bad, coffin, dat, st, pl...      1  \n",
              "2      [dawn, !, !, !, ever, fuck, bitch, start, cry,...      1  \n",
              "3                                   [look, like, tranny]      1  \n",
              "4      [shit, hear, might, true, might, baker, bitch,...      1  \n",
              "...                                                  ...    ...  \n",
              "24778  [mutual, lie, right, !, trash, mine, bible, sc...      1  \n",
              "24779  [gone, broke, wrong, heart, baby, drove, redne...      2  \n",
              "24780  [young, buck, anna, eat, !, !, dat, nigh, like...      1  \n",
              "24781                   [got, wild, bitch, telling, lie]      1  \n",
              "24782  [ruffled, near, eleven, dahlia, beautiful, col...      2  \n",
              "\n",
              "[24783 rows x 3 columns]"
            ],
            "text/html": [
              "<div>\n",
              "<style scoped>\n",
              "    .dataframe tbody tr th:only-of-type {\n",
              "        vertical-align: middle;\n",
              "    }\n",
              "\n",
              "    .dataframe tbody tr th {\n",
              "        vertical-align: top;\n",
              "    }\n",
              "\n",
              "    .dataframe thead th {\n",
              "        text-align: right;\n",
              "    }\n",
              "</style>\n",
              "<table border=\"1\" class=\"dataframe\">\n",
              "  <thead>\n",
              "    <tr style=\"text-align: right;\">\n",
              "      <th></th>\n",
              "      <th>preprocessing_without_emoticons</th>\n",
              "      <th>preprocessing_with_emoticons</th>\n",
              "      <th>class</th>\n",
              "    </tr>\n",
              "  </thead>\n",
              "  <tbody>\n",
              "    <tr>\n",
              "      <th>0</th>\n",
              "      <td>[woman, complain, cleaning, house, man, always...</td>\n",
              "      <td>[woman, complain, cleaning, house, man, always...</td>\n",
              "      <td>2</td>\n",
              "    </tr>\n",
              "    <tr>\n",
              "      <th>1</th>\n",
              "      <td>[boy, day, cold, tea, bad, coffin, dat, st, pl...</td>\n",
              "      <td>[boy, day, cold, tea, bad, coffin, dat, st, pl...</td>\n",
              "      <td>1</td>\n",
              "    </tr>\n",
              "    <tr>\n",
              "      <th>2</th>\n",
              "      <td>[dawn, ever, fuck, bitch, start, cry, confused...</td>\n",
              "      <td>[dawn, !, !, !, ever, fuck, bitch, start, cry,...</td>\n",
              "      <td>1</td>\n",
              "    </tr>\n",
              "    <tr>\n",
              "      <th>3</th>\n",
              "      <td>[look, like, tranny]</td>\n",
              "      <td>[look, like, tranny]</td>\n",
              "      <td>1</td>\n",
              "    </tr>\n",
              "    <tr>\n",
              "      <th>4</th>\n",
              "      <td>[shit, hear, might, true, might, baker, bitch,...</td>\n",
              "      <td>[shit, hear, might, true, might, baker, bitch,...</td>\n",
              "      <td>1</td>\n",
              "    </tr>\n",
              "    <tr>\n",
              "      <th>...</th>\n",
              "      <td>...</td>\n",
              "      <td>...</td>\n",
              "      <td>...</td>\n",
              "    </tr>\n",
              "    <tr>\n",
              "      <th>24778</th>\n",
              "      <td>[mutual, lie, right, trash, mine, bible, scrip...</td>\n",
              "      <td>[mutual, lie, right, !, trash, mine, bible, sc...</td>\n",
              "      <td>1</td>\n",
              "    </tr>\n",
              "    <tr>\n",
              "      <th>24779</th>\n",
              "      <td>[gone, broke, wrong, heart, baby, drove, redne...</td>\n",
              "      <td>[gone, broke, wrong, heart, baby, drove, redne...</td>\n",
              "      <td>2</td>\n",
              "    </tr>\n",
              "    <tr>\n",
              "      <th>24780</th>\n",
              "      <td>[young, buck, anna, eat, dat, nigh, like, aunt...</td>\n",
              "      <td>[young, buck, anna, eat, !, !, dat, nigh, like...</td>\n",
              "      <td>1</td>\n",
              "    </tr>\n",
              "    <tr>\n",
              "      <th>24781</th>\n",
              "      <td>[got, wild, bitch, telling, lie]</td>\n",
              "      <td>[got, wild, bitch, telling, lie]</td>\n",
              "      <td>1</td>\n",
              "    </tr>\n",
              "    <tr>\n",
              "      <th>24782</th>\n",
              "      <td>[ruffled, near, eleven, dahlia, beautiful, col...</td>\n",
              "      <td>[ruffled, near, eleven, dahlia, beautiful, col...</td>\n",
              "      <td>2</td>\n",
              "    </tr>\n",
              "  </tbody>\n",
              "</table>\n",
              "<p>24783 rows × 3 columns</p>\n",
              "</div>"
            ]
          },
          "metadata": {
            "tags": []
          },
          "execution_count": 2
        }
      ]
    },
    {
      "cell_type": "markdown",
      "metadata": {
        "id": "Tgzs8N1rF3A_"
      },
      "source": [
        "# 2. Vectorization\r\n",
        "\r\n",
        "When the tweets are preprocessed, we can start to obtain information from them.\r\n",
        "\r\n",
        "The goal of this section is to obtain a dataframe with all the information which will be used for the next one, in order to classify the tweets.\r\n"
      ]
    },
    {
      "cell_type": "markdown",
      "metadata": {
        "id": "8GVpS8gYsH7K"
      },
      "source": [
        "## TFIDF + N-grams\n",
        "\n",
        "In order to start using TFIDF, we will first have to create a TFIDFVectorizer.\n",
        "\n",
        "With Tfidfvectorizer you compute the word counts, idf and tf-idf values all at once. Three steps at once.\n",
        "\n",
        "In addition, the N-grams will now be added to it."
      ]
    },
    {
      "cell_type": "code",
      "metadata": {
        "id": "IZSByAr09npl",
        "colab": {
          "base_uri": "https://localhost:8080/"
        },
        "outputId": "9680e3af-ac49-426b-965f-0ec874763d1d"
      },
      "source": [
        "def identity_tokenizer(text):\n",
        "    return text\n",
        "\n",
        "vectorizer = TfidfVectorizer(tokenizer = identity_tokenizer, min_df = 3, ngram_range = (1,3), lowercase = False)\n",
        "X_TFIDF = vectorizer.fit_transform(df['preprocessing_without_emoticons'])\n",
        "X_TFIDF"
      ],
      "execution_count": null,
      "outputs": [
        {
          "output_type": "execute_result",
          "data": {
            "text/plain": [
              "<24783x12806 sparse matrix of type '<class 'numpy.float64'>'\n",
              "\twith 210169 stored elements in Compressed Sparse Row format>"
            ]
          },
          "metadata": {
            "tags": []
          },
          "execution_count": 3
        }
      ]
    },
    {
      "cell_type": "markdown",
      "metadata": {
        "id": "g8MCwiYsQSFv"
      },
      "source": [
        "## POS tagging\r\n",
        "\r\n",
        "A Part - Of - Speech tagger processes a sequence of words and attaches a part of speech tag to each word."
      ]
    },
    {
      "cell_type": "code",
      "metadata": {
        "id": "vVRaxFG2OM6E",
        "outputId": "74774ce0-e88a-491d-8dc7-e61dcafae0fd"
      },
      "source": [
        "nltk.download('averaged_perceptron_tagger')\n",
        "\n",
        "list_POS = []\n",
        "for tweet in df['preprocessing_without_emoticons']:\n",
        "  sentence = []\n",
        "  for sent in nltk.pos_tag(tweet):\n",
        "    sentence.append(sent[1])\n",
        "  list_POS.append(sentence)"
      ],
      "execution_count": null,
      "outputs": [
        {
          "output_type": "stream",
          "text": [
            "[nltk_data] Downloading package averaged_perceptron_tagger to\n",
            "[nltk_data]     C:\\Users\\sevil\\AppData\\Roaming\\nltk_data...\n",
            "[nltk_data]   Package averaged_perceptron_tagger is already up-to-\n",
            "[nltk_data]       date!\n"
          ],
          "name": "stderr"
        }
      ]
    },
    {
      "cell_type": "code",
      "metadata": {
        "id": "wowVOLH2Om_8"
      },
      "source": [
        "df['POS'] = list_POS"
      ],
      "execution_count": null,
      "outputs": []
    },
    {
      "cell_type": "code",
      "metadata": {
        "id": "5ucMnjMKOxOc"
      },
      "source": [
        "def detokenize(tokens):\n",
        "  return TreebankWordDetokenizer().detokenize(tokens)"
      ],
      "execution_count": null,
      "outputs": []
    },
    {
      "cell_type": "code",
      "metadata": {
        "id": "u_UktJaZO2vq"
      },
      "source": [
        "df['detokenized_POS'] = df['POS'].apply(detokenize)"
      ],
      "execution_count": null,
      "outputs": []
    },
    {
      "cell_type": "markdown",
      "metadata": {
        "id": "MhVSnq9VtEW6"
      },
      "source": [
        "Now, we calculate the TFIDF as previously done with the words. The objective is to obtain a numerical value for each of the grammar categories."
      ]
    },
    {
      "cell_type": "code",
      "metadata": {
        "id": "NKI20JEvPRUj",
        "outputId": "99d82ce2-a7e2-4292-9abc-c0a4b5d39e09"
      },
      "source": [
        "POSvectorizer = TfidfVectorizer(min_df=1)\n",
        "X_POS = POSvectorizer.fit_transform(df['detokenized_POS'])\n",
        "print('Existing grammar categories: ' + str(len(POSvectorizer.get_feature_names())))"
      ],
      "execution_count": null,
      "outputs": [
        {
          "output_type": "stream",
          "text": [
            "Existing grammar categories: 30\n"
          ],
          "name": "stdout"
        }
      ]
    },
    {
      "cell_type": "markdown",
      "metadata": {
        "id": "zdUCApcRvo6a"
      },
      "source": [
        "## Destokenizador\n",
        "\n",
        "To do the other features, we have chosen to put back all the tokens that make a sentence. We think that this will make the development of this process easier."
      ]
    },
    {
      "cell_type": "code",
      "metadata": {
        "id": "_-qfJa4BSbkk"
      },
      "source": [
        "df['tweets_detokenize_with_emoticon'] = df['preprocessing_with_emoticons'].apply(detokenize)"
      ],
      "execution_count": null,
      "outputs": []
    },
    {
      "cell_type": "code",
      "metadata": {
        "id": "dbEaqu8lSm2W",
        "colab": {
          "base_uri": "https://localhost:8080/"
        },
        "outputId": "3e8caac0-bb74-4804-89cd-5d7c801465d4"
      },
      "source": [
        "df['tweets_detokenize_with_emoticon']"
      ],
      "execution_count": null,
      "outputs": [
        {
          "output_type": "execute_result",
          "data": {
            "text/plain": [
              "0        woman complain cleaning house man always take ...\n",
              "1               boy day cold tea bad coffin dat st place!!\n",
              "2          dawn!!! ever fuck bitch start cry confused shit\n",
              "3                                         look like tranny\n",
              "4              shit hear might true might baker bitch told\n",
              "                               ...                        \n",
              "24778    mutual lie right! trash mine bible scripture hymn\n",
              "24779      gone broke wrong heart baby drove redness crazy\n",
              "24780    young buck anna eat!! dat nigh like aunt fucki...\n",
              "24781                           got wild bitch telling lie\n",
              "24782    ruffled near eleven dahlia beautiful color com...\n",
              "Name: tweets_detokenize_with_emoticon, Length: 24783, dtype: object"
            ]
          },
          "metadata": {
            "tags": []
          },
          "execution_count": 10
        }
      ]
    },
    {
      "cell_type": "markdown",
      "metadata": {
        "id": "Nx6cUzm7DVTC"
      },
      "source": [
        "### Sentiment analisis\n",
        "\n",
        "Thanks to sentiment analysis we will identify and extract subjective characteristics from the tweets to be analyzed. To carry out this task, the VADER library will be used. VADER will return the following values:\n",
        "\n",
        "- Pos: The probability that the sentiment is positive.\n",
        "- Neu: The probability that the sentiment is neutral.\n",
        "- Neg: The probability that the sentiment is negative.\n",
        "- Compound: The normalized composite score that calculates the sum of all the scores, takes a value between -1 and 1."
      ]
    },
    {
      "cell_type": "code",
      "metadata": {
        "id": "6BBmKRofxEjP",
        "colab": {
          "base_uri": "https://localhost:8080/"
        },
        "outputId": "92064312-26c1-4189-ce90-3b37396d18a6"
      },
      "source": [
        "nltk.download('vader_lexicon')\n",
        "from nltk.sentiment.vader import SentimentIntensityAnalyzer\n",
        "\n",
        "sentiment_analyzer  = SentimentIntensityAnalyzer() \n",
        "\n",
        "negative = []\n",
        "positive = []\n",
        "neutral = []\n",
        "compound = []\n",
        "\n",
        "for tweet in df['tweets_detokenize_with_emoticon']:\n",
        "  sentiment = sentiment_analyzer.polarity_scores(tweet)\n",
        "  negative.append(sentiment['neg'])\n",
        "  positive.append(sentiment['pos'])\n",
        "  neutral.append(sentiment['neu'])\n",
        "  compound.append(sentiment['compound'])"
      ],
      "execution_count": null,
      "outputs": [
        {
          "output_type": "stream",
          "text": [
            "[nltk_data] Downloading package vader_lexicon to\n",
            "[nltk_data]     C:\\Users\\sevil\\AppData\\Roaming\\nltk_data...\n",
            "[nltk_data]   Package vader_lexicon is already up-to-date!\n"
          ],
          "name": "stderr"
        }
      ]
    },
    {
      "cell_type": "markdown",
      "metadata": {
        "id": "dJ0wpMGUGx05"
      },
      "source": [
        "For example, this is a graphical representation of the sentiment analysis from a tweet."
      ]
    },
    {
      "cell_type": "code",
      "metadata": {
        "colab": {
          "base_uri": "https://localhost:8080/",
          "height": 96
        },
        "id": "y03QoQk1GxZJ",
        "outputId": "717d6758-2f74-4680-d9e0-8b0180591463"
      },
      "source": [
        "sns.set(rc={'figure.figsize':(30,1)})\r\n",
        "def visualise_sentiments(data):\r\n",
        "  sns.heatmap(pd.DataFrame(data).set_index(\"Sentence\").T,center=0, annot=True, cmap = \"PiYG\")\r\n",
        "\r\n",
        "sentence = df['tweets_detokenize_with_emoticon'][0]\r\n",
        "visualise_sentiments({\r\n",
        "    \"Sentence\":[\"SENTENCE\"] + sentence.split(),\r\n",
        "    \"Sentiment\":[sentiment_analyzer.polarity_scores(sentence)[\"compound\"]] + [sentiment_analyzer.polarity_scores(word)[\"compound\"] for word in sentence.split()]\r\n",
        "})"
      ],
      "execution_count": null,
      "outputs": [
        {
          "output_type": "display_data",
          "data": {
            "text/plain": [
              "<Figure size 2160x72 with 2 Axes>"
            ],
            "image/svg+xml": "<?xml version=\"1.0\" encoding=\"utf-8\" standalone=\"no\"?>\r\n<!DOCTYPE svg PUBLIC \"-//W3C//DTD SVG 1.1//EN\"\r\n  \"http://www.w3.org/Graphics/SVG/1.1/DTD/svg11.dtd\">\r\n<!-- Created with matplotlib (https://matplotlib.org/) -->\r\n<svg height=\"107.359922pt\" version=\"1.1\" viewBox=\"0 0 1490.792531 107.359922\" width=\"1490.792531pt\" xmlns=\"http://www.w3.org/2000/svg\" xmlns:xlink=\"http://www.w3.org/1999/xlink\">\r\n <metadata>\r\n  <rdf:RDF xmlns:cc=\"http://creativecommons.org/ns#\" xmlns:dc=\"http://purl.org/dc/elements/1.1/\" xmlns:rdf=\"http://www.w3.org/1999/02/22-rdf-syntax-ns#\">\r\n   <cc:Work>\r\n    <dc:type rdf:resource=\"http://purl.org/dc/dcmitype/StillImage\"/>\r\n    <dc:date>2020-12-29T21:01:48.645894</dc:date>\r\n    <dc:format>image/svg+xml</dc:format>\r\n    <dc:creator>\r\n     <cc:Agent>\r\n      <dc:title>Matplotlib v3.3.3, https://matplotlib.org/</dc:title>\r\n     </cc:Agent>\r\n    </dc:creator>\r\n   </cc:Work>\r\n  </rdf:RDF>\r\n </metadata>\r\n <defs>\r\n  <style type=\"text/css\">*{stroke-linecap:butt;stroke-linejoin:round;}</style>\r\n </defs>\r\n <g id=\"figure_1\">\r\n  <g id=\"patch_1\">\r\n   <path d=\"M 0 107.359922 \r\nL 1490.792531 107.359922 \r\nL 1490.792531 0 \r\nL 0 0 \r\nz\r\n\" style=\"fill:#ffffff;\"/>\r\n  </g>\r\n  <g id=\"axes_1\">\r\n   <g id=\"patch_2\">\r\n    <path d=\"M 26.759844 65.496797 \r\nL 1365.959844 65.496797 \r\nL 1365.959844 11.136797 \r\nL 26.759844 11.136797 \r\nz\r\n\" style=\"fill:#eaeaf2;\"/>\r\n   </g>\r\n   <g id=\"matplotlib.axis_1\">\r\n    <g id=\"xtick_1\">\r\n     <g id=\"text_1\">\r\n      <!-- SENTENCE -->\r\n      <g style=\"fill:#262626;\" transform=\"translate(71.209766 82.870391)scale(0.11 -0.11)\">\r\n       <defs>\r\n        <path d=\"M 4.5 23 \r\nL 13.421875 23.78125 \r\nQ 14.0625 18.40625 16.375 14.96875 \r\nQ 18.703125 11.53125 23.578125 9.40625 \r\nQ 28.46875 7.28125 34.578125 7.28125 \r\nQ 39.984375 7.28125 44.140625 8.890625 \r\nQ 48.296875 10.5 50.3125 13.296875 \r\nQ 52.34375 16.109375 52.34375 19.4375 \r\nQ 52.34375 22.796875 50.390625 25.3125 \r\nQ 48.4375 27.828125 43.953125 29.546875 \r\nQ 41.0625 30.671875 31.203125 33.03125 \r\nQ 21.34375 35.40625 17.390625 37.5 \r\nQ 12.25 40.1875 9.734375 44.15625 \r\nQ 7.234375 48.140625 7.234375 53.078125 \r\nQ 7.234375 58.5 10.296875 63.203125 \r\nQ 13.375 67.921875 19.28125 70.359375 \r\nQ 25.203125 72.796875 32.421875 72.796875 \r\nQ 40.375 72.796875 46.453125 70.234375 \r\nQ 52.546875 67.671875 55.8125 62.6875 \r\nQ 59.078125 57.71875 59.328125 51.421875 \r\nL 50.25 50.734375 \r\nQ 49.515625 57.515625 45.28125 60.984375 \r\nQ 41.0625 64.453125 32.8125 64.453125 \r\nQ 24.21875 64.453125 20.28125 61.296875 \r\nQ 16.359375 58.15625 16.359375 53.71875 \r\nQ 16.359375 49.859375 19.140625 47.359375 \r\nQ 21.875 44.875 33.421875 42.265625 \r\nQ 44.96875 39.65625 49.265625 37.703125 \r\nQ 55.515625 34.8125 58.484375 30.390625 \r\nQ 61.46875 25.984375 61.46875 20.21875 \r\nQ 61.46875 14.5 58.203125 9.4375 \r\nQ 54.9375 4.390625 48.796875 1.578125 \r\nQ 42.671875 -1.21875 35.015625 -1.21875 \r\nQ 25.296875 -1.21875 18.71875 1.609375 \r\nQ 12.15625 4.4375 8.421875 10.125 \r\nQ 4.6875 15.828125 4.5 23 \r\nz\r\n\" id=\"ArialMT-83\"/>\r\n        <path d=\"M 7.90625 0 \r\nL 7.90625 71.578125 \r\nL 59.671875 71.578125 \r\nL 59.671875 63.140625 \r\nL 17.390625 63.140625 \r\nL 17.390625 41.21875 \r\nL 56.984375 41.21875 \r\nL 56.984375 32.8125 \r\nL 17.390625 32.8125 \r\nL 17.390625 8.453125 \r\nL 61.328125 8.453125 \r\nL 61.328125 0 \r\nz\r\n\" id=\"ArialMT-69\"/>\r\n        <path d=\"M 7.625 0 \r\nL 7.625 71.578125 \r\nL 17.328125 71.578125 \r\nL 54.9375 15.375 \r\nL 54.9375 71.578125 \r\nL 64.015625 71.578125 \r\nL 64.015625 0 \r\nL 54.296875 0 \r\nL 16.703125 56.25 \r\nL 16.703125 0 \r\nz\r\n\" id=\"ArialMT-78\"/>\r\n        <path d=\"M 25.921875 0 \r\nL 25.921875 63.140625 \r\nL 2.34375 63.140625 \r\nL 2.34375 71.578125 \r\nL 59.078125 71.578125 \r\nL 59.078125 63.140625 \r\nL 35.40625 63.140625 \r\nL 35.40625 0 \r\nz\r\n\" id=\"ArialMT-84\"/>\r\n        <path d=\"M 58.796875 25.09375 \r\nL 68.265625 22.703125 \r\nQ 65.28125 11.03125 57.546875 4.90625 \r\nQ 49.8125 -1.21875 38.625 -1.21875 \r\nQ 27.046875 -1.21875 19.796875 3.484375 \r\nQ 12.546875 8.203125 8.765625 17.140625 \r\nQ 4.984375 26.078125 4.984375 36.328125 \r\nQ 4.984375 47.515625 9.25 55.828125 \r\nQ 13.53125 64.15625 21.40625 68.46875 \r\nQ 29.296875 72.796875 38.765625 72.796875 \r\nQ 49.515625 72.796875 56.828125 67.328125 \r\nQ 64.15625 61.859375 67.046875 51.953125 \r\nL 57.71875 49.75 \r\nQ 55.21875 57.5625 50.484375 61.125 \r\nQ 45.75 64.703125 38.578125 64.703125 \r\nQ 30.328125 64.703125 24.78125 60.734375 \r\nQ 19.234375 56.78125 16.984375 50.109375 \r\nQ 14.75 43.453125 14.75 36.375 \r\nQ 14.75 27.25 17.40625 20.4375 \r\nQ 20.0625 13.625 25.671875 10.25 \r\nQ 31.296875 6.890625 37.84375 6.890625 \r\nQ 45.796875 6.890625 51.3125 11.46875 \r\nQ 56.84375 16.0625 58.796875 25.09375 \r\nz\r\n\" id=\"ArialMT-67\"/>\r\n       </defs>\r\n       <use xlink:href=\"#ArialMT-83\"/>\r\n       <use x=\"66.699219\" xlink:href=\"#ArialMT-69\"/>\r\n       <use x=\"133.398438\" xlink:href=\"#ArialMT-78\"/>\r\n       <use x=\"205.615234\" xlink:href=\"#ArialMT-84\"/>\r\n       <use x=\"266.699219\" xlink:href=\"#ArialMT-69\"/>\r\n       <use x=\"333.398438\" xlink:href=\"#ArialMT-78\"/>\r\n       <use x=\"405.615234\" xlink:href=\"#ArialMT-67\"/>\r\n       <use x=\"477.832031\" xlink:href=\"#ArialMT-69\"/>\r\n      </g>\r\n     </g>\r\n    </g>\r\n    <g id=\"xtick_2\">\r\n     <g id=\"text_2\">\r\n      <!-- woman -->\r\n      <g style=\"fill:#262626;\" transform=\"translate(232.230938 82.870391)scale(0.11 -0.11)\">\r\n       <defs>\r\n        <path d=\"M 16.15625 0 \r\nL 0.296875 51.859375 \r\nL 9.375 51.859375 \r\nL 17.625 21.921875 \r\nL 20.703125 10.796875 \r\nQ 20.90625 11.625 23.390625 21.484375 \r\nL 31.640625 51.859375 \r\nL 40.671875 51.859375 \r\nL 48.4375 21.78125 \r\nL 51.03125 11.859375 \r\nL 54 21.875 \r\nL 62.890625 51.859375 \r\nL 71.4375 51.859375 \r\nL 55.21875 0 \r\nL 46.09375 0 \r\nL 37.84375 31.0625 \r\nL 35.84375 39.890625 \r\nL 25.34375 0 \r\nz\r\n\" id=\"ArialMT-119\"/>\r\n        <path d=\"M 3.328125 25.921875 \r\nQ 3.328125 40.328125 11.328125 47.265625 \r\nQ 18.015625 53.03125 27.640625 53.03125 \r\nQ 38.328125 53.03125 45.109375 46.015625 \r\nQ 51.90625 39.015625 51.90625 26.65625 \r\nQ 51.90625 16.65625 48.90625 10.90625 \r\nQ 45.90625 5.171875 40.15625 2 \r\nQ 34.421875 -1.171875 27.640625 -1.171875 \r\nQ 16.75 -1.171875 10.03125 5.8125 \r\nQ 3.328125 12.796875 3.328125 25.921875 \r\nz\r\nM 12.359375 25.921875 \r\nQ 12.359375 15.96875 16.703125 11.015625 \r\nQ 21.046875 6.0625 27.640625 6.0625 \r\nQ 34.1875 6.0625 38.53125 11.03125 \r\nQ 42.875 16.015625 42.875 26.21875 \r\nQ 42.875 35.84375 38.5 40.796875 \r\nQ 34.125 45.75 27.640625 45.75 \r\nQ 21.046875 45.75 16.703125 40.8125 \r\nQ 12.359375 35.890625 12.359375 25.921875 \r\nz\r\n\" id=\"ArialMT-111\"/>\r\n        <path d=\"M 6.59375 0 \r\nL 6.59375 51.859375 \r\nL 14.453125 51.859375 \r\nL 14.453125 44.578125 \r\nQ 16.890625 48.390625 20.9375 50.703125 \r\nQ 25 53.03125 30.171875 53.03125 \r\nQ 35.9375 53.03125 39.625 50.640625 \r\nQ 43.3125 48.25 44.828125 43.953125 \r\nQ 50.984375 53.03125 60.84375 53.03125 \r\nQ 68.5625 53.03125 72.703125 48.75 \r\nQ 76.859375 44.484375 76.859375 35.59375 \r\nL 76.859375 0 \r\nL 68.109375 0 \r\nL 68.109375 32.671875 \r\nQ 68.109375 37.9375 67.25 40.25 \r\nQ 66.40625 42.578125 64.15625 43.984375 \r\nQ 61.921875 45.40625 58.890625 45.40625 \r\nQ 53.421875 45.40625 49.796875 41.765625 \r\nQ 46.1875 38.140625 46.1875 30.125 \r\nL 46.1875 0 \r\nL 37.40625 0 \r\nL 37.40625 33.6875 \r\nQ 37.40625 39.546875 35.25 42.46875 \r\nQ 33.109375 45.40625 28.21875 45.40625 \r\nQ 24.515625 45.40625 21.359375 43.453125 \r\nQ 18.21875 41.5 16.796875 37.734375 \r\nQ 15.375 33.984375 15.375 26.90625 \r\nL 15.375 0 \r\nz\r\n\" id=\"ArialMT-109\"/>\r\n        <path d=\"M 40.4375 6.390625 \r\nQ 35.546875 2.25 31.03125 0.53125 \r\nQ 26.515625 -1.171875 21.34375 -1.171875 \r\nQ 12.796875 -1.171875 8.203125 3 \r\nQ 3.609375 7.171875 3.609375 13.671875 \r\nQ 3.609375 17.484375 5.34375 20.625 \r\nQ 7.078125 23.78125 9.890625 25.6875 \r\nQ 12.703125 27.59375 16.21875 28.5625 \r\nQ 18.796875 29.25 24.03125 29.890625 \r\nQ 34.671875 31.15625 39.703125 32.90625 \r\nQ 39.75 34.71875 39.75 35.203125 \r\nQ 39.75 40.578125 37.25 42.78125 \r\nQ 33.890625 45.75 27.25 45.75 \r\nQ 21.046875 45.75 18.09375 43.578125 \r\nQ 15.140625 41.40625 13.71875 35.890625 \r\nL 5.125 37.0625 \r\nQ 6.296875 42.578125 8.984375 45.96875 \r\nQ 11.671875 49.359375 16.75 51.1875 \r\nQ 21.828125 53.03125 28.515625 53.03125 \r\nQ 35.15625 53.03125 39.296875 51.46875 \r\nQ 43.453125 49.90625 45.40625 47.53125 \r\nQ 47.359375 45.171875 48.140625 41.546875 \r\nQ 48.578125 39.3125 48.578125 33.453125 \r\nL 48.578125 21.734375 \r\nQ 48.578125 9.46875 49.140625 6.21875 \r\nQ 49.703125 2.984375 51.375 0 \r\nL 42.1875 0 \r\nQ 40.828125 2.734375 40.4375 6.390625 \r\nz\r\nM 39.703125 26.03125 \r\nQ 34.90625 24.078125 25.34375 22.703125 \r\nQ 19.921875 21.921875 17.671875 20.9375 \r\nQ 15.4375 19.96875 14.203125 18.09375 \r\nQ 12.984375 16.21875 12.984375 13.921875 \r\nQ 12.984375 10.40625 15.640625 8.0625 \r\nQ 18.3125 5.71875 23.4375 5.71875 \r\nQ 28.515625 5.71875 32.46875 7.9375 \r\nQ 36.421875 10.15625 38.28125 14.015625 \r\nQ 39.703125 17 39.703125 22.796875 \r\nz\r\n\" id=\"ArialMT-97\"/>\r\n        <path d=\"M 6.59375 0 \r\nL 6.59375 51.859375 \r\nL 14.5 51.859375 \r\nL 14.5 44.484375 \r\nQ 20.21875 53.03125 31 53.03125 \r\nQ 35.6875 53.03125 39.625 51.34375 \r\nQ 43.5625 49.65625 45.515625 46.921875 \r\nQ 47.46875 44.1875 48.25 40.4375 \r\nQ 48.734375 37.984375 48.734375 31.890625 \r\nL 48.734375 0 \r\nL 39.9375 0 \r\nL 39.9375 31.546875 \r\nQ 39.9375 36.921875 38.90625 39.578125 \r\nQ 37.890625 42.234375 35.28125 43.8125 \r\nQ 32.671875 45.40625 29.15625 45.40625 \r\nQ 23.53125 45.40625 19.453125 41.84375 \r\nQ 15.375 38.28125 15.375 28.328125 \r\nL 15.375 0 \r\nz\r\n\" id=\"ArialMT-110\"/>\r\n       </defs>\r\n       <use xlink:href=\"#ArialMT-119\"/>\r\n       <use x=\"72.216797\" xlink:href=\"#ArialMT-111\"/>\r\n       <use x=\"127.832031\" xlink:href=\"#ArialMT-109\"/>\r\n       <use x=\"211.132812\" xlink:href=\"#ArialMT-97\"/>\r\n       <use x=\"266.748047\" xlink:href=\"#ArialMT-110\"/>\r\n      </g>\r\n     </g>\r\n    </g>\r\n    <g id=\"xtick_3\">\r\n     <g id=\"text_3\">\r\n      <!-- complain -->\r\n      <g style=\"fill:#262626;\" transform=\"translate(376.750391 82.870391)scale(0.11 -0.11)\">\r\n       <defs>\r\n        <path d=\"M 40.4375 19 \r\nL 49.078125 17.875 \r\nQ 47.65625 8.9375 41.8125 3.875 \r\nQ 35.984375 -1.171875 27.484375 -1.171875 \r\nQ 16.84375 -1.171875 10.375 5.78125 \r\nQ 3.90625 12.75 3.90625 25.734375 \r\nQ 3.90625 34.125 6.6875 40.421875 \r\nQ 9.46875 46.734375 15.15625 49.875 \r\nQ 20.84375 53.03125 27.546875 53.03125 \r\nQ 35.984375 53.03125 41.359375 48.75 \r\nQ 46.734375 44.484375 48.25 36.625 \r\nL 39.703125 35.296875 \r\nQ 38.484375 40.53125 35.375 43.15625 \r\nQ 32.28125 45.796875 27.875 45.796875 \r\nQ 21.234375 45.796875 17.078125 41.03125 \r\nQ 12.9375 36.28125 12.9375 25.984375 \r\nQ 12.9375 15.53125 16.9375 10.796875 \r\nQ 20.953125 6.0625 27.390625 6.0625 \r\nQ 32.5625 6.0625 36.03125 9.234375 \r\nQ 39.5 12.40625 40.4375 19 \r\nz\r\n\" id=\"ArialMT-99\"/>\r\n        <path d=\"M 6.59375 -19.875 \r\nL 6.59375 51.859375 \r\nL 14.59375 51.859375 \r\nL 14.59375 45.125 \r\nQ 17.4375 49.078125 21 51.046875 \r\nQ 24.5625 53.03125 29.640625 53.03125 \r\nQ 36.28125 53.03125 41.359375 49.609375 \r\nQ 46.4375 46.1875 49.015625 39.953125 \r\nQ 51.609375 33.734375 51.609375 26.3125 \r\nQ 51.609375 18.359375 48.75 11.984375 \r\nQ 45.90625 5.609375 40.453125 2.21875 \r\nQ 35.015625 -1.171875 29 -1.171875 \r\nQ 24.609375 -1.171875 21.109375 0.6875 \r\nQ 17.625 2.546875 15.375 5.375 \r\nL 15.375 -19.875 \r\nz\r\nM 14.546875 25.640625 \r\nQ 14.546875 15.625 18.59375 10.84375 \r\nQ 22.65625 6.0625 28.421875 6.0625 \r\nQ 34.28125 6.0625 38.453125 11.015625 \r\nQ 42.625 15.96875 42.625 26.375 \r\nQ 42.625 36.28125 38.546875 41.203125 \r\nQ 34.46875 46.140625 28.8125 46.140625 \r\nQ 23.1875 46.140625 18.859375 40.890625 \r\nQ 14.546875 35.640625 14.546875 25.640625 \r\nz\r\n\" id=\"ArialMT-112\"/>\r\n        <path d=\"M 6.390625 0 \r\nL 6.390625 71.578125 \r\nL 15.1875 71.578125 \r\nL 15.1875 0 \r\nz\r\n\" id=\"ArialMT-108\"/>\r\n        <path d=\"M 6.640625 61.46875 \r\nL 6.640625 71.578125 \r\nL 15.4375 71.578125 \r\nL 15.4375 61.46875 \r\nz\r\nM 6.640625 0 \r\nL 6.640625 51.859375 \r\nL 15.4375 51.859375 \r\nL 15.4375 0 \r\nz\r\n\" id=\"ArialMT-105\"/>\r\n       </defs>\r\n       <use xlink:href=\"#ArialMT-99\"/>\r\n       <use x=\"50\" xlink:href=\"#ArialMT-111\"/>\r\n       <use x=\"105.615234\" xlink:href=\"#ArialMT-109\"/>\r\n       <use x=\"188.916016\" xlink:href=\"#ArialMT-112\"/>\r\n       <use x=\"244.53125\" xlink:href=\"#ArialMT-108\"/>\r\n       <use x=\"266.748047\" xlink:href=\"#ArialMT-97\"/>\r\n       <use x=\"322.363281\" xlink:href=\"#ArialMT-105\"/>\r\n       <use x=\"344.580078\" xlink:href=\"#ArialMT-110\"/>\r\n      </g>\r\n     </g>\r\n    </g>\r\n    <g id=\"xtick_4\">\r\n     <g id=\"text_4\">\r\n      <!-- cleaning -->\r\n      <g style=\"fill:#262626;\" transform=\"translate(527.073203 82.870391)scale(0.11 -0.11)\">\r\n       <defs>\r\n        <path d=\"M 42.09375 16.703125 \r\nL 51.171875 15.578125 \r\nQ 49.03125 7.625 43.21875 3.21875 \r\nQ 37.40625 -1.171875 28.375 -1.171875 \r\nQ 17 -1.171875 10.328125 5.828125 \r\nQ 3.65625 12.84375 3.65625 25.484375 \r\nQ 3.65625 38.578125 10.390625 45.796875 \r\nQ 17.140625 53.03125 27.875 53.03125 \r\nQ 38.28125 53.03125 44.875 45.953125 \r\nQ 51.46875 38.875 51.46875 26.03125 \r\nQ 51.46875 25.25 51.421875 23.6875 \r\nL 12.75 23.6875 \r\nQ 13.234375 15.140625 17.578125 10.59375 \r\nQ 21.921875 6.0625 28.421875 6.0625 \r\nQ 33.25 6.0625 36.671875 8.59375 \r\nQ 40.09375 11.140625 42.09375 16.703125 \r\nz\r\nM 13.234375 30.90625 \r\nL 42.1875 30.90625 \r\nQ 41.609375 37.453125 38.875 40.71875 \r\nQ 34.671875 45.796875 27.984375 45.796875 \r\nQ 21.921875 45.796875 17.796875 41.75 \r\nQ 13.671875 37.703125 13.234375 30.90625 \r\nz\r\n\" id=\"ArialMT-101\"/>\r\n        <path d=\"M 4.984375 -4.296875 \r\nL 13.53125 -5.5625 \r\nQ 14.0625 -9.515625 16.5 -11.328125 \r\nQ 19.78125 -13.765625 25.4375 -13.765625 \r\nQ 31.546875 -13.765625 34.859375 -11.328125 \r\nQ 38.1875 -8.890625 39.359375 -4.5 \r\nQ 40.046875 -1.8125 39.984375 6.78125 \r\nQ 34.234375 0 25.640625 0 \r\nQ 14.9375 0 9.078125 7.71875 \r\nQ 3.21875 15.4375 3.21875 26.21875 \r\nQ 3.21875 33.640625 5.90625 39.90625 \r\nQ 8.59375 46.1875 13.6875 49.609375 \r\nQ 18.796875 53.03125 25.6875 53.03125 \r\nQ 34.859375 53.03125 40.828125 45.609375 \r\nL 40.828125 51.859375 \r\nL 48.921875 51.859375 \r\nL 48.921875 7.03125 \r\nQ 48.921875 -5.078125 46.453125 -10.125 \r\nQ 44 -15.1875 38.640625 -18.109375 \r\nQ 33.296875 -21.046875 25.484375 -21.046875 \r\nQ 16.21875 -21.046875 10.5 -16.875 \r\nQ 4.78125 -12.703125 4.984375 -4.296875 \r\nz\r\nM 12.25 26.859375 \r\nQ 12.25 16.65625 16.296875 11.96875 \r\nQ 20.359375 7.28125 26.46875 7.28125 \r\nQ 32.515625 7.28125 36.609375 11.9375 \r\nQ 40.71875 16.609375 40.71875 26.5625 \r\nQ 40.71875 36.078125 36.5 40.90625 \r\nQ 32.28125 45.75 26.3125 45.75 \r\nQ 20.453125 45.75 16.34375 40.984375 \r\nQ 12.25 36.234375 12.25 26.859375 \r\nz\r\n\" id=\"ArialMT-103\"/>\r\n       </defs>\r\n       <use xlink:href=\"#ArialMT-99\"/>\r\n       <use x=\"50\" xlink:href=\"#ArialMT-108\"/>\r\n       <use x=\"72.216797\" xlink:href=\"#ArialMT-101\"/>\r\n       <use x=\"127.832031\" xlink:href=\"#ArialMT-97\"/>\r\n       <use x=\"183.447266\" xlink:href=\"#ArialMT-110\"/>\r\n       <use x=\"239.0625\" xlink:href=\"#ArialMT-105\"/>\r\n       <use x=\"261.279297\" xlink:href=\"#ArialMT-110\"/>\r\n       <use x=\"316.894531\" xlink:href=\"#ArialMT-103\"/>\r\n      </g>\r\n     </g>\r\n    </g>\r\n    <g id=\"xtick_5\">\r\n     <g id=\"text_5\">\r\n      <!-- house -->\r\n      <g style=\"fill:#262626;\" transform=\"translate(681.375781 82.870391)scale(0.11 -0.11)\">\r\n       <defs>\r\n        <path d=\"M 6.59375 0 \r\nL 6.59375 71.578125 \r\nL 15.375 71.578125 \r\nL 15.375 45.90625 \r\nQ 21.53125 53.03125 30.90625 53.03125 \r\nQ 36.671875 53.03125 40.921875 50.75 \r\nQ 45.171875 48.484375 47 44.484375 \r\nQ 48.828125 40.484375 48.828125 32.859375 \r\nL 48.828125 0 \r\nL 40.046875 0 \r\nL 40.046875 32.859375 \r\nQ 40.046875 39.453125 37.1875 42.453125 \r\nQ 34.328125 45.453125 29.109375 45.453125 \r\nQ 25.203125 45.453125 21.75 43.421875 \r\nQ 18.3125 41.40625 16.84375 37.9375 \r\nQ 15.375 34.46875 15.375 28.375 \r\nL 15.375 0 \r\nz\r\n\" id=\"ArialMT-104\"/>\r\n        <path d=\"M 40.578125 0 \r\nL 40.578125 7.625 \r\nQ 34.515625 -1.171875 24.125 -1.171875 \r\nQ 19.53125 -1.171875 15.546875 0.578125 \r\nQ 11.578125 2.34375 9.640625 5 \r\nQ 7.71875 7.671875 6.9375 11.53125 \r\nQ 6.390625 14.109375 6.390625 19.734375 \r\nL 6.390625 51.859375 \r\nL 15.1875 51.859375 \r\nL 15.1875 23.09375 \r\nQ 15.1875 16.21875 15.71875 13.8125 \r\nQ 16.546875 10.359375 19.234375 8.375 \r\nQ 21.921875 6.390625 25.875 6.390625 \r\nQ 29.828125 6.390625 33.296875 8.421875 \r\nQ 36.765625 10.453125 38.203125 13.9375 \r\nQ 39.65625 17.4375 39.65625 24.078125 \r\nL 39.65625 51.859375 \r\nL 48.4375 51.859375 \r\nL 48.4375 0 \r\nz\r\n\" id=\"ArialMT-117\"/>\r\n        <path d=\"M 3.078125 15.484375 \r\nL 11.765625 16.84375 \r\nQ 12.5 11.625 15.84375 8.84375 \r\nQ 19.1875 6.0625 25.203125 6.0625 \r\nQ 31.25 6.0625 34.171875 8.515625 \r\nQ 37.109375 10.984375 37.109375 14.3125 \r\nQ 37.109375 17.28125 34.515625 19 \r\nQ 32.71875 20.171875 25.53125 21.96875 \r\nQ 15.875 24.421875 12.140625 26.203125 \r\nQ 8.40625 27.984375 6.46875 31.125 \r\nQ 4.546875 34.28125 4.546875 38.09375 \r\nQ 4.546875 41.546875 6.125 44.5 \r\nQ 7.71875 47.46875 10.453125 49.421875 \r\nQ 12.5 50.921875 16.03125 51.96875 \r\nQ 19.578125 53.03125 23.640625 53.03125 \r\nQ 29.734375 53.03125 34.34375 51.265625 \r\nQ 38.96875 49.515625 41.15625 46.5 \r\nQ 43.359375 43.5 44.1875 38.484375 \r\nL 35.59375 37.3125 \r\nQ 35.015625 41.3125 32.203125 43.546875 \r\nQ 29.390625 45.796875 24.265625 45.796875 \r\nQ 18.21875 45.796875 15.625 43.796875 \r\nQ 13.03125 41.796875 13.03125 39.109375 \r\nQ 13.03125 37.40625 14.109375 36.03125 \r\nQ 15.1875 34.625 17.484375 33.6875 \r\nQ 18.796875 33.203125 25.25 31.453125 \r\nQ 34.578125 28.953125 38.25 27.359375 \r\nQ 41.9375 25.78125 44.03125 22.75 \r\nQ 46.140625 19.734375 46.140625 15.234375 \r\nQ 46.140625 10.84375 43.578125 6.953125 \r\nQ 41.015625 3.078125 36.171875 0.953125 \r\nQ 31.34375 -1.171875 25.25 -1.171875 \r\nQ 15.140625 -1.171875 9.84375 3.03125 \r\nQ 4.546875 7.234375 3.078125 15.484375 \r\nz\r\n\" id=\"ArialMT-115\"/>\r\n       </defs>\r\n       <use xlink:href=\"#ArialMT-104\"/>\r\n       <use x=\"55.615234\" xlink:href=\"#ArialMT-111\"/>\r\n       <use x=\"111.230469\" xlink:href=\"#ArialMT-117\"/>\r\n       <use x=\"166.845703\" xlink:href=\"#ArialMT-115\"/>\r\n       <use x=\"216.845703\" xlink:href=\"#ArialMT-101\"/>\r\n      </g>\r\n     </g>\r\n    </g>\r\n    <g id=\"xtick_6\">\r\n     <g id=\"text_6\">\r\n      <!-- man -->\r\n      <g style=\"fill:#262626;\" transform=\"translate(834.461484 82.870391)scale(0.11 -0.11)\">\r\n       <use xlink:href=\"#ArialMT-109\"/>\r\n       <use x=\"83.300781\" xlink:href=\"#ArialMT-97\"/>\r\n       <use x=\"138.916016\" xlink:href=\"#ArialMT-110\"/>\r\n      </g>\r\n     </g>\r\n    </g>\r\n    <g id=\"xtick_7\">\r\n     <g id=\"text_7\">\r\n      <!-- always -->\r\n      <g style=\"fill:#262626;\" transform=\"translate(977.14875 82.870391)scale(0.11 -0.11)\">\r\n       <defs>\r\n        <path d=\"M 6.203125 -19.96875 \r\nL 5.21875 -11.71875 \r\nQ 8.109375 -12.5 10.25 -12.5 \r\nQ 13.1875 -12.5 14.9375 -11.515625 \r\nQ 16.703125 -10.546875 17.828125 -8.796875 \r\nQ 18.65625 -7.46875 20.515625 -2.25 \r\nQ 20.75 -1.515625 21.296875 -0.09375 \r\nL 1.609375 51.859375 \r\nL 11.078125 51.859375 \r\nL 21.875 21.828125 \r\nQ 23.96875 16.109375 25.640625 9.8125 \r\nQ 27.15625 15.875 29.25 21.625 \r\nL 40.328125 51.859375 \r\nL 49.125 51.859375 \r\nL 29.390625 -0.875 \r\nQ 26.21875 -9.421875 24.46875 -12.640625 \r\nQ 22.125 -17 19.09375 -19.015625 \r\nQ 16.0625 -21.046875 11.859375 -21.046875 \r\nQ 9.328125 -21.046875 6.203125 -19.96875 \r\nz\r\n\" id=\"ArialMT-121\"/>\r\n       </defs>\r\n       <use xlink:href=\"#ArialMT-97\"/>\r\n       <use x=\"55.615234\" xlink:href=\"#ArialMT-108\"/>\r\n       <use x=\"77.832031\" xlink:href=\"#ArialMT-119\"/>\r\n       <use x=\"150.048828\" xlink:href=\"#ArialMT-97\"/>\r\n       <use x=\"205.664062\" xlink:href=\"#ArialMT-121\"/>\r\n       <use x=\"255.664062\" xlink:href=\"#ArialMT-115\"/>\r\n      </g>\r\n     </g>\r\n    </g>\r\n    <g id=\"xtick_8\">\r\n     <g id=\"text_8\">\r\n      <!-- take -->\r\n      <g style=\"fill:#262626;\" transform=\"translate(1132.364844 82.870391)scale(0.11 -0.11)\">\r\n       <defs>\r\n        <path d=\"M 25.78125 7.859375 \r\nL 27.046875 0.09375 \r\nQ 23.34375 -0.6875 20.40625 -0.6875 \r\nQ 15.625 -0.6875 12.984375 0.828125 \r\nQ 10.359375 2.34375 9.28125 4.8125 \r\nQ 8.203125 7.28125 8.203125 15.1875 \r\nL 8.203125 45.015625 \r\nL 1.765625 45.015625 \r\nL 1.765625 51.859375 \r\nL 8.203125 51.859375 \r\nL 8.203125 64.703125 \r\nL 16.9375 69.96875 \r\nL 16.9375 51.859375 \r\nL 25.78125 51.859375 \r\nL 25.78125 45.015625 \r\nL 16.9375 45.015625 \r\nL 16.9375 14.703125 \r\nQ 16.9375 10.9375 17.40625 9.859375 \r\nQ 17.875 8.796875 18.921875 8.15625 \r\nQ 19.96875 7.515625 21.921875 7.515625 \r\nQ 23.390625 7.515625 25.78125 7.859375 \r\nz\r\n\" id=\"ArialMT-116\"/>\r\n        <path d=\"M 6.640625 0 \r\nL 6.640625 71.578125 \r\nL 15.4375 71.578125 \r\nL 15.4375 30.765625 \r\nL 36.234375 51.859375 \r\nL 47.609375 51.859375 \r\nL 27.78125 32.625 \r\nL 49.609375 0 \r\nL 38.765625 0 \r\nL 21.625 26.515625 \r\nL 15.4375 20.5625 \r\nL 15.4375 0 \r\nz\r\n\" id=\"ArialMT-107\"/>\r\n       </defs>\r\n       <use xlink:href=\"#ArialMT-116\"/>\r\n       <use x=\"27.783203\" xlink:href=\"#ArialMT-97\"/>\r\n       <use x=\"83.398438\" xlink:href=\"#ArialMT-107\"/>\r\n       <use x=\"133.398438\" xlink:href=\"#ArialMT-101\"/>\r\n      </g>\r\n     </g>\r\n    </g>\r\n    <g id=\"xtick_9\">\r\n     <g id=\"text_9\">\r\n      <!-- trash -->\r\n      <g style=\"fill:#262626;\" transform=\"translate(1279.333516 82.870391)scale(0.11 -0.11)\">\r\n       <defs>\r\n        <path d=\"M 6.5 0 \r\nL 6.5 51.859375 \r\nL 14.40625 51.859375 \r\nL 14.40625 44 \r\nQ 17.4375 49.515625 20 51.265625 \r\nQ 22.5625 53.03125 25.640625 53.03125 \r\nQ 30.078125 53.03125 34.671875 50.203125 \r\nL 31.640625 42.046875 \r\nQ 28.421875 43.953125 25.203125 43.953125 \r\nQ 22.3125 43.953125 20.015625 42.21875 \r\nQ 17.71875 40.484375 16.75 37.40625 \r\nQ 15.28125 32.71875 15.28125 27.15625 \r\nL 15.28125 0 \r\nz\r\n\" id=\"ArialMT-114\"/>\r\n       </defs>\r\n       <use xlink:href=\"#ArialMT-116\"/>\r\n       <use x=\"27.783203\" xlink:href=\"#ArialMT-114\"/>\r\n       <use x=\"61.083984\" xlink:href=\"#ArialMT-97\"/>\r\n       <use x=\"116.699219\" xlink:href=\"#ArialMT-115\"/>\r\n       <use x=\"166.699219\" xlink:href=\"#ArialMT-104\"/>\r\n      </g>\r\n     </g>\r\n    </g>\r\n    <g id=\"text_10\">\r\n     <!-- Sentence -->\r\n     <g style=\"fill:#262626;\" transform=\"translate(671.007969 97.774922)scale(0.12 -0.12)\">\r\n      <use xlink:href=\"#ArialMT-83\"/>\r\n      <use x=\"66.699219\" xlink:href=\"#ArialMT-101\"/>\r\n      <use x=\"122.314453\" xlink:href=\"#ArialMT-110\"/>\r\n      <use x=\"177.929688\" xlink:href=\"#ArialMT-116\"/>\r\n      <use x=\"205.712891\" xlink:href=\"#ArialMT-101\"/>\r\n      <use x=\"261.328125\" xlink:href=\"#ArialMT-110\"/>\r\n      <use x=\"316.943359\" xlink:href=\"#ArialMT-99\"/>\r\n      <use x=\"366.943359\" xlink:href=\"#ArialMT-101\"/>\r\n     </g>\r\n    </g>\r\n   </g>\r\n   <g id=\"matplotlib.axis_2\">\r\n    <g id=\"ytick_1\">\r\n     <g id=\"text_11\">\r\n      <!-- Sentiment -->\r\n      <g style=\"fill:#262626;\" transform=\"translate(15.073594 83.904062)rotate(-90)scale(0.11 -0.11)\">\r\n       <use xlink:href=\"#ArialMT-83\"/>\r\n       <use x=\"66.699219\" xlink:href=\"#ArialMT-101\"/>\r\n       <use x=\"122.314453\" xlink:href=\"#ArialMT-110\"/>\r\n       <use x=\"177.929688\" xlink:href=\"#ArialMT-116\"/>\r\n       <use x=\"205.712891\" xlink:href=\"#ArialMT-105\"/>\r\n       <use x=\"227.929688\" xlink:href=\"#ArialMT-109\"/>\r\n       <use x=\"311.230469\" xlink:href=\"#ArialMT-101\"/>\r\n       <use x=\"366.845703\" xlink:href=\"#ArialMT-110\"/>\r\n       <use x=\"422.460938\" xlink:href=\"#ArialMT-116\"/>\r\n      </g>\r\n     </g>\r\n    </g>\r\n   </g>\r\n   <g id=\"QuadMesh_1\">\r\n    <path clip-path=\"url(#p068e86d28a)\" d=\"M 26.759844 11.136797 \r\nL 175.559844 11.136797 \r\nL 175.559844 65.496797 \r\nL 26.759844 65.496797 \r\nL 26.759844 11.136797 \r\n\" style=\"fill:#8e0152;\"/>\r\n    <path clip-path=\"url(#p068e86d28a)\" d=\"M 175.559844 11.136797 \r\nL 324.359844 11.136797 \r\nL 324.359844 65.496797 \r\nL 175.559844 65.496797 \r\nL 175.559844 11.136797 \r\n\" style=\"fill:#f7f7f6;\"/>\r\n    <path clip-path=\"url(#p068e86d28a)\" d=\"M 324.359844 11.136797 \r\nL 473.159844 11.136797 \r\nL 473.159844 65.496797 \r\nL 324.359844 65.496797 \r\nL 324.359844 11.136797 \r\n\" style=\"fill:#8e0152;\"/>\r\n    <path clip-path=\"url(#p068e86d28a)\" d=\"M 473.159844 11.136797 \r\nL 621.959844 11.136797 \r\nL 621.959844 65.496797 \r\nL 473.159844 65.496797 \r\nL 473.159844 11.136797 \r\n\" style=\"fill:#f7f7f6;\"/>\r\n    <path clip-path=\"url(#p068e86d28a)\" d=\"M 621.959844 11.136797 \r\nL 770.759844 11.136797 \r\nL 770.759844 65.496797 \r\nL 621.959844 65.496797 \r\nL 621.959844 11.136797 \r\n\" style=\"fill:#f7f7f6;\"/>\r\n    <path clip-path=\"url(#p068e86d28a)\" d=\"M 770.759844 11.136797 \r\nL 919.559844 11.136797 \r\nL 919.559844 65.496797 \r\nL 770.759844 65.496797 \r\nL 770.759844 11.136797 \r\n\" style=\"fill:#f7f7f6;\"/>\r\n    <path clip-path=\"url(#p068e86d28a)\" d=\"M 919.559844 11.136797 \r\nL 1068.359844 11.136797 \r\nL 1068.359844 65.496797 \r\nL 919.559844 65.496797 \r\nL 919.559844 11.136797 \r\n\" style=\"fill:#f7f7f6;\"/>\r\n    <path clip-path=\"url(#p068e86d28a)\" d=\"M 1068.359844 11.136797 \r\nL 1217.159844 11.136797 \r\nL 1217.159844 65.496797 \r\nL 1068.359844 65.496797 \r\nL 1068.359844 11.136797 \r\n\" style=\"fill:#f7f7f6;\"/>\r\n    <path clip-path=\"url(#p068e86d28a)\" d=\"M 1217.159844 11.136797 \r\nL 1365.959844 11.136797 \r\nL 1365.959844 65.496797 \r\nL 1217.159844 65.496797 \r\nL 1217.159844 11.136797 \r\n\" style=\"fill:#f7f7f6;\"/>\r\n   </g>\r\n   <g id=\"text_12\">\r\n    <!-- -0.36 -->\r\n    <g style=\"fill:#ffffff;\" transform=\"translate(87.485469 41.418984)scale(0.12 -0.12)\">\r\n     <defs>\r\n      <path d=\"M 3.171875 21.484375 \r\nL 3.171875 30.328125 \r\nL 30.171875 30.328125 \r\nL 30.171875 21.484375 \r\nz\r\n\" id=\"ArialMT-45\"/>\r\n      <path d=\"M 4.15625 35.296875 \r\nQ 4.15625 48 6.765625 55.734375 \r\nQ 9.375 63.484375 14.515625 67.671875 \r\nQ 19.671875 71.875 27.484375 71.875 \r\nQ 33.25 71.875 37.59375 69.546875 \r\nQ 41.9375 67.234375 44.765625 62.859375 \r\nQ 47.609375 58.5 49.21875 52.21875 \r\nQ 50.828125 45.953125 50.828125 35.296875 \r\nQ 50.828125 22.703125 48.234375 14.96875 \r\nQ 45.65625 7.234375 40.5 3 \r\nQ 35.359375 -1.21875 27.484375 -1.21875 \r\nQ 17.140625 -1.21875 11.234375 6.203125 \r\nQ 4.15625 15.140625 4.15625 35.296875 \r\nz\r\nM 13.1875 35.296875 \r\nQ 13.1875 17.671875 17.3125 11.828125 \r\nQ 21.4375 6 27.484375 6 \r\nQ 33.546875 6 37.671875 11.859375 \r\nQ 41.796875 17.71875 41.796875 35.296875 \r\nQ 41.796875 52.984375 37.671875 58.78125 \r\nQ 33.546875 64.59375 27.390625 64.59375 \r\nQ 21.34375 64.59375 17.71875 59.46875 \r\nQ 13.1875 52.9375 13.1875 35.296875 \r\nz\r\n\" id=\"ArialMT-48\"/>\r\n      <path d=\"M 9.078125 0 \r\nL 9.078125 10.015625 \r\nL 19.09375 10.015625 \r\nL 19.09375 0 \r\nz\r\n\" id=\"ArialMT-46\"/>\r\n      <path d=\"M 4.203125 18.890625 \r\nL 12.984375 20.0625 \r\nQ 14.5 12.59375 18.140625 9.296875 \r\nQ 21.78125 6 27 6 \r\nQ 33.203125 6 37.46875 10.296875 \r\nQ 41.75 14.59375 41.75 20.953125 \r\nQ 41.75 27 37.796875 30.921875 \r\nQ 33.84375 34.859375 27.734375 34.859375 \r\nQ 25.25 34.859375 21.53125 33.890625 \r\nL 22.515625 41.609375 \r\nQ 23.390625 41.5 23.921875 41.5 \r\nQ 29.546875 41.5 34.03125 44.421875 \r\nQ 38.53125 47.359375 38.53125 53.46875 \r\nQ 38.53125 58.296875 35.25 61.46875 \r\nQ 31.984375 64.65625 26.8125 64.65625 \r\nQ 21.6875 64.65625 18.265625 61.421875 \r\nQ 14.84375 58.203125 13.875 51.765625 \r\nL 5.078125 53.328125 \r\nQ 6.6875 62.15625 12.390625 67.015625 \r\nQ 18.109375 71.875 26.609375 71.875 \r\nQ 32.46875 71.875 37.390625 69.359375 \r\nQ 42.328125 66.84375 44.9375 62.5 \r\nQ 47.5625 58.15625 47.5625 53.265625 \r\nQ 47.5625 48.640625 45.0625 44.828125 \r\nQ 42.578125 41.015625 37.703125 38.765625 \r\nQ 44.046875 37.3125 47.5625 32.6875 \r\nQ 51.078125 28.078125 51.078125 21.140625 \r\nQ 51.078125 11.765625 44.234375 5.25 \r\nQ 37.40625 -1.265625 26.953125 -1.265625 \r\nQ 17.53125 -1.265625 11.296875 4.34375 \r\nQ 5.078125 9.96875 4.203125 18.890625 \r\nz\r\n\" id=\"ArialMT-51\"/>\r\n      <path d=\"M 49.75 54.046875 \r\nL 41.015625 53.375 \r\nQ 39.84375 58.546875 37.703125 60.890625 \r\nQ 34.125 64.65625 28.90625 64.65625 \r\nQ 24.703125 64.65625 21.53125 62.3125 \r\nQ 17.390625 59.28125 14.984375 53.46875 \r\nQ 12.59375 47.65625 12.5 36.921875 \r\nQ 15.671875 41.75 20.265625 44.09375 \r\nQ 24.859375 46.4375 29.890625 46.4375 \r\nQ 38.671875 46.4375 44.84375 39.96875 \r\nQ 51.03125 33.5 51.03125 23.25 \r\nQ 51.03125 16.5 48.125 10.71875 \r\nQ 45.21875 4.9375 40.140625 1.859375 \r\nQ 35.0625 -1.21875 28.609375 -1.21875 \r\nQ 17.625 -1.21875 10.6875 6.859375 \r\nQ 3.765625 14.9375 3.765625 33.5 \r\nQ 3.765625 54.25 11.421875 63.671875 \r\nQ 18.109375 71.875 29.4375 71.875 \r\nQ 37.890625 71.875 43.28125 67.140625 \r\nQ 48.6875 62.40625 49.75 54.046875 \r\nz\r\nM 13.875 23.1875 \r\nQ 13.875 18.65625 15.796875 14.5 \r\nQ 17.71875 10.359375 21.1875 8.171875 \r\nQ 24.65625 6 28.46875 6 \r\nQ 34.03125 6 38.03125 10.484375 \r\nQ 42.046875 14.984375 42.046875 22.703125 \r\nQ 42.046875 30.125 38.078125 34.390625 \r\nQ 34.125 38.671875 28.125 38.671875 \r\nQ 22.171875 38.671875 18.015625 34.390625 \r\nQ 13.875 30.125 13.875 23.1875 \r\nz\r\n\" id=\"ArialMT-54\"/>\r\n     </defs>\r\n     <use xlink:href=\"#ArialMT-45\"/>\r\n     <use x=\"33.300781\" xlink:href=\"#ArialMT-48\"/>\r\n     <use x=\"88.916016\" xlink:href=\"#ArialMT-46\"/>\r\n     <use x=\"116.699219\" xlink:href=\"#ArialMT-51\"/>\r\n     <use x=\"172.314453\" xlink:href=\"#ArialMT-54\"/>\r\n    </g>\r\n   </g>\r\n   <g id=\"text_13\">\r\n    <!-- 0 -->\r\n    <g style=\"fill:#262626;\" transform=\"translate(246.623281 41.418984)scale(0.12 -0.12)\">\r\n     <use xlink:href=\"#ArialMT-48\"/>\r\n    </g>\r\n   </g>\r\n   <g id=\"text_14\">\r\n    <!-- -0.36 -->\r\n    <g style=\"fill:#ffffff;\" transform=\"translate(385.085469 41.418984)scale(0.12 -0.12)\">\r\n     <use xlink:href=\"#ArialMT-45\"/>\r\n     <use x=\"33.300781\" xlink:href=\"#ArialMT-48\"/>\r\n     <use x=\"88.916016\" xlink:href=\"#ArialMT-46\"/>\r\n     <use x=\"116.699219\" xlink:href=\"#ArialMT-51\"/>\r\n     <use x=\"172.314453\" xlink:href=\"#ArialMT-54\"/>\r\n    </g>\r\n   </g>\r\n   <g id=\"text_15\">\r\n    <!-- 0 -->\r\n    <g style=\"fill:#262626;\" transform=\"translate(544.223281 41.418984)scale(0.12 -0.12)\">\r\n     <use xlink:href=\"#ArialMT-48\"/>\r\n    </g>\r\n   </g>\r\n   <g id=\"text_16\">\r\n    <!-- 0 -->\r\n    <g style=\"fill:#262626;\" transform=\"translate(693.023281 41.418984)scale(0.12 -0.12)\">\r\n     <use xlink:href=\"#ArialMT-48\"/>\r\n    </g>\r\n   </g>\r\n   <g id=\"text_17\">\r\n    <!-- 0 -->\r\n    <g style=\"fill:#262626;\" transform=\"translate(841.823281 41.418984)scale(0.12 -0.12)\">\r\n     <use xlink:href=\"#ArialMT-48\"/>\r\n    </g>\r\n   </g>\r\n   <g id=\"text_18\">\r\n    <!-- 0 -->\r\n    <g style=\"fill:#262626;\" transform=\"translate(990.623281 41.418984)scale(0.12 -0.12)\">\r\n     <use xlink:href=\"#ArialMT-48\"/>\r\n    </g>\r\n   </g>\r\n   <g id=\"text_19\">\r\n    <!-- 0 -->\r\n    <g style=\"fill:#262626;\" transform=\"translate(1139.423281 41.418984)scale(0.12 -0.12)\">\r\n     <use xlink:href=\"#ArialMT-48\"/>\r\n    </g>\r\n   </g>\r\n   <g id=\"text_20\">\r\n    <!-- 0 -->\r\n    <g style=\"fill:#262626;\" transform=\"translate(1288.223281 41.418984)scale(0.12 -0.12)\">\r\n     <use xlink:href=\"#ArialMT-48\"/>\r\n    </g>\r\n   </g>\r\n  </g>\r\n  <g id=\"axes_2\">\r\n   <g id=\"patch_3\">\r\n    <path clip-path=\"url(#pecc4d3007d)\" d=\"M 1449.659844 65.496797 \r\nL 1449.659844 65.284453 \r\nL 1449.659844 11.349141 \r\nL 1449.659844 11.136797 \r\nL 1452.377844 11.136797 \r\nL 1452.377844 11.349141 \r\nL 1452.377844 65.284453 \r\nL 1452.377844 65.496797 \r\nz\r\n\" style=\"fill:#eaeaf2;stroke:#eaeaf2;stroke-linejoin:miter;stroke-width:0.01;\"/>\r\n   </g>\r\n   <g id=\"matplotlib.axis_3\"/>\r\n   <g id=\"matplotlib.axis_4\">\r\n    <g id=\"ytick_2\">\r\n     <g id=\"line2d_1\">\r\n      <defs>\r\n       <path d=\"M 0 0 \r\nL 6 0 \r\n\" id=\"m0d8c4f59d5\" style=\"stroke:#262626;stroke-width:1.25;\"/>\r\n      </defs>\r\n      <g>\r\n       <use style=\"fill:#262626;stroke:#262626;stroke-width:1.25;\" x=\"1452.377844\" xlink:href=\"#m0d8c4f59d5\" y=\"41.236465\"/>\r\n      </g>\r\n     </g>\r\n     <g id=\"text_21\">\r\n      <!-- −0.2 -->\r\n      <g style=\"fill:#262626;\" transform=\"translate(1461.877844 45.173262)scale(0.11 -0.11)\">\r\n       <defs>\r\n        <path d=\"M 52.828125 31.203125 \r\nL 5.5625 31.203125 \r\nL 5.5625 39.40625 \r\nL 52.828125 39.40625 \r\nz\r\n\" id=\"ArialMT-8722\"/>\r\n        <path d=\"M 50.34375 8.453125 \r\nL 50.34375 0 \r\nL 3.03125 0 \r\nQ 2.9375 3.171875 4.046875 6.109375 \r\nQ 5.859375 10.9375 9.828125 15.625 \r\nQ 13.8125 20.3125 21.34375 26.46875 \r\nQ 33.015625 36.03125 37.109375 41.625 \r\nQ 41.21875 47.21875 41.21875 52.203125 \r\nQ 41.21875 57.421875 37.46875 61 \r\nQ 33.734375 64.59375 27.734375 64.59375 \r\nQ 21.390625 64.59375 17.578125 60.78125 \r\nQ 13.765625 56.984375 13.71875 50.25 \r\nL 4.6875 51.171875 \r\nQ 5.609375 61.28125 11.65625 66.578125 \r\nQ 17.71875 71.875 27.9375 71.875 \r\nQ 38.234375 71.875 44.234375 66.15625 \r\nQ 50.25 60.453125 50.25 52 \r\nQ 50.25 47.703125 48.484375 43.546875 \r\nQ 46.734375 39.40625 42.65625 34.8125 \r\nQ 38.578125 30.21875 29.109375 22.21875 \r\nQ 21.1875 15.578125 18.9375 13.203125 \r\nQ 16.703125 10.84375 15.234375 8.453125 \r\nz\r\n\" id=\"ArialMT-50\"/>\r\n       </defs>\r\n       <use xlink:href=\"#ArialMT-8722\"/>\r\n       <use x=\"58.398438\" xlink:href=\"#ArialMT-48\"/>\r\n       <use x=\"114.013672\" xlink:href=\"#ArialMT-46\"/>\r\n       <use x=\"141.796875\" xlink:href=\"#ArialMT-50\"/>\r\n      </g>\r\n     </g>\r\n    </g>\r\n    <g id=\"ytick_3\">\r\n     <g id=\"line2d_2\">\r\n      <g>\r\n       <use style=\"fill:#262626;stroke:#262626;stroke-width:1.25;\" x=\"1452.377844\" xlink:href=\"#m0d8c4f59d5\" y=\"11.136797\"/>\r\n      </g>\r\n     </g>\r\n     <g id=\"text_22\">\r\n      <!-- 0.0 -->\r\n      <g style=\"fill:#262626;\" transform=\"translate(1461.877844 15.073594)scale(0.11 -0.11)\">\r\n       <use xlink:href=\"#ArialMT-48\"/>\r\n       <use x=\"55.615234\" xlink:href=\"#ArialMT-46\"/>\r\n       <use x=\"83.398438\" xlink:href=\"#ArialMT-48\"/>\r\n      </g>\r\n     </g>\r\n    </g>\r\n   </g>\r\n   <image height=\"54\" id=\"imageeffc3bf7eb\" transform=\"scale(1 -1)translate(0 -54)\" width=\"2\" x=\"1450\" xlink:href=\"data:image/png;base64,\r\niVBORw0KGgoAAAANSUhEUgAAAAIAAAA2CAYAAADtXUifAAAAcUlEQVR4nH3NSQ6AMAwDQGdrWd7Hx/gwXOKCgsrN8liJnHZcAODdAgDgrs5gmFCQ2kNG4iaStHsJtv9Qy2Zhs0VpnvGaY4n8rsHNElPqPEiSOWlLEtcMxhCfxqU8FZOy0Q+B4RqNsNFBSNJKrwb1YNIN3MQKuoB7DU0AAAAASUVORK5CYII=\" y=\"-11\"/>\r\n   <g id=\"patch_4\">\r\n    <path d=\"M 1449.659844 65.496797 \r\nL 1449.659844 65.284453 \r\nL 1449.659844 11.349141 \r\nL 1449.659844 11.136797 \r\nL 1452.377844 11.136797 \r\nL 1452.377844 11.349141 \r\nL 1452.377844 65.284453 \r\nL 1452.377844 65.496797 \r\nz\r\n\" style=\"fill:none;\"/>\r\n   </g>\r\n  </g>\r\n </g>\r\n <defs>\r\n  <clipPath id=\"p068e86d28a\">\r\n   <rect height=\"54.36\" width=\"1339.2\" x=\"26.759844\" y=\"11.136797\"/>\r\n  </clipPath>\r\n  <clipPath id=\"pecc4d3007d\">\r\n   <rect height=\"54.36\" width=\"2.718\" x=\"1449.659844\" y=\"11.136797\"/>\r\n  </clipPath>\r\n </defs>\r\n</svg>\r\n",
            "image/png": "[encoded data removed]"
          },
          "metadata": {
            "tags": []
          }
        }
      ]
    },
    {
      "cell_type": "markdown",
      "metadata": {
        "id": "JZLdOQhFcOvK"
      },
      "source": [
        "### Number  of  words & sentences\r\n",
        "\r\n",
        "To calculate the number of words and sentences that each tweet has, we have decided to use the original tweet, without preprocessing, since we think that it is more significant in this aspect than the already processed tweet, which removes words.\r\n",
        "\r\n",
        "So, we are going to load the CSV file with the original tweets, but we will only save the tweet column."
      ]
    },
    {
      "cell_type": "code",
      "metadata": {
        "id": "raIXM3CtVJW-"
      },
      "source": [
        "df_count = pd.read_csv('./labeled_data.csv', usecols = [\"tweet\"])"
      ],
      "execution_count": null,
      "outputs": []
    },
    {
      "cell_type": "code",
      "metadata": {
        "id": "7KqnLVj-cQqG",
        "colab": {
          "base_uri": "https://localhost:8080/"
        },
        "outputId": "57c5e80c-53a3-46e7-e763-2811573573b6"
      },
      "source": [
        "from nltk.tokenize import word_tokenize\r\n",
        "nltk.download('punkt')\r\n",
        "listNumberWords = []\r\n",
        "\r\n",
        "for tweet in df_count['tweet']: \r\n",
        "  aux = []\r\n",
        "  words = word_tokenize(tweet)\r\n",
        "  num_words = len(words)\r\n",
        "  aux.append(num_words)\r\n",
        "  listNumberWords.append(aux)"
      ],
      "execution_count": null,
      "outputs": [
        {
          "output_type": "stream",
          "text": [
            "[nltk_data] Downloading package punkt to\n",
            "[nltk_data]     C:\\Users\\sevil\\AppData\\Roaming\\nltk_data...\n",
            "[nltk_data]   Package punkt is already up-to-date!\n"
          ],
          "name": "stderr"
        }
      ]
    },
    {
      "cell_type": "code",
      "metadata": {
        "id": "TdIVJa5WcXN7"
      },
      "source": [
        "from nltk.tokenize import sent_tokenize\r\n",
        "\r\n",
        "listNumberSentences = []\r\n",
        "\r\n",
        "for tweet in df_count['tweet']:\r\n",
        "  aux = []\r\n",
        "  sentences = sent_tokenize(tweet)\r\n",
        "  num_sentences = len(sentences)\r\n",
        "  aux.append(num_sentences)\r\n",
        "  listNumberSentences.append(aux)"
      ],
      "execution_count": null,
      "outputs": []
    },
    {
      "cell_type": "markdown",
      "metadata": {
        "id": "9GYyiZ-5Tpli"
      },
      "source": [
        "## Concatenate"
      ]
    },
    {
      "cell_type": "code",
      "metadata": {
        "id": "8Y9GEv2q9-gJ",
        "colab": {
          "base_uri": "https://localhost:8080/"
        },
        "outputId": "4fcd697e-5869-4b02-afb2-9443fbad4ad8"
      },
      "source": [
        "X = np.concatenate([X_TFIDF.toarray(), X_POS.toarray()],axis=1)\n",
        "X.shape\n",
        "X = np.column_stack((X,negative,positive,neutral,compound,listNumberWords,listNumberSentences))\n",
        "X.shape"
      ],
      "execution_count": null,
      "outputs": [
        {
          "output_type": "execute_result",
          "data": {
            "text/plain": [
              "(24783, 12842)"
            ]
          },
          "metadata": {
            "tags": []
          },
          "execution_count": 16
        }
      ]
    },
    {
      "cell_type": "markdown",
      "metadata": {
        "id": "sQdcA4w20MBg"
      },
      "source": [
        "# 3. Select features\r\n",
        "\r\n",
        "We have created a new dataset where we have put the characteristics with which we will work from now on. With this dataset, feature selection will be made."
      ]
    },
    {
      "cell_type": "markdown",
      "metadata": {
        "id": "gocub6yRH9aT"
      },
      "source": [
        "To carry out the selection of characteristics, the selectKBest function will be used. You will have to pass it the number of \"top\" characteristics that it will choose from the existing ones. As each column is a different word and in our problem we are asked to eliminate 70% of the words, we will only have 30% of our vocabulary."
      ]
    },
    {
      "cell_type": "code",
      "metadata": {
        "id": "m4up7NfD3vHd",
        "colab": {
          "base_uri": "https://localhost:8080/"
        },
        "outputId": "cc598997-d641-465e-c5e6-6d60ff8bc624"
      },
      "source": [
        "# Create features and target variable for Classification problem\r\n",
        "X_clf = X\r\n",
        "y_clf = df['class'] # Target variable: class\r\n",
        "n_k = round(X.shape[1] * 0.3)\r\n",
        "\r\n",
        "best = SelectKBest(score_func = mutual_info_classif, k = n_k)\r\n",
        "\r\n",
        "X_new = best.fit_transform(X_clf, y_clf)\r\n",
        "print(\"Shape: \",X.shape)\r\n",
        "\r\n",
        "selected = best.get_support(indices=True)\r\n",
        "selected"
      ],
      "execution_count": null,
      "outputs": [
        {
          "output_type": "stream",
          "text": [
            "Shape:  (24783, 12842)\n"
          ],
          "name": "stdout"
        },
        {
          "output_type": "execute_result",
          "data": {
            "text/plain": [
              "array([    2,     3,    11, ..., 12839, 12840, 12841], dtype=int64)"
            ]
          },
          "metadata": {
            "tags": []
          },
          "execution_count": 17
        }
      ]
    },
    {
      "cell_type": "markdown",
      "metadata": {
        "id": "5Edva7WWDNqc"
      },
      "source": [
        "# 4. Classification algorithm"
      ]
    },
    {
      "cell_type": "markdown",
      "metadata": {
        "id": "SlDscKqkW0Hh"
      },
      "source": [
        "## Detaching the dataset\r\n",
        "\r\n",
        "Once we know the characteristics with which we are going to work, it is time to separate the dataset records in the training part and the test part. The test part will be made up of 30% of the tweets."
      ]
    },
    {
      "cell_type": "code",
      "metadata": {
        "id": "mAl6R5KfDLH0"
      },
      "source": [
        "X_train, X_test, y_train, y_test = train_test_split(X_new, y_clf, test_size=0.3, random_state=0)"
      ],
      "execution_count": null,
      "outputs": []
    },
    {
      "cell_type": "markdown",
      "metadata": {
        "id": "Xj-T0YFK95v7"
      },
      "source": [
        "With the following function, we can draw the resulting confusion matrix by executing the classification algorithms.\n",
        "\n"
      ]
    },
    {
      "cell_type": "code",
      "metadata": {
        "id": "NX9gtCEszUi0"
      },
      "source": [
        "# This function prints and plots the confusion matrix.\n",
        "def plot_confusion_matrix(y_true, y_pred, classes,normalize=False,title=None,cmap=plt.cm.Blues):\n",
        "    \n",
        "    if not title:\n",
        "        if normalize: title = 'Normalized confusion matrix'\n",
        "        else: title = 'Confusion matrix, without normalization'\n",
        "\n",
        "    cm = confusion_matrix(y_true, y_pred)\n",
        "    classes = classes[unique_labels(y_true, y_pred)]\n",
        "    if normalize:\n",
        "        cm = cm.astype('float') / cm.sum(axis=1)[:, np.newaxis]\n",
        "        print(\"Normalized confusion matrix\")\n",
        "    else: print('Confusion matrix, without normalization')\n",
        "\n",
        "    print(cm)\n",
        "\n",
        "    fig, ax = plt.subplots()\n",
        "    im = ax.imshow(cm, interpolation='nearest', cmap=cmap)\n",
        "    ax.figure.colorbar(im, ax=ax)\n",
        "    ax.set(xticks = np.arange(cm.shape[1]), yticks = np.arange(cm.shape[0]), xticklabels = classes, yticklabels = classes,\n",
        "           title = title, ylabel = 'True label', xlabel = 'Predicted label')\n",
        "    plt.setp(ax.get_xticklabels(), rotation = 45, ha = \"right\", rotation_mode = \"anchor\")\n",
        "    fmt = '.2f' if normalize else 'd'\n",
        "    thresh = cm.max() / 2.\n",
        "    for i in range(cm.shape[0]):\n",
        "        for j in range(cm.shape[1]):\n",
        "            ax.text(j, i, format(cm[i, j], fmt), ha = \"center\", va = \"center\", color = \"white\" if cm[i, j] > thresh else \"black\")\n",
        "    fig.tight_layout()\n",
        "    return ax"
      ],
      "execution_count": null,
      "outputs": []
    },
    {
      "cell_type": "markdown",
      "metadata": {
        "id": "WyQXR3mt1N5u"
      },
      "source": [
        "## Naive Bayes algorithm\r\n",
        "\r\n",
        "This algorithm is based on Bayes' Theorem. A Naive Bayes classifier assumes that the presence of a particular feature in a class is unrelated to the presence of any other feature."
      ]
    },
    {
      "cell_type": "markdown",
      "metadata": {
        "id": "coLHERHBwYyR"
      },
      "source": [
        "### Executing the algorithm"
      ]
    },
    {
      "cell_type": "code",
      "metadata": {
        "colab": {
          "base_uri": "https://localhost:8080/"
        },
        "id": "UJmkC4fL3E7I",
        "outputId": "f357c3c4-2fae-4e0e-c77d-709d0faa1fa8"
      },
      "source": [
        "clf = BernoulliNB() # Classifier chosen\n",
        "clf.fit(X_train, y_train)\n",
        "y_pred = clf.predict( X = X_test)\n",
        "acc = accuracy_score(y_test, y_pred)\n",
        "print ('Acc', acc)"
      ],
      "execution_count": null,
      "outputs": [
        {
          "output_type": "stream",
          "text": [
            "Acc 0.8644250168123739\n"
          ],
          "name": "stdout"
        }
      ]
    },
    {
      "cell_type": "markdown",
      "metadata": {
        "id": "3ECG4Y2wwenJ"
      },
      "source": [
        "### Cross validation\r\n",
        "\r\n",
        "Now, we are going to check by cross validation that the model is correct, for this, we will make 7 splits, and we will compare the average of these with the previously obtained result, if they are similar, the model can be considered valid."
      ]
    },
    {
      "cell_type": "code",
      "metadata": {
        "id": "F0wrVaJDwjF1",
        "outputId": "5db1be3e-6fc9-4a23-c3cf-d4fc3461b6ea"
      },
      "source": [
        "kf = KFold(n_splits=7)\n",
        "clf = BernoulliNB()\n",
        "clf.fit(X_train, y_train) \n",
        "scores = cross_val_score(clf, X_train, y_train, cv = kf, scoring = \"accuracy\")\n",
        "print(\"Accuracy of each iteration: \", scores)\n",
        "print(\"Average: \", scores.mean())"
      ],
      "execution_count": null,
      "outputs": [
        {
          "output_type": "stream",
          "text": [
            "Accuracy of each iteration:  [0.84509883 0.8567971  0.85835351 0.86279257 0.86561743 0.8716707\n",
            " 0.87610977]\n",
            "Average:  0.8623485589804119\n"
          ],
          "name": "stdout"
        }
      ]
    },
    {
      "cell_type": "markdown",
      "metadata": {
        "id": "mcKo00LQh071"
      },
      "source": [
        "### Save the model\r\n",
        "\r\n",
        "Due to the long execution time, we save the model in a .dat file.\r\n"
      ]
    },
    {
      "cell_type": "code",
      "metadata": {
        "id": "dUB2gfR5huWF"
      },
      "source": [
        "filename = 'OF_NaiveBayes.dat'\n",
        "\n",
        "with open(filename, 'wb') as handle:\n",
        "    pickle.dump(clf, handle, protocol=pickle.HIGHEST_PROTOCOL)\n",
        "    handle.close()\n",
        "\n",
        "with open(filename, 'rb') as handle:\n",
        "    b = pickle.load(handle)\n",
        "\n",
        "clf= b"
      ],
      "execution_count": null,
      "outputs": []
    },
    {
      "cell_type": "markdown",
      "metadata": {
        "id": "Ev7u62yIwnt4"
      },
      "source": [
        "### Results obtained"
      ]
    },
    {
      "cell_type": "markdown",
      "metadata": {
        "id": "J7KWnUeBsYXP"
      },
      "source": [
        "**Confusion Matrix**\r\n",
        "\r\n",
        "Thanks to the following confusion matrix, we can visualize the performance of the algorithm that we have executed."
      ]
    },
    {
      "cell_type": "code",
      "metadata": {
        "colab": {
          "base_uri": "https://localhost:8080/",
          "height": 384
        },
        "id": "4KIW7w_y3Sq4",
        "outputId": "21e5efd8-c725-4e37-de48-ddc0b99dc1f5"
      },
      "source": [
        "sns.set(rc={'figure.figsize':(5,5)})\n",
        "plot_confusion_matrix(y_test, y_pred , classes = unique_labels(y_test, y_pred), normalize=True,\n",
        "                      title='Normalized confusion matrix')"
      ],
      "execution_count": null,
      "outputs": [
        {
          "output_type": "stream",
          "text": [
            "Normalized confusion matrix\n",
            "[[0.12177986 0.74941452 0.12880562]\n",
            " [0.01218027 0.94136071 0.04645902]\n",
            " [0.00396511 0.23076923 0.76526566]]\n"
          ],
          "name": "stdout"
        },
        {
          "output_type": "execute_result",
          "data": {
            "text/plain": [
              "<AxesSubplot:title={'center':'Normalized confusion matrix'}, xlabel='Predicted label', ylabel='True label'>"
            ]
          },
          "metadata": {
            "tags": []
          },
          "execution_count": 29
        },
        {
          "output_type": "display_data",
          "data": {
            "text/plain": [
              "<Figure size 360x360 with 2 Axes>"
            ],
            "image/svg+xml": "<?xml version=\"1.0\" encoding=\"utf-8\" standalone=\"no\"?>\r\n<!DOCTYPE svg PUBLIC \"-//W3C//DTD SVG 1.1//EN\"\r\n  \"http://www.w3.org/Graphics/SVG/1.1/DTD/svg11.dtd\">\r\n<!-- Created with matplotlib (https://matplotlib.org/) -->\r\n<svg height=\"337.877903pt\" version=\"1.1\" viewBox=\"0 0 344.742051 337.877903\" width=\"344.742051pt\" xmlns=\"http://www.w3.org/2000/svg\" xmlns:xlink=\"http://www.w3.org/1999/xlink\">\r\n <metadata>\r\n  <rdf:RDF xmlns:cc=\"http://creativecommons.org/ns#\" xmlns:dc=\"http://purl.org/dc/elements/1.1/\" xmlns:rdf=\"http://www.w3.org/1999/02/22-rdf-syntax-ns#\">\r\n   <cc:Work>\r\n    <dc:type rdf:resource=\"http://purl.org/dc/dcmitype/StillImage\"/>\r\n    <dc:date>2020-12-29T22:16:20.716974</dc:date>\r\n    <dc:format>image/svg+xml</dc:format>\r\n    <dc:creator>\r\n     <cc:Agent>\r\n      <dc:title>Matplotlib v3.3.3, https://matplotlib.org/</dc:title>\r\n     </cc:Agent>\r\n    </dc:creator>\r\n   </cc:Work>\r\n  </rdf:RDF>\r\n </metadata>\r\n <defs>\r\n  <style type=\"text/css\">*{stroke-linecap:butt;stroke-linejoin:round;}</style>\r\n </defs>\r\n <g id=\"figure_1\">\r\n  <g id=\"patch_1\">\r\n   <path d=\"M 0 337.877903 \r\nL 344.742051 337.877903 \r\nL 344.742051 0 \r\nL 0 0 \r\nz\r\n\" style=\"fill:#ffffff;\"/>\r\n  </g>\r\n  <g id=\"axes_1\">\r\n   <g id=\"patch_2\">\r\n    <path d=\"M 37.791406 290.720952 \r\nL 281.355406 290.720952 \r\nL 281.355406 47.156952 \r\nL 37.791406 47.156952 \r\nz\r\n\" style=\"fill:#eaeaf2;\"/>\r\n   </g>\r\n   <g clip-path=\"url(#p07c76b30ad)\">\r\n    <image height=\"244\" id=\"image9909769af8\" transform=\"scale(1 -1)translate(0 -244)\" width=\"244\" x=\"37.791406\" xlink:href=\"data:image/png;base64,\r\niVBORw0KGgoAAAANSUhEUgAAAPQAAAD0CAYAAACsLwv+AAADKElEQVR4nO3VwS2FYRRFUU/MDdQipgrQijIUoBwFKEAJJmIkJIRH4n9FkNx8O2tVcCY7Z/f5s21H/MnD4+v0hOVd3dxNT0g4nh4A/B9BQ4igIUTQECJoCBE0hAgaQgQNIYKGEEFDiKAhRNAQImgIETSECBpCBA0hgoYQQUOIoCFE0BAiaAgRNIQIGkIEDSGChhBBQ4igIUTQECJoCBE0hAgaQgQNIYKGEEFDiKAhRNAQImgIETSECBpCBA0hgoYQQUOIoCFE0BAiaAgRNIQIGkIEDSGChhBBQ4igIUTQECJoCBE0hAgaQgQNIYKGEEFDiKAhRNAQImgIETSECBpCBA0hgoYQQUOIoCFE0BAiaAgRNIQIGkIEDSGChhBBQ4igIUTQECJoCBE0hAgaQgQNIbuP/e82PWJ1ZxfX0xOW93R/Oz0hwUNDiKAhRNAQImgIETSECBpCBA0hgoYQQUOIoCFE0BAiaAgRNIQIGkIEDSGChhBBQ4igIUTQECJoCBE0hAgaQgQNIYKGEEFDiKAhRNAQImgIETSECBpCBA0hgoYQQUOIoCFE0BAiaAgRNIQIGkIEDSGChhBBQ4igIUTQECJoCBE0hAgaQgQNIYKGEEFDiKAhRNAQImgIETSECBpCBA0hgoYQQUOIoCFE0BAiaAgRNIQIGkIEDSGChhBBQ4igIUTQECJoCBE0hAgaQgQNIYKGEEFDiKAhRNAQImgIETSECBpCBA0hgoYQQUPIyfPb1/SG5Z2eX05PWN7L+/f0hAQPDSGChhBBQ4igIUTQECJoCBE0hAgaQgQNIYKGEEFDiKAhRNAQImgIETSECBpCBA0hgoYQQUOIoCFE0BAiaAgRNIQIGkIEDSGChhBBQ4igIUTQECJoCBE0hAgaQgQNIYKGEEFDiKAhRNAQImgIETSECBpCBA0hgoYQQUOIoCFE0BAiaAgRNIQIGkIEDSGChhBBQ4igIUTQECJoCBE0hAgaQgQNIYKGEEFDiKAhRNAQImgIETSECBpCBA0hgoYQQUOIoCFE0BAiaAgRNIQIGkIEDSGChhBBQ4igIUTQECJoCBE0hAgaQg75aBcU1bngXQAAAABJRU5ErkJggg==\" y=\"-46.720952\"/>\r\n   </g>\r\n   <g id=\"matplotlib.axis_1\">\r\n    <g id=\"xtick_1\">\r\n     <g id=\"line2d_1\">\r\n      <path clip-path=\"url(#p07c76b30ad)\" d=\"M 78.385406 290.720952 \r\nL 78.385406 47.156952 \r\n\" style=\"fill:none;stroke:#ffffff;stroke-linecap:round;\"/>\r\n     </g>\r\n     <g id=\"text_1\">\r\n      <!-- 0 -->\r\n      <g style=\"fill:#262626;\" transform=\"translate(79.627484 310.113817)rotate(-45)scale(0.11 -0.11)\">\r\n       <defs>\r\n        <path d=\"M 4.15625 35.296875 \r\nQ 4.15625 48 6.765625 55.734375 \r\nQ 9.375 63.484375 14.515625 67.671875 \r\nQ 19.671875 71.875 27.484375 71.875 \r\nQ 33.25 71.875 37.59375 69.546875 \r\nQ 41.9375 67.234375 44.765625 62.859375 \r\nQ 47.609375 58.5 49.21875 52.21875 \r\nQ 50.828125 45.953125 50.828125 35.296875 \r\nQ 50.828125 22.703125 48.234375 14.96875 \r\nQ 45.65625 7.234375 40.5 3 \r\nQ 35.359375 -1.21875 27.484375 -1.21875 \r\nQ 17.140625 -1.21875 11.234375 6.203125 \r\nQ 4.15625 15.140625 4.15625 35.296875 \r\nz\r\nM 13.1875 35.296875 \r\nQ 13.1875 17.671875 17.3125 11.828125 \r\nQ 21.4375 6 27.484375 6 \r\nQ 33.546875 6 37.671875 11.859375 \r\nQ 41.796875 17.71875 41.796875 35.296875 \r\nQ 41.796875 52.984375 37.671875 58.78125 \r\nQ 33.546875 64.59375 27.390625 64.59375 \r\nQ 21.34375 64.59375 17.71875 59.46875 \r\nQ 13.1875 52.9375 13.1875 35.296875 \r\nz\r\n\" id=\"ArialMT-48\"/>\r\n       </defs>\r\n       <use xlink:href=\"#ArialMT-48\"/>\r\n      </g>\r\n     </g>\r\n    </g>\r\n    <g id=\"xtick_2\">\r\n     <g id=\"line2d_2\">\r\n      <path clip-path=\"url(#p07c76b30ad)\" d=\"M 159.573406 290.720952 \r\nL 159.573406 47.156952 \r\n\" style=\"fill:none;stroke:#ffffff;stroke-linecap:round;\"/>\r\n     </g>\r\n     <g id=\"text_2\">\r\n      <!-- 1 -->\r\n      <g style=\"fill:#262626;\" transform=\"translate(160.815484 310.113817)rotate(-45)scale(0.11 -0.11)\">\r\n       <defs>\r\n        <path d=\"M 37.25 0 \r\nL 28.46875 0 \r\nL 28.46875 56 \r\nQ 25.296875 52.984375 20.140625 49.953125 \r\nQ 14.984375 46.921875 10.890625 45.40625 \r\nL 10.890625 53.90625 \r\nQ 18.265625 57.375 23.78125 62.296875 \r\nQ 29.296875 67.234375 31.59375 71.875 \r\nL 37.25 71.875 \r\nz\r\n\" id=\"ArialMT-49\"/>\r\n       </defs>\r\n       <use xlink:href=\"#ArialMT-49\"/>\r\n      </g>\r\n     </g>\r\n    </g>\r\n    <g id=\"xtick_3\">\r\n     <g id=\"line2d_3\">\r\n      <path clip-path=\"url(#p07c76b30ad)\" d=\"M 240.761406 290.720952 \r\nL 240.761406 47.156952 \r\n\" style=\"fill:none;stroke:#ffffff;stroke-linecap:round;\"/>\r\n     </g>\r\n     <g id=\"text_3\">\r\n      <!-- 2 -->\r\n      <g style=\"fill:#262626;\" transform=\"translate(242.003484 310.113817)rotate(-45)scale(0.11 -0.11)\">\r\n       <defs>\r\n        <path d=\"M 50.34375 8.453125 \r\nL 50.34375 0 \r\nL 3.03125 0 \r\nQ 2.9375 3.171875 4.046875 6.109375 \r\nQ 5.859375 10.9375 9.828125 15.625 \r\nQ 13.8125 20.3125 21.34375 26.46875 \r\nQ 33.015625 36.03125 37.109375 41.625 \r\nQ 41.21875 47.21875 41.21875 52.203125 \r\nQ 41.21875 57.421875 37.46875 61 \r\nQ 33.734375 64.59375 27.734375 64.59375 \r\nQ 21.390625 64.59375 17.578125 60.78125 \r\nQ 13.765625 56.984375 13.71875 50.25 \r\nL 4.6875 51.171875 \r\nQ 5.609375 61.28125 11.65625 66.578125 \r\nQ 17.71875 71.875 27.9375 71.875 \r\nQ 38.234375 71.875 44.234375 66.15625 \r\nQ 50.25 60.453125 50.25 52 \r\nQ 50.25 47.703125 48.484375 43.546875 \r\nQ 46.734375 39.40625 42.65625 34.8125 \r\nQ 38.578125 30.21875 29.109375 22.21875 \r\nQ 21.1875 15.578125 18.9375 13.203125 \r\nQ 16.703125 10.84375 15.234375 8.453125 \r\nz\r\n\" id=\"ArialMT-50\"/>\r\n       </defs>\r\n       <use xlink:href=\"#ArialMT-50\"/>\r\n      </g>\r\n     </g>\r\n    </g>\r\n    <g id=\"text_4\">\r\n     <!-- Predicted label -->\r\n     <g style=\"fill:#262626;\" transform=\"translate(119.884344 324.249105)scale(0.12 -0.12)\">\r\n      <defs>\r\n       <path d=\"M 7.71875 0 \r\nL 7.71875 71.578125 \r\nL 34.71875 71.578125 \r\nQ 41.84375 71.578125 45.609375 70.90625 \r\nQ 50.875 70.015625 54.4375 67.546875 \r\nQ 58.015625 65.09375 60.1875 60.640625 \r\nQ 62.359375 56.203125 62.359375 50.875 \r\nQ 62.359375 41.75 56.546875 35.421875 \r\nQ 50.734375 29.109375 35.546875 29.109375 \r\nL 17.1875 29.109375 \r\nL 17.1875 0 \r\nz\r\nM 17.1875 37.546875 \r\nL 35.6875 37.546875 \r\nQ 44.875 37.546875 48.734375 40.96875 \r\nQ 52.59375 44.390625 52.59375 50.59375 \r\nQ 52.59375 55.078125 50.3125 58.265625 \r\nQ 48.046875 61.46875 44.34375 62.5 \r\nQ 41.9375 63.140625 35.5 63.140625 \r\nL 17.1875 63.140625 \r\nz\r\n\" id=\"ArialMT-80\"/>\r\n       <path d=\"M 6.5 0 \r\nL 6.5 51.859375 \r\nL 14.40625 51.859375 \r\nL 14.40625 44 \r\nQ 17.4375 49.515625 20 51.265625 \r\nQ 22.5625 53.03125 25.640625 53.03125 \r\nQ 30.078125 53.03125 34.671875 50.203125 \r\nL 31.640625 42.046875 \r\nQ 28.421875 43.953125 25.203125 43.953125 \r\nQ 22.3125 43.953125 20.015625 42.21875 \r\nQ 17.71875 40.484375 16.75 37.40625 \r\nQ 15.28125 32.71875 15.28125 27.15625 \r\nL 15.28125 0 \r\nz\r\n\" id=\"ArialMT-114\"/>\r\n       <path d=\"M 42.09375 16.703125 \r\nL 51.171875 15.578125 \r\nQ 49.03125 7.625 43.21875 3.21875 \r\nQ 37.40625 -1.171875 28.375 -1.171875 \r\nQ 17 -1.171875 10.328125 5.828125 \r\nQ 3.65625 12.84375 3.65625 25.484375 \r\nQ 3.65625 38.578125 10.390625 45.796875 \r\nQ 17.140625 53.03125 27.875 53.03125 \r\nQ 38.28125 53.03125 44.875 45.953125 \r\nQ 51.46875 38.875 51.46875 26.03125 \r\nQ 51.46875 25.25 51.421875 23.6875 \r\nL 12.75 23.6875 \r\nQ 13.234375 15.140625 17.578125 10.59375 \r\nQ 21.921875 6.0625 28.421875 6.0625 \r\nQ 33.25 6.0625 36.671875 8.59375 \r\nQ 40.09375 11.140625 42.09375 16.703125 \r\nz\r\nM 13.234375 30.90625 \r\nL 42.1875 30.90625 \r\nQ 41.609375 37.453125 38.875 40.71875 \r\nQ 34.671875 45.796875 27.984375 45.796875 \r\nQ 21.921875 45.796875 17.796875 41.75 \r\nQ 13.671875 37.703125 13.234375 30.90625 \r\nz\r\n\" id=\"ArialMT-101\"/>\r\n       <path d=\"M 40.234375 0 \r\nL 40.234375 6.546875 \r\nQ 35.296875 -1.171875 25.734375 -1.171875 \r\nQ 19.53125 -1.171875 14.328125 2.25 \r\nQ 9.125 5.671875 6.265625 11.796875 \r\nQ 3.421875 17.921875 3.421875 25.875 \r\nQ 3.421875 33.640625 6 39.96875 \r\nQ 8.59375 46.296875 13.765625 49.65625 \r\nQ 18.953125 53.03125 25.34375 53.03125 \r\nQ 30.03125 53.03125 33.6875 51.046875 \r\nQ 37.359375 49.078125 39.65625 45.90625 \r\nL 39.65625 71.578125 \r\nL 48.390625 71.578125 \r\nL 48.390625 0 \r\nz\r\nM 12.453125 25.875 \r\nQ 12.453125 15.921875 16.640625 10.984375 \r\nQ 20.84375 6.0625 26.5625 6.0625 \r\nQ 32.328125 6.0625 36.34375 10.765625 \r\nQ 40.375 15.484375 40.375 25.140625 \r\nQ 40.375 35.796875 36.265625 40.765625 \r\nQ 32.171875 45.75 26.171875 45.75 \r\nQ 20.3125 45.75 16.375 40.96875 \r\nQ 12.453125 36.1875 12.453125 25.875 \r\nz\r\n\" id=\"ArialMT-100\"/>\r\n       <path d=\"M 6.640625 61.46875 \r\nL 6.640625 71.578125 \r\nL 15.4375 71.578125 \r\nL 15.4375 61.46875 \r\nz\r\nM 6.640625 0 \r\nL 6.640625 51.859375 \r\nL 15.4375 51.859375 \r\nL 15.4375 0 \r\nz\r\n\" id=\"ArialMT-105\"/>\r\n       <path d=\"M 40.4375 19 \r\nL 49.078125 17.875 \r\nQ 47.65625 8.9375 41.8125 3.875 \r\nQ 35.984375 -1.171875 27.484375 -1.171875 \r\nQ 16.84375 -1.171875 10.375 5.78125 \r\nQ 3.90625 12.75 3.90625 25.734375 \r\nQ 3.90625 34.125 6.6875 40.421875 \r\nQ 9.46875 46.734375 15.15625 49.875 \r\nQ 20.84375 53.03125 27.546875 53.03125 \r\nQ 35.984375 53.03125 41.359375 48.75 \r\nQ 46.734375 44.484375 48.25 36.625 \r\nL 39.703125 35.296875 \r\nQ 38.484375 40.53125 35.375 43.15625 \r\nQ 32.28125 45.796875 27.875 45.796875 \r\nQ 21.234375 45.796875 17.078125 41.03125 \r\nQ 12.9375 36.28125 12.9375 25.984375 \r\nQ 12.9375 15.53125 16.9375 10.796875 \r\nQ 20.953125 6.0625 27.390625 6.0625 \r\nQ 32.5625 6.0625 36.03125 9.234375 \r\nQ 39.5 12.40625 40.4375 19 \r\nz\r\n\" id=\"ArialMT-99\"/>\r\n       <path d=\"M 25.78125 7.859375 \r\nL 27.046875 0.09375 \r\nQ 23.34375 -0.6875 20.40625 -0.6875 \r\nQ 15.625 -0.6875 12.984375 0.828125 \r\nQ 10.359375 2.34375 9.28125 4.8125 \r\nQ 8.203125 7.28125 8.203125 15.1875 \r\nL 8.203125 45.015625 \r\nL 1.765625 45.015625 \r\nL 1.765625 51.859375 \r\nL 8.203125 51.859375 \r\nL 8.203125 64.703125 \r\nL 16.9375 69.96875 \r\nL 16.9375 51.859375 \r\nL 25.78125 51.859375 \r\nL 25.78125 45.015625 \r\nL 16.9375 45.015625 \r\nL 16.9375 14.703125 \r\nQ 16.9375 10.9375 17.40625 9.859375 \r\nQ 17.875 8.796875 18.921875 8.15625 \r\nQ 19.96875 7.515625 21.921875 7.515625 \r\nQ 23.390625 7.515625 25.78125 7.859375 \r\nz\r\n\" id=\"ArialMT-116\"/>\r\n       <path id=\"ArialMT-32\"/>\r\n       <path d=\"M 6.390625 0 \r\nL 6.390625 71.578125 \r\nL 15.1875 71.578125 \r\nL 15.1875 0 \r\nz\r\n\" id=\"ArialMT-108\"/>\r\n       <path d=\"M 40.4375 6.390625 \r\nQ 35.546875 2.25 31.03125 0.53125 \r\nQ 26.515625 -1.171875 21.34375 -1.171875 \r\nQ 12.796875 -1.171875 8.203125 3 \r\nQ 3.609375 7.171875 3.609375 13.671875 \r\nQ 3.609375 17.484375 5.34375 20.625 \r\nQ 7.078125 23.78125 9.890625 25.6875 \r\nQ 12.703125 27.59375 16.21875 28.5625 \r\nQ 18.796875 29.25 24.03125 29.890625 \r\nQ 34.671875 31.15625 39.703125 32.90625 \r\nQ 39.75 34.71875 39.75 35.203125 \r\nQ 39.75 40.578125 37.25 42.78125 \r\nQ 33.890625 45.75 27.25 45.75 \r\nQ 21.046875 45.75 18.09375 43.578125 \r\nQ 15.140625 41.40625 13.71875 35.890625 \r\nL 5.125 37.0625 \r\nQ 6.296875 42.578125 8.984375 45.96875 \r\nQ 11.671875 49.359375 16.75 51.1875 \r\nQ 21.828125 53.03125 28.515625 53.03125 \r\nQ 35.15625 53.03125 39.296875 51.46875 \r\nQ 43.453125 49.90625 45.40625 47.53125 \r\nQ 47.359375 45.171875 48.140625 41.546875 \r\nQ 48.578125 39.3125 48.578125 33.453125 \r\nL 48.578125 21.734375 \r\nQ 48.578125 9.46875 49.140625 6.21875 \r\nQ 49.703125 2.984375 51.375 0 \r\nL 42.1875 0 \r\nQ 40.828125 2.734375 40.4375 6.390625 \r\nz\r\nM 39.703125 26.03125 \r\nQ 34.90625 24.078125 25.34375 22.703125 \r\nQ 19.921875 21.921875 17.671875 20.9375 \r\nQ 15.4375 19.96875 14.203125 18.09375 \r\nQ 12.984375 16.21875 12.984375 13.921875 \r\nQ 12.984375 10.40625 15.640625 8.0625 \r\nQ 18.3125 5.71875 23.4375 5.71875 \r\nQ 28.515625 5.71875 32.46875 7.9375 \r\nQ 36.421875 10.15625 38.28125 14.015625 \r\nQ 39.703125 17 39.703125 22.796875 \r\nz\r\n\" id=\"ArialMT-97\"/>\r\n       <path d=\"M 14.703125 0 \r\nL 6.546875 0 \r\nL 6.546875 71.578125 \r\nL 15.328125 71.578125 \r\nL 15.328125 46.046875 \r\nQ 20.90625 53.03125 29.546875 53.03125 \r\nQ 34.328125 53.03125 38.59375 51.09375 \r\nQ 42.875 49.171875 45.625 45.671875 \r\nQ 48.390625 42.1875 49.953125 37.25 \r\nQ 51.515625 32.328125 51.515625 26.703125 \r\nQ 51.515625 13.375 44.921875 6.09375 \r\nQ 38.328125 -1.171875 29.109375 -1.171875 \r\nQ 19.921875 -1.171875 14.703125 6.5 \r\nz\r\nM 14.59375 26.3125 \r\nQ 14.59375 17 17.140625 12.84375 \r\nQ 21.296875 6.0625 28.375 6.0625 \r\nQ 34.125 6.0625 38.328125 11.0625 \r\nQ 42.53125 16.0625 42.53125 25.984375 \r\nQ 42.53125 36.140625 38.5 40.96875 \r\nQ 34.46875 45.796875 28.765625 45.796875 \r\nQ 23 45.796875 18.796875 40.796875 \r\nQ 14.59375 35.796875 14.59375 26.3125 \r\nz\r\n\" id=\"ArialMT-98\"/>\r\n      </defs>\r\n      <use xlink:href=\"#ArialMT-80\"/>\r\n      <use x=\"66.699219\" xlink:href=\"#ArialMT-114\"/>\r\n      <use x=\"100\" xlink:href=\"#ArialMT-101\"/>\r\n      <use x=\"155.615234\" xlink:href=\"#ArialMT-100\"/>\r\n      <use x=\"211.230469\" xlink:href=\"#ArialMT-105\"/>\r\n      <use x=\"233.447266\" xlink:href=\"#ArialMT-99\"/>\r\n      <use x=\"283.447266\" xlink:href=\"#ArialMT-116\"/>\r\n      <use x=\"311.230469\" xlink:href=\"#ArialMT-101\"/>\r\n      <use x=\"366.845703\" xlink:href=\"#ArialMT-100\"/>\r\n      <use x=\"422.460938\" xlink:href=\"#ArialMT-32\"/>\r\n      <use x=\"450.244141\" xlink:href=\"#ArialMT-108\"/>\r\n      <use x=\"472.460938\" xlink:href=\"#ArialMT-97\"/>\r\n      <use x=\"528.076172\" xlink:href=\"#ArialMT-98\"/>\r\n      <use x=\"583.691406\" xlink:href=\"#ArialMT-101\"/>\r\n      <use x=\"639.306641\" xlink:href=\"#ArialMT-108\"/>\r\n     </g>\r\n    </g>\r\n   </g>\r\n   <g id=\"matplotlib.axis_2\">\r\n    <g id=\"ytick_1\">\r\n     <g id=\"line2d_4\">\r\n      <path clip-path=\"url(#p07c76b30ad)\" d=\"M 37.791406 87.750952 \r\nL 281.355406 87.750952 \r\n\" style=\"fill:none;stroke:#ffffff;stroke-linecap:round;\"/>\r\n     </g>\r\n     <g id=\"text_5\">\r\n      <!-- 0 -->\r\n      <g style=\"fill:#262626;\" transform=\"translate(22.174375 91.687748)scale(0.11 -0.11)\">\r\n       <use xlink:href=\"#ArialMT-48\"/>\r\n      </g>\r\n     </g>\r\n    </g>\r\n    <g id=\"ytick_2\">\r\n     <g id=\"line2d_5\">\r\n      <path clip-path=\"url(#p07c76b30ad)\" d=\"M 37.791406 168.938952 \r\nL 281.355406 168.938952 \r\n\" style=\"fill:none;stroke:#ffffff;stroke-linecap:round;\"/>\r\n     </g>\r\n     <g id=\"text_6\">\r\n      <!-- 1 -->\r\n      <g style=\"fill:#262626;\" transform=\"translate(22.174375 172.875748)scale(0.11 -0.11)\">\r\n       <use xlink:href=\"#ArialMT-49\"/>\r\n      </g>\r\n     </g>\r\n    </g>\r\n    <g id=\"ytick_3\">\r\n     <g id=\"line2d_6\">\r\n      <path clip-path=\"url(#p07c76b30ad)\" d=\"M 37.791406 250.126952 \r\nL 281.355406 250.126952 \r\n\" style=\"fill:none;stroke:#ffffff;stroke-linecap:round;\"/>\r\n     </g>\r\n     <g id=\"text_7\">\r\n      <!-- 2 -->\r\n      <g style=\"fill:#262626;\" transform=\"translate(22.174375 254.063748)scale(0.11 -0.11)\">\r\n       <use xlink:href=\"#ArialMT-50\"/>\r\n      </g>\r\n     </g>\r\n    </g>\r\n    <g id=\"text_8\">\r\n     <!-- True label -->\r\n     <g style=\"fill:#262626;\" transform=\"translate(15.789375 195.392389)rotate(-90)scale(0.12 -0.12)\">\r\n      <defs>\r\n       <path d=\"M 25.921875 0 \r\nL 25.921875 63.140625 \r\nL 2.34375 63.140625 \r\nL 2.34375 71.578125 \r\nL 59.078125 71.578125 \r\nL 59.078125 63.140625 \r\nL 35.40625 63.140625 \r\nL 35.40625 0 \r\nz\r\n\" id=\"ArialMT-84\"/>\r\n       <path d=\"M 40.578125 0 \r\nL 40.578125 7.625 \r\nQ 34.515625 -1.171875 24.125 -1.171875 \r\nQ 19.53125 -1.171875 15.546875 0.578125 \r\nQ 11.578125 2.34375 9.640625 5 \r\nQ 7.71875 7.671875 6.9375 11.53125 \r\nQ 6.390625 14.109375 6.390625 19.734375 \r\nL 6.390625 51.859375 \r\nL 15.1875 51.859375 \r\nL 15.1875 23.09375 \r\nQ 15.1875 16.21875 15.71875 13.8125 \r\nQ 16.546875 10.359375 19.234375 8.375 \r\nQ 21.921875 6.390625 25.875 6.390625 \r\nQ 29.828125 6.390625 33.296875 8.421875 \r\nQ 36.765625 10.453125 38.203125 13.9375 \r\nQ 39.65625 17.4375 39.65625 24.078125 \r\nL 39.65625 51.859375 \r\nL 48.4375 51.859375 \r\nL 48.4375 0 \r\nz\r\n\" id=\"ArialMT-117\"/>\r\n      </defs>\r\n      <use xlink:href=\"#ArialMT-84\"/>\r\n      <use x=\"57.333984\" xlink:href=\"#ArialMT-114\"/>\r\n      <use x=\"90.634766\" xlink:href=\"#ArialMT-117\"/>\r\n      <use x=\"146.25\" xlink:href=\"#ArialMT-101\"/>\r\n      <use x=\"201.865234\" xlink:href=\"#ArialMT-32\"/>\r\n      <use x=\"229.648438\" xlink:href=\"#ArialMT-108\"/>\r\n      <use x=\"251.865234\" xlink:href=\"#ArialMT-97\"/>\r\n      <use x=\"307.480469\" xlink:href=\"#ArialMT-98\"/>\r\n      <use x=\"363.095703\" xlink:href=\"#ArialMT-101\"/>\r\n      <use x=\"418.710938\" xlink:href=\"#ArialMT-108\"/>\r\n     </g>\r\n    </g>\r\n   </g>\r\n   <g id=\"patch_3\">\r\n    <path d=\"M 37.791406 290.720952 \r\nL 37.791406 47.156952 \r\n\" style=\"fill:none;stroke:#ffffff;stroke-linecap:square;stroke-linejoin:miter;stroke-width:1.25;\"/>\r\n   </g>\r\n   <g id=\"patch_4\">\r\n    <path d=\"M 281.355406 290.720952 \r\nL 281.355406 47.156952 \r\n\" style=\"fill:none;stroke:#ffffff;stroke-linecap:square;stroke-linejoin:miter;stroke-width:1.25;\"/>\r\n   </g>\r\n   <g id=\"patch_5\">\r\n    <path d=\"M 37.791406 290.720952 \r\nL 281.355406 290.720952 \r\n\" style=\"fill:none;stroke:#ffffff;stroke-linecap:square;stroke-linejoin:miter;stroke-width:1.25;\"/>\r\n   </g>\r\n   <g id=\"patch_6\">\r\n    <path d=\"M 37.791406 47.156952 \r\nL 281.355406 47.156952 \r\n\" style=\"fill:none;stroke:#ffffff;stroke-linecap:square;stroke-linejoin:miter;stroke-width:1.25;\"/>\r\n   </g>\r\n   <g id=\"text_9\">\r\n    <!-- 0.12 -->\r\n    <g transform=\"translate(66.708844 90.853139)scale(0.12 -0.12)\">\r\n     <defs>\r\n      <path d=\"M 9.078125 0 \r\nL 9.078125 10.015625 \r\nL 19.09375 10.015625 \r\nL 19.09375 0 \r\nz\r\n\" id=\"ArialMT-46\"/>\r\n     </defs>\r\n     <use xlink:href=\"#ArialMT-48\"/>\r\n     <use x=\"55.615234\" xlink:href=\"#ArialMT-46\"/>\r\n     <use x=\"83.398438\" xlink:href=\"#ArialMT-49\"/>\r\n     <use x=\"139.013672\" xlink:href=\"#ArialMT-50\"/>\r\n    </g>\r\n   </g>\r\n   <g id=\"text_10\">\r\n    <!-- 0.75 -->\r\n    <g style=\"fill:#ffffff;\" transform=\"translate(147.896844 90.853139)scale(0.12 -0.12)\">\r\n     <defs>\r\n      <path d=\"M 4.734375 62.203125 \r\nL 4.734375 70.65625 \r\nL 51.078125 70.65625 \r\nL 51.078125 63.8125 \r\nQ 44.234375 56.546875 37.515625 44.484375 \r\nQ 30.8125 32.421875 27.15625 19.671875 \r\nQ 24.515625 10.6875 23.78125 0 \r\nL 14.75 0 \r\nQ 14.890625 8.453125 18.0625 20.40625 \r\nQ 21.234375 32.375 27.171875 43.484375 \r\nQ 33.109375 54.59375 39.796875 62.203125 \r\nz\r\n\" id=\"ArialMT-55\"/>\r\n      <path d=\"M 4.15625 18.75 \r\nL 13.375 19.53125 \r\nQ 14.40625 12.796875 18.140625 9.390625 \r\nQ 21.875 6 27.15625 6 \r\nQ 33.5 6 37.890625 10.78125 \r\nQ 42.28125 15.578125 42.28125 23.484375 \r\nQ 42.28125 31 38.0625 35.34375 \r\nQ 33.84375 39.703125 27 39.703125 \r\nQ 22.75 39.703125 19.328125 37.765625 \r\nQ 15.921875 35.84375 13.96875 32.765625 \r\nL 5.71875 33.84375 \r\nL 12.640625 70.609375 \r\nL 48.25 70.609375 \r\nL 48.25 62.203125 \r\nL 19.671875 62.203125 \r\nL 15.828125 42.96875 \r\nQ 22.265625 47.46875 29.34375 47.46875 \r\nQ 38.71875 47.46875 45.15625 40.96875 \r\nQ 51.609375 34.46875 51.609375 24.265625 \r\nQ 51.609375 14.546875 45.953125 7.46875 \r\nQ 39.0625 -1.21875 27.15625 -1.21875 \r\nQ 17.390625 -1.21875 11.203125 4.25 \r\nQ 5.03125 9.71875 4.15625 18.75 \r\nz\r\n\" id=\"ArialMT-53\"/>\r\n     </defs>\r\n     <use xlink:href=\"#ArialMT-48\"/>\r\n     <use x=\"55.615234\" xlink:href=\"#ArialMT-46\"/>\r\n     <use x=\"83.398438\" xlink:href=\"#ArialMT-55\"/>\r\n     <use x=\"139.013672\" xlink:href=\"#ArialMT-53\"/>\r\n    </g>\r\n   </g>\r\n   <g id=\"text_11\">\r\n    <!-- 0.13 -->\r\n    <g transform=\"translate(229.084844 90.853139)scale(0.12 -0.12)\">\r\n     <defs>\r\n      <path d=\"M 4.203125 18.890625 \r\nL 12.984375 20.0625 \r\nQ 14.5 12.59375 18.140625 9.296875 \r\nQ 21.78125 6 27 6 \r\nQ 33.203125 6 37.46875 10.296875 \r\nQ 41.75 14.59375 41.75 20.953125 \r\nQ 41.75 27 37.796875 30.921875 \r\nQ 33.84375 34.859375 27.734375 34.859375 \r\nQ 25.25 34.859375 21.53125 33.890625 \r\nL 22.515625 41.609375 \r\nQ 23.390625 41.5 23.921875 41.5 \r\nQ 29.546875 41.5 34.03125 44.421875 \r\nQ 38.53125 47.359375 38.53125 53.46875 \r\nQ 38.53125 58.296875 35.25 61.46875 \r\nQ 31.984375 64.65625 26.8125 64.65625 \r\nQ 21.6875 64.65625 18.265625 61.421875 \r\nQ 14.84375 58.203125 13.875 51.765625 \r\nL 5.078125 53.328125 \r\nQ 6.6875 62.15625 12.390625 67.015625 \r\nQ 18.109375 71.875 26.609375 71.875 \r\nQ 32.46875 71.875 37.390625 69.359375 \r\nQ 42.328125 66.84375 44.9375 62.5 \r\nQ 47.5625 58.15625 47.5625 53.265625 \r\nQ 47.5625 48.640625 45.0625 44.828125 \r\nQ 42.578125 41.015625 37.703125 38.765625 \r\nQ 44.046875 37.3125 47.5625 32.6875 \r\nQ 51.078125 28.078125 51.078125 21.140625 \r\nQ 51.078125 11.765625 44.234375 5.25 \r\nQ 37.40625 -1.265625 26.953125 -1.265625 \r\nQ 17.53125 -1.265625 11.296875 4.34375 \r\nQ 5.078125 9.96875 4.203125 18.890625 \r\nz\r\n\" id=\"ArialMT-51\"/>\r\n     </defs>\r\n     <use xlink:href=\"#ArialMT-48\"/>\r\n     <use x=\"55.615234\" xlink:href=\"#ArialMT-46\"/>\r\n     <use x=\"83.398438\" xlink:href=\"#ArialMT-49\"/>\r\n     <use x=\"139.013672\" xlink:href=\"#ArialMT-51\"/>\r\n    </g>\r\n   </g>\r\n   <g id=\"text_12\">\r\n    <!-- 0.01 -->\r\n    <g transform=\"translate(66.708844 172.041139)scale(0.12 -0.12)\">\r\n     <use xlink:href=\"#ArialMT-48\"/>\r\n     <use x=\"55.615234\" xlink:href=\"#ArialMT-46\"/>\r\n     <use x=\"83.398438\" xlink:href=\"#ArialMT-48\"/>\r\n     <use x=\"139.013672\" xlink:href=\"#ArialMT-49\"/>\r\n    </g>\r\n   </g>\r\n   <g id=\"text_13\">\r\n    <!-- 0.94 -->\r\n    <g style=\"fill:#ffffff;\" transform=\"translate(147.896844 172.041139)scale(0.12 -0.12)\">\r\n     <defs>\r\n      <path d=\"M 5.46875 16.546875 \r\nL 13.921875 17.328125 \r\nQ 14.984375 11.375 18.015625 8.6875 \r\nQ 21.046875 6 25.78125 6 \r\nQ 29.828125 6 32.875 7.859375 \r\nQ 35.9375 9.71875 37.890625 12.8125 \r\nQ 39.84375 15.921875 41.15625 21.1875 \r\nQ 42.484375 26.46875 42.484375 31.9375 \r\nQ 42.484375 32.515625 42.4375 33.6875 \r\nQ 39.796875 29.5 35.234375 26.875 \r\nQ 30.671875 24.265625 25.34375 24.265625 \r\nQ 16.453125 24.265625 10.296875 30.703125 \r\nQ 4.15625 37.15625 4.15625 47.703125 \r\nQ 4.15625 58.59375 10.578125 65.234375 \r\nQ 17 71.875 26.65625 71.875 \r\nQ 33.640625 71.875 39.421875 68.109375 \r\nQ 45.21875 64.359375 48.21875 57.390625 \r\nQ 51.21875 50.4375 51.21875 37.25 \r\nQ 51.21875 23.53125 48.234375 15.40625 \r\nQ 45.265625 7.28125 39.375 3.03125 \r\nQ 33.5 -1.21875 25.59375 -1.21875 \r\nQ 17.1875 -1.21875 11.859375 3.4375 \r\nQ 6.546875 8.109375 5.46875 16.546875 \r\nz\r\nM 41.453125 48.140625 \r\nQ 41.453125 55.71875 37.421875 60.15625 \r\nQ 33.40625 64.59375 27.734375 64.59375 \r\nQ 21.875 64.59375 17.53125 59.8125 \r\nQ 13.1875 55.03125 13.1875 47.40625 \r\nQ 13.1875 40.578125 17.3125 36.296875 \r\nQ 21.4375 32.03125 27.484375 32.03125 \r\nQ 33.59375 32.03125 37.515625 36.296875 \r\nQ 41.453125 40.578125 41.453125 48.140625 \r\nz\r\n\" id=\"ArialMT-57\"/>\r\n      <path d=\"M 32.328125 0 \r\nL 32.328125 17.140625 \r\nL 1.265625 17.140625 \r\nL 1.265625 25.203125 \r\nL 33.9375 71.578125 \r\nL 41.109375 71.578125 \r\nL 41.109375 25.203125 \r\nL 50.78125 25.203125 \r\nL 50.78125 17.140625 \r\nL 41.109375 17.140625 \r\nL 41.109375 0 \r\nz\r\nM 32.328125 25.203125 \r\nL 32.328125 57.46875 \r\nL 9.90625 25.203125 \r\nz\r\n\" id=\"ArialMT-52\"/>\r\n     </defs>\r\n     <use xlink:href=\"#ArialMT-48\"/>\r\n     <use x=\"55.615234\" xlink:href=\"#ArialMT-46\"/>\r\n     <use x=\"83.398438\" xlink:href=\"#ArialMT-57\"/>\r\n     <use x=\"139.013672\" xlink:href=\"#ArialMT-52\"/>\r\n    </g>\r\n   </g>\r\n   <g id=\"text_14\">\r\n    <!-- 0.05 -->\r\n    <g transform=\"translate(229.084844 172.041139)scale(0.12 -0.12)\">\r\n     <use xlink:href=\"#ArialMT-48\"/>\r\n     <use x=\"55.615234\" xlink:href=\"#ArialMT-46\"/>\r\n     <use x=\"83.398438\" xlink:href=\"#ArialMT-48\"/>\r\n     <use x=\"139.013672\" xlink:href=\"#ArialMT-53\"/>\r\n    </g>\r\n   </g>\r\n   <g id=\"text_15\">\r\n    <!-- 0.00 -->\r\n    <g transform=\"translate(66.708844 253.229139)scale(0.12 -0.12)\">\r\n     <use xlink:href=\"#ArialMT-48\"/>\r\n     <use x=\"55.615234\" xlink:href=\"#ArialMT-46\"/>\r\n     <use x=\"83.398438\" xlink:href=\"#ArialMT-48\"/>\r\n     <use x=\"139.013672\" xlink:href=\"#ArialMT-48\"/>\r\n    </g>\r\n   </g>\r\n   <g id=\"text_16\">\r\n    <!-- 0.23 -->\r\n    <g transform=\"translate(147.896844 253.229139)scale(0.12 -0.12)\">\r\n     <use xlink:href=\"#ArialMT-48\"/>\r\n     <use x=\"55.615234\" xlink:href=\"#ArialMT-46\"/>\r\n     <use x=\"83.398438\" xlink:href=\"#ArialMT-50\"/>\r\n     <use x=\"139.013672\" xlink:href=\"#ArialMT-51\"/>\r\n    </g>\r\n   </g>\r\n   <g id=\"text_17\">\r\n    <!-- 0.77 -->\r\n    <g style=\"fill:#ffffff;\" transform=\"translate(229.084844 253.229139)scale(0.12 -0.12)\">\r\n     <use xlink:href=\"#ArialMT-48\"/>\r\n     <use x=\"55.615234\" xlink:href=\"#ArialMT-46\"/>\r\n     <use x=\"83.398438\" xlink:href=\"#ArialMT-55\"/>\r\n     <use x=\"139.013672\" xlink:href=\"#ArialMT-55\"/>\r\n    </g>\r\n   </g>\r\n   <g id=\"text_18\">\r\n    <!-- Normalized confusion matrix -->\r\n    <g style=\"fill:#262626;\" transform=\"translate(83.883406 41.156952)scale(0.12 -0.12)\">\r\n     <defs>\r\n      <path d=\"M 7.625 0 \r\nL 7.625 71.578125 \r\nL 17.328125 71.578125 \r\nL 54.9375 15.375 \r\nL 54.9375 71.578125 \r\nL 64.015625 71.578125 \r\nL 64.015625 0 \r\nL 54.296875 0 \r\nL 16.703125 56.25 \r\nL 16.703125 0 \r\nz\r\n\" id=\"ArialMT-78\"/>\r\n      <path d=\"M 3.328125 25.921875 \r\nQ 3.328125 40.328125 11.328125 47.265625 \r\nQ 18.015625 53.03125 27.640625 53.03125 \r\nQ 38.328125 53.03125 45.109375 46.015625 \r\nQ 51.90625 39.015625 51.90625 26.65625 \r\nQ 51.90625 16.65625 48.90625 10.90625 \r\nQ 45.90625 5.171875 40.15625 2 \r\nQ 34.421875 -1.171875 27.640625 -1.171875 \r\nQ 16.75 -1.171875 10.03125 5.8125 \r\nQ 3.328125 12.796875 3.328125 25.921875 \r\nz\r\nM 12.359375 25.921875 \r\nQ 12.359375 15.96875 16.703125 11.015625 \r\nQ 21.046875 6.0625 27.640625 6.0625 \r\nQ 34.1875 6.0625 38.53125 11.03125 \r\nQ 42.875 16.015625 42.875 26.21875 \r\nQ 42.875 35.84375 38.5 40.796875 \r\nQ 34.125 45.75 27.640625 45.75 \r\nQ 21.046875 45.75 16.703125 40.8125 \r\nQ 12.359375 35.890625 12.359375 25.921875 \r\nz\r\n\" id=\"ArialMT-111\"/>\r\n      <path d=\"M 6.59375 0 \r\nL 6.59375 51.859375 \r\nL 14.453125 51.859375 \r\nL 14.453125 44.578125 \r\nQ 16.890625 48.390625 20.9375 50.703125 \r\nQ 25 53.03125 30.171875 53.03125 \r\nQ 35.9375 53.03125 39.625 50.640625 \r\nQ 43.3125 48.25 44.828125 43.953125 \r\nQ 50.984375 53.03125 60.84375 53.03125 \r\nQ 68.5625 53.03125 72.703125 48.75 \r\nQ 76.859375 44.484375 76.859375 35.59375 \r\nL 76.859375 0 \r\nL 68.109375 0 \r\nL 68.109375 32.671875 \r\nQ 68.109375 37.9375 67.25 40.25 \r\nQ 66.40625 42.578125 64.15625 43.984375 \r\nQ 61.921875 45.40625 58.890625 45.40625 \r\nQ 53.421875 45.40625 49.796875 41.765625 \r\nQ 46.1875 38.140625 46.1875 30.125 \r\nL 46.1875 0 \r\nL 37.40625 0 \r\nL 37.40625 33.6875 \r\nQ 37.40625 39.546875 35.25 42.46875 \r\nQ 33.109375 45.40625 28.21875 45.40625 \r\nQ 24.515625 45.40625 21.359375 43.453125 \r\nQ 18.21875 41.5 16.796875 37.734375 \r\nQ 15.375 33.984375 15.375 26.90625 \r\nL 15.375 0 \r\nz\r\n\" id=\"ArialMT-109\"/>\r\n      <path d=\"M 1.953125 0 \r\nL 1.953125 7.125 \r\nL 34.96875 45.015625 \r\nQ 29.34375 44.734375 25.046875 44.734375 \r\nL 3.90625 44.734375 \r\nL 3.90625 51.859375 \r\nL 46.296875 51.859375 \r\nL 46.296875 46.046875 \r\nL 18.21875 13.140625 \r\nL 12.796875 7.125 \r\nQ 18.703125 7.5625 23.875 7.5625 \r\nL 47.859375 7.5625 \r\nL 47.859375 0 \r\nz\r\n\" id=\"ArialMT-122\"/>\r\n      <path d=\"M 6.59375 0 \r\nL 6.59375 51.859375 \r\nL 14.5 51.859375 \r\nL 14.5 44.484375 \r\nQ 20.21875 53.03125 31 53.03125 \r\nQ 35.6875 53.03125 39.625 51.34375 \r\nQ 43.5625 49.65625 45.515625 46.921875 \r\nQ 47.46875 44.1875 48.25 40.4375 \r\nQ 48.734375 37.984375 48.734375 31.890625 \r\nL 48.734375 0 \r\nL 39.9375 0 \r\nL 39.9375 31.546875 \r\nQ 39.9375 36.921875 38.90625 39.578125 \r\nQ 37.890625 42.234375 35.28125 43.8125 \r\nQ 32.671875 45.40625 29.15625 45.40625 \r\nQ 23.53125 45.40625 19.453125 41.84375 \r\nQ 15.375 38.28125 15.375 28.328125 \r\nL 15.375 0 \r\nz\r\n\" id=\"ArialMT-110\"/>\r\n      <path d=\"M 8.6875 0 \r\nL 8.6875 45.015625 \r\nL 0.921875 45.015625 \r\nL 0.921875 51.859375 \r\nL 8.6875 51.859375 \r\nL 8.6875 57.375 \r\nQ 8.6875 62.59375 9.625 65.140625 \r\nQ 10.890625 68.5625 14.078125 70.671875 \r\nQ 17.28125 72.796875 23.046875 72.796875 \r\nQ 26.765625 72.796875 31.25 71.921875 \r\nL 29.9375 64.265625 \r\nQ 27.203125 64.75 24.75 64.75 \r\nQ 20.75 64.75 19.09375 63.03125 \r\nQ 17.4375 61.328125 17.4375 56.640625 \r\nL 17.4375 51.859375 \r\nL 27.546875 51.859375 \r\nL 27.546875 45.015625 \r\nL 17.4375 45.015625 \r\nL 17.4375 0 \r\nz\r\n\" id=\"ArialMT-102\"/>\r\n      <path d=\"M 3.078125 15.484375 \r\nL 11.765625 16.84375 \r\nQ 12.5 11.625 15.84375 8.84375 \r\nQ 19.1875 6.0625 25.203125 6.0625 \r\nQ 31.25 6.0625 34.171875 8.515625 \r\nQ 37.109375 10.984375 37.109375 14.3125 \r\nQ 37.109375 17.28125 34.515625 19 \r\nQ 32.71875 20.171875 25.53125 21.96875 \r\nQ 15.875 24.421875 12.140625 26.203125 \r\nQ 8.40625 27.984375 6.46875 31.125 \r\nQ 4.546875 34.28125 4.546875 38.09375 \r\nQ 4.546875 41.546875 6.125 44.5 \r\nQ 7.71875 47.46875 10.453125 49.421875 \r\nQ 12.5 50.921875 16.03125 51.96875 \r\nQ 19.578125 53.03125 23.640625 53.03125 \r\nQ 29.734375 53.03125 34.34375 51.265625 \r\nQ 38.96875 49.515625 41.15625 46.5 \r\nQ 43.359375 43.5 44.1875 38.484375 \r\nL 35.59375 37.3125 \r\nQ 35.015625 41.3125 32.203125 43.546875 \r\nQ 29.390625 45.796875 24.265625 45.796875 \r\nQ 18.21875 45.796875 15.625 43.796875 \r\nQ 13.03125 41.796875 13.03125 39.109375 \r\nQ 13.03125 37.40625 14.109375 36.03125 \r\nQ 15.1875 34.625 17.484375 33.6875 \r\nQ 18.796875 33.203125 25.25 31.453125 \r\nQ 34.578125 28.953125 38.25 27.359375 \r\nQ 41.9375 25.78125 44.03125 22.75 \r\nQ 46.140625 19.734375 46.140625 15.234375 \r\nQ 46.140625 10.84375 43.578125 6.953125 \r\nQ 41.015625 3.078125 36.171875 0.953125 \r\nQ 31.34375 -1.171875 25.25 -1.171875 \r\nQ 15.140625 -1.171875 9.84375 3.03125 \r\nQ 4.546875 7.234375 3.078125 15.484375 \r\nz\r\n\" id=\"ArialMT-115\"/>\r\n      <path d=\"M 0.734375 0 \r\nL 19.671875 26.953125 \r\nL 2.15625 51.859375 \r\nL 13.140625 51.859375 \r\nL 21.09375 39.703125 \r\nQ 23.34375 36.234375 24.703125 33.890625 \r\nQ 26.859375 37.109375 28.65625 39.59375 \r\nL 37.40625 51.859375 \r\nL 47.90625 51.859375 \r\nL 29.984375 27.4375 \r\nL 49.265625 0 \r\nL 38.484375 0 \r\nL 27.828125 16.109375 \r\nL 25 20.453125 \r\nL 11.375 0 \r\nz\r\n\" id=\"ArialMT-120\"/>\r\n     </defs>\r\n     <use xlink:href=\"#ArialMT-78\"/>\r\n     <use x=\"72.216797\" xlink:href=\"#ArialMT-111\"/>\r\n     <use x=\"127.832031\" xlink:href=\"#ArialMT-114\"/>\r\n     <use x=\"161.132812\" xlink:href=\"#ArialMT-109\"/>\r\n     <use x=\"244.433594\" xlink:href=\"#ArialMT-97\"/>\r\n     <use x=\"300.048828\" xlink:href=\"#ArialMT-108\"/>\r\n     <use x=\"322.265625\" xlink:href=\"#ArialMT-105\"/>\r\n     <use x=\"344.482422\" xlink:href=\"#ArialMT-122\"/>\r\n     <use x=\"394.482422\" xlink:href=\"#ArialMT-101\"/>\r\n     <use x=\"450.097656\" xlink:href=\"#ArialMT-100\"/>\r\n     <use x=\"505.712891\" xlink:href=\"#ArialMT-32\"/>\r\n     <use x=\"533.496094\" xlink:href=\"#ArialMT-99\"/>\r\n     <use x=\"583.496094\" xlink:href=\"#ArialMT-111\"/>\r\n     <use x=\"639.111328\" xlink:href=\"#ArialMT-110\"/>\r\n     <use x=\"694.726562\" xlink:href=\"#ArialMT-102\"/>\r\n     <use x=\"722.509766\" xlink:href=\"#ArialMT-117\"/>\r\n     <use x=\"778.125\" xlink:href=\"#ArialMT-115\"/>\r\n     <use x=\"828.125\" xlink:href=\"#ArialMT-105\"/>\r\n     <use x=\"850.341797\" xlink:href=\"#ArialMT-111\"/>\r\n     <use x=\"905.957031\" xlink:href=\"#ArialMT-110\"/>\r\n     <use x=\"961.572266\" xlink:href=\"#ArialMT-32\"/>\r\n     <use x=\"989.355469\" xlink:href=\"#ArialMT-109\"/>\r\n     <use x=\"1072.65625\" xlink:href=\"#ArialMT-97\"/>\r\n     <use x=\"1128.271484\" xlink:href=\"#ArialMT-116\"/>\r\n     <use x=\"1156.054688\" xlink:href=\"#ArialMT-114\"/>\r\n     <use x=\"1189.355469\" xlink:href=\"#ArialMT-105\"/>\r\n     <use x=\"1211.572266\" xlink:href=\"#ArialMT-120\"/>\r\n    </g>\r\n   </g>\r\n  </g>\r\n  <g id=\"axes_2\">\r\n   <g id=\"patch_7\">\r\n    <path clip-path=\"url(#p442ee9158d)\" d=\"M 296.578156 330.677903 \r\nL 296.578156 329.414318 \r\nL 296.578156 8.463586 \r\nL 296.578156 7.2 \r\nL 312.752051 7.2 \r\nL 312.752051 8.463586 \r\nL 312.752051 329.414318 \r\nL 312.752051 330.677903 \r\nz\r\n\" style=\"fill:#eaeaf2;stroke:#eaeaf2;stroke-linejoin:miter;stroke-width:0.01;\"/>\r\n   </g>\r\n   <g id=\"matplotlib.axis_3\"/>\r\n   <g id=\"matplotlib.axis_4\">\r\n    <g id=\"ytick_4\">\r\n     <g id=\"line2d_7\">\r\n      <defs>\r\n       <path d=\"M 0 0 \r\nL 6 0 \r\n\" id=\"m8a21d584d9\" style=\"stroke:#262626;stroke-width:1.25;\"/>\r\n      </defs>\r\n      <g>\r\n       <use style=\"fill:#262626;stroke:#262626;stroke-width:1.25;\" x=\"312.752051\" xlink:href=\"#m8a21d584d9\" y=\"263.029884\"/>\r\n      </g>\r\n     </g>\r\n     <g id=\"text_19\">\r\n      <!-- 0.2 -->\r\n      <g style=\"fill:#262626;\" transform=\"translate(322.252051 266.96668)scale(0.11 -0.11)\">\r\n       <use xlink:href=\"#ArialMT-48\"/>\r\n       <use x=\"55.615234\" xlink:href=\"#ArialMT-46\"/>\r\n       <use x=\"83.398438\" xlink:href=\"#ArialMT-50\"/>\r\n      </g>\r\n     </g>\r\n    </g>\r\n    <g id=\"ytick_5\">\r\n     <g id=\"line2d_8\">\r\n      <g>\r\n       <use style=\"fill:#262626;stroke:#262626;stroke-width:1.25;\" x=\"312.752051\" xlink:href=\"#m8a21d584d9\" y=\"194.013579\"/>\r\n      </g>\r\n     </g>\r\n     <g id=\"text_20\">\r\n      <!-- 0.4 -->\r\n      <g style=\"fill:#262626;\" transform=\"translate(322.252051 197.950376)scale(0.11 -0.11)\">\r\n       <use xlink:href=\"#ArialMT-48\"/>\r\n       <use x=\"55.615234\" xlink:href=\"#ArialMT-46\"/>\r\n       <use x=\"83.398438\" xlink:href=\"#ArialMT-52\"/>\r\n      </g>\r\n     </g>\r\n    </g>\r\n    <g id=\"ytick_6\">\r\n     <g id=\"line2d_9\">\r\n      <g>\r\n       <use style=\"fill:#262626;stroke:#262626;stroke-width:1.25;\" x=\"312.752051\" xlink:href=\"#m8a21d584d9\" y=\"124.997274\"/>\r\n      </g>\r\n     </g>\r\n     <g id=\"text_21\">\r\n      <!-- 0.6 -->\r\n      <g style=\"fill:#262626;\" transform=\"translate(322.252051 128.934071)scale(0.11 -0.11)\">\r\n       <defs>\r\n        <path d=\"M 49.75 54.046875 \r\nL 41.015625 53.375 \r\nQ 39.84375 58.546875 37.703125 60.890625 \r\nQ 34.125 64.65625 28.90625 64.65625 \r\nQ 24.703125 64.65625 21.53125 62.3125 \r\nQ 17.390625 59.28125 14.984375 53.46875 \r\nQ 12.59375 47.65625 12.5 36.921875 \r\nQ 15.671875 41.75 20.265625 44.09375 \r\nQ 24.859375 46.4375 29.890625 46.4375 \r\nQ 38.671875 46.4375 44.84375 39.96875 \r\nQ 51.03125 33.5 51.03125 23.25 \r\nQ 51.03125 16.5 48.125 10.71875 \r\nQ 45.21875 4.9375 40.140625 1.859375 \r\nQ 35.0625 -1.21875 28.609375 -1.21875 \r\nQ 17.625 -1.21875 10.6875 6.859375 \r\nQ 3.765625 14.9375 3.765625 33.5 \r\nQ 3.765625 54.25 11.421875 63.671875 \r\nQ 18.109375 71.875 29.4375 71.875 \r\nQ 37.890625 71.875 43.28125 67.140625 \r\nQ 48.6875 62.40625 49.75 54.046875 \r\nz\r\nM 13.875 23.1875 \r\nQ 13.875 18.65625 15.796875 14.5 \r\nQ 17.71875 10.359375 21.1875 8.171875 \r\nQ 24.65625 6 28.46875 6 \r\nQ 34.03125 6 38.03125 10.484375 \r\nQ 42.046875 14.984375 42.046875 22.703125 \r\nQ 42.046875 30.125 38.078125 34.390625 \r\nQ 34.125 38.671875 28.125 38.671875 \r\nQ 22.171875 38.671875 18.015625 34.390625 \r\nQ 13.875 30.125 13.875 23.1875 \r\nz\r\n\" id=\"ArialMT-54\"/>\r\n       </defs>\r\n       <use xlink:href=\"#ArialMT-48\"/>\r\n       <use x=\"55.615234\" xlink:href=\"#ArialMT-46\"/>\r\n       <use x=\"83.398438\" xlink:href=\"#ArialMT-54\"/>\r\n      </g>\r\n     </g>\r\n    </g>\r\n    <g id=\"ytick_7\">\r\n     <g id=\"line2d_10\">\r\n      <g>\r\n       <use style=\"fill:#262626;stroke:#262626;stroke-width:1.25;\" x=\"312.752051\" xlink:href=\"#m8a21d584d9\" y=\"55.980969\"/>\r\n      </g>\r\n     </g>\r\n     <g id=\"text_22\">\r\n      <!-- 0.8 -->\r\n      <g style=\"fill:#262626;\" transform=\"translate(322.252051 59.917766)scale(0.11 -0.11)\">\r\n       <defs>\r\n        <path d=\"M 17.671875 38.8125 \r\nQ 12.203125 40.828125 9.5625 44.53125 \r\nQ 6.9375 48.25 6.9375 53.421875 \r\nQ 6.9375 61.234375 12.546875 66.546875 \r\nQ 18.171875 71.875 27.484375 71.875 \r\nQ 36.859375 71.875 42.578125 66.421875 \r\nQ 48.296875 60.984375 48.296875 53.171875 \r\nQ 48.296875 48.1875 45.671875 44.5 \r\nQ 43.0625 40.828125 37.75 38.8125 \r\nQ 44.34375 36.671875 47.78125 31.875 \r\nQ 51.21875 27.09375 51.21875 20.453125 \r\nQ 51.21875 11.28125 44.71875 5.03125 \r\nQ 38.234375 -1.21875 27.640625 -1.21875 \r\nQ 17.046875 -1.21875 10.546875 5.046875 \r\nQ 4.046875 11.328125 4.046875 20.703125 \r\nQ 4.046875 27.6875 7.59375 32.390625 \r\nQ 11.140625 37.109375 17.671875 38.8125 \r\nz\r\nM 15.921875 53.71875 \r\nQ 15.921875 48.640625 19.1875 45.40625 \r\nQ 22.46875 42.1875 27.6875 42.1875 \r\nQ 32.765625 42.1875 36.015625 45.375 \r\nQ 39.265625 48.578125 39.265625 53.21875 \r\nQ 39.265625 58.0625 35.90625 61.359375 \r\nQ 32.5625 64.65625 27.59375 64.65625 \r\nQ 22.5625 64.65625 19.234375 61.421875 \r\nQ 15.921875 58.203125 15.921875 53.71875 \r\nz\r\nM 13.09375 20.65625 \r\nQ 13.09375 16.890625 14.875 13.375 \r\nQ 16.65625 9.859375 20.171875 7.921875 \r\nQ 23.6875 6 27.734375 6 \r\nQ 34.03125 6 38.125 10.046875 \r\nQ 42.234375 14.109375 42.234375 20.359375 \r\nQ 42.234375 26.703125 38.015625 30.859375 \r\nQ 33.796875 35.015625 27.4375 35.015625 \r\nQ 21.234375 35.015625 17.15625 30.90625 \r\nQ 13.09375 26.8125 13.09375 20.65625 \r\nz\r\n\" id=\"ArialMT-56\"/>\r\n       </defs>\r\n       <use xlink:href=\"#ArialMT-48\"/>\r\n       <use x=\"55.615234\" xlink:href=\"#ArialMT-46\"/>\r\n       <use x=\"83.398438\" xlink:href=\"#ArialMT-56\"/>\r\n      </g>\r\n     </g>\r\n    </g>\r\n   </g>\r\n   <image height=\"324\" id=\"image7735c39d1a\" transform=\"scale(1 -1)translate(0 -324)\" width=\"16\" x=\"297\" xlink:href=\"data:image/png;base64,\r\niVBORw0KGgoAAAANSUhEUgAAABAAAAFECAYAAAAum740AAABYklEQVR4nO3bQW7EMAxDUbbI/a/bRQFnFu0NKIC08LOPIT/Lkp3BfP38vq+M5/Fel55X3giP+b6+vdelxwygANE3cFcBxIEp5CNYgOhn4sBeALGhrJudKY+YLygCsSAT7+/OIIL4H4H3VPRGEEEEUSBKIP4NkEbkM9AOxGMq5pex4JR24pkI4g5E1+AsMEhPYQeiO4DbF046AhA7ENOn9fwRZwIxn0jeAL6Bv4x2X7BXIY54f28sQGzIRHOAfF+wp5C/L+QzkZLWYDBQVL2HkkZJkxrOiQVH3fvrAYhLbu/p7VzQXEGs+IKxADFdkTaU9fydCcSC7rzhvrAAMT6FiQiu7wvxVSCRQOyIAERK2kwExzwkgchuHBmg4a+6aYMCRHsK968CiDsQ46uwwQDEDQPQXCsQ45tpA6J8RO/HczuCCYPwFCYi8AYgkUDsiGAFovkZqAKRRIpPIR8BiCBKA1P4AGEKG0RFc9y2AAAAAElFTkSuQmCC\" y=\"-6\"/>\r\n   <g id=\"patch_8\">\r\n    <path d=\"M 296.578156 330.677903 \r\nL 296.578156 329.414318 \r\nL 296.578156 8.463586 \r\nL 296.578156 7.2 \r\nL 312.752051 7.2 \r\nL 312.752051 8.463586 \r\nL 312.752051 329.414318 \r\nL 312.752051 330.677903 \r\nz\r\n\" style=\"fill:none;stroke:#ffffff;stroke-linejoin:miter;stroke-width:1.25;\"/>\r\n   </g>\r\n  </g>\r\n </g>\r\n <defs>\r\n  <clipPath id=\"p07c76b30ad\">\r\n   <rect height=\"243.564\" width=\"243.564\" x=\"37.791406\" y=\"47.156952\"/>\r\n  </clipPath>\r\n  <clipPath id=\"p442ee9158d\">\r\n   <rect height=\"323.477903\" width=\"16.173895\" x=\"296.578156\" y=\"7.2\"/>\r\n  </clipPath>\r\n </defs>\r\n</svg>\r\n",
            "image/png": "[encoded data removed]"
          },
          "metadata": {
            "tags": []
          }
        }
      ]
    },
    {
      "cell_type": "markdown",
      "metadata": {
        "id": "lQrXLuOa0uFj"
      },
      "source": [
        "**Classification Report**\r\n",
        "\r\n",
        "Thanks to the classification of the report, we will be able to obtain more specific and interpretable information, thanks to the precision, recall, f1-score and support attributes."
      ]
    },
    {
      "cell_type": "code",
      "metadata": {
        "id": "oT-75xon0x8U",
        "outputId": "9db8d314-4015-4277-a321-355a5ab7963c"
      },
      "source": [
        "print(classification_report(y_test, y_pred))"
      ],
      "execution_count": null,
      "outputs": [
        {
          "output_type": "stream",
          "text": [
            "              precision    recall  f1-score   support\n",
            "\n",
            "           0       0.41      0.12      0.19       427\n",
            "           1       0.90      0.94      0.92      5747\n",
            "           2       0.75      0.77      0.76      1261\n",
            "\n",
            "    accuracy                           0.86      7435\n",
            "   macro avg       0.69      0.61      0.62      7435\n",
            "weighted avg       0.85      0.86      0.85      7435\n",
            "\n"
          ],
          "name": "stdout"
        }
      ]
    },
    {
      "cell_type": "markdown",
      "metadata": {
        "id": "yOsQs4GO6Hw6"
      },
      "source": [
        "## Random Forest\r\n",
        "\r\n",
        "A Random Forest model is made up of a set of individual decision trees, each one trained with a random sample of the training data.\r\n",
        "\r\n",
        "Each tree that makes up the set will predict a class, and the result of the prediction will be the class with the highest number of votes."
      ]
    },
    {
      "cell_type": "markdown",
      "metadata": {
        "id": "PwwLdbRFxYsi"
      },
      "source": [
        "### Executing the algorithm"
      ]
    },
    {
      "cell_type": "code",
      "metadata": {
        "id": "UgooP_l26MJO",
        "colab": {
          "base_uri": "https://localhost:8080/"
        },
        "outputId": "0819c9a5-3f11-4a6c-810c-27de659af2fd"
      },
      "source": [
        "model = RandomForestClassifier(n_estimators = 500) # Number of trees.\r\n",
        "model.fit(X_train, y_train)\r\n",
        "y_pred = model.predict(X_test)\r\n",
        "acc = accuracy_score(y_test, y_pred)\r\n",
        "print ('Acc', acc)"
      ],
      "execution_count": null,
      "outputs": [
        {
          "output_type": "stream",
          "text": [
            "Acc 0.8602555480833893\n"
          ],
          "name": "stdout"
        }
      ]
    },
    {
      "cell_type": "markdown",
      "metadata": {
        "id": "2cK5LkwgxkB6"
      },
      "source": [
        "### Cross validation\r\n",
        "\r\n",
        "Now, we are going to check by cross validation that the model is correct, for this, we will make 7 splits, and we will compare the average of these with the previously obtained result, if they are similar, the model can be considered valid."
      ]
    },
    {
      "cell_type": "code",
      "metadata": {
        "id": "skVEi0jTxpIJ",
        "outputId": "3af381b5-4c8b-42d8-c924-18779690cbb1"
      },
      "source": [
        "kf = KFold(n_splits=7)\n",
        "clf = RandomForestClassifier(n_estimators = 500)\n",
        "clf.fit(X_train, y_train) \n",
        "scores = cross_val_score(clf, X_train, y_train, cv = kf, scoring = \"accuracy\")\n",
        "print(\"Accuracy of each iteration: \", scores)\n",
        "print(\"Average: \", scores.mean())"
      ],
      "execution_count": null,
      "outputs": [
        {
          "output_type": "stream",
          "text": [
            "Accuracy of each iteration:  [0.85437676 0.86446148 0.85875706 0.86440678 0.85996772 0.87691687\n",
            " 0.87449556]\n",
            "Average:  0.8647688897589516\n"
          ],
          "name": "stdout"
        }
      ]
    },
    {
      "cell_type": "markdown",
      "metadata": {
        "id": "rbX197SFh73T"
      },
      "source": [
        "## Save the model\r\n",
        "\r\n",
        "Due to the long execution time, we save the model in a .dat file.\r\n"
      ]
    },
    {
      "cell_type": "code",
      "metadata": {
        "id": "wGAv8pqChuWI"
      },
      "source": [
        "filename = 'OF_RandomForest.dat'\n",
        "\n",
        "with open(filename, 'wb') as handle:\n",
        "    pickle.dump(clf, handle, protocol=pickle.HIGHEST_PROTOCOL)\n",
        "    handle.close()\n",
        "\n",
        "with open(filename, 'rb') as handle:\n",
        "    b = pickle.load(handle)\n",
        "\n",
        "clf= b"
      ],
      "execution_count": null,
      "outputs": []
    },
    {
      "cell_type": "markdown",
      "metadata": {
        "id": "dNQJXf2Bxp_s"
      },
      "source": [
        "### Results obtained"
      ]
    },
    {
      "cell_type": "markdown",
      "metadata": {
        "id": "Cwwbsazjx5_z"
      },
      "source": [
        "**Confusion Matrix**\r\n",
        "\r\n",
        "Thanks to the following confusion matrix, we can visualize the performance of the algorithm that we have executed."
      ]
    },
    {
      "cell_type": "code",
      "metadata": {
        "id": "yuAATpMmx6tT",
        "outputId": "daf93bd5-c1ba-4956-b686-dab2e21cfb8b"
      },
      "source": [
        "plot_confusion_matrix(y_test, y_pred , classes = unique_labels(y_test, y_pred), normalize=True,\r\n",
        "                      title='Normalized confusion matrix')"
      ],
      "execution_count": null,
      "outputs": [
        {
          "output_type": "stream",
          "text": [
            "Normalized confusion matrix\n",
            "[[0.07494145 0.85480094 0.07025761]\n",
            " [0.00626414 0.95963111 0.03410475]\n",
            " [0.00237906 0.32434576 0.67327518]]\n"
          ],
          "name": "stdout"
        },
        {
          "output_type": "execute_result",
          "data": {
            "text/plain": [
              "<AxesSubplot:title={'center':'Normalized confusion matrix'}, xlabel='Predicted label', ylabel='True label'>"
            ]
          },
          "metadata": {
            "tags": []
          },
          "execution_count": 36
        },
        {
          "output_type": "display_data",
          "data": {
            "text/plain": [
              "<Figure size 360x360 with 2 Axes>"
            ],
            "image/svg+xml": "<?xml version=\"1.0\" encoding=\"utf-8\" standalone=\"no\"?>\r\n<!DOCTYPE svg PUBLIC \"-//W3C//DTD SVG 1.1//EN\"\r\n  \"http://www.w3.org/Graphics/SVG/1.1/DTD/svg11.dtd\">\r\n<!-- Created with matplotlib (https://matplotlib.org/) -->\r\n<svg height=\"337.877903pt\" version=\"1.1\" viewBox=\"0 0 344.742051 337.877903\" width=\"344.742051pt\" xmlns=\"http://www.w3.org/2000/svg\" xmlns:xlink=\"http://www.w3.org/1999/xlink\">\r\n <metadata>\r\n  <rdf:RDF xmlns:cc=\"http://creativecommons.org/ns#\" xmlns:dc=\"http://purl.org/dc/elements/1.1/\" xmlns:rdf=\"http://www.w3.org/1999/02/22-rdf-syntax-ns#\">\r\n   <cc:Work>\r\n    <dc:type rdf:resource=\"http://purl.org/dc/dcmitype/StillImage\"/>\r\n    <dc:date>2020-12-29T23:02:18.526246</dc:date>\r\n    <dc:format>image/svg+xml</dc:format>\r\n    <dc:creator>\r\n     <cc:Agent>\r\n      <dc:title>Matplotlib v3.3.3, https://matplotlib.org/</dc:title>\r\n     </cc:Agent>\r\n    </dc:creator>\r\n   </cc:Work>\r\n  </rdf:RDF>\r\n </metadata>\r\n <defs>\r\n  <style type=\"text/css\">*{stroke-linecap:butt;stroke-linejoin:round;}</style>\r\n </defs>\r\n <g id=\"figure_1\">\r\n  <g id=\"patch_1\">\r\n   <path d=\"M 0 337.877903 \r\nL 344.742051 337.877903 \r\nL 344.742051 0 \r\nL 0 0 \r\nz\r\n\" style=\"fill:#ffffff;\"/>\r\n  </g>\r\n  <g id=\"axes_1\">\r\n   <g id=\"patch_2\">\r\n    <path d=\"M 37.791406 290.720952 \r\nL 281.355406 290.720952 \r\nL 281.355406 47.156952 \r\nL 37.791406 47.156952 \r\nz\r\n\" style=\"fill:#eaeaf2;\"/>\r\n   </g>\r\n   <g clip-path=\"url(#p4b1f0e7925)\">\r\n    <image height=\"244\" id=\"imaged1b9c59f46\" transform=\"scale(1 -1)translate(0 -244)\" width=\"244\" x=\"37.791406\" xlink:href=\"data:image/png;base64,\r\niVBORw0KGgoAAAANSUhEUgAAAPQAAAD0CAYAAACsLwv+AAADJklEQVR4nO3VMU2DYRiFUUpQwIwDdlyhAgUYYcEDCkglkM4dKKGkPyIgefM9OUfBXZ7c3em8bVf8yev7x/SE5T297KcnJFxPDwD+j6AhRNAQImgIETSECBpCBA0hgoYQQUOIoCFE0BAiaAgRNIQIGkIEDSGChhBBQ4igIUTQECJoCBE0hAgaQgQNIYKGEEFDiKAhRNAQImgIETSECBpCBA0hgoYQQUOIoCFE0BAiaAgRNIQIGkIEDSGChhBBQ4igIUTQECJoCBE0hAgaQgQNIYKGEEFDiKAhRNAQImgIETSECBpCBA0hgoYQQUOIoCFE0BAiaAgRNIQIGkIEDSGChhBBQ4igIUTQECJoCBE0hAgaQgQNIYKGEEFDiKAhRNAQImgIETSECBpCBA0hgoaQ3ef3ZZsesbrbh8fpCcs7vD1PT0jw0BAiaAgRNIQIGkIEDSGChhBBQ4igIUTQECJoCBE0hAgaQgQNIYKGEEFDiKAhRNAQImgIETSECBpCBA0hgoYQQUOIoCFE0BAiaAgRNIQIGkIEDSGChhBBQ4igIUTQECJoCBE0hAgaQgQNIYKGEEFDiKAhRNAQImgIETSECBpCBA0hgoYQQUOIoCFE0BAiaAgRNIQIGkIEDSGChhBBQ4igIUTQECJoCBE0hAgaQgQNIYKGEEFDiKAhRNAQImgIETSECBpCBA0hgoYQQUOIoCFE0BAiaAgRNIQIGkIEDSGChhBBQ4igIUTQEHJzPP1Mb1jf3f30guV9nS/TExI8NIQIGkIEDSGChhBBQ4igIUTQECJoCBE0hAgaQgQNIYKGEEFDiKAhRNAQImgIETSECBpCBA0hgoYQQUOIoCFE0BAiaAgRNIQIGkIEDSGChhBBQ4igIUTQECJoCBE0hAgaQgQNIYKGEEFDiKAhRNAQImgIETSECBpCBA0hgoYQQUOIoCFE0BAiaAgRNIQIGkIEDSGChhBBQ4igIUTQECJoCBE0hAgaQgQNIYKGEEFDiKAhRNAQImgIETSECBpCBA0hgoYQQUOIoCFE0BAiaAgRNIQIGkIEDSGChhBBQ4igIUTQECJoCPkFK1wXS3840wgAAAAASUVORK5CYII=\" y=\"-46.720952\"/>\r\n   </g>\r\n   <g id=\"matplotlib.axis_1\">\r\n    <g id=\"xtick_1\">\r\n     <g id=\"line2d_1\">\r\n      <path clip-path=\"url(#p4b1f0e7925)\" d=\"M 78.385406 290.720952 \r\nL 78.385406 47.156952 \r\n\" style=\"fill:none;stroke:#ffffff;stroke-linecap:round;\"/>\r\n     </g>\r\n     <g id=\"text_1\">\r\n      <!-- 0 -->\r\n      <g style=\"fill:#262626;\" transform=\"translate(79.627484 310.113817)rotate(-45)scale(0.11 -0.11)\">\r\n       <defs>\r\n        <path d=\"M 4.15625 35.296875 \r\nQ 4.15625 48 6.765625 55.734375 \r\nQ 9.375 63.484375 14.515625 67.671875 \r\nQ 19.671875 71.875 27.484375 71.875 \r\nQ 33.25 71.875 37.59375 69.546875 \r\nQ 41.9375 67.234375 44.765625 62.859375 \r\nQ 47.609375 58.5 49.21875 52.21875 \r\nQ 50.828125 45.953125 50.828125 35.296875 \r\nQ 50.828125 22.703125 48.234375 14.96875 \r\nQ 45.65625 7.234375 40.5 3 \r\nQ 35.359375 -1.21875 27.484375 -1.21875 \r\nQ 17.140625 -1.21875 11.234375 6.203125 \r\nQ 4.15625 15.140625 4.15625 35.296875 \r\nz\r\nM 13.1875 35.296875 \r\nQ 13.1875 17.671875 17.3125 11.828125 \r\nQ 21.4375 6 27.484375 6 \r\nQ 33.546875 6 37.671875 11.859375 \r\nQ 41.796875 17.71875 41.796875 35.296875 \r\nQ 41.796875 52.984375 37.671875 58.78125 \r\nQ 33.546875 64.59375 27.390625 64.59375 \r\nQ 21.34375 64.59375 17.71875 59.46875 \r\nQ 13.1875 52.9375 13.1875 35.296875 \r\nz\r\n\" id=\"ArialMT-48\"/>\r\n       </defs>\r\n       <use xlink:href=\"#ArialMT-48\"/>\r\n      </g>\r\n     </g>\r\n    </g>\r\n    <g id=\"xtick_2\">\r\n     <g id=\"line2d_2\">\r\n      <path clip-path=\"url(#p4b1f0e7925)\" d=\"M 159.573406 290.720952 \r\nL 159.573406 47.156952 \r\n\" style=\"fill:none;stroke:#ffffff;stroke-linecap:round;\"/>\r\n     </g>\r\n     <g id=\"text_2\">\r\n      <!-- 1 -->\r\n      <g style=\"fill:#262626;\" transform=\"translate(160.815484 310.113817)rotate(-45)scale(0.11 -0.11)\">\r\n       <defs>\r\n        <path d=\"M 37.25 0 \r\nL 28.46875 0 \r\nL 28.46875 56 \r\nQ 25.296875 52.984375 20.140625 49.953125 \r\nQ 14.984375 46.921875 10.890625 45.40625 \r\nL 10.890625 53.90625 \r\nQ 18.265625 57.375 23.78125 62.296875 \r\nQ 29.296875 67.234375 31.59375 71.875 \r\nL 37.25 71.875 \r\nz\r\n\" id=\"ArialMT-49\"/>\r\n       </defs>\r\n       <use xlink:href=\"#ArialMT-49\"/>\r\n      </g>\r\n     </g>\r\n    </g>\r\n    <g id=\"xtick_3\">\r\n     <g id=\"line2d_3\">\r\n      <path clip-path=\"url(#p4b1f0e7925)\" d=\"M 240.761406 290.720952 \r\nL 240.761406 47.156952 \r\n\" style=\"fill:none;stroke:#ffffff;stroke-linecap:round;\"/>\r\n     </g>\r\n     <g id=\"text_3\">\r\n      <!-- 2 -->\r\n      <g style=\"fill:#262626;\" transform=\"translate(242.003484 310.113817)rotate(-45)scale(0.11 -0.11)\">\r\n       <defs>\r\n        <path d=\"M 50.34375 8.453125 \r\nL 50.34375 0 \r\nL 3.03125 0 \r\nQ 2.9375 3.171875 4.046875 6.109375 \r\nQ 5.859375 10.9375 9.828125 15.625 \r\nQ 13.8125 20.3125 21.34375 26.46875 \r\nQ 33.015625 36.03125 37.109375 41.625 \r\nQ 41.21875 47.21875 41.21875 52.203125 \r\nQ 41.21875 57.421875 37.46875 61 \r\nQ 33.734375 64.59375 27.734375 64.59375 \r\nQ 21.390625 64.59375 17.578125 60.78125 \r\nQ 13.765625 56.984375 13.71875 50.25 \r\nL 4.6875 51.171875 \r\nQ 5.609375 61.28125 11.65625 66.578125 \r\nQ 17.71875 71.875 27.9375 71.875 \r\nQ 38.234375 71.875 44.234375 66.15625 \r\nQ 50.25 60.453125 50.25 52 \r\nQ 50.25 47.703125 48.484375 43.546875 \r\nQ 46.734375 39.40625 42.65625 34.8125 \r\nQ 38.578125 30.21875 29.109375 22.21875 \r\nQ 21.1875 15.578125 18.9375 13.203125 \r\nQ 16.703125 10.84375 15.234375 8.453125 \r\nz\r\n\" id=\"ArialMT-50\"/>\r\n       </defs>\r\n       <use xlink:href=\"#ArialMT-50\"/>\r\n      </g>\r\n     </g>\r\n    </g>\r\n    <g id=\"text_4\">\r\n     <!-- Predicted label -->\r\n     <g style=\"fill:#262626;\" transform=\"translate(119.884344 324.249105)scale(0.12 -0.12)\">\r\n      <defs>\r\n       <path d=\"M 7.71875 0 \r\nL 7.71875 71.578125 \r\nL 34.71875 71.578125 \r\nQ 41.84375 71.578125 45.609375 70.90625 \r\nQ 50.875 70.015625 54.4375 67.546875 \r\nQ 58.015625 65.09375 60.1875 60.640625 \r\nQ 62.359375 56.203125 62.359375 50.875 \r\nQ 62.359375 41.75 56.546875 35.421875 \r\nQ 50.734375 29.109375 35.546875 29.109375 \r\nL 17.1875 29.109375 \r\nL 17.1875 0 \r\nz\r\nM 17.1875 37.546875 \r\nL 35.6875 37.546875 \r\nQ 44.875 37.546875 48.734375 40.96875 \r\nQ 52.59375 44.390625 52.59375 50.59375 \r\nQ 52.59375 55.078125 50.3125 58.265625 \r\nQ 48.046875 61.46875 44.34375 62.5 \r\nQ 41.9375 63.140625 35.5 63.140625 \r\nL 17.1875 63.140625 \r\nz\r\n\" id=\"ArialMT-80\"/>\r\n       <path d=\"M 6.5 0 \r\nL 6.5 51.859375 \r\nL 14.40625 51.859375 \r\nL 14.40625 44 \r\nQ 17.4375 49.515625 20 51.265625 \r\nQ 22.5625 53.03125 25.640625 53.03125 \r\nQ 30.078125 53.03125 34.671875 50.203125 \r\nL 31.640625 42.046875 \r\nQ 28.421875 43.953125 25.203125 43.953125 \r\nQ 22.3125 43.953125 20.015625 42.21875 \r\nQ 17.71875 40.484375 16.75 37.40625 \r\nQ 15.28125 32.71875 15.28125 27.15625 \r\nL 15.28125 0 \r\nz\r\n\" id=\"ArialMT-114\"/>\r\n       <path d=\"M 42.09375 16.703125 \r\nL 51.171875 15.578125 \r\nQ 49.03125 7.625 43.21875 3.21875 \r\nQ 37.40625 -1.171875 28.375 -1.171875 \r\nQ 17 -1.171875 10.328125 5.828125 \r\nQ 3.65625 12.84375 3.65625 25.484375 \r\nQ 3.65625 38.578125 10.390625 45.796875 \r\nQ 17.140625 53.03125 27.875 53.03125 \r\nQ 38.28125 53.03125 44.875 45.953125 \r\nQ 51.46875 38.875 51.46875 26.03125 \r\nQ 51.46875 25.25 51.421875 23.6875 \r\nL 12.75 23.6875 \r\nQ 13.234375 15.140625 17.578125 10.59375 \r\nQ 21.921875 6.0625 28.421875 6.0625 \r\nQ 33.25 6.0625 36.671875 8.59375 \r\nQ 40.09375 11.140625 42.09375 16.703125 \r\nz\r\nM 13.234375 30.90625 \r\nL 42.1875 30.90625 \r\nQ 41.609375 37.453125 38.875 40.71875 \r\nQ 34.671875 45.796875 27.984375 45.796875 \r\nQ 21.921875 45.796875 17.796875 41.75 \r\nQ 13.671875 37.703125 13.234375 30.90625 \r\nz\r\n\" id=\"ArialMT-101\"/>\r\n       <path d=\"M 40.234375 0 \r\nL 40.234375 6.546875 \r\nQ 35.296875 -1.171875 25.734375 -1.171875 \r\nQ 19.53125 -1.171875 14.328125 2.25 \r\nQ 9.125 5.671875 6.265625 11.796875 \r\nQ 3.421875 17.921875 3.421875 25.875 \r\nQ 3.421875 33.640625 6 39.96875 \r\nQ 8.59375 46.296875 13.765625 49.65625 \r\nQ 18.953125 53.03125 25.34375 53.03125 \r\nQ 30.03125 53.03125 33.6875 51.046875 \r\nQ 37.359375 49.078125 39.65625 45.90625 \r\nL 39.65625 71.578125 \r\nL 48.390625 71.578125 \r\nL 48.390625 0 \r\nz\r\nM 12.453125 25.875 \r\nQ 12.453125 15.921875 16.640625 10.984375 \r\nQ 20.84375 6.0625 26.5625 6.0625 \r\nQ 32.328125 6.0625 36.34375 10.765625 \r\nQ 40.375 15.484375 40.375 25.140625 \r\nQ 40.375 35.796875 36.265625 40.765625 \r\nQ 32.171875 45.75 26.171875 45.75 \r\nQ 20.3125 45.75 16.375 40.96875 \r\nQ 12.453125 36.1875 12.453125 25.875 \r\nz\r\n\" id=\"ArialMT-100\"/>\r\n       <path d=\"M 6.640625 61.46875 \r\nL 6.640625 71.578125 \r\nL 15.4375 71.578125 \r\nL 15.4375 61.46875 \r\nz\r\nM 6.640625 0 \r\nL 6.640625 51.859375 \r\nL 15.4375 51.859375 \r\nL 15.4375 0 \r\nz\r\n\" id=\"ArialMT-105\"/>\r\n       <path d=\"M 40.4375 19 \r\nL 49.078125 17.875 \r\nQ 47.65625 8.9375 41.8125 3.875 \r\nQ 35.984375 -1.171875 27.484375 -1.171875 \r\nQ 16.84375 -1.171875 10.375 5.78125 \r\nQ 3.90625 12.75 3.90625 25.734375 \r\nQ 3.90625 34.125 6.6875 40.421875 \r\nQ 9.46875 46.734375 15.15625 49.875 \r\nQ 20.84375 53.03125 27.546875 53.03125 \r\nQ 35.984375 53.03125 41.359375 48.75 \r\nQ 46.734375 44.484375 48.25 36.625 \r\nL 39.703125 35.296875 \r\nQ 38.484375 40.53125 35.375 43.15625 \r\nQ 32.28125 45.796875 27.875 45.796875 \r\nQ 21.234375 45.796875 17.078125 41.03125 \r\nQ 12.9375 36.28125 12.9375 25.984375 \r\nQ 12.9375 15.53125 16.9375 10.796875 \r\nQ 20.953125 6.0625 27.390625 6.0625 \r\nQ 32.5625 6.0625 36.03125 9.234375 \r\nQ 39.5 12.40625 40.4375 19 \r\nz\r\n\" id=\"ArialMT-99\"/>\r\n       <path d=\"M 25.78125 7.859375 \r\nL 27.046875 0.09375 \r\nQ 23.34375 -0.6875 20.40625 -0.6875 \r\nQ 15.625 -0.6875 12.984375 0.828125 \r\nQ 10.359375 2.34375 9.28125 4.8125 \r\nQ 8.203125 7.28125 8.203125 15.1875 \r\nL 8.203125 45.015625 \r\nL 1.765625 45.015625 \r\nL 1.765625 51.859375 \r\nL 8.203125 51.859375 \r\nL 8.203125 64.703125 \r\nL 16.9375 69.96875 \r\nL 16.9375 51.859375 \r\nL 25.78125 51.859375 \r\nL 25.78125 45.015625 \r\nL 16.9375 45.015625 \r\nL 16.9375 14.703125 \r\nQ 16.9375 10.9375 17.40625 9.859375 \r\nQ 17.875 8.796875 18.921875 8.15625 \r\nQ 19.96875 7.515625 21.921875 7.515625 \r\nQ 23.390625 7.515625 25.78125 7.859375 \r\nz\r\n\" id=\"ArialMT-116\"/>\r\n       <path id=\"ArialMT-32\"/>\r\n       <path d=\"M 6.390625 0 \r\nL 6.390625 71.578125 \r\nL 15.1875 71.578125 \r\nL 15.1875 0 \r\nz\r\n\" id=\"ArialMT-108\"/>\r\n       <path d=\"M 40.4375 6.390625 \r\nQ 35.546875 2.25 31.03125 0.53125 \r\nQ 26.515625 -1.171875 21.34375 -1.171875 \r\nQ 12.796875 -1.171875 8.203125 3 \r\nQ 3.609375 7.171875 3.609375 13.671875 \r\nQ 3.609375 17.484375 5.34375 20.625 \r\nQ 7.078125 23.78125 9.890625 25.6875 \r\nQ 12.703125 27.59375 16.21875 28.5625 \r\nQ 18.796875 29.25 24.03125 29.890625 \r\nQ 34.671875 31.15625 39.703125 32.90625 \r\nQ 39.75 34.71875 39.75 35.203125 \r\nQ 39.75 40.578125 37.25 42.78125 \r\nQ 33.890625 45.75 27.25 45.75 \r\nQ 21.046875 45.75 18.09375 43.578125 \r\nQ 15.140625 41.40625 13.71875 35.890625 \r\nL 5.125 37.0625 \r\nQ 6.296875 42.578125 8.984375 45.96875 \r\nQ 11.671875 49.359375 16.75 51.1875 \r\nQ 21.828125 53.03125 28.515625 53.03125 \r\nQ 35.15625 53.03125 39.296875 51.46875 \r\nQ 43.453125 49.90625 45.40625 47.53125 \r\nQ 47.359375 45.171875 48.140625 41.546875 \r\nQ 48.578125 39.3125 48.578125 33.453125 \r\nL 48.578125 21.734375 \r\nQ 48.578125 9.46875 49.140625 6.21875 \r\nQ 49.703125 2.984375 51.375 0 \r\nL 42.1875 0 \r\nQ 40.828125 2.734375 40.4375 6.390625 \r\nz\r\nM 39.703125 26.03125 \r\nQ 34.90625 24.078125 25.34375 22.703125 \r\nQ 19.921875 21.921875 17.671875 20.9375 \r\nQ 15.4375 19.96875 14.203125 18.09375 \r\nQ 12.984375 16.21875 12.984375 13.921875 \r\nQ 12.984375 10.40625 15.640625 8.0625 \r\nQ 18.3125 5.71875 23.4375 5.71875 \r\nQ 28.515625 5.71875 32.46875 7.9375 \r\nQ 36.421875 10.15625 38.28125 14.015625 \r\nQ 39.703125 17 39.703125 22.796875 \r\nz\r\n\" id=\"ArialMT-97\"/>\r\n       <path d=\"M 14.703125 0 \r\nL 6.546875 0 \r\nL 6.546875 71.578125 \r\nL 15.328125 71.578125 \r\nL 15.328125 46.046875 \r\nQ 20.90625 53.03125 29.546875 53.03125 \r\nQ 34.328125 53.03125 38.59375 51.09375 \r\nQ 42.875 49.171875 45.625 45.671875 \r\nQ 48.390625 42.1875 49.953125 37.25 \r\nQ 51.515625 32.328125 51.515625 26.703125 \r\nQ 51.515625 13.375 44.921875 6.09375 \r\nQ 38.328125 -1.171875 29.109375 -1.171875 \r\nQ 19.921875 -1.171875 14.703125 6.5 \r\nz\r\nM 14.59375 26.3125 \r\nQ 14.59375 17 17.140625 12.84375 \r\nQ 21.296875 6.0625 28.375 6.0625 \r\nQ 34.125 6.0625 38.328125 11.0625 \r\nQ 42.53125 16.0625 42.53125 25.984375 \r\nQ 42.53125 36.140625 38.5 40.96875 \r\nQ 34.46875 45.796875 28.765625 45.796875 \r\nQ 23 45.796875 18.796875 40.796875 \r\nQ 14.59375 35.796875 14.59375 26.3125 \r\nz\r\n\" id=\"ArialMT-98\"/>\r\n      </defs>\r\n      <use xlink:href=\"#ArialMT-80\"/>\r\n      <use x=\"66.699219\" xlink:href=\"#ArialMT-114\"/>\r\n      <use x=\"100\" xlink:href=\"#ArialMT-101\"/>\r\n      <use x=\"155.615234\" xlink:href=\"#ArialMT-100\"/>\r\n      <use x=\"211.230469\" xlink:href=\"#ArialMT-105\"/>\r\n      <use x=\"233.447266\" xlink:href=\"#ArialMT-99\"/>\r\n      <use x=\"283.447266\" xlink:href=\"#ArialMT-116\"/>\r\n      <use x=\"311.230469\" xlink:href=\"#ArialMT-101\"/>\r\n      <use x=\"366.845703\" xlink:href=\"#ArialMT-100\"/>\r\n      <use x=\"422.460938\" xlink:href=\"#ArialMT-32\"/>\r\n      <use x=\"450.244141\" xlink:href=\"#ArialMT-108\"/>\r\n      <use x=\"472.460938\" xlink:href=\"#ArialMT-97\"/>\r\n      <use x=\"528.076172\" xlink:href=\"#ArialMT-98\"/>\r\n      <use x=\"583.691406\" xlink:href=\"#ArialMT-101\"/>\r\n      <use x=\"639.306641\" xlink:href=\"#ArialMT-108\"/>\r\n     </g>\r\n    </g>\r\n   </g>\r\n   <g id=\"matplotlib.axis_2\">\r\n    <g id=\"ytick_1\">\r\n     <g id=\"line2d_4\">\r\n      <path clip-path=\"url(#p4b1f0e7925)\" d=\"M 37.791406 87.750952 \r\nL 281.355406 87.750952 \r\n\" style=\"fill:none;stroke:#ffffff;stroke-linecap:round;\"/>\r\n     </g>\r\n     <g id=\"text_5\">\r\n      <!-- 0 -->\r\n      <g style=\"fill:#262626;\" transform=\"translate(22.174375 91.687748)scale(0.11 -0.11)\">\r\n       <use xlink:href=\"#ArialMT-48\"/>\r\n      </g>\r\n     </g>\r\n    </g>\r\n    <g id=\"ytick_2\">\r\n     <g id=\"line2d_5\">\r\n      <path clip-path=\"url(#p4b1f0e7925)\" d=\"M 37.791406 168.938952 \r\nL 281.355406 168.938952 \r\n\" style=\"fill:none;stroke:#ffffff;stroke-linecap:round;\"/>\r\n     </g>\r\n     <g id=\"text_6\">\r\n      <!-- 1 -->\r\n      <g style=\"fill:#262626;\" transform=\"translate(22.174375 172.875748)scale(0.11 -0.11)\">\r\n       <use xlink:href=\"#ArialMT-49\"/>\r\n      </g>\r\n     </g>\r\n    </g>\r\n    <g id=\"ytick_3\">\r\n     <g id=\"line2d_6\">\r\n      <path clip-path=\"url(#p4b1f0e7925)\" d=\"M 37.791406 250.126952 \r\nL 281.355406 250.126952 \r\n\" style=\"fill:none;stroke:#ffffff;stroke-linecap:round;\"/>\r\n     </g>\r\n     <g id=\"text_7\">\r\n      <!-- 2 -->\r\n      <g style=\"fill:#262626;\" transform=\"translate(22.174375 254.063748)scale(0.11 -0.11)\">\r\n       <use xlink:href=\"#ArialMT-50\"/>\r\n      </g>\r\n     </g>\r\n    </g>\r\n    <g id=\"text_8\">\r\n     <!-- True label -->\r\n     <g style=\"fill:#262626;\" transform=\"translate(15.789375 195.392389)rotate(-90)scale(0.12 -0.12)\">\r\n      <defs>\r\n       <path d=\"M 25.921875 0 \r\nL 25.921875 63.140625 \r\nL 2.34375 63.140625 \r\nL 2.34375 71.578125 \r\nL 59.078125 71.578125 \r\nL 59.078125 63.140625 \r\nL 35.40625 63.140625 \r\nL 35.40625 0 \r\nz\r\n\" id=\"ArialMT-84\"/>\r\n       <path d=\"M 40.578125 0 \r\nL 40.578125 7.625 \r\nQ 34.515625 -1.171875 24.125 -1.171875 \r\nQ 19.53125 -1.171875 15.546875 0.578125 \r\nQ 11.578125 2.34375 9.640625 5 \r\nQ 7.71875 7.671875 6.9375 11.53125 \r\nQ 6.390625 14.109375 6.390625 19.734375 \r\nL 6.390625 51.859375 \r\nL 15.1875 51.859375 \r\nL 15.1875 23.09375 \r\nQ 15.1875 16.21875 15.71875 13.8125 \r\nQ 16.546875 10.359375 19.234375 8.375 \r\nQ 21.921875 6.390625 25.875 6.390625 \r\nQ 29.828125 6.390625 33.296875 8.421875 \r\nQ 36.765625 10.453125 38.203125 13.9375 \r\nQ 39.65625 17.4375 39.65625 24.078125 \r\nL 39.65625 51.859375 \r\nL 48.4375 51.859375 \r\nL 48.4375 0 \r\nz\r\n\" id=\"ArialMT-117\"/>\r\n      </defs>\r\n      <use xlink:href=\"#ArialMT-84\"/>\r\n      <use x=\"57.333984\" xlink:href=\"#ArialMT-114\"/>\r\n      <use x=\"90.634766\" xlink:href=\"#ArialMT-117\"/>\r\n      <use x=\"146.25\" xlink:href=\"#ArialMT-101\"/>\r\n      <use x=\"201.865234\" xlink:href=\"#ArialMT-32\"/>\r\n      <use x=\"229.648438\" xlink:href=\"#ArialMT-108\"/>\r\n      <use x=\"251.865234\" xlink:href=\"#ArialMT-97\"/>\r\n      <use x=\"307.480469\" xlink:href=\"#ArialMT-98\"/>\r\n      <use x=\"363.095703\" xlink:href=\"#ArialMT-101\"/>\r\n      <use x=\"418.710938\" xlink:href=\"#ArialMT-108\"/>\r\n     </g>\r\n    </g>\r\n   </g>\r\n   <g id=\"patch_3\">\r\n    <path d=\"M 37.791406 290.720952 \r\nL 37.791406 47.156952 \r\n\" style=\"fill:none;stroke:#ffffff;stroke-linecap:square;stroke-linejoin:miter;stroke-width:1.25;\"/>\r\n   </g>\r\n   <g id=\"patch_4\">\r\n    <path d=\"M 281.355406 290.720952 \r\nL 281.355406 47.156952 \r\n\" style=\"fill:none;stroke:#ffffff;stroke-linecap:square;stroke-linejoin:miter;stroke-width:1.25;\"/>\r\n   </g>\r\n   <g id=\"patch_5\">\r\n    <path d=\"M 37.791406 290.720952 \r\nL 281.355406 290.720952 \r\n\" style=\"fill:none;stroke:#ffffff;stroke-linecap:square;stroke-linejoin:miter;stroke-width:1.25;\"/>\r\n   </g>\r\n   <g id=\"patch_6\">\r\n    <path d=\"M 37.791406 47.156952 \r\nL 281.355406 47.156952 \r\n\" style=\"fill:none;stroke:#ffffff;stroke-linecap:square;stroke-linejoin:miter;stroke-width:1.25;\"/>\r\n   </g>\r\n   <g id=\"text_9\">\r\n    <!-- 0.07 -->\r\n    <g transform=\"translate(66.708844 90.853139)scale(0.12 -0.12)\">\r\n     <defs>\r\n      <path d=\"M 9.078125 0 \r\nL 9.078125 10.015625 \r\nL 19.09375 10.015625 \r\nL 19.09375 0 \r\nz\r\n\" id=\"ArialMT-46\"/>\r\n      <path d=\"M 4.734375 62.203125 \r\nL 4.734375 70.65625 \r\nL 51.078125 70.65625 \r\nL 51.078125 63.8125 \r\nQ 44.234375 56.546875 37.515625 44.484375 \r\nQ 30.8125 32.421875 27.15625 19.671875 \r\nQ 24.515625 10.6875 23.78125 0 \r\nL 14.75 0 \r\nQ 14.890625 8.453125 18.0625 20.40625 \r\nQ 21.234375 32.375 27.171875 43.484375 \r\nQ 33.109375 54.59375 39.796875 62.203125 \r\nz\r\n\" id=\"ArialMT-55\"/>\r\n     </defs>\r\n     <use xlink:href=\"#ArialMT-48\"/>\r\n     <use x=\"55.615234\" xlink:href=\"#ArialMT-46\"/>\r\n     <use x=\"83.398438\" xlink:href=\"#ArialMT-48\"/>\r\n     <use x=\"139.013672\" xlink:href=\"#ArialMT-55\"/>\r\n    </g>\r\n   </g>\r\n   <g id=\"text_10\">\r\n    <!-- 0.85 -->\r\n    <g style=\"fill:#ffffff;\" transform=\"translate(147.896844 90.853139)scale(0.12 -0.12)\">\r\n     <defs>\r\n      <path d=\"M 17.671875 38.8125 \r\nQ 12.203125 40.828125 9.5625 44.53125 \r\nQ 6.9375 48.25 6.9375 53.421875 \r\nQ 6.9375 61.234375 12.546875 66.546875 \r\nQ 18.171875 71.875 27.484375 71.875 \r\nQ 36.859375 71.875 42.578125 66.421875 \r\nQ 48.296875 60.984375 48.296875 53.171875 \r\nQ 48.296875 48.1875 45.671875 44.5 \r\nQ 43.0625 40.828125 37.75 38.8125 \r\nQ 44.34375 36.671875 47.78125 31.875 \r\nQ 51.21875 27.09375 51.21875 20.453125 \r\nQ 51.21875 11.28125 44.71875 5.03125 \r\nQ 38.234375 -1.21875 27.640625 -1.21875 \r\nQ 17.046875 -1.21875 10.546875 5.046875 \r\nQ 4.046875 11.328125 4.046875 20.703125 \r\nQ 4.046875 27.6875 7.59375 32.390625 \r\nQ 11.140625 37.109375 17.671875 38.8125 \r\nz\r\nM 15.921875 53.71875 \r\nQ 15.921875 48.640625 19.1875 45.40625 \r\nQ 22.46875 42.1875 27.6875 42.1875 \r\nQ 32.765625 42.1875 36.015625 45.375 \r\nQ 39.265625 48.578125 39.265625 53.21875 \r\nQ 39.265625 58.0625 35.90625 61.359375 \r\nQ 32.5625 64.65625 27.59375 64.65625 \r\nQ 22.5625 64.65625 19.234375 61.421875 \r\nQ 15.921875 58.203125 15.921875 53.71875 \r\nz\r\nM 13.09375 20.65625 \r\nQ 13.09375 16.890625 14.875 13.375 \r\nQ 16.65625 9.859375 20.171875 7.921875 \r\nQ 23.6875 6 27.734375 6 \r\nQ 34.03125 6 38.125 10.046875 \r\nQ 42.234375 14.109375 42.234375 20.359375 \r\nQ 42.234375 26.703125 38.015625 30.859375 \r\nQ 33.796875 35.015625 27.4375 35.015625 \r\nQ 21.234375 35.015625 17.15625 30.90625 \r\nQ 13.09375 26.8125 13.09375 20.65625 \r\nz\r\n\" id=\"ArialMT-56\"/>\r\n      <path d=\"M 4.15625 18.75 \r\nL 13.375 19.53125 \r\nQ 14.40625 12.796875 18.140625 9.390625 \r\nQ 21.875 6 27.15625 6 \r\nQ 33.5 6 37.890625 10.78125 \r\nQ 42.28125 15.578125 42.28125 23.484375 \r\nQ 42.28125 31 38.0625 35.34375 \r\nQ 33.84375 39.703125 27 39.703125 \r\nQ 22.75 39.703125 19.328125 37.765625 \r\nQ 15.921875 35.84375 13.96875 32.765625 \r\nL 5.71875 33.84375 \r\nL 12.640625 70.609375 \r\nL 48.25 70.609375 \r\nL 48.25 62.203125 \r\nL 19.671875 62.203125 \r\nL 15.828125 42.96875 \r\nQ 22.265625 47.46875 29.34375 47.46875 \r\nQ 38.71875 47.46875 45.15625 40.96875 \r\nQ 51.609375 34.46875 51.609375 24.265625 \r\nQ 51.609375 14.546875 45.953125 7.46875 \r\nQ 39.0625 -1.21875 27.15625 -1.21875 \r\nQ 17.390625 -1.21875 11.203125 4.25 \r\nQ 5.03125 9.71875 4.15625 18.75 \r\nz\r\n\" id=\"ArialMT-53\"/>\r\n     </defs>\r\n     <use xlink:href=\"#ArialMT-48\"/>\r\n     <use x=\"55.615234\" xlink:href=\"#ArialMT-46\"/>\r\n     <use x=\"83.398438\" xlink:href=\"#ArialMT-56\"/>\r\n     <use x=\"139.013672\" xlink:href=\"#ArialMT-53\"/>\r\n    </g>\r\n   </g>\r\n   <g id=\"text_11\">\r\n    <!-- 0.07 -->\r\n    <g transform=\"translate(229.084844 90.853139)scale(0.12 -0.12)\">\r\n     <use xlink:href=\"#ArialMT-48\"/>\r\n     <use x=\"55.615234\" xlink:href=\"#ArialMT-46\"/>\r\n     <use x=\"83.398438\" xlink:href=\"#ArialMT-48\"/>\r\n     <use x=\"139.013672\" xlink:href=\"#ArialMT-55\"/>\r\n    </g>\r\n   </g>\r\n   <g id=\"text_12\">\r\n    <!-- 0.01 -->\r\n    <g transform=\"translate(66.708844 172.041139)scale(0.12 -0.12)\">\r\n     <use xlink:href=\"#ArialMT-48\"/>\r\n     <use x=\"55.615234\" xlink:href=\"#ArialMT-46\"/>\r\n     <use x=\"83.398438\" xlink:href=\"#ArialMT-48\"/>\r\n     <use x=\"139.013672\" xlink:href=\"#ArialMT-49\"/>\r\n    </g>\r\n   </g>\r\n   <g id=\"text_13\">\r\n    <!-- 0.96 -->\r\n    <g style=\"fill:#ffffff;\" transform=\"translate(147.896844 172.041139)scale(0.12 -0.12)\">\r\n     <defs>\r\n      <path d=\"M 5.46875 16.546875 \r\nL 13.921875 17.328125 \r\nQ 14.984375 11.375 18.015625 8.6875 \r\nQ 21.046875 6 25.78125 6 \r\nQ 29.828125 6 32.875 7.859375 \r\nQ 35.9375 9.71875 37.890625 12.8125 \r\nQ 39.84375 15.921875 41.15625 21.1875 \r\nQ 42.484375 26.46875 42.484375 31.9375 \r\nQ 42.484375 32.515625 42.4375 33.6875 \r\nQ 39.796875 29.5 35.234375 26.875 \r\nQ 30.671875 24.265625 25.34375 24.265625 \r\nQ 16.453125 24.265625 10.296875 30.703125 \r\nQ 4.15625 37.15625 4.15625 47.703125 \r\nQ 4.15625 58.59375 10.578125 65.234375 \r\nQ 17 71.875 26.65625 71.875 \r\nQ 33.640625 71.875 39.421875 68.109375 \r\nQ 45.21875 64.359375 48.21875 57.390625 \r\nQ 51.21875 50.4375 51.21875 37.25 \r\nQ 51.21875 23.53125 48.234375 15.40625 \r\nQ 45.265625 7.28125 39.375 3.03125 \r\nQ 33.5 -1.21875 25.59375 -1.21875 \r\nQ 17.1875 -1.21875 11.859375 3.4375 \r\nQ 6.546875 8.109375 5.46875 16.546875 \r\nz\r\nM 41.453125 48.140625 \r\nQ 41.453125 55.71875 37.421875 60.15625 \r\nQ 33.40625 64.59375 27.734375 64.59375 \r\nQ 21.875 64.59375 17.53125 59.8125 \r\nQ 13.1875 55.03125 13.1875 47.40625 \r\nQ 13.1875 40.578125 17.3125 36.296875 \r\nQ 21.4375 32.03125 27.484375 32.03125 \r\nQ 33.59375 32.03125 37.515625 36.296875 \r\nQ 41.453125 40.578125 41.453125 48.140625 \r\nz\r\n\" id=\"ArialMT-57\"/>\r\n      <path d=\"M 49.75 54.046875 \r\nL 41.015625 53.375 \r\nQ 39.84375 58.546875 37.703125 60.890625 \r\nQ 34.125 64.65625 28.90625 64.65625 \r\nQ 24.703125 64.65625 21.53125 62.3125 \r\nQ 17.390625 59.28125 14.984375 53.46875 \r\nQ 12.59375 47.65625 12.5 36.921875 \r\nQ 15.671875 41.75 20.265625 44.09375 \r\nQ 24.859375 46.4375 29.890625 46.4375 \r\nQ 38.671875 46.4375 44.84375 39.96875 \r\nQ 51.03125 33.5 51.03125 23.25 \r\nQ 51.03125 16.5 48.125 10.71875 \r\nQ 45.21875 4.9375 40.140625 1.859375 \r\nQ 35.0625 -1.21875 28.609375 -1.21875 \r\nQ 17.625 -1.21875 10.6875 6.859375 \r\nQ 3.765625 14.9375 3.765625 33.5 \r\nQ 3.765625 54.25 11.421875 63.671875 \r\nQ 18.109375 71.875 29.4375 71.875 \r\nQ 37.890625 71.875 43.28125 67.140625 \r\nQ 48.6875 62.40625 49.75 54.046875 \r\nz\r\nM 13.875 23.1875 \r\nQ 13.875 18.65625 15.796875 14.5 \r\nQ 17.71875 10.359375 21.1875 8.171875 \r\nQ 24.65625 6 28.46875 6 \r\nQ 34.03125 6 38.03125 10.484375 \r\nQ 42.046875 14.984375 42.046875 22.703125 \r\nQ 42.046875 30.125 38.078125 34.390625 \r\nQ 34.125 38.671875 28.125 38.671875 \r\nQ 22.171875 38.671875 18.015625 34.390625 \r\nQ 13.875 30.125 13.875 23.1875 \r\nz\r\n\" id=\"ArialMT-54\"/>\r\n     </defs>\r\n     <use xlink:href=\"#ArialMT-48\"/>\r\n     <use x=\"55.615234\" xlink:href=\"#ArialMT-46\"/>\r\n     <use x=\"83.398438\" xlink:href=\"#ArialMT-57\"/>\r\n     <use x=\"139.013672\" xlink:href=\"#ArialMT-54\"/>\r\n    </g>\r\n   </g>\r\n   <g id=\"text_14\">\r\n    <!-- 0.03 -->\r\n    <g transform=\"translate(229.084844 172.041139)scale(0.12 -0.12)\">\r\n     <defs>\r\n      <path d=\"M 4.203125 18.890625 \r\nL 12.984375 20.0625 \r\nQ 14.5 12.59375 18.140625 9.296875 \r\nQ 21.78125 6 27 6 \r\nQ 33.203125 6 37.46875 10.296875 \r\nQ 41.75 14.59375 41.75 20.953125 \r\nQ 41.75 27 37.796875 30.921875 \r\nQ 33.84375 34.859375 27.734375 34.859375 \r\nQ 25.25 34.859375 21.53125 33.890625 \r\nL 22.515625 41.609375 \r\nQ 23.390625 41.5 23.921875 41.5 \r\nQ 29.546875 41.5 34.03125 44.421875 \r\nQ 38.53125 47.359375 38.53125 53.46875 \r\nQ 38.53125 58.296875 35.25 61.46875 \r\nQ 31.984375 64.65625 26.8125 64.65625 \r\nQ 21.6875 64.65625 18.265625 61.421875 \r\nQ 14.84375 58.203125 13.875 51.765625 \r\nL 5.078125 53.328125 \r\nQ 6.6875 62.15625 12.390625 67.015625 \r\nQ 18.109375 71.875 26.609375 71.875 \r\nQ 32.46875 71.875 37.390625 69.359375 \r\nQ 42.328125 66.84375 44.9375 62.5 \r\nQ 47.5625 58.15625 47.5625 53.265625 \r\nQ 47.5625 48.640625 45.0625 44.828125 \r\nQ 42.578125 41.015625 37.703125 38.765625 \r\nQ 44.046875 37.3125 47.5625 32.6875 \r\nQ 51.078125 28.078125 51.078125 21.140625 \r\nQ 51.078125 11.765625 44.234375 5.25 \r\nQ 37.40625 -1.265625 26.953125 -1.265625 \r\nQ 17.53125 -1.265625 11.296875 4.34375 \r\nQ 5.078125 9.96875 4.203125 18.890625 \r\nz\r\n\" id=\"ArialMT-51\"/>\r\n     </defs>\r\n     <use xlink:href=\"#ArialMT-48\"/>\r\n     <use x=\"55.615234\" xlink:href=\"#ArialMT-46\"/>\r\n     <use x=\"83.398438\" xlink:href=\"#ArialMT-48\"/>\r\n     <use x=\"139.013672\" xlink:href=\"#ArialMT-51\"/>\r\n    </g>\r\n   </g>\r\n   <g id=\"text_15\">\r\n    <!-- 0.00 -->\r\n    <g transform=\"translate(66.708844 253.229139)scale(0.12 -0.12)\">\r\n     <use xlink:href=\"#ArialMT-48\"/>\r\n     <use x=\"55.615234\" xlink:href=\"#ArialMT-46\"/>\r\n     <use x=\"83.398438\" xlink:href=\"#ArialMT-48\"/>\r\n     <use x=\"139.013672\" xlink:href=\"#ArialMT-48\"/>\r\n    </g>\r\n   </g>\r\n   <g id=\"text_16\">\r\n    <!-- 0.32 -->\r\n    <g transform=\"translate(147.896844 253.229139)scale(0.12 -0.12)\">\r\n     <use xlink:href=\"#ArialMT-48\"/>\r\n     <use x=\"55.615234\" xlink:href=\"#ArialMT-46\"/>\r\n     <use x=\"83.398438\" xlink:href=\"#ArialMT-51\"/>\r\n     <use x=\"139.013672\" xlink:href=\"#ArialMT-50\"/>\r\n    </g>\r\n   </g>\r\n   <g id=\"text_17\">\r\n    <!-- 0.67 -->\r\n    <g style=\"fill:#ffffff;\" transform=\"translate(229.084844 253.229139)scale(0.12 -0.12)\">\r\n     <use xlink:href=\"#ArialMT-48\"/>\r\n     <use x=\"55.615234\" xlink:href=\"#ArialMT-46\"/>\r\n     <use x=\"83.398438\" xlink:href=\"#ArialMT-54\"/>\r\n     <use x=\"139.013672\" xlink:href=\"#ArialMT-55\"/>\r\n    </g>\r\n   </g>\r\n   <g id=\"text_18\">\r\n    <!-- Normalized confusion matrix -->\r\n    <g style=\"fill:#262626;\" transform=\"translate(83.883406 41.156952)scale(0.12 -0.12)\">\r\n     <defs>\r\n      <path d=\"M 7.625 0 \r\nL 7.625 71.578125 \r\nL 17.328125 71.578125 \r\nL 54.9375 15.375 \r\nL 54.9375 71.578125 \r\nL 64.015625 71.578125 \r\nL 64.015625 0 \r\nL 54.296875 0 \r\nL 16.703125 56.25 \r\nL 16.703125 0 \r\nz\r\n\" id=\"ArialMT-78\"/>\r\n      <path d=\"M 3.328125 25.921875 \r\nQ 3.328125 40.328125 11.328125 47.265625 \r\nQ 18.015625 53.03125 27.640625 53.03125 \r\nQ 38.328125 53.03125 45.109375 46.015625 \r\nQ 51.90625 39.015625 51.90625 26.65625 \r\nQ 51.90625 16.65625 48.90625 10.90625 \r\nQ 45.90625 5.171875 40.15625 2 \r\nQ 34.421875 -1.171875 27.640625 -1.171875 \r\nQ 16.75 -1.171875 10.03125 5.8125 \r\nQ 3.328125 12.796875 3.328125 25.921875 \r\nz\r\nM 12.359375 25.921875 \r\nQ 12.359375 15.96875 16.703125 11.015625 \r\nQ 21.046875 6.0625 27.640625 6.0625 \r\nQ 34.1875 6.0625 38.53125 11.03125 \r\nQ 42.875 16.015625 42.875 26.21875 \r\nQ 42.875 35.84375 38.5 40.796875 \r\nQ 34.125 45.75 27.640625 45.75 \r\nQ 21.046875 45.75 16.703125 40.8125 \r\nQ 12.359375 35.890625 12.359375 25.921875 \r\nz\r\n\" id=\"ArialMT-111\"/>\r\n      <path d=\"M 6.59375 0 \r\nL 6.59375 51.859375 \r\nL 14.453125 51.859375 \r\nL 14.453125 44.578125 \r\nQ 16.890625 48.390625 20.9375 50.703125 \r\nQ 25 53.03125 30.171875 53.03125 \r\nQ 35.9375 53.03125 39.625 50.640625 \r\nQ 43.3125 48.25 44.828125 43.953125 \r\nQ 50.984375 53.03125 60.84375 53.03125 \r\nQ 68.5625 53.03125 72.703125 48.75 \r\nQ 76.859375 44.484375 76.859375 35.59375 \r\nL 76.859375 0 \r\nL 68.109375 0 \r\nL 68.109375 32.671875 \r\nQ 68.109375 37.9375 67.25 40.25 \r\nQ 66.40625 42.578125 64.15625 43.984375 \r\nQ 61.921875 45.40625 58.890625 45.40625 \r\nQ 53.421875 45.40625 49.796875 41.765625 \r\nQ 46.1875 38.140625 46.1875 30.125 \r\nL 46.1875 0 \r\nL 37.40625 0 \r\nL 37.40625 33.6875 \r\nQ 37.40625 39.546875 35.25 42.46875 \r\nQ 33.109375 45.40625 28.21875 45.40625 \r\nQ 24.515625 45.40625 21.359375 43.453125 \r\nQ 18.21875 41.5 16.796875 37.734375 \r\nQ 15.375 33.984375 15.375 26.90625 \r\nL 15.375 0 \r\nz\r\n\" id=\"ArialMT-109\"/>\r\n      <path d=\"M 1.953125 0 \r\nL 1.953125 7.125 \r\nL 34.96875 45.015625 \r\nQ 29.34375 44.734375 25.046875 44.734375 \r\nL 3.90625 44.734375 \r\nL 3.90625 51.859375 \r\nL 46.296875 51.859375 \r\nL 46.296875 46.046875 \r\nL 18.21875 13.140625 \r\nL 12.796875 7.125 \r\nQ 18.703125 7.5625 23.875 7.5625 \r\nL 47.859375 7.5625 \r\nL 47.859375 0 \r\nz\r\n\" id=\"ArialMT-122\"/>\r\n      <path d=\"M 6.59375 0 \r\nL 6.59375 51.859375 \r\nL 14.5 51.859375 \r\nL 14.5 44.484375 \r\nQ 20.21875 53.03125 31 53.03125 \r\nQ 35.6875 53.03125 39.625 51.34375 \r\nQ 43.5625 49.65625 45.515625 46.921875 \r\nQ 47.46875 44.1875 48.25 40.4375 \r\nQ 48.734375 37.984375 48.734375 31.890625 \r\nL 48.734375 0 \r\nL 39.9375 0 \r\nL 39.9375 31.546875 \r\nQ 39.9375 36.921875 38.90625 39.578125 \r\nQ 37.890625 42.234375 35.28125 43.8125 \r\nQ 32.671875 45.40625 29.15625 45.40625 \r\nQ 23.53125 45.40625 19.453125 41.84375 \r\nQ 15.375 38.28125 15.375 28.328125 \r\nL 15.375 0 \r\nz\r\n\" id=\"ArialMT-110\"/>\r\n      <path d=\"M 8.6875 0 \r\nL 8.6875 45.015625 \r\nL 0.921875 45.015625 \r\nL 0.921875 51.859375 \r\nL 8.6875 51.859375 \r\nL 8.6875 57.375 \r\nQ 8.6875 62.59375 9.625 65.140625 \r\nQ 10.890625 68.5625 14.078125 70.671875 \r\nQ 17.28125 72.796875 23.046875 72.796875 \r\nQ 26.765625 72.796875 31.25 71.921875 \r\nL 29.9375 64.265625 \r\nQ 27.203125 64.75 24.75 64.75 \r\nQ 20.75 64.75 19.09375 63.03125 \r\nQ 17.4375 61.328125 17.4375 56.640625 \r\nL 17.4375 51.859375 \r\nL 27.546875 51.859375 \r\nL 27.546875 45.015625 \r\nL 17.4375 45.015625 \r\nL 17.4375 0 \r\nz\r\n\" id=\"ArialMT-102\"/>\r\n      <path d=\"M 3.078125 15.484375 \r\nL 11.765625 16.84375 \r\nQ 12.5 11.625 15.84375 8.84375 \r\nQ 19.1875 6.0625 25.203125 6.0625 \r\nQ 31.25 6.0625 34.171875 8.515625 \r\nQ 37.109375 10.984375 37.109375 14.3125 \r\nQ 37.109375 17.28125 34.515625 19 \r\nQ 32.71875 20.171875 25.53125 21.96875 \r\nQ 15.875 24.421875 12.140625 26.203125 \r\nQ 8.40625 27.984375 6.46875 31.125 \r\nQ 4.546875 34.28125 4.546875 38.09375 \r\nQ 4.546875 41.546875 6.125 44.5 \r\nQ 7.71875 47.46875 10.453125 49.421875 \r\nQ 12.5 50.921875 16.03125 51.96875 \r\nQ 19.578125 53.03125 23.640625 53.03125 \r\nQ 29.734375 53.03125 34.34375 51.265625 \r\nQ 38.96875 49.515625 41.15625 46.5 \r\nQ 43.359375 43.5 44.1875 38.484375 \r\nL 35.59375 37.3125 \r\nQ 35.015625 41.3125 32.203125 43.546875 \r\nQ 29.390625 45.796875 24.265625 45.796875 \r\nQ 18.21875 45.796875 15.625 43.796875 \r\nQ 13.03125 41.796875 13.03125 39.109375 \r\nQ 13.03125 37.40625 14.109375 36.03125 \r\nQ 15.1875 34.625 17.484375 33.6875 \r\nQ 18.796875 33.203125 25.25 31.453125 \r\nQ 34.578125 28.953125 38.25 27.359375 \r\nQ 41.9375 25.78125 44.03125 22.75 \r\nQ 46.140625 19.734375 46.140625 15.234375 \r\nQ 46.140625 10.84375 43.578125 6.953125 \r\nQ 41.015625 3.078125 36.171875 0.953125 \r\nQ 31.34375 -1.171875 25.25 -1.171875 \r\nQ 15.140625 -1.171875 9.84375 3.03125 \r\nQ 4.546875 7.234375 3.078125 15.484375 \r\nz\r\n\" id=\"ArialMT-115\"/>\r\n      <path d=\"M 0.734375 0 \r\nL 19.671875 26.953125 \r\nL 2.15625 51.859375 \r\nL 13.140625 51.859375 \r\nL 21.09375 39.703125 \r\nQ 23.34375 36.234375 24.703125 33.890625 \r\nQ 26.859375 37.109375 28.65625 39.59375 \r\nL 37.40625 51.859375 \r\nL 47.90625 51.859375 \r\nL 29.984375 27.4375 \r\nL 49.265625 0 \r\nL 38.484375 0 \r\nL 27.828125 16.109375 \r\nL 25 20.453125 \r\nL 11.375 0 \r\nz\r\n\" id=\"ArialMT-120\"/>\r\n     </defs>\r\n     <use xlink:href=\"#ArialMT-78\"/>\r\n     <use x=\"72.216797\" xlink:href=\"#ArialMT-111\"/>\r\n     <use x=\"127.832031\" xlink:href=\"#ArialMT-114\"/>\r\n     <use x=\"161.132812\" xlink:href=\"#ArialMT-109\"/>\r\n     <use x=\"244.433594\" xlink:href=\"#ArialMT-97\"/>\r\n     <use x=\"300.048828\" xlink:href=\"#ArialMT-108\"/>\r\n     <use x=\"322.265625\" xlink:href=\"#ArialMT-105\"/>\r\n     <use x=\"344.482422\" xlink:href=\"#ArialMT-122\"/>\r\n     <use x=\"394.482422\" xlink:href=\"#ArialMT-101\"/>\r\n     <use x=\"450.097656\" xlink:href=\"#ArialMT-100\"/>\r\n     <use x=\"505.712891\" xlink:href=\"#ArialMT-32\"/>\r\n     <use x=\"533.496094\" xlink:href=\"#ArialMT-99\"/>\r\n     <use x=\"583.496094\" xlink:href=\"#ArialMT-111\"/>\r\n     <use x=\"639.111328\" xlink:href=\"#ArialMT-110\"/>\r\n     <use x=\"694.726562\" xlink:href=\"#ArialMT-102\"/>\r\n     <use x=\"722.509766\" xlink:href=\"#ArialMT-117\"/>\r\n     <use x=\"778.125\" xlink:href=\"#ArialMT-115\"/>\r\n     <use x=\"828.125\" xlink:href=\"#ArialMT-105\"/>\r\n     <use x=\"850.341797\" xlink:href=\"#ArialMT-111\"/>\r\n     <use x=\"905.957031\" xlink:href=\"#ArialMT-110\"/>\r\n     <use x=\"961.572266\" xlink:href=\"#ArialMT-32\"/>\r\n     <use x=\"989.355469\" xlink:href=\"#ArialMT-109\"/>\r\n     <use x=\"1072.65625\" xlink:href=\"#ArialMT-97\"/>\r\n     <use x=\"1128.271484\" xlink:href=\"#ArialMT-116\"/>\r\n     <use x=\"1156.054688\" xlink:href=\"#ArialMT-114\"/>\r\n     <use x=\"1189.355469\" xlink:href=\"#ArialMT-105\"/>\r\n     <use x=\"1211.572266\" xlink:href=\"#ArialMT-120\"/>\r\n    </g>\r\n   </g>\r\n  </g>\r\n  <g id=\"axes_2\">\r\n   <g id=\"patch_7\">\r\n    <path clip-path=\"url(#p0befa416de)\" d=\"M 296.578156 330.677903 \r\nL 296.578156 329.414318 \r\nL 296.578156 8.463586 \r\nL 296.578156 7.2 \r\nL 312.752051 7.2 \r\nL 312.752051 8.463586 \r\nL 312.752051 329.414318 \r\nL 312.752051 330.677903 \r\nz\r\n\" style=\"fill:#eaeaf2;stroke:#eaeaf2;stroke-linejoin:miter;stroke-width:0.01;\"/>\r\n   </g>\r\n   <g id=\"matplotlib.axis_3\"/>\r\n   <g id=\"matplotlib.axis_4\">\r\n    <g id=\"ytick_4\">\r\n     <g id=\"line2d_7\">\r\n      <defs>\r\n       <path d=\"M 0 0 \r\nL 6 0 \r\n\" id=\"ma9c184f69b\" style=\"stroke:#262626;stroke-width:1.25;\"/>\r\n      </defs>\r\n      <g>\r\n       <use style=\"fill:#262626;stroke:#262626;stroke-width:1.25;\" x=\"312.752051\" xlink:href=\"#ma9c184f69b\" y=\"263.897157\"/>\r\n      </g>\r\n     </g>\r\n     <g id=\"text_19\">\r\n      <!-- 0.2 -->\r\n      <g style=\"fill:#262626;\" transform=\"translate(322.252051 267.833954)scale(0.11 -0.11)\">\r\n       <use xlink:href=\"#ArialMT-48\"/>\r\n       <use x=\"55.615234\" xlink:href=\"#ArialMT-46\"/>\r\n       <use x=\"83.398438\" xlink:href=\"#ArialMT-50\"/>\r\n      </g>\r\n     </g>\r\n    </g>\r\n    <g id=\"ytick_5\">\r\n     <g id=\"line2d_8\">\r\n      <g>\r\n       <use style=\"fill:#262626;stroke:#262626;stroke-width:1.25;\" x=\"312.752051\" xlink:href=\"#ma9c184f69b\" y=\"196.312469\"/>\r\n      </g>\r\n     </g>\r\n     <g id=\"text_20\">\r\n      <!-- 0.4 -->\r\n      <g style=\"fill:#262626;\" transform=\"translate(322.252051 200.249266)scale(0.11 -0.11)\">\r\n       <defs>\r\n        <path d=\"M 32.328125 0 \r\nL 32.328125 17.140625 \r\nL 1.265625 17.140625 \r\nL 1.265625 25.203125 \r\nL 33.9375 71.578125 \r\nL 41.109375 71.578125 \r\nL 41.109375 25.203125 \r\nL 50.78125 25.203125 \r\nL 50.78125 17.140625 \r\nL 41.109375 17.140625 \r\nL 41.109375 0 \r\nz\r\nM 32.328125 25.203125 \r\nL 32.328125 57.46875 \r\nL 9.90625 25.203125 \r\nz\r\n\" id=\"ArialMT-52\"/>\r\n       </defs>\r\n       <use xlink:href=\"#ArialMT-48\"/>\r\n       <use x=\"55.615234\" xlink:href=\"#ArialMT-46\"/>\r\n       <use x=\"83.398438\" xlink:href=\"#ArialMT-52\"/>\r\n      </g>\r\n     </g>\r\n    </g>\r\n    <g id=\"ytick_6\">\r\n     <g id=\"line2d_9\">\r\n      <g>\r\n       <use style=\"fill:#262626;stroke:#262626;stroke-width:1.25;\" x=\"312.752051\" xlink:href=\"#ma9c184f69b\" y=\"128.727782\"/>\r\n      </g>\r\n     </g>\r\n     <g id=\"text_21\">\r\n      <!-- 0.6 -->\r\n      <g style=\"fill:#262626;\" transform=\"translate(322.252051 132.664579)scale(0.11 -0.11)\">\r\n       <use xlink:href=\"#ArialMT-48\"/>\r\n       <use x=\"55.615234\" xlink:href=\"#ArialMT-46\"/>\r\n       <use x=\"83.398438\" xlink:href=\"#ArialMT-54\"/>\r\n      </g>\r\n     </g>\r\n    </g>\r\n    <g id=\"ytick_7\">\r\n     <g id=\"line2d_10\">\r\n      <g>\r\n       <use style=\"fill:#262626;stroke:#262626;stroke-width:1.25;\" x=\"312.752051\" xlink:href=\"#ma9c184f69b\" y=\"61.143094\"/>\r\n      </g>\r\n     </g>\r\n     <g id=\"text_22\">\r\n      <!-- 0.8 -->\r\n      <g style=\"fill:#262626;\" transform=\"translate(322.252051 65.079891)scale(0.11 -0.11)\">\r\n       <use xlink:href=\"#ArialMT-48\"/>\r\n       <use x=\"55.615234\" xlink:href=\"#ArialMT-46\"/>\r\n       <use x=\"83.398438\" xlink:href=\"#ArialMT-56\"/>\r\n      </g>\r\n     </g>\r\n    </g>\r\n   </g>\r\n   <image height=\"324\" id=\"imagedaa5328db1\" transform=\"scale(1 -1)translate(0 -324)\" width=\"16\" x=\"297\" xlink:href=\"data:image/png;base64,\r\niVBORw0KGgoAAAANSUhEUgAAABAAAAFECAYAAAAum740AAABYklEQVR4nO3bQW7EMAxDUbbI/a/bRQFnFu0NKIC08LOPIT/Lkp3BfP38vq+M5/Fel55X3giP+b6+vdelxwygANE3cFcBxIEp5CNYgOhn4sBeALGhrJudKY+YLygCsSAT7+/OIIL4H4H3VPRGEEEEUSBKIP4NkEbkM9AOxGMq5pex4JR24pkI4g5E1+AsMEhPYQeiO4DbF046AhA7ENOn9fwRZwIxn0jeAL6Bv4x2X7BXIY54f28sQGzIRHOAfF+wp5C/L+QzkZLWYDBQVL2HkkZJkxrOiQVH3fvrAYhLbu/p7VzQXEGs+IKxADFdkTaU9fydCcSC7rzhvrAAMT6FiQiu7wvxVSCRQOyIAERK2kwExzwkgchuHBmg4a+6aYMCRHsK968CiDsQ46uwwQDEDQPQXCsQ45tpA6J8RO/HczuCCYPwFCYi8AYgkUDsiGAFovkZqAKRRIpPIR8BiCBKA1P4AGEKG0RFc9y2AAAAAElFTkSuQmCC\" y=\"-6\"/>\r\n   <g id=\"patch_8\">\r\n    <path d=\"M 296.578156 330.677903 \r\nL 296.578156 329.414318 \r\nL 296.578156 8.463586 \r\nL 296.578156 7.2 \r\nL 312.752051 7.2 \r\nL 312.752051 8.463586 \r\nL 312.752051 329.414318 \r\nL 312.752051 330.677903 \r\nz\r\n\" style=\"fill:none;stroke:#ffffff;stroke-linejoin:miter;stroke-width:1.25;\"/>\r\n   </g>\r\n  </g>\r\n </g>\r\n <defs>\r\n  <clipPath id=\"p4b1f0e7925\">\r\n   <rect height=\"243.564\" width=\"243.564\" x=\"37.791406\" y=\"47.156952\"/>\r\n  </clipPath>\r\n  <clipPath id=\"p0befa416de\">\r\n   <rect height=\"323.477903\" width=\"16.173895\" x=\"296.578156\" y=\"7.2\"/>\r\n  </clipPath>\r\n </defs>\r\n</svg>\r\n",
            "image/png": "[encoded data removed]"
          },
          "metadata": {
            "tags": []
          }
        }
      ]
    },
    {
      "cell_type": "markdown",
      "metadata": {
        "id": "adVNsjDy9_lh"
      },
      "source": [
        "**Classification Report**\r\n",
        "\r\n",
        "Thanks to the classification of the report, we will be able to obtain more specific and interpretable information, thanks to the precision, recall, f1-score and support attributes."
      ]
    },
    {
      "cell_type": "code",
      "metadata": {
        "id": "Qyyox8l9Xi9j",
        "colab": {
          "base_uri": "https://localhost:8080/"
        },
        "outputId": "5cc3bcd9-bb6b-43aa-c698-3e6186ac4ff0"
      },
      "source": [
        "print(classification_report(y_test, y_pred))"
      ],
      "execution_count": null,
      "outputs": [
        {
          "output_type": "stream",
          "text": [
            "              precision    recall  f1-score   support\n",
            "\n",
            "           0       0.45      0.07      0.13       427\n",
            "           1       0.88      0.96      0.92      5747\n",
            "           2       0.79      0.67      0.73      1261\n",
            "\n",
            "    accuracy                           0.86      7435\n",
            "   macro avg       0.71      0.57      0.59      7435\n",
            "weighted avg       0.84      0.86      0.84      7435\n",
            "\n"
          ],
          "name": "stdout"
        }
      ]
    }
  ]
}
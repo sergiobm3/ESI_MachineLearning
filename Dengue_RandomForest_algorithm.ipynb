{
  "nbformat": 4,
  "nbformat_minor": 0,
  "metadata": {
    "colab": {
      "name": "Dengue_KNN_algorithm.ipynb",
      "provenance": [],
      "collapsed_sections": [],
      "toc_visible": true,
      "include_colab_link": true
    },
    "kernelspec": {
      "name": "python3",
      "display_name": "Python 3"
    }
  },
  "cells": [
    {
      "cell_type": "markdown",
      "metadata": {
        "id": "view-in-github",
        "colab_type": "text"
      },
      "source": [
        "<a href=\"https://colab.research.google.com/github/sergiobm3/ESI_MachineLearning/blob/Supervised/Dengue_RandomForest_algorithm.ipynb\" target=\"_parent\"><img src=\"https://colab.research.google.com/assets/colab-badge.svg\" alt=\"Open In Colab\"/></a>"
      ]
    },
    {
      "cell_type": "markdown",
      "metadata": {
        "id": "Ti5Wnz3cgkRD"
      },
      "source": [
        "#  The Problem\n"
      ]
    },
    {
      "cell_type": "markdown",
      "metadata": {
        "id": "3wbjJ1PrhsIJ"
      },
      "source": [
        "We will use the data from the competition to predict the evolution of Dengue Disease in both Iquitos and San Juan. More information in [link](https://www.drivendata.org/competitions/44/dengai-predicting-disease-spread/)\n",
        "\n",
        "The objective of the exercise is to solve a regression problem and on the other hand to participate in a data competition.\n"
      ]
    },
    {
      "cell_type": "markdown",
      "metadata": {
        "id": "Yo0x5dyH5b4N"
      },
      "source": [
        "# Setting Preliminares"
      ]
    },
    {
      "cell_type": "markdown",
      "metadata": {
        "id": "EqpW7cG5n4HB"
      },
      "source": [
        "Before starting any analysis we must ensure that the basic and general use libraries (numpy, pandas, etc.) are correctly imported. "
      ]
    },
    {
      "cell_type": "code",
      "metadata": {
        "id": "QcqAjsMIKluO"
      },
      "source": [
        "# carga de datos\n",
        "import pandas as pd\n",
        "import io\n",
        "from google.colab import files\n",
        "# manipulación y visualización\n",
        "import matplotlib.pyplot as plt\n",
        "import numpy as np\n",
        "import itertools\n",
        "import seaborn as sns\n",
        "from sklearn.preprocessing import MinMaxScaler\n",
        "\n"
      ],
      "execution_count": 56,
      "outputs": []
    },
    {
      "cell_type": "markdown",
      "metadata": {
        "id": "fvxDPxPhheSW"
      },
      "source": [
        "# Data Loading"
      ]
    },
    {
      "cell_type": "markdown",
      "metadata": {
        "id": "AygZwiVvg6WE"
      },
      "source": [
        "First we load the data into the environment with the functionalities provided by Google Colab"
      ]
    },
    {
      "cell_type": "code",
      "metadata": {
        "id": "6CRmTmk-6Mc2"
      },
      "source": [
        "def upload_files ():\n",
        "  uploaded = files.upload()\n",
        "  for fn in uploaded.keys():\n",
        "    print('User uploaded file \"{name}\" with length {length} bytes'.format(\n",
        "        name=fn, length=len(uploaded[fn])))\n",
        "    df = pd.read_csv(io.StringIO(uploaded[fn].decode('utf-8')))\n",
        "    return df"
      ],
      "execution_count": 2,
      "outputs": []
    },
    {
      "cell_type": "markdown",
      "metadata": {
        "id": "hzKJCzUU61r6"
      },
      "source": [
        "1. We upload training data without a target attribute (dengue_features_train)\n"
      ]
    },
    {
      "cell_type": "code",
      "metadata": {
        "id": "CRnebroi6Pwc",
        "colab": {
          "resources": {
            "http://localhost:8080/nbextensions/google.colab/files.js": {
              "data": "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",
              "ok": true,
              "headers": [
                [
                  "content-type",
                  "application/javascript"
                ]
              ],
              "status": 200,
              "status_text": ""
            }
          },
          "base_uri": "https://localhost:8080/",
          "height": 483
        },
        "outputId": "b652d861-29e8-437c-a738-4dc47bcc973f"
      },
      "source": [
        "train_feat = upload_files()\n",
        "train_feat"
      ],
      "execution_count": 4,
      "outputs": [
        {
          "output_type": "display_data",
          "data": {
            "text/html": [
              "\n",
              "     <input type=\"file\" id=\"files-ee8b54a2-df80-49fd-ad9a-e66f1d41b375\" name=\"files[]\" multiple disabled\n",
              "        style=\"border:none\" />\n",
              "     <output id=\"result-ee8b54a2-df80-49fd-ad9a-e66f1d41b375\">\n",
              "      Upload widget is only available when the cell has been executed in the\n",
              "      current browser session. Please rerun this cell to enable.\n",
              "      </output>\n",
              "      <script src=\"/nbextensions/google.colab/files.js\"></script> "
            ],
            "text/plain": [
              "<IPython.core.display.HTML object>"
            ]
          },
          "metadata": {
            "tags": []
          }
        },
        {
          "output_type": "stream",
          "text": [
            "Saving dengue_features_train.csv to dengue_features_train (1).csv\n",
            "User uploaded file \"dengue_features_train.csv\" with length 287139 bytes\n"
          ],
          "name": "stdout"
        },
        {
          "output_type": "execute_result",
          "data": {
            "text/html": [
              "<div>\n",
              "<style scoped>\n",
              "    .dataframe tbody tr th:only-of-type {\n",
              "        vertical-align: middle;\n",
              "    }\n",
              "\n",
              "    .dataframe tbody tr th {\n",
              "        vertical-align: top;\n",
              "    }\n",
              "\n",
              "    .dataframe thead th {\n",
              "        text-align: right;\n",
              "    }\n",
              "</style>\n",
              "<table border=\"1\" class=\"dataframe\">\n",
              "  <thead>\n",
              "    <tr style=\"text-align: right;\">\n",
              "      <th></th>\n",
              "      <th>city</th>\n",
              "      <th>year</th>\n",
              "      <th>weekofyear</th>\n",
              "      <th>week_start_date</th>\n",
              "      <th>ndvi_ne</th>\n",
              "      <th>ndvi_nw</th>\n",
              "      <th>ndvi_se</th>\n",
              "      <th>ndvi_sw</th>\n",
              "      <th>precipitation_amt_mm</th>\n",
              "      <th>reanalysis_air_temp_k</th>\n",
              "      <th>reanalysis_avg_temp_k</th>\n",
              "      <th>reanalysis_dew_point_temp_k</th>\n",
              "      <th>reanalysis_max_air_temp_k</th>\n",
              "      <th>reanalysis_min_air_temp_k</th>\n",
              "      <th>reanalysis_precip_amt_kg_per_m2</th>\n",
              "      <th>reanalysis_relative_humidity_percent</th>\n",
              "      <th>reanalysis_sat_precip_amt_mm</th>\n",
              "      <th>reanalysis_specific_humidity_g_per_kg</th>\n",
              "      <th>reanalysis_tdtr_k</th>\n",
              "      <th>station_avg_temp_c</th>\n",
              "      <th>station_diur_temp_rng_c</th>\n",
              "      <th>station_max_temp_c</th>\n",
              "      <th>station_min_temp_c</th>\n",
              "      <th>station_precip_mm</th>\n",
              "    </tr>\n",
              "  </thead>\n",
              "  <tbody>\n",
              "    <tr>\n",
              "      <th>0</th>\n",
              "      <td>sj</td>\n",
              "      <td>1990</td>\n",
              "      <td>18</td>\n",
              "      <td>1990-04-30</td>\n",
              "      <td>0.122600</td>\n",
              "      <td>0.103725</td>\n",
              "      <td>0.198483</td>\n",
              "      <td>0.177617</td>\n",
              "      <td>12.42</td>\n",
              "      <td>297.572857</td>\n",
              "      <td>297.742857</td>\n",
              "      <td>292.414286</td>\n",
              "      <td>299.8</td>\n",
              "      <td>295.9</td>\n",
              "      <td>32.00</td>\n",
              "      <td>73.365714</td>\n",
              "      <td>12.42</td>\n",
              "      <td>14.012857</td>\n",
              "      <td>2.628571</td>\n",
              "      <td>25.442857</td>\n",
              "      <td>6.900000</td>\n",
              "      <td>29.4</td>\n",
              "      <td>20.0</td>\n",
              "      <td>16.0</td>\n",
              "    </tr>\n",
              "    <tr>\n",
              "      <th>1</th>\n",
              "      <td>sj</td>\n",
              "      <td>1990</td>\n",
              "      <td>19</td>\n",
              "      <td>1990-05-07</td>\n",
              "      <td>0.169900</td>\n",
              "      <td>0.142175</td>\n",
              "      <td>0.162357</td>\n",
              "      <td>0.155486</td>\n",
              "      <td>22.82</td>\n",
              "      <td>298.211429</td>\n",
              "      <td>298.442857</td>\n",
              "      <td>293.951429</td>\n",
              "      <td>300.9</td>\n",
              "      <td>296.4</td>\n",
              "      <td>17.94</td>\n",
              "      <td>77.368571</td>\n",
              "      <td>22.82</td>\n",
              "      <td>15.372857</td>\n",
              "      <td>2.371429</td>\n",
              "      <td>26.714286</td>\n",
              "      <td>6.371429</td>\n",
              "      <td>31.7</td>\n",
              "      <td>22.2</td>\n",
              "      <td>8.6</td>\n",
              "    </tr>\n",
              "    <tr>\n",
              "      <th>2</th>\n",
              "      <td>sj</td>\n",
              "      <td>1990</td>\n",
              "      <td>20</td>\n",
              "      <td>1990-05-14</td>\n",
              "      <td>0.032250</td>\n",
              "      <td>0.172967</td>\n",
              "      <td>0.157200</td>\n",
              "      <td>0.170843</td>\n",
              "      <td>34.54</td>\n",
              "      <td>298.781429</td>\n",
              "      <td>298.878571</td>\n",
              "      <td>295.434286</td>\n",
              "      <td>300.5</td>\n",
              "      <td>297.3</td>\n",
              "      <td>26.10</td>\n",
              "      <td>82.052857</td>\n",
              "      <td>34.54</td>\n",
              "      <td>16.848571</td>\n",
              "      <td>2.300000</td>\n",
              "      <td>26.714286</td>\n",
              "      <td>6.485714</td>\n",
              "      <td>32.2</td>\n",
              "      <td>22.8</td>\n",
              "      <td>41.4</td>\n",
              "    </tr>\n",
              "    <tr>\n",
              "      <th>3</th>\n",
              "      <td>sj</td>\n",
              "      <td>1990</td>\n",
              "      <td>21</td>\n",
              "      <td>1990-05-21</td>\n",
              "      <td>0.128633</td>\n",
              "      <td>0.245067</td>\n",
              "      <td>0.227557</td>\n",
              "      <td>0.235886</td>\n",
              "      <td>15.36</td>\n",
              "      <td>298.987143</td>\n",
              "      <td>299.228571</td>\n",
              "      <td>295.310000</td>\n",
              "      <td>301.4</td>\n",
              "      <td>297.0</td>\n",
              "      <td>13.90</td>\n",
              "      <td>80.337143</td>\n",
              "      <td>15.36</td>\n",
              "      <td>16.672857</td>\n",
              "      <td>2.428571</td>\n",
              "      <td>27.471429</td>\n",
              "      <td>6.771429</td>\n",
              "      <td>33.3</td>\n",
              "      <td>23.3</td>\n",
              "      <td>4.0</td>\n",
              "    </tr>\n",
              "    <tr>\n",
              "      <th>4</th>\n",
              "      <td>sj</td>\n",
              "      <td>1990</td>\n",
              "      <td>22</td>\n",
              "      <td>1990-05-28</td>\n",
              "      <td>0.196200</td>\n",
              "      <td>0.262200</td>\n",
              "      <td>0.251200</td>\n",
              "      <td>0.247340</td>\n",
              "      <td>7.52</td>\n",
              "      <td>299.518571</td>\n",
              "      <td>299.664286</td>\n",
              "      <td>295.821429</td>\n",
              "      <td>301.9</td>\n",
              "      <td>297.5</td>\n",
              "      <td>12.20</td>\n",
              "      <td>80.460000</td>\n",
              "      <td>7.52</td>\n",
              "      <td>17.210000</td>\n",
              "      <td>3.014286</td>\n",
              "      <td>28.942857</td>\n",
              "      <td>9.371429</td>\n",
              "      <td>35.0</td>\n",
              "      <td>23.9</td>\n",
              "      <td>5.8</td>\n",
              "    </tr>\n",
              "    <tr>\n",
              "      <th>...</th>\n",
              "      <td>...</td>\n",
              "      <td>...</td>\n",
              "      <td>...</td>\n",
              "      <td>...</td>\n",
              "      <td>...</td>\n",
              "      <td>...</td>\n",
              "      <td>...</td>\n",
              "      <td>...</td>\n",
              "      <td>...</td>\n",
              "      <td>...</td>\n",
              "      <td>...</td>\n",
              "      <td>...</td>\n",
              "      <td>...</td>\n",
              "      <td>...</td>\n",
              "      <td>...</td>\n",
              "      <td>...</td>\n",
              "      <td>...</td>\n",
              "      <td>...</td>\n",
              "      <td>...</td>\n",
              "      <td>...</td>\n",
              "      <td>...</td>\n",
              "      <td>...</td>\n",
              "      <td>...</td>\n",
              "      <td>...</td>\n",
              "    </tr>\n",
              "    <tr>\n",
              "      <th>1451</th>\n",
              "      <td>iq</td>\n",
              "      <td>2010</td>\n",
              "      <td>21</td>\n",
              "      <td>2010-05-28</td>\n",
              "      <td>0.342750</td>\n",
              "      <td>0.318900</td>\n",
              "      <td>0.256343</td>\n",
              "      <td>0.292514</td>\n",
              "      <td>55.30</td>\n",
              "      <td>299.334286</td>\n",
              "      <td>300.771429</td>\n",
              "      <td>296.825714</td>\n",
              "      <td>309.7</td>\n",
              "      <td>294.5</td>\n",
              "      <td>45.00</td>\n",
              "      <td>88.765714</td>\n",
              "      <td>55.30</td>\n",
              "      <td>18.485714</td>\n",
              "      <td>9.800000</td>\n",
              "      <td>28.633333</td>\n",
              "      <td>11.933333</td>\n",
              "      <td>35.4</td>\n",
              "      <td>22.4</td>\n",
              "      <td>27.0</td>\n",
              "    </tr>\n",
              "    <tr>\n",
              "      <th>1452</th>\n",
              "      <td>iq</td>\n",
              "      <td>2010</td>\n",
              "      <td>22</td>\n",
              "      <td>2010-06-04</td>\n",
              "      <td>0.160157</td>\n",
              "      <td>0.160371</td>\n",
              "      <td>0.136043</td>\n",
              "      <td>0.225657</td>\n",
              "      <td>86.47</td>\n",
              "      <td>298.330000</td>\n",
              "      <td>299.392857</td>\n",
              "      <td>296.452857</td>\n",
              "      <td>308.5</td>\n",
              "      <td>291.9</td>\n",
              "      <td>207.10</td>\n",
              "      <td>91.600000</td>\n",
              "      <td>86.47</td>\n",
              "      <td>18.070000</td>\n",
              "      <td>7.471429</td>\n",
              "      <td>27.433333</td>\n",
              "      <td>10.500000</td>\n",
              "      <td>34.7</td>\n",
              "      <td>21.7</td>\n",
              "      <td>36.6</td>\n",
              "    </tr>\n",
              "    <tr>\n",
              "      <th>1453</th>\n",
              "      <td>iq</td>\n",
              "      <td>2010</td>\n",
              "      <td>23</td>\n",
              "      <td>2010-06-11</td>\n",
              "      <td>0.247057</td>\n",
              "      <td>0.146057</td>\n",
              "      <td>0.250357</td>\n",
              "      <td>0.233714</td>\n",
              "      <td>58.94</td>\n",
              "      <td>296.598571</td>\n",
              "      <td>297.592857</td>\n",
              "      <td>295.501429</td>\n",
              "      <td>305.5</td>\n",
              "      <td>292.4</td>\n",
              "      <td>50.60</td>\n",
              "      <td>94.280000</td>\n",
              "      <td>58.94</td>\n",
              "      <td>17.008571</td>\n",
              "      <td>7.500000</td>\n",
              "      <td>24.400000</td>\n",
              "      <td>6.900000</td>\n",
              "      <td>32.2</td>\n",
              "      <td>19.2</td>\n",
              "      <td>7.4</td>\n",
              "    </tr>\n",
              "    <tr>\n",
              "      <th>1454</th>\n",
              "      <td>iq</td>\n",
              "      <td>2010</td>\n",
              "      <td>24</td>\n",
              "      <td>2010-06-18</td>\n",
              "      <td>0.333914</td>\n",
              "      <td>0.245771</td>\n",
              "      <td>0.278886</td>\n",
              "      <td>0.325486</td>\n",
              "      <td>59.67</td>\n",
              "      <td>296.345714</td>\n",
              "      <td>297.521429</td>\n",
              "      <td>295.324286</td>\n",
              "      <td>306.1</td>\n",
              "      <td>291.9</td>\n",
              "      <td>62.33</td>\n",
              "      <td>94.660000</td>\n",
              "      <td>59.67</td>\n",
              "      <td>16.815714</td>\n",
              "      <td>7.871429</td>\n",
              "      <td>25.433333</td>\n",
              "      <td>8.733333</td>\n",
              "      <td>31.2</td>\n",
              "      <td>21.0</td>\n",
              "      <td>16.0</td>\n",
              "    </tr>\n",
              "    <tr>\n",
              "      <th>1455</th>\n",
              "      <td>iq</td>\n",
              "      <td>2010</td>\n",
              "      <td>25</td>\n",
              "      <td>2010-06-25</td>\n",
              "      <td>0.298186</td>\n",
              "      <td>0.232971</td>\n",
              "      <td>0.274214</td>\n",
              "      <td>0.315757</td>\n",
              "      <td>63.22</td>\n",
              "      <td>298.097143</td>\n",
              "      <td>299.835714</td>\n",
              "      <td>295.807143</td>\n",
              "      <td>307.8</td>\n",
              "      <td>292.3</td>\n",
              "      <td>36.90</td>\n",
              "      <td>89.082857</td>\n",
              "      <td>63.22</td>\n",
              "      <td>17.355714</td>\n",
              "      <td>11.014286</td>\n",
              "      <td>27.475000</td>\n",
              "      <td>9.900000</td>\n",
              "      <td>33.7</td>\n",
              "      <td>22.2</td>\n",
              "      <td>20.4</td>\n",
              "    </tr>\n",
              "  </tbody>\n",
              "</table>\n",
              "<p>1456 rows × 24 columns</p>\n",
              "</div>"
            ],
            "text/plain": [
              "     city  year  ...  station_min_temp_c station_precip_mm\n",
              "0      sj  1990  ...                20.0              16.0\n",
              "1      sj  1990  ...                22.2               8.6\n",
              "2      sj  1990  ...                22.8              41.4\n",
              "3      sj  1990  ...                23.3               4.0\n",
              "4      sj  1990  ...                23.9               5.8\n",
              "...   ...   ...  ...                 ...               ...\n",
              "1451   iq  2010  ...                22.4              27.0\n",
              "1452   iq  2010  ...                21.7              36.6\n",
              "1453   iq  2010  ...                19.2               7.4\n",
              "1454   iq  2010  ...                21.0              16.0\n",
              "1455   iq  2010  ...                22.2              20.4\n",
              "\n",
              "[1456 rows x 24 columns]"
            ]
          },
          "metadata": {
            "tags": []
          },
          "execution_count": 4
        }
      ]
    },
    {
      "cell_type": "code",
      "metadata": {
        "id": "ceE_zUFBsrUN",
        "colab": {
          "base_uri": "https://localhost:8080/"
        },
        "outputId": "6e116936-9faf-4e6f-97f9-6039bab2fe21"
      },
      "source": [
        "train_feat.shape"
      ],
      "execution_count": 5,
      "outputs": [
        {
          "output_type": "execute_result",
          "data": {
            "text/plain": [
              "(1456, 24)"
            ]
          },
          "metadata": {
            "tags": []
          },
          "execution_count": 5
        }
      ]
    },
    {
      "cell_type": "markdown",
      "metadata": {
        "id": "dUXIc3VN7gUE"
      },
      "source": [
        "2. We upload the data that only provide us with the number of dengue cases during the training weeks (dengue_labels_train)"
      ]
    },
    {
      "cell_type": "code",
      "metadata": {
        "id": "GE8BnvDD7olL",
        "colab": {
          "resources": {
            "http://localhost:8080/nbextensions/google.colab/files.js": {
              "data": "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",
              "ok": true,
              "headers": [
                [
                  "content-type",
                  "application/javascript"
                ]
              ],
              "status": 200,
              "status_text": ""
            }
          },
          "base_uri": "https://localhost:8080/",
          "height": 463
        },
        "outputId": "3f448848-1b94-411b-bef7-8db6b12dd0c6"
      },
      "source": [
        "train_labels = upload_files()\n",
        "train_labels"
      ],
      "execution_count": 6,
      "outputs": [
        {
          "output_type": "display_data",
          "data": {
            "text/html": [
              "\n",
              "     <input type=\"file\" id=\"files-02ee0329-83bf-4ea0-9f44-c67cdee31bc2\" name=\"files[]\" multiple disabled\n",
              "        style=\"border:none\" />\n",
              "     <output id=\"result-02ee0329-83bf-4ea0-9f44-c67cdee31bc2\">\n",
              "      Upload widget is only available when the cell has been executed in the\n",
              "      current browser session. Please rerun this cell to enable.\n",
              "      </output>\n",
              "      <script src=\"/nbextensions/google.colab/files.js\"></script> "
            ],
            "text/plain": [
              "<IPython.core.display.HTML object>"
            ]
          },
          "metadata": {
            "tags": []
          }
        },
        {
          "output_type": "stream",
          "text": [
            "Saving dengue_labels_train.csv to dengue_labels_train.csv\n",
            "User uploaded file \"dengue_labels_train.csv\" with length 19582 bytes\n"
          ],
          "name": "stdout"
        },
        {
          "output_type": "execute_result",
          "data": {
            "text/html": [
              "<div>\n",
              "<style scoped>\n",
              "    .dataframe tbody tr th:only-of-type {\n",
              "        vertical-align: middle;\n",
              "    }\n",
              "\n",
              "    .dataframe tbody tr th {\n",
              "        vertical-align: top;\n",
              "    }\n",
              "\n",
              "    .dataframe thead th {\n",
              "        text-align: right;\n",
              "    }\n",
              "</style>\n",
              "<table border=\"1\" class=\"dataframe\">\n",
              "  <thead>\n",
              "    <tr style=\"text-align: right;\">\n",
              "      <th></th>\n",
              "      <th>city</th>\n",
              "      <th>year</th>\n",
              "      <th>weekofyear</th>\n",
              "      <th>total_cases</th>\n",
              "    </tr>\n",
              "  </thead>\n",
              "  <tbody>\n",
              "    <tr>\n",
              "      <th>0</th>\n",
              "      <td>sj</td>\n",
              "      <td>1990</td>\n",
              "      <td>18</td>\n",
              "      <td>4</td>\n",
              "    </tr>\n",
              "    <tr>\n",
              "      <th>1</th>\n",
              "      <td>sj</td>\n",
              "      <td>1990</td>\n",
              "      <td>19</td>\n",
              "      <td>5</td>\n",
              "    </tr>\n",
              "    <tr>\n",
              "      <th>2</th>\n",
              "      <td>sj</td>\n",
              "      <td>1990</td>\n",
              "      <td>20</td>\n",
              "      <td>4</td>\n",
              "    </tr>\n",
              "    <tr>\n",
              "      <th>3</th>\n",
              "      <td>sj</td>\n",
              "      <td>1990</td>\n",
              "      <td>21</td>\n",
              "      <td>3</td>\n",
              "    </tr>\n",
              "    <tr>\n",
              "      <th>4</th>\n",
              "      <td>sj</td>\n",
              "      <td>1990</td>\n",
              "      <td>22</td>\n",
              "      <td>6</td>\n",
              "    </tr>\n",
              "    <tr>\n",
              "      <th>...</th>\n",
              "      <td>...</td>\n",
              "      <td>...</td>\n",
              "      <td>...</td>\n",
              "      <td>...</td>\n",
              "    </tr>\n",
              "    <tr>\n",
              "      <th>1451</th>\n",
              "      <td>iq</td>\n",
              "      <td>2010</td>\n",
              "      <td>21</td>\n",
              "      <td>5</td>\n",
              "    </tr>\n",
              "    <tr>\n",
              "      <th>1452</th>\n",
              "      <td>iq</td>\n",
              "      <td>2010</td>\n",
              "      <td>22</td>\n",
              "      <td>8</td>\n",
              "    </tr>\n",
              "    <tr>\n",
              "      <th>1453</th>\n",
              "      <td>iq</td>\n",
              "      <td>2010</td>\n",
              "      <td>23</td>\n",
              "      <td>1</td>\n",
              "    </tr>\n",
              "    <tr>\n",
              "      <th>1454</th>\n",
              "      <td>iq</td>\n",
              "      <td>2010</td>\n",
              "      <td>24</td>\n",
              "      <td>1</td>\n",
              "    </tr>\n",
              "    <tr>\n",
              "      <th>1455</th>\n",
              "      <td>iq</td>\n",
              "      <td>2010</td>\n",
              "      <td>25</td>\n",
              "      <td>4</td>\n",
              "    </tr>\n",
              "  </tbody>\n",
              "</table>\n",
              "<p>1456 rows × 4 columns</p>\n",
              "</div>"
            ],
            "text/plain": [
              "     city  year  weekofyear  total_cases\n",
              "0      sj  1990          18            4\n",
              "1      sj  1990          19            5\n",
              "2      sj  1990          20            4\n",
              "3      sj  1990          21            3\n",
              "4      sj  1990          22            6\n",
              "...   ...   ...         ...          ...\n",
              "1451   iq  2010          21            5\n",
              "1452   iq  2010          22            8\n",
              "1453   iq  2010          23            1\n",
              "1454   iq  2010          24            1\n",
              "1455   iq  2010          25            4\n",
              "\n",
              "[1456 rows x 4 columns]"
            ]
          },
          "metadata": {
            "tags": []
          },
          "execution_count": 6
        }
      ]
    },
    {
      "cell_type": "markdown",
      "metadata": {
        "id": "_8_EGboS8mVY"
      },
      "source": [
        "3. We merge the two sets of data to have them in a single dataframe"
      ]
    },
    {
      "cell_type": "code",
      "metadata": {
        "id": "ecIvw87W9A-j",
        "colab": {
          "base_uri": "https://localhost:8080/",
          "height": 412
        },
        "outputId": "8cadc020-da1a-476e-c94a-e138f4ba8145"
      },
      "source": [
        "train = pd.merge(train_feat,train_labels,on=['city', 'year', 'weekofyear'])\n",
        "\n",
        "train"
      ],
      "execution_count": 7,
      "outputs": [
        {
          "output_type": "execute_result",
          "data": {
            "text/html": [
              "<div>\n",
              "<style scoped>\n",
              "    .dataframe tbody tr th:only-of-type {\n",
              "        vertical-align: middle;\n",
              "    }\n",
              "\n",
              "    .dataframe tbody tr th {\n",
              "        vertical-align: top;\n",
              "    }\n",
              "\n",
              "    .dataframe thead th {\n",
              "        text-align: right;\n",
              "    }\n",
              "</style>\n",
              "<table border=\"1\" class=\"dataframe\">\n",
              "  <thead>\n",
              "    <tr style=\"text-align: right;\">\n",
              "      <th></th>\n",
              "      <th>city</th>\n",
              "      <th>year</th>\n",
              "      <th>weekofyear</th>\n",
              "      <th>week_start_date</th>\n",
              "      <th>ndvi_ne</th>\n",
              "      <th>ndvi_nw</th>\n",
              "      <th>ndvi_se</th>\n",
              "      <th>ndvi_sw</th>\n",
              "      <th>precipitation_amt_mm</th>\n",
              "      <th>reanalysis_air_temp_k</th>\n",
              "      <th>reanalysis_avg_temp_k</th>\n",
              "      <th>reanalysis_dew_point_temp_k</th>\n",
              "      <th>reanalysis_max_air_temp_k</th>\n",
              "      <th>reanalysis_min_air_temp_k</th>\n",
              "      <th>reanalysis_precip_amt_kg_per_m2</th>\n",
              "      <th>reanalysis_relative_humidity_percent</th>\n",
              "      <th>reanalysis_sat_precip_amt_mm</th>\n",
              "      <th>reanalysis_specific_humidity_g_per_kg</th>\n",
              "      <th>reanalysis_tdtr_k</th>\n",
              "      <th>station_avg_temp_c</th>\n",
              "      <th>station_diur_temp_rng_c</th>\n",
              "      <th>station_max_temp_c</th>\n",
              "      <th>station_min_temp_c</th>\n",
              "      <th>station_precip_mm</th>\n",
              "      <th>total_cases</th>\n",
              "    </tr>\n",
              "  </thead>\n",
              "  <tbody>\n",
              "    <tr>\n",
              "      <th>0</th>\n",
              "      <td>sj</td>\n",
              "      <td>1990</td>\n",
              "      <td>18</td>\n",
              "      <td>1990-04-30</td>\n",
              "      <td>0.122600</td>\n",
              "      <td>0.103725</td>\n",
              "      <td>0.198483</td>\n",
              "      <td>0.177617</td>\n",
              "      <td>12.42</td>\n",
              "      <td>297.572857</td>\n",
              "      <td>297.742857</td>\n",
              "      <td>292.414286</td>\n",
              "      <td>299.8</td>\n",
              "      <td>295.9</td>\n",
              "      <td>32.00</td>\n",
              "      <td>73.365714</td>\n",
              "      <td>12.42</td>\n",
              "      <td>14.012857</td>\n",
              "      <td>2.628571</td>\n",
              "      <td>25.442857</td>\n",
              "      <td>6.900000</td>\n",
              "      <td>29.4</td>\n",
              "      <td>20.0</td>\n",
              "      <td>16.0</td>\n",
              "      <td>4</td>\n",
              "    </tr>\n",
              "    <tr>\n",
              "      <th>1</th>\n",
              "      <td>sj</td>\n",
              "      <td>1990</td>\n",
              "      <td>19</td>\n",
              "      <td>1990-05-07</td>\n",
              "      <td>0.169900</td>\n",
              "      <td>0.142175</td>\n",
              "      <td>0.162357</td>\n",
              "      <td>0.155486</td>\n",
              "      <td>22.82</td>\n",
              "      <td>298.211429</td>\n",
              "      <td>298.442857</td>\n",
              "      <td>293.951429</td>\n",
              "      <td>300.9</td>\n",
              "      <td>296.4</td>\n",
              "      <td>17.94</td>\n",
              "      <td>77.368571</td>\n",
              "      <td>22.82</td>\n",
              "      <td>15.372857</td>\n",
              "      <td>2.371429</td>\n",
              "      <td>26.714286</td>\n",
              "      <td>6.371429</td>\n",
              "      <td>31.7</td>\n",
              "      <td>22.2</td>\n",
              "      <td>8.6</td>\n",
              "      <td>5</td>\n",
              "    </tr>\n",
              "    <tr>\n",
              "      <th>2</th>\n",
              "      <td>sj</td>\n",
              "      <td>1990</td>\n",
              "      <td>20</td>\n",
              "      <td>1990-05-14</td>\n",
              "      <td>0.032250</td>\n",
              "      <td>0.172967</td>\n",
              "      <td>0.157200</td>\n",
              "      <td>0.170843</td>\n",
              "      <td>34.54</td>\n",
              "      <td>298.781429</td>\n",
              "      <td>298.878571</td>\n",
              "      <td>295.434286</td>\n",
              "      <td>300.5</td>\n",
              "      <td>297.3</td>\n",
              "      <td>26.10</td>\n",
              "      <td>82.052857</td>\n",
              "      <td>34.54</td>\n",
              "      <td>16.848571</td>\n",
              "      <td>2.300000</td>\n",
              "      <td>26.714286</td>\n",
              "      <td>6.485714</td>\n",
              "      <td>32.2</td>\n",
              "      <td>22.8</td>\n",
              "      <td>41.4</td>\n",
              "      <td>4</td>\n",
              "    </tr>\n",
              "    <tr>\n",
              "      <th>3</th>\n",
              "      <td>sj</td>\n",
              "      <td>1990</td>\n",
              "      <td>21</td>\n",
              "      <td>1990-05-21</td>\n",
              "      <td>0.128633</td>\n",
              "      <td>0.245067</td>\n",
              "      <td>0.227557</td>\n",
              "      <td>0.235886</td>\n",
              "      <td>15.36</td>\n",
              "      <td>298.987143</td>\n",
              "      <td>299.228571</td>\n",
              "      <td>295.310000</td>\n",
              "      <td>301.4</td>\n",
              "      <td>297.0</td>\n",
              "      <td>13.90</td>\n",
              "      <td>80.337143</td>\n",
              "      <td>15.36</td>\n",
              "      <td>16.672857</td>\n",
              "      <td>2.428571</td>\n",
              "      <td>27.471429</td>\n",
              "      <td>6.771429</td>\n",
              "      <td>33.3</td>\n",
              "      <td>23.3</td>\n",
              "      <td>4.0</td>\n",
              "      <td>3</td>\n",
              "    </tr>\n",
              "    <tr>\n",
              "      <th>4</th>\n",
              "      <td>sj</td>\n",
              "      <td>1990</td>\n",
              "      <td>22</td>\n",
              "      <td>1990-05-28</td>\n",
              "      <td>0.196200</td>\n",
              "      <td>0.262200</td>\n",
              "      <td>0.251200</td>\n",
              "      <td>0.247340</td>\n",
              "      <td>7.52</td>\n",
              "      <td>299.518571</td>\n",
              "      <td>299.664286</td>\n",
              "      <td>295.821429</td>\n",
              "      <td>301.9</td>\n",
              "      <td>297.5</td>\n",
              "      <td>12.20</td>\n",
              "      <td>80.460000</td>\n",
              "      <td>7.52</td>\n",
              "      <td>17.210000</td>\n",
              "      <td>3.014286</td>\n",
              "      <td>28.942857</td>\n",
              "      <td>9.371429</td>\n",
              "      <td>35.0</td>\n",
              "      <td>23.9</td>\n",
              "      <td>5.8</td>\n",
              "      <td>6</td>\n",
              "    </tr>\n",
              "    <tr>\n",
              "      <th>...</th>\n",
              "      <td>...</td>\n",
              "      <td>...</td>\n",
              "      <td>...</td>\n",
              "      <td>...</td>\n",
              "      <td>...</td>\n",
              "      <td>...</td>\n",
              "      <td>...</td>\n",
              "      <td>...</td>\n",
              "      <td>...</td>\n",
              "      <td>...</td>\n",
              "      <td>...</td>\n",
              "      <td>...</td>\n",
              "      <td>...</td>\n",
              "      <td>...</td>\n",
              "      <td>...</td>\n",
              "      <td>...</td>\n",
              "      <td>...</td>\n",
              "      <td>...</td>\n",
              "      <td>...</td>\n",
              "      <td>...</td>\n",
              "      <td>...</td>\n",
              "      <td>...</td>\n",
              "      <td>...</td>\n",
              "      <td>...</td>\n",
              "      <td>...</td>\n",
              "    </tr>\n",
              "    <tr>\n",
              "      <th>1451</th>\n",
              "      <td>iq</td>\n",
              "      <td>2010</td>\n",
              "      <td>21</td>\n",
              "      <td>2010-05-28</td>\n",
              "      <td>0.342750</td>\n",
              "      <td>0.318900</td>\n",
              "      <td>0.256343</td>\n",
              "      <td>0.292514</td>\n",
              "      <td>55.30</td>\n",
              "      <td>299.334286</td>\n",
              "      <td>300.771429</td>\n",
              "      <td>296.825714</td>\n",
              "      <td>309.7</td>\n",
              "      <td>294.5</td>\n",
              "      <td>45.00</td>\n",
              "      <td>88.765714</td>\n",
              "      <td>55.30</td>\n",
              "      <td>18.485714</td>\n",
              "      <td>9.800000</td>\n",
              "      <td>28.633333</td>\n",
              "      <td>11.933333</td>\n",
              "      <td>35.4</td>\n",
              "      <td>22.4</td>\n",
              "      <td>27.0</td>\n",
              "      <td>5</td>\n",
              "    </tr>\n",
              "    <tr>\n",
              "      <th>1452</th>\n",
              "      <td>iq</td>\n",
              "      <td>2010</td>\n",
              "      <td>22</td>\n",
              "      <td>2010-06-04</td>\n",
              "      <td>0.160157</td>\n",
              "      <td>0.160371</td>\n",
              "      <td>0.136043</td>\n",
              "      <td>0.225657</td>\n",
              "      <td>86.47</td>\n",
              "      <td>298.330000</td>\n",
              "      <td>299.392857</td>\n",
              "      <td>296.452857</td>\n",
              "      <td>308.5</td>\n",
              "      <td>291.9</td>\n",
              "      <td>207.10</td>\n",
              "      <td>91.600000</td>\n",
              "      <td>86.47</td>\n",
              "      <td>18.070000</td>\n",
              "      <td>7.471429</td>\n",
              "      <td>27.433333</td>\n",
              "      <td>10.500000</td>\n",
              "      <td>34.7</td>\n",
              "      <td>21.7</td>\n",
              "      <td>36.6</td>\n",
              "      <td>8</td>\n",
              "    </tr>\n",
              "    <tr>\n",
              "      <th>1453</th>\n",
              "      <td>iq</td>\n",
              "      <td>2010</td>\n",
              "      <td>23</td>\n",
              "      <td>2010-06-11</td>\n",
              "      <td>0.247057</td>\n",
              "      <td>0.146057</td>\n",
              "      <td>0.250357</td>\n",
              "      <td>0.233714</td>\n",
              "      <td>58.94</td>\n",
              "      <td>296.598571</td>\n",
              "      <td>297.592857</td>\n",
              "      <td>295.501429</td>\n",
              "      <td>305.5</td>\n",
              "      <td>292.4</td>\n",
              "      <td>50.60</td>\n",
              "      <td>94.280000</td>\n",
              "      <td>58.94</td>\n",
              "      <td>17.008571</td>\n",
              "      <td>7.500000</td>\n",
              "      <td>24.400000</td>\n",
              "      <td>6.900000</td>\n",
              "      <td>32.2</td>\n",
              "      <td>19.2</td>\n",
              "      <td>7.4</td>\n",
              "      <td>1</td>\n",
              "    </tr>\n",
              "    <tr>\n",
              "      <th>1454</th>\n",
              "      <td>iq</td>\n",
              "      <td>2010</td>\n",
              "      <td>24</td>\n",
              "      <td>2010-06-18</td>\n",
              "      <td>0.333914</td>\n",
              "      <td>0.245771</td>\n",
              "      <td>0.278886</td>\n",
              "      <td>0.325486</td>\n",
              "      <td>59.67</td>\n",
              "      <td>296.345714</td>\n",
              "      <td>297.521429</td>\n",
              "      <td>295.324286</td>\n",
              "      <td>306.1</td>\n",
              "      <td>291.9</td>\n",
              "      <td>62.33</td>\n",
              "      <td>94.660000</td>\n",
              "      <td>59.67</td>\n",
              "      <td>16.815714</td>\n",
              "      <td>7.871429</td>\n",
              "      <td>25.433333</td>\n",
              "      <td>8.733333</td>\n",
              "      <td>31.2</td>\n",
              "      <td>21.0</td>\n",
              "      <td>16.0</td>\n",
              "      <td>1</td>\n",
              "    </tr>\n",
              "    <tr>\n",
              "      <th>1455</th>\n",
              "      <td>iq</td>\n",
              "      <td>2010</td>\n",
              "      <td>25</td>\n",
              "      <td>2010-06-25</td>\n",
              "      <td>0.298186</td>\n",
              "      <td>0.232971</td>\n",
              "      <td>0.274214</td>\n",
              "      <td>0.315757</td>\n",
              "      <td>63.22</td>\n",
              "      <td>298.097143</td>\n",
              "      <td>299.835714</td>\n",
              "      <td>295.807143</td>\n",
              "      <td>307.8</td>\n",
              "      <td>292.3</td>\n",
              "      <td>36.90</td>\n",
              "      <td>89.082857</td>\n",
              "      <td>63.22</td>\n",
              "      <td>17.355714</td>\n",
              "      <td>11.014286</td>\n",
              "      <td>27.475000</td>\n",
              "      <td>9.900000</td>\n",
              "      <td>33.7</td>\n",
              "      <td>22.2</td>\n",
              "      <td>20.4</td>\n",
              "      <td>4</td>\n",
              "    </tr>\n",
              "  </tbody>\n",
              "</table>\n",
              "<p>1456 rows × 25 columns</p>\n",
              "</div>"
            ],
            "text/plain": [
              "     city  year  weekofyear  ... station_min_temp_c  station_precip_mm  total_cases\n",
              "0      sj  1990          18  ...               20.0               16.0            4\n",
              "1      sj  1990          19  ...               22.2                8.6            5\n",
              "2      sj  1990          20  ...               22.8               41.4            4\n",
              "3      sj  1990          21  ...               23.3                4.0            3\n",
              "4      sj  1990          22  ...               23.9                5.8            6\n",
              "...   ...   ...         ...  ...                ...                ...          ...\n",
              "1451   iq  2010          21  ...               22.4               27.0            5\n",
              "1452   iq  2010          22  ...               21.7               36.6            8\n",
              "1453   iq  2010          23  ...               19.2                7.4            1\n",
              "1454   iq  2010          24  ...               21.0               16.0            1\n",
              "1455   iq  2010          25  ...               22.2               20.4            4\n",
              "\n",
              "[1456 rows x 25 columns]"
            ]
          },
          "metadata": {
            "tags": []
          },
          "execution_count": 7
        }
      ]
    },
    {
      "cell_type": "markdown",
      "metadata": {
        "id": "gXy9mkxn7yIh"
      },
      "source": [
        "4.  Finally we upload the data to generate the submission data (dengue_features_test)\n"
      ]
    },
    {
      "cell_type": "code",
      "metadata": {
        "id": "3cYaBc8Nku-r",
        "colab": {
          "resources": {
            "http://localhost:8080/nbextensions/google.colab/files.js": {
              "data": "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",
              "ok": true,
              "headers": [
                [
                  "content-type",
                  "application/javascript"
                ]
              ],
              "status": 200,
              "status_text": ""
            }
          },
          "base_uri": "https://localhost:8080/",
          "height": 483
        },
        "outputId": "c65607f2-db28-4648-ed22-bd67097e3553"
      },
      "source": [
        "test = upload_files()\n",
        "test"
      ],
      "execution_count": 8,
      "outputs": [
        {
          "output_type": "display_data",
          "data": {
            "text/html": [
              "\n",
              "     <input type=\"file\" id=\"files-354e2414-f3a5-48c5-a1e4-62c66a11a6e1\" name=\"files[]\" multiple disabled\n",
              "        style=\"border:none\" />\n",
              "     <output id=\"result-354e2414-f3a5-48c5-a1e4-62c66a11a6e1\">\n",
              "      Upload widget is only available when the cell has been executed in the\n",
              "      current browser session. Please rerun this cell to enable.\n",
              "      </output>\n",
              "      <script src=\"/nbextensions/google.colab/files.js\"></script> "
            ],
            "text/plain": [
              "<IPython.core.display.HTML object>"
            ]
          },
          "metadata": {
            "tags": []
          }
        },
        {
          "output_type": "stream",
          "text": [
            "Saving dengue_features_test.csv to dengue_features_test.csv\n",
            "User uploaded file \"dengue_features_test.csv\" with length 82465 bytes\n"
          ],
          "name": "stdout"
        },
        {
          "output_type": "execute_result",
          "data": {
            "text/html": [
              "<div>\n",
              "<style scoped>\n",
              "    .dataframe tbody tr th:only-of-type {\n",
              "        vertical-align: middle;\n",
              "    }\n",
              "\n",
              "    .dataframe tbody tr th {\n",
              "        vertical-align: top;\n",
              "    }\n",
              "\n",
              "    .dataframe thead th {\n",
              "        text-align: right;\n",
              "    }\n",
              "</style>\n",
              "<table border=\"1\" class=\"dataframe\">\n",
              "  <thead>\n",
              "    <tr style=\"text-align: right;\">\n",
              "      <th></th>\n",
              "      <th>city</th>\n",
              "      <th>year</th>\n",
              "      <th>weekofyear</th>\n",
              "      <th>week_start_date</th>\n",
              "      <th>ndvi_ne</th>\n",
              "      <th>ndvi_nw</th>\n",
              "      <th>ndvi_se</th>\n",
              "      <th>ndvi_sw</th>\n",
              "      <th>precipitation_amt_mm</th>\n",
              "      <th>reanalysis_air_temp_k</th>\n",
              "      <th>reanalysis_avg_temp_k</th>\n",
              "      <th>reanalysis_dew_point_temp_k</th>\n",
              "      <th>reanalysis_max_air_temp_k</th>\n",
              "      <th>reanalysis_min_air_temp_k</th>\n",
              "      <th>reanalysis_precip_amt_kg_per_m2</th>\n",
              "      <th>reanalysis_relative_humidity_percent</th>\n",
              "      <th>reanalysis_sat_precip_amt_mm</th>\n",
              "      <th>reanalysis_specific_humidity_g_per_kg</th>\n",
              "      <th>reanalysis_tdtr_k</th>\n",
              "      <th>station_avg_temp_c</th>\n",
              "      <th>station_diur_temp_rng_c</th>\n",
              "      <th>station_max_temp_c</th>\n",
              "      <th>station_min_temp_c</th>\n",
              "      <th>station_precip_mm</th>\n",
              "    </tr>\n",
              "  </thead>\n",
              "  <tbody>\n",
              "    <tr>\n",
              "      <th>0</th>\n",
              "      <td>sj</td>\n",
              "      <td>2008</td>\n",
              "      <td>18</td>\n",
              "      <td>2008-04-29</td>\n",
              "      <td>-0.018900</td>\n",
              "      <td>-0.018900</td>\n",
              "      <td>0.102729</td>\n",
              "      <td>0.091200</td>\n",
              "      <td>78.60</td>\n",
              "      <td>298.492857</td>\n",
              "      <td>298.550000</td>\n",
              "      <td>294.527143</td>\n",
              "      <td>301.1</td>\n",
              "      <td>296.4</td>\n",
              "      <td>25.37</td>\n",
              "      <td>78.781429</td>\n",
              "      <td>78.60</td>\n",
              "      <td>15.918571</td>\n",
              "      <td>3.128571</td>\n",
              "      <td>26.528571</td>\n",
              "      <td>7.057143</td>\n",
              "      <td>33.3</td>\n",
              "      <td>21.7</td>\n",
              "      <td>75.2</td>\n",
              "    </tr>\n",
              "    <tr>\n",
              "      <th>1</th>\n",
              "      <td>sj</td>\n",
              "      <td>2008</td>\n",
              "      <td>19</td>\n",
              "      <td>2008-05-06</td>\n",
              "      <td>-0.018000</td>\n",
              "      <td>-0.012400</td>\n",
              "      <td>0.082043</td>\n",
              "      <td>0.072314</td>\n",
              "      <td>12.56</td>\n",
              "      <td>298.475714</td>\n",
              "      <td>298.557143</td>\n",
              "      <td>294.395714</td>\n",
              "      <td>300.8</td>\n",
              "      <td>296.7</td>\n",
              "      <td>21.83</td>\n",
              "      <td>78.230000</td>\n",
              "      <td>12.56</td>\n",
              "      <td>15.791429</td>\n",
              "      <td>2.571429</td>\n",
              "      <td>26.071429</td>\n",
              "      <td>5.557143</td>\n",
              "      <td>30.0</td>\n",
              "      <td>22.2</td>\n",
              "      <td>34.3</td>\n",
              "    </tr>\n",
              "    <tr>\n",
              "      <th>2</th>\n",
              "      <td>sj</td>\n",
              "      <td>2008</td>\n",
              "      <td>20</td>\n",
              "      <td>2008-05-13</td>\n",
              "      <td>-0.001500</td>\n",
              "      <td>NaN</td>\n",
              "      <td>0.151083</td>\n",
              "      <td>0.091529</td>\n",
              "      <td>3.66</td>\n",
              "      <td>299.455714</td>\n",
              "      <td>299.357143</td>\n",
              "      <td>295.308571</td>\n",
              "      <td>302.2</td>\n",
              "      <td>296.4</td>\n",
              "      <td>4.12</td>\n",
              "      <td>78.270000</td>\n",
              "      <td>3.66</td>\n",
              "      <td>16.674286</td>\n",
              "      <td>4.428571</td>\n",
              "      <td>27.928571</td>\n",
              "      <td>7.785714</td>\n",
              "      <td>32.8</td>\n",
              "      <td>22.8</td>\n",
              "      <td>3.0</td>\n",
              "    </tr>\n",
              "    <tr>\n",
              "      <th>3</th>\n",
              "      <td>sj</td>\n",
              "      <td>2008</td>\n",
              "      <td>21</td>\n",
              "      <td>2008-05-20</td>\n",
              "      <td>NaN</td>\n",
              "      <td>-0.019867</td>\n",
              "      <td>0.124329</td>\n",
              "      <td>0.125686</td>\n",
              "      <td>0.00</td>\n",
              "      <td>299.690000</td>\n",
              "      <td>299.728571</td>\n",
              "      <td>294.402857</td>\n",
              "      <td>303.0</td>\n",
              "      <td>296.9</td>\n",
              "      <td>2.20</td>\n",
              "      <td>73.015714</td>\n",
              "      <td>0.00</td>\n",
              "      <td>15.775714</td>\n",
              "      <td>4.342857</td>\n",
              "      <td>28.057143</td>\n",
              "      <td>6.271429</td>\n",
              "      <td>33.3</td>\n",
              "      <td>24.4</td>\n",
              "      <td>0.3</td>\n",
              "    </tr>\n",
              "    <tr>\n",
              "      <th>4</th>\n",
              "      <td>sj</td>\n",
              "      <td>2008</td>\n",
              "      <td>22</td>\n",
              "      <td>2008-05-27</td>\n",
              "      <td>0.056800</td>\n",
              "      <td>0.039833</td>\n",
              "      <td>0.062267</td>\n",
              "      <td>0.075914</td>\n",
              "      <td>0.76</td>\n",
              "      <td>299.780000</td>\n",
              "      <td>299.671429</td>\n",
              "      <td>294.760000</td>\n",
              "      <td>302.3</td>\n",
              "      <td>297.3</td>\n",
              "      <td>4.36</td>\n",
              "      <td>74.084286</td>\n",
              "      <td>0.76</td>\n",
              "      <td>16.137143</td>\n",
              "      <td>3.542857</td>\n",
              "      <td>27.614286</td>\n",
              "      <td>7.085714</td>\n",
              "      <td>33.3</td>\n",
              "      <td>23.3</td>\n",
              "      <td>84.1</td>\n",
              "    </tr>\n",
              "    <tr>\n",
              "      <th>...</th>\n",
              "      <td>...</td>\n",
              "      <td>...</td>\n",
              "      <td>...</td>\n",
              "      <td>...</td>\n",
              "      <td>...</td>\n",
              "      <td>...</td>\n",
              "      <td>...</td>\n",
              "      <td>...</td>\n",
              "      <td>...</td>\n",
              "      <td>...</td>\n",
              "      <td>...</td>\n",
              "      <td>...</td>\n",
              "      <td>...</td>\n",
              "      <td>...</td>\n",
              "      <td>...</td>\n",
              "      <td>...</td>\n",
              "      <td>...</td>\n",
              "      <td>...</td>\n",
              "      <td>...</td>\n",
              "      <td>...</td>\n",
              "      <td>...</td>\n",
              "      <td>...</td>\n",
              "      <td>...</td>\n",
              "      <td>...</td>\n",
              "    </tr>\n",
              "    <tr>\n",
              "      <th>411</th>\n",
              "      <td>iq</td>\n",
              "      <td>2013</td>\n",
              "      <td>22</td>\n",
              "      <td>2013-05-28</td>\n",
              "      <td>0.301471</td>\n",
              "      <td>0.380029</td>\n",
              "      <td>0.280629</td>\n",
              "      <td>0.383186</td>\n",
              "      <td>41.12</td>\n",
              "      <td>297.774286</td>\n",
              "      <td>298.964286</td>\n",
              "      <td>295.638571</td>\n",
              "      <td>305.5</td>\n",
              "      <td>292.7</td>\n",
              "      <td>67.60</td>\n",
              "      <td>89.990000</td>\n",
              "      <td>41.12</td>\n",
              "      <td>17.185714</td>\n",
              "      <td>10.100000</td>\n",
              "      <td>27.400000</td>\n",
              "      <td>9.050000</td>\n",
              "      <td>32.6</td>\n",
              "      <td>21.8</td>\n",
              "      <td>33.0</td>\n",
              "    </tr>\n",
              "    <tr>\n",
              "      <th>412</th>\n",
              "      <td>iq</td>\n",
              "      <td>2013</td>\n",
              "      <td>23</td>\n",
              "      <td>2013-06-04</td>\n",
              "      <td>0.247600</td>\n",
              "      <td>0.296343</td>\n",
              "      <td>0.285371</td>\n",
              "      <td>0.350357</td>\n",
              "      <td>71.52</td>\n",
              "      <td>297.167143</td>\n",
              "      <td>298.328571</td>\n",
              "      <td>295.845714</td>\n",
              "      <td>306.3</td>\n",
              "      <td>291.6</td>\n",
              "      <td>45.70</td>\n",
              "      <td>93.891429</td>\n",
              "      <td>71.52</td>\n",
              "      <td>17.448571</td>\n",
              "      <td>9.657143</td>\n",
              "      <td>27.520000</td>\n",
              "      <td>10.720000</td>\n",
              "      <td>33.8</td>\n",
              "      <td>21.4</td>\n",
              "      <td>68.0</td>\n",
              "    </tr>\n",
              "    <tr>\n",
              "      <th>413</th>\n",
              "      <td>iq</td>\n",
              "      <td>2013</td>\n",
              "      <td>24</td>\n",
              "      <td>2013-06-11</td>\n",
              "      <td>0.238729</td>\n",
              "      <td>0.251029</td>\n",
              "      <td>0.252586</td>\n",
              "      <td>0.249771</td>\n",
              "      <td>78.96</td>\n",
              "      <td>295.831429</td>\n",
              "      <td>296.607143</td>\n",
              "      <td>294.894286</td>\n",
              "      <td>304.6</td>\n",
              "      <td>290.7</td>\n",
              "      <td>45.22</td>\n",
              "      <td>94.967143</td>\n",
              "      <td>78.96</td>\n",
              "      <td>16.410000</td>\n",
              "      <td>7.385714</td>\n",
              "      <td>27.200000</td>\n",
              "      <td>10.075000</td>\n",
              "      <td>32.6</td>\n",
              "      <td>21.6</td>\n",
              "      <td>93.2</td>\n",
              "    </tr>\n",
              "    <tr>\n",
              "      <th>414</th>\n",
              "      <td>iq</td>\n",
              "      <td>2013</td>\n",
              "      <td>25</td>\n",
              "      <td>2013-06-18</td>\n",
              "      <td>0.310429</td>\n",
              "      <td>0.302700</td>\n",
              "      <td>0.406614</td>\n",
              "      <td>0.403943</td>\n",
              "      <td>39.54</td>\n",
              "      <td>295.778571</td>\n",
              "      <td>297.400000</td>\n",
              "      <td>293.648571</td>\n",
              "      <td>305.9</td>\n",
              "      <td>292.5</td>\n",
              "      <td>4.70</td>\n",
              "      <td>89.057143</td>\n",
              "      <td>39.54</td>\n",
              "      <td>15.137143</td>\n",
              "      <td>8.228571</td>\n",
              "      <td>26.700000</td>\n",
              "      <td>8.480000</td>\n",
              "      <td>32.2</td>\n",
              "      <td>21.8</td>\n",
              "      <td>34.1</td>\n",
              "    </tr>\n",
              "    <tr>\n",
              "      <th>415</th>\n",
              "      <td>iq</td>\n",
              "      <td>2013</td>\n",
              "      <td>26</td>\n",
              "      <td>2013-06-25</td>\n",
              "      <td>0.339467</td>\n",
              "      <td>0.240071</td>\n",
              "      <td>0.356943</td>\n",
              "      <td>0.273600</td>\n",
              "      <td>51.80</td>\n",
              "      <td>297.372857</td>\n",
              "      <td>299.000000</td>\n",
              "      <td>294.615714</td>\n",
              "      <td>307.3</td>\n",
              "      <td>289.6</td>\n",
              "      <td>27.80</td>\n",
              "      <td>87.030000</td>\n",
              "      <td>51.80</td>\n",
              "      <td>16.148571</td>\n",
              "      <td>11.542857</td>\n",
              "      <td>27.350000</td>\n",
              "      <td>9.675000</td>\n",
              "      <td>32.6</td>\n",
              "      <td>22.0</td>\n",
              "      <td>14.9</td>\n",
              "    </tr>\n",
              "  </tbody>\n",
              "</table>\n",
              "<p>416 rows × 24 columns</p>\n",
              "</div>"
            ],
            "text/plain": [
              "    city  year  ...  station_min_temp_c station_precip_mm\n",
              "0     sj  2008  ...                21.7              75.2\n",
              "1     sj  2008  ...                22.2              34.3\n",
              "2     sj  2008  ...                22.8               3.0\n",
              "3     sj  2008  ...                24.4               0.3\n",
              "4     sj  2008  ...                23.3              84.1\n",
              "..   ...   ...  ...                 ...               ...\n",
              "411   iq  2013  ...                21.8              33.0\n",
              "412   iq  2013  ...                21.4              68.0\n",
              "413   iq  2013  ...                21.6              93.2\n",
              "414   iq  2013  ...                21.8              34.1\n",
              "415   iq  2013  ...                22.0              14.9\n",
              "\n",
              "[416 rows x 24 columns]"
            ]
          },
          "metadata": {
            "tags": []
          },
          "execution_count": 8
        }
      ]
    },
    {
      "cell_type": "markdown",
      "metadata": {
        "id": "dZSaoCMRAq8m"
      },
      "source": [
        "# Preprocessing\n",
        "\n",
        "We transform the data in order to allow us the posterior use of the algorithms to build prediction models, for example, missing values, from categories to numbers, ..."
      ]
    },
    {
      "cell_type": "code",
      "metadata": {
        "id": "bSwX3YqgsuYn",
        "colab": {
          "base_uri": "https://localhost:8080/",
          "height": 210
        },
        "outputId": "c3ed09a8-a58f-4dae-cf87-035c20039bde"
      },
      "source": [
        "train.drop(\"week_start_date\", axis = 1, inplace = True)\n",
        "test.drop(\"week_start_date\", axis = 1, inplace = True)\n",
        "train.head()\n"
      ],
      "execution_count": 9,
      "outputs": [
        {
          "output_type": "execute_result",
          "data": {
            "text/html": [
              "<div>\n",
              "<style scoped>\n",
              "    .dataframe tbody tr th:only-of-type {\n",
              "        vertical-align: middle;\n",
              "    }\n",
              "\n",
              "    .dataframe tbody tr th {\n",
              "        vertical-align: top;\n",
              "    }\n",
              "\n",
              "    .dataframe thead th {\n",
              "        text-align: right;\n",
              "    }\n",
              "</style>\n",
              "<table border=\"1\" class=\"dataframe\">\n",
              "  <thead>\n",
              "    <tr style=\"text-align: right;\">\n",
              "      <th></th>\n",
              "      <th>city</th>\n",
              "      <th>year</th>\n",
              "      <th>weekofyear</th>\n",
              "      <th>ndvi_ne</th>\n",
              "      <th>ndvi_nw</th>\n",
              "      <th>ndvi_se</th>\n",
              "      <th>ndvi_sw</th>\n",
              "      <th>precipitation_amt_mm</th>\n",
              "      <th>reanalysis_air_temp_k</th>\n",
              "      <th>reanalysis_avg_temp_k</th>\n",
              "      <th>reanalysis_dew_point_temp_k</th>\n",
              "      <th>reanalysis_max_air_temp_k</th>\n",
              "      <th>reanalysis_min_air_temp_k</th>\n",
              "      <th>reanalysis_precip_amt_kg_per_m2</th>\n",
              "      <th>reanalysis_relative_humidity_percent</th>\n",
              "      <th>reanalysis_sat_precip_amt_mm</th>\n",
              "      <th>reanalysis_specific_humidity_g_per_kg</th>\n",
              "      <th>reanalysis_tdtr_k</th>\n",
              "      <th>station_avg_temp_c</th>\n",
              "      <th>station_diur_temp_rng_c</th>\n",
              "      <th>station_max_temp_c</th>\n",
              "      <th>station_min_temp_c</th>\n",
              "      <th>station_precip_mm</th>\n",
              "      <th>total_cases</th>\n",
              "    </tr>\n",
              "  </thead>\n",
              "  <tbody>\n",
              "    <tr>\n",
              "      <th>0</th>\n",
              "      <td>sj</td>\n",
              "      <td>1990</td>\n",
              "      <td>18</td>\n",
              "      <td>0.122600</td>\n",
              "      <td>0.103725</td>\n",
              "      <td>0.198483</td>\n",
              "      <td>0.177617</td>\n",
              "      <td>12.42</td>\n",
              "      <td>297.572857</td>\n",
              "      <td>297.742857</td>\n",
              "      <td>292.414286</td>\n",
              "      <td>299.8</td>\n",
              "      <td>295.9</td>\n",
              "      <td>32.00</td>\n",
              "      <td>73.365714</td>\n",
              "      <td>12.42</td>\n",
              "      <td>14.012857</td>\n",
              "      <td>2.628571</td>\n",
              "      <td>25.442857</td>\n",
              "      <td>6.900000</td>\n",
              "      <td>29.4</td>\n",
              "      <td>20.0</td>\n",
              "      <td>16.0</td>\n",
              "      <td>4</td>\n",
              "    </tr>\n",
              "    <tr>\n",
              "      <th>1</th>\n",
              "      <td>sj</td>\n",
              "      <td>1990</td>\n",
              "      <td>19</td>\n",
              "      <td>0.169900</td>\n",
              "      <td>0.142175</td>\n",
              "      <td>0.162357</td>\n",
              "      <td>0.155486</td>\n",
              "      <td>22.82</td>\n",
              "      <td>298.211429</td>\n",
              "      <td>298.442857</td>\n",
              "      <td>293.951429</td>\n",
              "      <td>300.9</td>\n",
              "      <td>296.4</td>\n",
              "      <td>17.94</td>\n",
              "      <td>77.368571</td>\n",
              "      <td>22.82</td>\n",
              "      <td>15.372857</td>\n",
              "      <td>2.371429</td>\n",
              "      <td>26.714286</td>\n",
              "      <td>6.371429</td>\n",
              "      <td>31.7</td>\n",
              "      <td>22.2</td>\n",
              "      <td>8.6</td>\n",
              "      <td>5</td>\n",
              "    </tr>\n",
              "    <tr>\n",
              "      <th>2</th>\n",
              "      <td>sj</td>\n",
              "      <td>1990</td>\n",
              "      <td>20</td>\n",
              "      <td>0.032250</td>\n",
              "      <td>0.172967</td>\n",
              "      <td>0.157200</td>\n",
              "      <td>0.170843</td>\n",
              "      <td>34.54</td>\n",
              "      <td>298.781429</td>\n",
              "      <td>298.878571</td>\n",
              "      <td>295.434286</td>\n",
              "      <td>300.5</td>\n",
              "      <td>297.3</td>\n",
              "      <td>26.10</td>\n",
              "      <td>82.052857</td>\n",
              "      <td>34.54</td>\n",
              "      <td>16.848571</td>\n",
              "      <td>2.300000</td>\n",
              "      <td>26.714286</td>\n",
              "      <td>6.485714</td>\n",
              "      <td>32.2</td>\n",
              "      <td>22.8</td>\n",
              "      <td>41.4</td>\n",
              "      <td>4</td>\n",
              "    </tr>\n",
              "    <tr>\n",
              "      <th>3</th>\n",
              "      <td>sj</td>\n",
              "      <td>1990</td>\n",
              "      <td>21</td>\n",
              "      <td>0.128633</td>\n",
              "      <td>0.245067</td>\n",
              "      <td>0.227557</td>\n",
              "      <td>0.235886</td>\n",
              "      <td>15.36</td>\n",
              "      <td>298.987143</td>\n",
              "      <td>299.228571</td>\n",
              "      <td>295.310000</td>\n",
              "      <td>301.4</td>\n",
              "      <td>297.0</td>\n",
              "      <td>13.90</td>\n",
              "      <td>80.337143</td>\n",
              "      <td>15.36</td>\n",
              "      <td>16.672857</td>\n",
              "      <td>2.428571</td>\n",
              "      <td>27.471429</td>\n",
              "      <td>6.771429</td>\n",
              "      <td>33.3</td>\n",
              "      <td>23.3</td>\n",
              "      <td>4.0</td>\n",
              "      <td>3</td>\n",
              "    </tr>\n",
              "    <tr>\n",
              "      <th>4</th>\n",
              "      <td>sj</td>\n",
              "      <td>1990</td>\n",
              "      <td>22</td>\n",
              "      <td>0.196200</td>\n",
              "      <td>0.262200</td>\n",
              "      <td>0.251200</td>\n",
              "      <td>0.247340</td>\n",
              "      <td>7.52</td>\n",
              "      <td>299.518571</td>\n",
              "      <td>299.664286</td>\n",
              "      <td>295.821429</td>\n",
              "      <td>301.9</td>\n",
              "      <td>297.5</td>\n",
              "      <td>12.20</td>\n",
              "      <td>80.460000</td>\n",
              "      <td>7.52</td>\n",
              "      <td>17.210000</td>\n",
              "      <td>3.014286</td>\n",
              "      <td>28.942857</td>\n",
              "      <td>9.371429</td>\n",
              "      <td>35.0</td>\n",
              "      <td>23.9</td>\n",
              "      <td>5.8</td>\n",
              "      <td>6</td>\n",
              "    </tr>\n",
              "  </tbody>\n",
              "</table>\n",
              "</div>"
            ],
            "text/plain": [
              "  city  year  weekofyear  ...  station_min_temp_c  station_precip_mm  total_cases\n",
              "0   sj  1990          18  ...                20.0               16.0            4\n",
              "1   sj  1990          19  ...                22.2                8.6            5\n",
              "2   sj  1990          20  ...                22.8               41.4            4\n",
              "3   sj  1990          21  ...                23.3                4.0            3\n",
              "4   sj  1990          22  ...                23.9                5.8            6\n",
              "\n",
              "[5 rows x 24 columns]"
            ]
          },
          "metadata": {
            "tags": []
          },
          "execution_count": 9
        }
      ]
    },
    {
      "cell_type": "markdown",
      "metadata": {
        "id": "fP6gN2KUtu_l"
      },
      "source": [
        "It is necessary to address the missing values to improve the quality of the data that will be used to generate the models. "
      ]
    },
    {
      "cell_type": "code",
      "metadata": {
        "id": "XYMuvLK6t-a8",
        "colab": {
          "base_uri": "https://localhost:8080/"
        },
        "outputId": "a14e8de8-75d7-49b6-c872-77440e4150b2"
      },
      "source": [
        "pd.isnull(train).any()"
      ],
      "execution_count": 10,
      "outputs": [
        {
          "output_type": "execute_result",
          "data": {
            "text/plain": [
              "city                                     False\n",
              "year                                     False\n",
              "weekofyear                               False\n",
              "ndvi_ne                                   True\n",
              "ndvi_nw                                   True\n",
              "ndvi_se                                   True\n",
              "ndvi_sw                                   True\n",
              "precipitation_amt_mm                      True\n",
              "reanalysis_air_temp_k                     True\n",
              "reanalysis_avg_temp_k                     True\n",
              "reanalysis_dew_point_temp_k               True\n",
              "reanalysis_max_air_temp_k                 True\n",
              "reanalysis_min_air_temp_k                 True\n",
              "reanalysis_precip_amt_kg_per_m2           True\n",
              "reanalysis_relative_humidity_percent      True\n",
              "reanalysis_sat_precip_amt_mm              True\n",
              "reanalysis_specific_humidity_g_per_kg     True\n",
              "reanalysis_tdtr_k                         True\n",
              "station_avg_temp_c                        True\n",
              "station_diur_temp_rng_c                   True\n",
              "station_max_temp_c                        True\n",
              "station_min_temp_c                        True\n",
              "station_precip_mm                         True\n",
              "total_cases                              False\n",
              "dtype: bool"
            ]
          },
          "metadata": {
            "tags": []
          },
          "execution_count": 10
        }
      ]
    },
    {
      "cell_type": "markdown",
      "metadata": {
        "id": "G-86mXnluGtz"
      },
      "source": [
        "We will process them automatically by completing them with the ffill method (with the previous value)"
      ]
    },
    {
      "cell_type": "code",
      "metadata": {
        "id": "XOO6qfz-uTEF",
        "colab": {
          "base_uri": "https://localhost:8080/"
        },
        "outputId": "547aa89b-da55-4ff1-d5da-2eb0a03f3f28"
      },
      "source": [
        "# ffill: propagate last valid observation forward to next valid backfill\n",
        "# Otra Opción: https://pandas.pydata.org/pandas-docs/stable/reference/api/pandas.DataFrame.interpolate.html#pandas.DataFrame.interpolate\n",
        "train.fillna(method='ffill', inplace=True)\n",
        "pd.isnull(train).any()"
      ],
      "execution_count": 11,
      "outputs": [
        {
          "output_type": "execute_result",
          "data": {
            "text/plain": [
              "city                                     False\n",
              "year                                     False\n",
              "weekofyear                               False\n",
              "ndvi_ne                                  False\n",
              "ndvi_nw                                  False\n",
              "ndvi_se                                  False\n",
              "ndvi_sw                                  False\n",
              "precipitation_amt_mm                     False\n",
              "reanalysis_air_temp_k                    False\n",
              "reanalysis_avg_temp_k                    False\n",
              "reanalysis_dew_point_temp_k              False\n",
              "reanalysis_max_air_temp_k                False\n",
              "reanalysis_min_air_temp_k                False\n",
              "reanalysis_precip_amt_kg_per_m2          False\n",
              "reanalysis_relative_humidity_percent     False\n",
              "reanalysis_sat_precip_amt_mm             False\n",
              "reanalysis_specific_humidity_g_per_kg    False\n",
              "reanalysis_tdtr_k                        False\n",
              "station_avg_temp_c                       False\n",
              "station_diur_temp_rng_c                  False\n",
              "station_max_temp_c                       False\n",
              "station_min_temp_c                       False\n",
              "station_precip_mm                        False\n",
              "total_cases                              False\n",
              "dtype: bool"
            ]
          },
          "metadata": {
            "tags": []
          },
          "execution_count": 11
        }
      ]
    },
    {
      "cell_type": "markdown",
      "metadata": {
        "id": "J0nLd22Ouib1"
      },
      "source": [
        "And we apply the same for the test (**IMPORTANT!!!**)"
      ]
    },
    {
      "cell_type": "code",
      "metadata": {
        "id": "E1x7bkhlucTP",
        "colab": {
          "base_uri": "https://localhost:8080/"
        },
        "outputId": "84c31ec3-525f-4f0e-8b8f-7b925a191a40"
      },
      "source": [
        "test.fillna(method='ffill', inplace=True)\n",
        "pd.isnull(test).any()"
      ],
      "execution_count": 12,
      "outputs": [
        {
          "output_type": "execute_result",
          "data": {
            "text/plain": [
              "city                                     False\n",
              "year                                     False\n",
              "weekofyear                               False\n",
              "ndvi_ne                                  False\n",
              "ndvi_nw                                  False\n",
              "ndvi_se                                  False\n",
              "ndvi_sw                                  False\n",
              "precipitation_amt_mm                     False\n",
              "reanalysis_air_temp_k                    False\n",
              "reanalysis_avg_temp_k                    False\n",
              "reanalysis_dew_point_temp_k              False\n",
              "reanalysis_max_air_temp_k                False\n",
              "reanalysis_min_air_temp_k                False\n",
              "reanalysis_precip_amt_kg_per_m2          False\n",
              "reanalysis_relative_humidity_percent     False\n",
              "reanalysis_sat_precip_amt_mm             False\n",
              "reanalysis_specific_humidity_g_per_kg    False\n",
              "reanalysis_tdtr_k                        False\n",
              "station_avg_temp_c                       False\n",
              "station_diur_temp_rng_c                  False\n",
              "station_max_temp_c                       False\n",
              "station_min_temp_c                       False\n",
              "station_precip_mm                        False\n",
              "dtype: bool"
            ]
          },
          "metadata": {
            "tags": []
          },
          "execution_count": 12
        }
      ]
    },
    {
      "cell_type": "markdown",
      "metadata": {
        "id": "IozQiBs5usV_"
      },
      "source": [
        "We also have to transform our categorical variables, in this case a single variable that is the city for which we will use a *binarizer* for train and for test"
      ]
    },
    {
      "cell_type": "code",
      "metadata": {
        "id": "mqTSZEOiupaH"
      },
      "source": [
        "from sklearn import preprocessing\n",
        "lb = preprocessing.LabelBinarizer()\n",
        "train['city_bin'] = lb.fit_transform(train['city'])\n",
        "test['city_bin'] = lb.fit_transform(test['city'])"
      ],
      "execution_count": 69,
      "outputs": []
    },
    {
      "cell_type": "markdown",
      "metadata": {
        "id": "Pk1amwRNvvYA"
      },
      "source": [
        "You have to select features, they can be all, but that is usually not a good idea, so here we will leave some selected."
      ]
    },
    {
      "cell_type": "code",
      "metadata": {
        "id": "kC-bwh2ov8xA"
      },
      "source": [
        "selected_features = ['reanalysis_specific_humidity_g_per_kg', 'reanalysis_dew_point_temp_k', \n",
        "                 'station_avg_temp_c', 'station_min_temp_c']\n",
        "X = train[selected_features]\n",
        "y = train['total_cases']"
      ],
      "execution_count": 87,
      "outputs": []
    },
    {
      "cell_type": "markdown",
      "metadata": {
        "id": "nZCwFH7_pngM"
      },
      "source": [
        "We will see the correlation matrix"
      ]
    },
    {
      "cell_type": "code",
      "metadata": {
        "id": "gqG0E5msebVz"
      },
      "source": [
        "import seaborn as sns\n",
        "\n",
        "sns.set()\n",
        "sns.heatmap(X.corr(), square=True, annot=True)"
      ],
      "execution_count": null,
      "outputs": []
    },
    {
      "cell_type": "markdown",
      "metadata": {
        "id": "aw1l4JTgpqws"
      },
      "source": [
        "Now we are going to train the model with the training data"
      ]
    },
    {
      "cell_type": "code",
      "metadata": {
        "id": "exQkF0T0nxBL"
      },
      "source": [
        "from sklearn.model_selection import train_test_split\n",
        "\n",
        "# Split X and y into X_\n",
        "X_train, X_test, y_train, y_test = train_test_split(X, y, test_size=0.5, random_state=1)"
      ],
      "execution_count": 89,
      "outputs": []
    },
    {
      "cell_type": "code",
      "metadata": {
        "id": "mrbG_fSwnzEl"
      },
      "source": [
        "#from sklearn.preprocessing import MinMaxScaler\n",
        "# performin min-max scaling each continuous feature column to the range [0, 1]\n",
        "#scaler = MinMaxScaler()\n",
        "#X_train = scaler.fit_transform(train[selected_features])\n",
        "#X_test = scaler.transform(test[selected_features])\n",
        "#y_train = train['total_cases']"
      ],
      "execution_count": null,
      "outputs": []
    },
    {
      "cell_type": "markdown",
      "metadata": {
        "id": "2qbkQc-ztqIS"
      },
      "source": [
        "# Submission result"
      ]
    },
    {
      "cell_type": "markdown",
      "metadata": {
        "id": "HSXVdRUa--ZX"
      },
      "source": [
        "We generate the output file according to the Submission format"
      ]
    },
    {
      "cell_type": "markdown",
      "metadata": {
        "id": "YxzQici8RpSe"
      },
      "source": [
        "Once we have identified the best parameterization we will go on to make an execution of the model and we will graph its results.\n"
      ]
    },
    {
      "cell_type": "code",
      "metadata": {
        "id": "CT-gjUX1S9Em",
        "cellView": "both"
      },
      "source": [
        "from sklearn.ensemble import RandomForestRegressor\n",
        "\n",
        "#1.1 Model Parametrization \n",
        "regressor = RandomForestRegressor(n_estimators= 4, max_depth = 2, criterion='mae', random_state=0)\n",
        "#1.2 Model construction\n",
        "regressor.fit(X_train, y_train)"
      ],
      "execution_count": null,
      "outputs": []
    },
    {
      "cell_type": "markdown",
      "metadata": {
        "id": "F88F_Otb-lEu"
      },
      "source": [
        "1. We carry out the prediction on the test."
      ]
    },
    {
      "cell_type": "code",
      "metadata": {
        "id": "K7vljp6nts7P",
        "colab": {
          "base_uri": "https://localhost:8080/"
        },
        "outputId": "17695e7d-0b6a-440e-b978-250e84581fce"
      },
      "source": [
        "# metrics calculation \n",
        "from sklearn.metrics import mean_absolute_error\n",
        "mae = mean_absolute_error(y_test,y_pred)\n",
        "print (\"Error Measure \",  mae)"
      ],
      "execution_count": 91,
      "outputs": [
        {
          "output_type": "stream",
          "text": [
            "Error Measure  6.542582417582418\n"
          ],
          "name": "stdout"
        }
      ]
    },
    {
      "cell_type": "markdown",
      "metadata": {
        "id": "PrHTXzLW1eaR"
      },
      "source": [
        "Finally we try to visualize how our prediction has turned out with reality."
      ]
    },
    {
      "cell_type": "code",
      "metadata": {
        "id": "TxjU9Eiw9_J5",
        "colab": {
          "base_uri": "https://localhost:8080/",
          "height": 338
        },
        "outputId": "1e3e30a1-34a7-46d6-df69-89a342f8509f"
      },
      "source": [
        "#plt.subplot(2, 1, i + 1)\n",
        "# x axis for plotting\n",
        "import numpy as np\n",
        "xx = np.stack(i for i in range(len(y_test)))\n",
        "plt.scatter(xx, y_test, c='r', label='data')\n",
        "plt.plot(xx, y_pred, c='g', label='prediction')\n",
        "plt.axis('tight')\n",
        "plt.legend()\n",
        "plt.title(\"RandomForests Regressor\")\n",
        "\n",
        "plt.show()"
      ],
      "execution_count": 92,
      "outputs": [
        {
          "output_type": "stream",
          "text": [
            "/usr/local/lib/python3.6/dist-packages/IPython/core/interactiveshell.py:2822: FutureWarning: arrays to stack must be passed as a \"sequence\" type such as list or tuple. Support for non-sequence iterables such as generators is deprecated as of NumPy 1.16 and will raise an error in the future.\n",
            "  if self.run_code(code, result):\n"
          ],
          "name": "stderr"
        },
        {
          "output_type": "display_data",
          "data": {
            "image/png": "[encoded data removed]",
            "text/plain": [
              "<Figure size 432x288 with 1 Axes>"
            ]
          },
          "metadata": {
            "tags": []
          }
        }
      ]
    },
    {
      "cell_type": "code",
      "metadata": {
        "id": "Xa7uQ2MXod1J",
        "outputId": "a17a7b4c-841c-4285-ae13-b88dd5d28d3e",
        "colab": {
          "base_uri": "https://localhost:8080/",
          "height": 190
        }
      },
      "source": [
        "# FEATURE RELEVANCIES\r\n",
        "print ('Feature Relevancies')\r\n",
        "pd.DataFrame({'Attributes': ('reanalysis_specific_humidity_g_per_kg', 'reanalysis_dew_point_temp_k', \r\n",
        "                 'station_avg_temp_c', 'station_min_temp_c') ,\r\n",
        "              'Decision Tree': regressor.feature_importances_})"
      ],
      "execution_count": 93,
      "outputs": [
        {
          "output_type": "stream",
          "text": [
            "Feature Relevancies\n"
          ],
          "name": "stdout"
        },
        {
          "output_type": "execute_result",
          "data": {
            "text/html": [
              "<div>\n",
              "<style scoped>\n",
              "    .dataframe tbody tr th:only-of-type {\n",
              "        vertical-align: middle;\n",
              "    }\n",
              "\n",
              "    .dataframe tbody tr th {\n",
              "        vertical-align: top;\n",
              "    }\n",
              "\n",
              "    .dataframe thead th {\n",
              "        text-align: right;\n",
              "    }\n",
              "</style>\n",
              "<table border=\"1\" class=\"dataframe\">\n",
              "  <thead>\n",
              "    <tr style=\"text-align: right;\">\n",
              "      <th></th>\n",
              "      <th>Attributes</th>\n",
              "      <th>Decision Tree</th>\n",
              "    </tr>\n",
              "  </thead>\n",
              "  <tbody>\n",
              "    <tr>\n",
              "      <th>0</th>\n",
              "      <td>reanalysis_specific_humidity_g_per_kg</td>\n",
              "      <td>0.000000</td>\n",
              "    </tr>\n",
              "    <tr>\n",
              "      <th>1</th>\n",
              "      <td>reanalysis_dew_point_temp_k</td>\n",
              "      <td>0.090825</td>\n",
              "    </tr>\n",
              "    <tr>\n",
              "      <th>2</th>\n",
              "      <td>station_avg_temp_c</td>\n",
              "      <td>0.329633</td>\n",
              "    </tr>\n",
              "    <tr>\n",
              "      <th>3</th>\n",
              "      <td>station_min_temp_c</td>\n",
              "      <td>0.579542</td>\n",
              "    </tr>\n",
              "  </tbody>\n",
              "</table>\n",
              "</div>"
            ],
            "text/plain": [
              "                              Attributes  Decision Tree\n",
              "0  reanalysis_specific_humidity_g_per_kg       0.000000\n",
              "1            reanalysis_dew_point_temp_k       0.090825\n",
              "2                     station_avg_temp_c       0.329633\n",
              "3                     station_min_temp_c       0.579542"
            ]
          },
          "metadata": {
            "tags": []
          },
          "execution_count": 93
        }
      ]
    },
    {
      "cell_type": "markdown",
      "metadata": {
        "id": "OChzCEHnIc2u"
      },
      "source": [
        "2. We round up the result. **We use dataset TEST!**"
      ]
    },
    {
      "cell_type": "code",
      "metadata": {
        "id": "bwOWnVGj4bME"
      },
      "source": [
        "# Test\n",
        "y_pred = regressor.predict(X = test[['reanalysis_specific_humidity_g_per_kg', 'reanalysis_dew_point_temp_k', \n",
        "                 'station_avg_temp_c', 'station_min_temp_c']])"
      ],
      "execution_count": 94,
      "outputs": []
    },
    {
      "cell_type": "code",
      "metadata": {
        "id": "QR9j8aQI-9yc"
      },
      "source": [
        "# round the result and cast to int\n",
        "import numpy as np\n",
        "y = np.rint(y_pred) # round\n",
        "y = y.astype(int) # cast to int\n",
        "res = np.hstack(y)\n",
        "\n",
        "res"
      ],
      "execution_count": null,
      "outputs": []
    },
    {
      "cell_type": "markdown",
      "metadata": {
        "id": "NqiWtFm6ImA9"
      },
      "source": [
        "3. We build the output file\n"
      ]
    },
    {
      "cell_type": "code",
      "metadata": {
        "id": "b4tSsUpDDNbJ",
        "colab": {
          "base_uri": "https://localhost:8080/",
          "height": 204
        },
        "outputId": "38d8ae55-3389-4575-8160-c2baeb1a9630"
      },
      "source": [
        "# generate output\n",
        "output = pd.DataFrame({ 'city': test['city'], 'year': test['year'], 'weekofyear': test['weekofyear'], \n",
        "                       'total_cases': res})\n",
        "\n",
        "from google.colab import files\n",
        "\n",
        "with open('result.csv', 'w') as f:\n",
        "  output.to_csv(f,  index = False)\n",
        "\n",
        "files.download('result.csv')\n",
        "output.head()"
      ],
      "execution_count": 96,
      "outputs": [
        {
          "output_type": "display_data",
          "data": {
            "application/javascript": [
              "\n",
              "    async function download(id, filename, size) {\n",
              "      if (!google.colab.kernel.accessAllowed) {\n",
              "        return;\n",
              "      }\n",
              "      const div = document.createElement('div');\n",
              "      const label = document.createElement('label');\n",
              "      label.textContent = `Downloading \"${filename}\": `;\n",
              "      div.appendChild(label);\n",
              "      const progress = document.createElement('progress');\n",
              "      progress.max = size;\n",
              "      div.appendChild(progress);\n",
              "      document.body.appendChild(div);\n",
              "\n",
              "      const buffers = [];\n",
              "      let downloaded = 0;\n",
              "\n",
              "      const channel = await google.colab.kernel.comms.open(id);\n",
              "      // Send a message to notify the kernel that we're ready.\n",
              "      channel.send({})\n",
              "\n",
              "      for await (const message of channel.messages) {\n",
              "        // Send a message to notify the kernel that we're ready.\n",
              "        channel.send({})\n",
              "        if (message.buffers) {\n",
              "          for (const buffer of message.buffers) {\n",
              "            buffers.push(buffer);\n",
              "            downloaded += buffer.byteLength;\n",
              "            progress.value = downloaded;\n",
              "          }\n",
              "        }\n",
              "      }\n",
              "      const blob = new Blob(buffers, {type: 'application/binary'});\n",
              "      const a = document.createElement('a');\n",
              "      a.href = window.URL.createObjectURL(blob);\n",
              "      a.download = filename;\n",
              "      div.appendChild(a);\n",
              "      a.click();\n",
              "      div.remove();\n",
              "    }\n",
              "  "
            ],
            "text/plain": [
              "<IPython.core.display.Javascript object>"
            ]
          },
          "metadata": {
            "tags": []
          }
        },
        {
          "output_type": "display_data",
          "data": {
            "application/javascript": [
              "download(\"download_f1f20443-abd4-45b2-bbc1-98b27a58da9a\", \"result.csv\", 5610)"
            ],
            "text/plain": [
              "<IPython.core.display.Javascript object>"
            ]
          },
          "metadata": {
            "tags": []
          }
        },
        {
          "output_type": "execute_result",
          "data": {
            "text/html": [
              "<div>\n",
              "<style scoped>\n",
              "    .dataframe tbody tr th:only-of-type {\n",
              "        vertical-align: middle;\n",
              "    }\n",
              "\n",
              "    .dataframe tbody tr th {\n",
              "        vertical-align: top;\n",
              "    }\n",
              "\n",
              "    .dataframe thead th {\n",
              "        text-align: right;\n",
              "    }\n",
              "</style>\n",
              "<table border=\"1\" class=\"dataframe\">\n",
              "  <thead>\n",
              "    <tr style=\"text-align: right;\">\n",
              "      <th></th>\n",
              "      <th>city</th>\n",
              "      <th>year</th>\n",
              "      <th>weekofyear</th>\n",
              "      <th>total_cases</th>\n",
              "    </tr>\n",
              "  </thead>\n",
              "  <tbody>\n",
              "    <tr>\n",
              "      <th>0</th>\n",
              "      <td>sj</td>\n",
              "      <td>2008</td>\n",
              "      <td>18</td>\n",
              "      <td>6</td>\n",
              "    </tr>\n",
              "    <tr>\n",
              "      <th>1</th>\n",
              "      <td>sj</td>\n",
              "      <td>2008</td>\n",
              "      <td>19</td>\n",
              "      <td>17</td>\n",
              "    </tr>\n",
              "    <tr>\n",
              "      <th>2</th>\n",
              "      <td>sj</td>\n",
              "      <td>2008</td>\n",
              "      <td>20</td>\n",
              "      <td>10</td>\n",
              "    </tr>\n",
              "    <tr>\n",
              "      <th>3</th>\n",
              "      <td>sj</td>\n",
              "      <td>2008</td>\n",
              "      <td>21</td>\n",
              "      <td>37</td>\n",
              "    </tr>\n",
              "    <tr>\n",
              "      <th>4</th>\n",
              "      <td>sj</td>\n",
              "      <td>2008</td>\n",
              "      <td>22</td>\n",
              "      <td>22</td>\n",
              "    </tr>\n",
              "  </tbody>\n",
              "</table>\n",
              "</div>"
            ],
            "text/plain": [
              "  city  year  weekofyear  total_cases\n",
              "0   sj  2008          18            6\n",
              "1   sj  2008          19           17\n",
              "2   sj  2008          20           10\n",
              "3   sj  2008          21           37\n",
              "4   sj  2008          22           22"
            ]
          },
          "metadata": {
            "tags": []
          },
          "execution_count": 96
        }
      ]
    },
    {
      "cell_type": "markdown",
      "metadata": {
        "id": "__VhckbVnaAY"
      },
      "source": [
        "Upload new submission\n",
        "Woohoo! We processed your submission!\n",
        "Your score for this submission is:\n",
        "\n",
        "29.3678\n",
        "Woo! I scored 29.3678 on 'DengAI: Predicting Disease Spread'!"
      ]
    }
  ]
}